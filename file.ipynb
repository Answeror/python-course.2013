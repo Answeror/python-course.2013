{
 "metadata": {
  "name": "file"
 },
 "nbformat": 3,
 "nbformat_minor": 0,
 "worksheets": [
  {
   "cells": [
    {
     "cell_type": "markdown",
     "metadata": {},
     "source": [
      "# \u6587\u4ef6\u8bfb\u5199"
     ]
    },
    {
     "cell_type": "code",
     "collapsed": false,
     "input": [
      "f = open('file.ipynb')\n",
      "print f.read()"
     ],
     "language": "python",
     "metadata": {},
     "outputs": [
      {
       "output_type": "stream",
       "stream": "stdout",
       "text": [
        "{\n",
        " \"metadata\": {\n",
        "  \"name\": \"file\"\n",
        " },\n",
        " \"nbformat\": 3,\n",
        " \"nbformat_minor\": 0,\n",
        " \"worksheets\": [\n",
        "  {\n",
        "   \"cells\": [\n",
        "    {\n",
        "     \"cell_type\": \"markdown\",\n",
        "     \"metadata\": {},\n",
        "     \"source\": [\n",
        "      \"# \\u6587\\u4ef6\\u8bfb\\u5199\"\n",
        "     ]\n",
        "    },\n",
        "    {\n",
        "     \"cell_type\": \"code\",\n",
        "     \"collapsed\": false,\n",
        "     \"input\": [\n",
        "      \"f = open('file.ipynb')\\n\",\n",
        "      \"print f.read()\"\n",
        "     ],\n",
        "     \"language\": \"python\",\n",
        "     \"metadata\": {},\n",
        "     \"outputs\": []\n",
        "    },\n",
        "    {\n",
        "     \"cell_type\": \"code\",\n",
        "     \"collapsed\": false,\n",
        "     \"input\": [\n",
        "      \"f = open('file.txt')\\n\",\n",
        "      \"f.write('something')\"\n",
        "     ],\n",
        "     \"language\": \"python\",\n",
        "     \"metadata\": {},\n",
        "     \"outputs\": []\n",
        "    },\n",
        "    {\n",
        "     \"cell_type\": \"markdown\",\n",
        "     \"metadata\": {},\n",
        "     \"source\": [\n",
        "      \"\\u4e3a\\u5b89\\u5168\\u8d77\\u89c1, \\u9ed8\\u8ba4\\u6587\\u4ef6\\u4ee5\\u53ea\\u8bfb\\u65b9\\u5f0f\\u6253\\u5f00. \\u7528`w`\\u53c2\\u6570\\u6307\\u5b9a\\u53ef\\u5199\\u6253\\u5f00:\"\n",
        "     ]\n",
        "    },\n",
        "    {\n",
        "     \"cell_type\": \"code\",\n",
        "     \"collapsed\": false,\n",
        "     \"input\": [\n",
        "      \"f = open('file.txt', 'w')\\n\",\n",
        "      \"f.write('something')\"\n",
        "     ],\n",
        "     \"language\": \"python\",\n",
        "     \"metadata\": {},\n",
        "     \"outputs\": []\n",
        "    },\n",
        "    {\n",
        "     \"cell_type\": \"markdown\",\n",
        "     \"metadata\": {},\n",
        "     \"source\": [\n",
        "      \"## \\u5173\\u95ed\\u6587\\u4ef6\\n\",\n",
        "      \"\\n\",\n",
        "      \"\\u5c1d\\u8bd5\\u4ece\\u6587\\u4ef6\\u7ba1\\u7406\\u5668\\u4e2d\\u5220\\u9664`file.txt`\"\n",
        "     ]\n",
        "    },\n",
        "    {\n",
        "     \"cell_type\": \"code\",\n",
        "     \"collapsed\": false,\n",
        "     \"input\": [\n",
        "      \"from IPython.display import Image\\n\",\n",
        "      \"Image(filename='file.png')\"\n",
        "     ],\n",
        "     \"language\": \"python\",\n",
        "     \"metadata\": {},\n",
        "     \"outputs\": []\n",
        "    },\n",
        "    {\n",
        "     \"cell_type\": \"markdown\",\n",
        "     \"metadata\": {},\n",
        "     \"source\": [\n",
        "      \"\\u6253\\u5f00\\u7684\\u6587\\u4ef6\\u5982\\u679c\\u4e0dclose, \\u7cfb\\u7edf\\u4e0d\\u4fdd\\u8bc1\\u4f1a\\u628a\\u7f13\\u5b58\\u4e2d\\u7684\\u6570\\u636e\\u5199\\u5165\\u6587\\u4ef6, \\u540c\\u65f6\\u8be5\\u6587\\u4ef6\\u7684\\u76f8\\u5173\\u8d44\\u6e90\\u4e5f\\u4e0d\\u4f1a\\u88ab\\u91ca\\u653e.\"\n",
        "     ]\n",
        "    },\n",
        "    {\n",
        "     \"cell_type\": \"code\",\n",
        "     \"collapsed\": false,\n",
        "     \"input\": [\n",
        "      \"f = open('file.txt', 'w')\\n\",\n",
        "      \"f.write('something')\\n\",\n",
        "      \"f.close()\"\n",
        "     ],\n",
        "     \"language\": \"python\",\n",
        "     \"metadata\": {},\n",
        "     \"outputs\": []\n",
        "    },\n",
        "    {\n",
        "     \"cell_type\": \"markdown\",\n",
        "     \"metadata\": {},\n",
        "     \"source\": [\n",
        "      \"## \\u66f4\\u591a\\u6587\\u4ef6\\u64cd\\u4f5c\\n\",\n",
        "      \"\\n\",\n",
        "      \"\\u68c0\\u67e5\\u6587\\u4ef6\\u662f\\u5426\\u5b58\\u5728:\"\n",
        "     ]\n",
        "    },\n",
        "    {\n",
        "     \"cell_type\": \"code\",\n",
        "     \"collapsed\": false,\n",
        "     \"input\": [\n",
        "      \"from os.path import exists\\n\",\n",
        "      \"print exists('file.txt')\"\n",
        "     ],\n",
        "     \"language\": \"python\",\n",
        "     \"metadata\": {},\n",
        "     \"outputs\": []\n",
        "    },\n",
        "    {\n",
        "     \"cell_type\": \"markdown\",\n",
        "     \"metadata\": {},\n",
        "     \"source\": [\n",
        "      \"\\u8f93\\u51fa\\u6587\\u4ef6\\u4fee\\u6539\\u65e5\\u671f:\"\n",
        "     ]\n",
        "    },\n",
        "    {\n",
        "     \"cell_type\": \"code\",\n",
        "     \"collapsed\": false,\n",
        "     \"input\": [\n",
        "      \"import os\\n\",\n",
        "      \"print os.path.getmtime('file.txt')\"\n",
        "     ],\n",
        "     \"language\": \"python\",\n",
        "     \"metadata\": {},\n",
        "     \"outputs\": []\n",
        "    },\n",
        "    {\n",
        "     \"cell_type\": \"markdown\",\n",
        "     \"metadata\": {},\n",
        "     \"source\": [\n",
        "      \"\\u4e0a\\u9762\\u7684\\u65f6\\u95f4\\u662f\\u4ece[epoch](https://en.wikipedia.org/wiki/Epoch_(reference_date))\\u4ee5\\u6765\\u7684\\u79d2\\u6570. \\u53ef\\u4ee5\\u7528`time`\\u6a21\\u5757\\u8f6c\\u5316\\u4e3a\\u53ef\\u8bfb\\u7684\\u5f62\\u5f0f:\"\n",
        "     ]\n",
        "    },\n",
        "    {\n",
        "     \"cell_type\": \"code\",\n",
        "     \"collapsed\": false,\n",
        "     \"input\": [\n",
        "      \"import time\\n\",\n",
        "      \"print time.ctime(os.path.getmtime('file.txt'))\"\n",
        "     ],\n",
        "     \"language\": \"python\",\n",
        "     \"metadata\": {},\n",
        "     \"outputs\": []\n",
        "    }\n",
        "   ],\n",
        "   \"metadata\": {}\n",
        "  }\n",
        " ]\n",
        "}\n"
       ]
      }
     ],
     "prompt_number": 1
    },
    {
     "cell_type": "code",
     "collapsed": false,
     "input": [
      "f = open('file.txt')\n",
      "f.write('something')"
     ],
     "language": "python",
     "metadata": {},
     "outputs": [
      {
       "ename": "IOError",
       "evalue": "File not open for writing",
       "output_type": "pyerr",
       "traceback": [
        "\u001b[1;31m---------------------------------------------------------------------------\u001b[0m\n\u001b[1;31mIOError\u001b[0m                                   Traceback (most recent call last)",
        "\u001b[1;32m<ipython-input-2-275dc47d5c28>\u001b[0m in \u001b[0;36m<module>\u001b[1;34m()\u001b[0m\n\u001b[0;32m      1\u001b[0m \u001b[0mf\u001b[0m \u001b[1;33m=\u001b[0m \u001b[0mopen\u001b[0m\u001b[1;33m(\u001b[0m\u001b[1;34m'file.txt'\u001b[0m\u001b[1;33m)\u001b[0m\u001b[1;33m\u001b[0m\u001b[0m\n\u001b[1;32m----> 2\u001b[1;33m \u001b[0mf\u001b[0m\u001b[1;33m.\u001b[0m\u001b[0mwrite\u001b[0m\u001b[1;33m(\u001b[0m\u001b[1;34m'something'\u001b[0m\u001b[1;33m)\u001b[0m\u001b[1;33m\u001b[0m\u001b[0m\n\u001b[0m",
        "\u001b[1;31mIOError\u001b[0m: File not open for writing"
       ]
      }
     ],
     "prompt_number": 2
    },
    {
     "cell_type": "markdown",
     "metadata": {},
     "source": [
      "\u4e3a\u5b89\u5168\u8d77\u89c1, \u9ed8\u8ba4\u6587\u4ef6\u4ee5\u53ea\u8bfb\u65b9\u5f0f\u6253\u5f00. \u7528`w`\u53c2\u6570\u6307\u5b9a\u53ef\u5199\u6253\u5f00:"
     ]
    },
    {
     "cell_type": "code",
     "collapsed": false,
     "input": [
      "f = open('file.txt', 'w')\n",
      "f.write('something')"
     ],
     "language": "python",
     "metadata": {},
     "outputs": [],
     "prompt_number": 3
    },
    {
     "cell_type": "markdown",
     "metadata": {},
     "source": [
      "## \u5173\u95ed\u6587\u4ef6\n",
      "\n",
      "\u5c1d\u8bd5\u4ece\u6587\u4ef6\u7ba1\u7406\u5668\u4e2d\u5220\u9664`file.txt`"
     ]
    },
    {
     "cell_type": "code",
     "collapsed": false,
     "input": [
      "from IPython.display import Image\n",
      "Image(filename='file.png')"
     ],
     "language": "python",
     "metadata": {},
     "outputs": [
      {
       "output_type": "pyout",
       "png": "[encoded data removed]",
       "prompt_number": 4,
       "text": [
        "<IPython.core.display.Image at 0x2e86970>"
       ]
      }
     ],
     "prompt_number": 4
    },
    {
     "cell_type": "markdown",
     "metadata": {},
     "source": [
      "\u6253\u5f00\u7684\u6587\u4ef6\u5982\u679c\u4e0dclose, \u7cfb\u7edf\u4e0d\u4fdd\u8bc1\u4f1a\u628a\u7f13\u5b58\u4e2d\u7684\u6570\u636e\u5199\u5165\u6587\u4ef6, \u540c\u65f6\u8be5\u6587\u4ef6\u7684\u76f8\u5173\u8d44\u6e90\u4e5f\u4e0d\u4f1a\u88ab\u91ca\u653e."
     ]
    },
    {
     "cell_type": "code",
     "collapsed": false,
     "input": [
      "f = open('file.txt', 'w')\n",
      "f.write('something')\n",
      "f.close()"
     ],
     "language": "python",
     "metadata": {},
     "outputs": [],
     "prompt_number": 5
    },
    {
     "cell_type": "markdown",
     "metadata": {},
     "source": [
      "## \u66f4\u591a\u6587\u4ef6\u64cd\u4f5c\n",
      "\n",
      "\u68c0\u67e5\u6587\u4ef6\u662f\u5426\u5b58\u5728:"
     ]
    },
    {
     "cell_type": "code",
     "collapsed": false,
     "input": [
      "from os.path import exists\n",
      "print exists('file.txt')"
     ],
     "language": "python",
     "metadata": {},
     "outputs": [
      {
       "output_type": "stream",
       "stream": "stdout",
       "text": [
        "True\n"
       ]
      }
     ],
     "prompt_number": 6
    },
    {
     "cell_type": "markdown",
     "metadata": {},
     "source": [
      "\u8f93\u51fa\u6587\u4ef6\u4fee\u6539\u65e5\u671f:"
     ]
    },
    {
     "cell_type": "code",
     "collapsed": false,
     "input": [
      "import os\n",
      "print os.path.getmtime('file.txt')"
     ],
     "language": "python",
     "metadata": {},
     "outputs": [
      {
       "output_type": "stream",
       "stream": "stdout",
       "text": [
        "1373299155.21\n"
       ]
      }
     ],
     "prompt_number": 7
    },
    {
     "cell_type": "markdown",
     "metadata": {},
     "source": [
      "\u4e0a\u9762\u7684\u65f6\u95f4\u662f\u4ece[epoch](https://en.wikipedia.org/wiki/Epoch_(reference_date))\u4ee5\u6765\u7684\u79d2\u6570. \u53ef\u4ee5\u7528`time`\u6a21\u5757\u8f6c\u5316\u4e3a\u53ef\u8bfb\u7684\u5f62\u5f0f:"
     ]
    },
    {
     "cell_type": "code",
     "collapsed": false,
     "input": [
      "import time\n",
      "print time.ctime(os.path.getmtime('file.txt'))"
     ],
     "language": "python",
     "metadata": {},
     "outputs": [
      {
       "output_type": "stream",
       "stream": "stdout",
       "text": [
        "Mon Jul 08 23:59:15 2013\n"
       ]
      }
     ],
     "prompt_number": 8
    }
   ],
   "metadata": {}
  }
 ]
}