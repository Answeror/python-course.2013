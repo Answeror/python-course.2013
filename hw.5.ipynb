{
 "metadata": {
  "name": "hw.5"
 },
 "nbformat": 3,
 "nbformat_minor": 0,
 "worksheets": [
  {
   "cells": [
    {
     "cell_type": "markdown",
     "metadata": {},
     "source": [
      "# DOOM\u542f\u4e16\u5f55\n",
      "\n",
      "\u9605\u8bfb[DOOM\u542f\u4e16\u5f55](http://book.douban.com/subject/1152971/). \u5199\u4e00\u7bc7\u4e0d\u5c11\u4e8e800\u5b57\u7684\u8bfb\u540e\u611f.\n",
      "\n",
      "## \u8981\u6c42\n",
      "\n",
      "* **\u5199\u5728\u4e0b\u9762\u7684markdown\u5355\u5143\u683c\u91cc**\n",
      "* \u91c7\u7528markdown\u6765\u683c\u5f0f\u5316\u4f60\u7684\u6587\u7ae0(\u6bd4\u5982\u6807\u9898, \u52a0\u7c97, \u659c\u4f53, \u94fe\u63a5\u7b49\u7b49).\n",
      "\n",
      "## Tips\n",
      "\n",
      "* [Cheatsheet](http://stackoverflow.com/editing-help)(\u5f3a\u70c8\u63a8\u8350)\n",
      "* [\u4e2d\u6587\u6559\u7a0b](http://wowubuntu.com/markdown/)"
     ]
    },
    {
     "cell_type": "markdown",
     "metadata": {},
     "source": []
    }
   ],
   "metadata": {}
  }
 ]
}