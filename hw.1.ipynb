{
 "metadata": {
  "name": "hw.1"
 },
 "nbformat": 3,
 "nbformat_minor": 0,
 "worksheets": [
  {
   "cells": [
    {
     "cell_type": "markdown",
     "metadata": {},
     "source": [
      "# \u8ba1\u7b97\u5706\u5468\u7387\n",
      "\n",
      "## \u8981\u6c42\n",
      "\n",
      "* \u4e0d\u5f97\u4f7f\u7528`sin`, `cos`\u7b49\u4e09\u89d2\u51fd\u6570\u548c\u53cd\u4e09\u89d2\u51fd\u6570.\n",
      "* \u4e0d\u5f97\u4f7f\u7528\u5e93\u9884\u5b9a\u4e49\u7684\u5706\u5468\u7387.\n",
      "\n",
      "## \u63d0\u793a\n",
      "\n",
      "Google \"Leibniz formula\"."
     ]
    }
   ],
   "metadata": {}
  }
 ]
}