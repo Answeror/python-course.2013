{
 "metadata": {
  "name": "hw.2"
 },
 "nbformat": 3,
 "nbformat_minor": 0,
 "worksheets": [
  {
   "cells": [
    {
     "cell_type": "markdown",
     "metadata": {},
     "source": [
      "# \u641c\u7d22ZOJ\u8ddf\u77e9\u9635\u76f8\u5173\u7684\u9898\u76ee\n",
      "\n",
      "## \u8981\u6c42\n",
      "\n",
      "* \u5728[ZOJ](http://acm.zju.edu.cn/onlinejudge/)\u7684[\u9898\u76ee\u5217\u8868](http://acm.zju.edu.cn/onlinejudge/showProblemsets.do)\u4e2d\u641c\u7d22\u6240\u6709\u5305\u542b\u5173\u952e\u5b57\"matrix\"\u6216\"Matrix\"\u6216\"matrices\"\u6216\"Matrices\"\u7684\u9898\u76ee.\n",
      "* \u5168\u6587\u641c\u7d22.\n",
      "\n",
      "## \u63d0\u793a\n",
      "\n",
      "* \u53c2\u8003\u641c\u7d22CC98\u7684\u4f8b\u5b50.\n",
      "* \u4f7f\u7528[set](http://docs.python.org/2/tutorial/datastructures.html#sets)\u53bb\u9664\u91cd\u590d\u94fe\u63a5.\n",
      "* \u8bd5\u8bd5 `print '[Mm]atrix' or '[Mm]atrices'`"
     ]
    },
    {
     "cell_type": "code",
     "collapsed": false,
     "input": [],
     "language": "python",
     "metadata": {},
     "outputs": []
    }
   ],
   "metadata": {}
  }
 ]
}