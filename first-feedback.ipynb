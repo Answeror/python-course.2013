{
 "metadata": {
  "name": "first-feedback"
 },
 "nbformat": 3,
 "nbformat_minor": 0,
 "worksheets": [
  {
   "cells": [
    {
     "cell_type": "markdown",
     "metadata": {},
     "source": [
      "# \u7b2c\u4e00\u6b21\u8bfe\u7a0b\u53cd\u9988\n",
      "\n",
      "## \u4e0a\u8bfe\u65f6\u95f4\u7edf\u8ba1"
     ]
    },
    {
     "cell_type": "code",
     "collapsed": false,
     "input": [
      "selections = (\n",
      "    ('\u8fde\u4e0a10\u5929', len('111111111')),\n",
      "    ('\u4f11\u606f2\u5929', len('11111111111111111')),\n",
      "    ('\u4f11\u606f1\u5929', len('1'))\n",
      ")\n",
      "from operator import itemgetter as at\n",
      "best = max(selections, key=at(1))\n",
      "print best[0]"
     ],
     "language": "python",
     "metadata": {},
     "outputs": [
      {
       "output_type": "stream",
       "stream": "stdout",
       "text": [
        "\u4f11\u606f2\u5929\n"
       ]
      }
     ],
     "prompt_number": 1
    },
    {
     "cell_type": "markdown",
     "metadata": {},
     "source": [
      "## \u8bfe\u7a0b\u5efa\u8bae\n",
      "\n",
      "* \u8bfe\u7a0b\u5185\u5bb9\u5e0c\u671b\u6709\u591a\u4e00\u4e9b\u7b97\u6cd5\u7684\u5b66\u4e60\u5185\u5bb9\n",
      "* \u5b66\u4e00\u4e9b\u80fd\u6295\u5165\u5b9e\u9645\u5e94\u7528\u7684\u6280\u5de7\u548c\u77e5\u8bc6"
     ]
    }
   ],
   "metadata": {}
  }
 ]
}