{
 "metadata": {
  "name": "pyqt"
 },
 "nbformat": 3,
 "nbformat_minor": 0,
 "worksheets": [
  {
   "cells": [
    {
     "cell_type": "markdown",
     "metadata": {},
     "source": [
      "# PyQt\u5b66\u4e60\u65b9\u6cd5\n",
      "\n",
      "* [\u4e00\u4efd\u7b80\u660e\u6559\u7a0b](http://zetcode.com/tutorials/pyqt4/).\n",
      "* \u4eceQt\u7684[\u6587\u6863](http://qt-project.org/doc/qt-4.8/)\u4e2d\u67e5\u627e\u540c\u540d\u63a5\u53e3\u7684\u7b7e\u540d\u548c\u4f8b\u5b50.\n",
      "* \u52a8\u624b\u5199!\n",
      "\n",
      "\u4ee5`signalslot.py`\u4e3a\u4f8b(\u6458\u81ea[\u8fd9\u91cc](http://zetcode.com/tutorials/pyqt4/eventsandsignals/))."
     ]
    },
    {
     "cell_type": "code",
     "collapsed": false,
     "input": [
      "#!/usr/bin/python\n",
      "# -*- coding: utf-8 -*-\n",
      "\n",
      "\"\"\"\n",
      "ZetCode PyQt4 tutorial\n",
      "\n",
      "In this example, we connect a signal\n",
      "of a QtGui.QSlider to a slot\n",
      "of a QtGui.QLCDNumber.\n",
      "\n",
      "author: Jan Bodnar\n",
      "website: zetcode.com\n",
      "last edited: October 2011\n",
      "\"\"\"\n",
      "\n",
      "import sys\n",
      "from PyQt4 import QtGui, QtCore\n",
      "\n",
      "\n",
      "class Example(QtGui.QWidget):\n",
      "\n",
      "    def __init__(self):\n",
      "        super(Example, self).__init__()\n",
      "\n",
      "        self.initUI()\n",
      "\n",
      "    def initUI(self):\n",
      "\n",
      "        lcd = QtGui.QLCDNumber(self)\n",
      "        sld = QtGui.QSlider(QtCore.Qt.Horizontal, self)\n",
      "\n",
      "        vbox = QtGui.QVBoxLayout()\n",
      "        vbox.addWidget(lcd)\n",
      "        vbox.addWidget(sld)\n",
      "\n",
      "        self.setLayout(vbox)\n",
      "        sld.valueChanged.connect(lcd.display)\n",
      "\n",
      "        self.setGeometry(300, 300, 250, 150)\n",
      "        self.setWindowTitle('Signal & slot')\n",
      "        self.show()\n",
      "\n",
      "def main():\n",
      "\n",
      "    app = QtGui.QApplication(sys.argv)\n",
      "    ex = Example()\n",
      "    sys.exit(app.exec_())\n",
      "\n",
      "\n",
      "if __name__ == '__main__':\n",
      "    main()"
     ],
     "language": "python",
     "metadata": {},
     "outputs": []
    },
    {
     "cell_type": "markdown",
     "metadata": {},
     "source": [
      "\u63d0\u793a:\n",
      "\n",
      "* Google: `python shebang`\n",
      "* Google: `python coding utf-8`\n",
      "* Google: `python __name__ __main__`"
     ]
    }
   ],
   "metadata": {}
  }
 ]
}