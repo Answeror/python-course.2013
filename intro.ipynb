{
 "metadata": {
  "name": "intro"
 },
 "nbformat": 3,
 "nbformat_minor": 0,
 "worksheets": [
  {
   "cells": [
    {
     "cell_type": "markdown",
     "metadata": {},
     "source": [
      "# \u524d\u8a00\n",
      "\n",
      "## \u8bfe\u7a0b\u76ee\u7684\n",
      "\n",
      "1. \u5b66\u4e60\u57fa\u672c\u7684\u7a0b\u5e8f\u8bbe\u8ba1\u6280\u80fd\n",
      "2. \u5b66\u4e60Python\u57fa\u7840\u77e5\u8bc6\n",
      "3. \u4f7f\u7528Python\u5f00\u53d1\u5c0f\u578b\u5e94\u7528\u7a0b\u5e8f\n",
      "\n",
      "## \u8bfe\u7a0b\u8981\u6c42\n",
      "\n",
      "* **\u624b\u52a8\u8f93\u5165**\u8bfe\u672c\u4e0a\u7684\u6bcf\u4e2a\u6837\u4f8b\u7a0b\u5e8f, **\u4e0d\u8981**\u590d\u5236\u7c98\u8d34.\n",
      "* \u5584\u7528\u82f1\u6587Google(<http://google.com/ncr>).\n",
      "* \u9605\u8bfb[\u8bfe\u672c\u5f15\u8a00](http://learnpythonthehardway.org/book/intro.html).\n",
      "\n",
      "## \u8bfe\u7a0b\u8003\u6838\n",
      "\n",
      "* \u6ca1\u6709\u8003\u52e4.\n",
      "* \u6210\u7ee9\u75315\u6b21\u4f5c\u4e1a\u51b3\u5b9a.\n",
      "\n",
      "## \u8bfe\u7a0b\u6559\u6750\n",
      "\n",
      "* [Learn Python the Hard Way](http://learnpythonthehardway.org/book/)\n",
      "* [\u4e2d\u6587\u7248](https://learn-python-the-hard-way-zh_cn-translation.readthedocs.org/en/1.0/)\n",
      "\n",
      "## \u8bfe\u7a0b\u5185\u5bb9\n",
      "\n",
      "\u6559\u6750\u4e0a\u768452\u4e2a\u4e60\u9898.\n",
      "\n",
      "## \u8054\u7cfb\u65b9\u5f0f\n",
      "\n",
      "* email: `answeror+python-course.2013 [at] gmail [dot] com`\n",
      "* phone: 0x3822c63d5L, 0x8af15"
     ]
    }
   ],
   "metadata": {}
  }
 ]
}