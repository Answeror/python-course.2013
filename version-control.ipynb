{
 "metadata": {
  "name": "version-control"
 },
 "nbformat": 3,
 "nbformat_minor": 0,
 "worksheets": [
  {
   "cells": [
    {
     "cell_type": "markdown",
     "metadata": {},
     "source": [
      "# \u7248\u672c\u63a7\u5236\n",
      "\n",
      "> \u4e0d\u80fd\u8bb0\u4f4f\u8fc7\u53bb\u7684\u4eba, \u88ab\u8feb\u91cd\u590d\u8fc7\u53bb.\n",
      "\n",
      "* [\u4ec0\u4e48\u662f\u7248\u672c\u63a7\u5236](http://git-scm.com/book/zh/%E8%B5%B7%E6%AD%A5-%E5%85%B3%E4%BA%8E%E7%89%88%E6%9C%AC%E6%8E%A7%E5%88%B6).\n",
      "* [Git\u6559\u7a0b](http://www.atlassian.com/git).\n",
      "* \u8f6f\u4ef6:\n",
      "    * http://git-scm.com/download/win\n",
      "    * http://www.syntevo.com/smartgithg/\n",
      "\n",
      "\u5efa\u8bae\u4f7f\u7528SmartGit\u505amerge, diff\u548c\u5386\u53f2\u8bb0\u5f55\u67e5\u770b. \u4e00\u822c\u53c2\u8003\u5efa\u8bae\u5728\u547d\u4ee4\u884c\u4e2d\u8fdb\u884c.\n",
      "\n",
      "## \u5206\u652f\n",
      "\n",
      "\u5bf9\u4e8e[Flask\u6559\u7a0b\u7b2c\u4e8c\u8282](http://blog.miguelgrinberg.com/post/the-flask-mega-tutorial-part-ii-templates)\u4e2d\u7684\u4ee3\u7801, \u6211\u4eec\u53ef\u4ee5\u7528git\u6765\u67e5\u770b5\u4e2a\u4e0d\u540c\u7684\u7248\u672c.\n",
      "\n",
      "\u9996\u5148\u628a\u8bfe\u4ef6clone\u4e0b\u6765:\n",
      "\n",
      "<pre>\n",
      "git clone https://github.com/Answeror/python-course.2013.git python-course\n",
      "cd python-course\n",
      "</pre>\n",
      "\n",
      "\u7136\u540e\u5206\u522bcheckout\u51fa5\u4e2a\u4e0d\u540c\u7684\u7248\u672c:\n",
      "\n",
      "<pre>\n",
      "git checkout flask.2.&lt;version number&gt;\n",
      "</pre>\n",
      "\n",
      "\u5176\u4e2dversion number\u53d61~5."
     ]
    },
    {
     "cell_type": "code",
     "collapsed": false,
     "input": [],
     "language": "python",
     "metadata": {},
     "outputs": []
    }
   ],
   "metadata": {}
  }
 ]
}