{
 "metadata": {
  "name": "ex.0"
 },
 "nbformat": 3,
 "nbformat_minor": 0,
 "worksheets": [
  {
   "cells": [
    {
     "cell_type": "markdown",
     "metadata": {},
     "source": [
      "# \u4e60\u98980: \u51c6\u5907\u5de5\u4f5c\n",
      "\n",
      "**\u6ce8\u610f: \u672c\u8bfe\u7a0b\u4f7f\u7528\u7684\u5f00\u53d1\u73af\u5883\u4e0e\u6559\u6750\u4e0a\u7528\u7684\u7565\u6709\u4e0d\u540c.**\n",
      "\n",
      "\u4f9d\u6b21\u5b89\u88c5:\n",
      "\n",
      "1. `python-2.7.5.msi`\n",
      "2. `ipython-0.13.2.win32-py2.7.exe`\n",
      "3. `pyzmq-13.1.0.win32-py2.7.exe`\n",
      "4. `tornado-3.0.2.win32-py2.7.exe`\n",
      "5. `Gow-0.5.0.exe`\n",
      "\n",
      "\u5728\u4efb\u610f\u4f4d\u7f6e\u65b0\u5efa\u4e00\u4e2a\u76ee\u5f55(\u4ee5\u540e\u63d0\u5230\u7684\u6240\u6709\u76f8\u5bf9\u8def\u5f84\u5747\u6307\u76f8\u5bf9\u8be5\u76ee\u5f55). <kbd>WIN</kbd>+<kbd>R</kbd>, \u8f93\u5165`cmd`, \u56de\u8f66. \u8f93\u5165:\n",
      "\n",
      "```\n",
      "curl -O http://python-distribute.org/distribute_setup.py\n",
      "C:\\Python27\\python distribute_setup.py\n",
      "```\n",
      "\n",
      "\u8fdb\u5165\u65b0\u5efa\u7684\u76ee\u5f55, \u8f93\u5165:\n",
      "\n",
      "```\n",
      "C:\\Python27\\Sripts\\ipython notebook\n",
      "```"
     ]
    }
   ],
   "metadata": {}
  }
 ]
}