{
 "metadata": {
  "name": "ex.9"
 },
 "nbformat": 3,
 "nbformat_minor": 0,
 "worksheets": [
  {
   "cells": [
    {
     "cell_type": "markdown",
     "metadata": {},
     "source": [
      "# [\u4e60\u98989: \u6253\u5370\uff0c\u6253\u5370\uff0c\u6253\u5370](https://learn-python-the-hard-way-zh_cn-translation.readthedocs.org/en/1.0/ex9.html)"
     ]
    },
    {
     "cell_type": "code",
     "collapsed": false,
     "input": [
      "# Here's some new strange stuff, remember type it exactly.\n",
      "\n",
      "days = \"Mon Tue Wed Thu Fri Sat Sun\"\n",
      "months = \"Jan\\nFeb\\nMar\\nApr\\nMay\\nJun\\nJul\\nAug\"\n",
      "\n",
      "print \"Here are the days: \", days\n",
      "print \"Here are the months: \", months\n",
      "\n",
      "print \"\"\"\n",
      "There's something going on here.\n",
      "With the three double-quotes.\n",
      "We'll be able to type as much as we like.\n",
      "Even 4 lines if we want, or 5, or 6.\n",
      "\"\"\""
     ],
     "language": "python",
     "metadata": {},
     "outputs": [
      {
       "output_type": "stream",
       "stream": "stdout",
       "text": [
        "Here are the days:  Mon Tue Wed Thu Fri Sat Sun\n",
        "Here are the months:  Jan\n",
        "Feb\n",
        "Mar\n",
        "Apr\n",
        "May\n",
        "Jun\n",
        "Jul\n",
        "Aug\n",
        "\n",
        "There's something going on here.\n",
        "With the three double-quotes.\n",
        "We'll be able to type as much as we like.\n",
        "Even 4 lines if we want, or 5, or 6.\n",
        "\n"
       ]
      }
     ],
     "prompt_number": 3
    },
    {
     "cell_type": "markdown",
     "metadata": {},
     "source": [
      "\u6ce8\u610f\u6362\u884c\u7b26`\\n`\u4f7f\u7528`%r`\u683c\u5f0f\u5316\u8f93\u51fa\u7684\u7ed3\u679c:"
     ]
    },
    {
     "cell_type": "code",
     "collapsed": false,
     "input": [
      "print '%r' % 'foo\\nbar'"
     ],
     "language": "python",
     "metadata": {},
     "outputs": [
      {
       "output_type": "stream",
       "stream": "stdout",
       "text": [
        "'foo\\nbar'\n"
       ]
      }
     ],
     "prompt_number": 5
    },
    {
     "cell_type": "markdown",
     "metadata": {},
     "source": [
      "\u5173\u4e8e`\"\"\"`\u6216\u8005`'''`\u5f15\u5165\u7684\u6362\u884c:"
     ]
    },
    {
     "cell_type": "code",
     "collapsed": false,
     "input": [
      "print '''\n",
      "foobar\n",
      "'''"
     ],
     "language": "python",
     "metadata": {},
     "outputs": [
      {
       "output_type": "stream",
       "stream": "stdout",
       "text": [
        "\n",
        "foobar\n",
        "\n"
       ]
      }
     ],
     "prompt_number": 6
    },
    {
     "cell_type": "code",
     "collapsed": false,
     "input": [
      "print '''foobar'''"
     ],
     "language": "python",
     "metadata": {},
     "outputs": [
      {
       "output_type": "stream",
       "stream": "stdout",
       "text": [
        "foobar\n"
       ]
      }
     ],
     "prompt_number": 7
    }
   ],
   "metadata": {}
  }
 ]
}