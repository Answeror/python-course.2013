{
 "metadata": {
  "name": "ex.2"
 },
 "nbformat": 3,
 "nbformat_minor": 0,
 "worksheets": [
  {
   "cells": [
    {
     "cell_type": "markdown",
     "metadata": {},
     "source": [
      "# \u4e60\u98982: \u6ce8\u91ca\u548c\u4e95\u53f7"
     ]
    },
    {
     "cell_type": "code",
     "collapsed": false,
     "input": [
      "# A comment, this is so you can read your program later.\n",
      "# Anything after the # is  ignored by python.\n",
      "\n",
      "print \"I could have code like this.\" # and the comment after is ignored\n",
      "\n",
      "# You can also use a comment to \"disable\" or comment out a piece of code:\n",
      "# print \"This won't run.\"\n",
      "\n",
      "print \"This will run.\""
     ],
     "language": "python",
     "metadata": {},
     "outputs": [
      {
       "output_type": "stream",
       "stream": "stdout",
       "text": [
        "I could have code like this.\n",
        "This will run.\n"
       ]
      }
     ],
     "prompt_number": 1
    },
    {
     "cell_type": "markdown",
     "metadata": {},
     "source": [
      "* \u5b57\u7b26\u4e32\u4e2d\u7684`#`\u4f1a\u88ab\u5ffd\u7565.\n",
      "* \u591a\u884c\u6ce8\u91ca\u9700\u8981\u5728\u6bcf\u884c\u7684\u5f00\u5934\u5199\u4e00\u4e2a`#`."
     ]
    }
   ],
   "metadata": {}
  }
 ]
}