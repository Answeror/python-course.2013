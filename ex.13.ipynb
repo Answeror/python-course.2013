{
 "metadata": {
  "name": "ex.13"
 },
 "nbformat": 3,
 "nbformat_minor": 0,
 "worksheets": [
  {
   "cells": [
    {
     "cell_type": "markdown",
     "metadata": {},
     "source": [
      "# \u4e60\u989813: \u53c2\u6570\u3001\u89e3\u5305\u3001\u53d8\u91cf\n",
      "\n",
      "* `.py`\u6587\u4ef6\u662f\u4e00\u79cd\u811a\u672c.\n",
      "* \u4f7f\u7528`python xxx.py`\u8fd0\u884c\u811a\u672c.\n",
      "* \u7a0b\u5e8f\u7684\u53c2\u6570(argument).\n",
      "\n",
      "## \u73af\u5883\u53d8\u91cf`PATH`\n",
      "\n",
      "\u901a\u8fc7\u66f4\u6539\u73af\u5883\u53d8\u91cf`PATH`\u4f7f\u7cfb\u7edf\u53ef\u4ee5\u81ea\u52a8\u627e\u5230\n",
      "\n",
      "* `C:\\Python27\\python.exe`\n",
      "* `C:\\Python27\\Scripts\\ipython.exe`\n",
      "\n",
      "### \u4e34\u65f6\u6539\u53d8`PATH`\n",
      "\n",
      "\u5728\u547d\u4ee4\u884c\u4e2d\u8f93\u5165:\n",
      "\n",
      "<pre>set PATH=C:\\Python27;C:\\Python27\\Scripts;%PATH%</pre>\n",
      "\n",
      "\u5176\u4e2d:\n",
      "\n",
      "* `C:\\Python27`\u662fpython\u89e3\u91ca\u5668\u6240\u5728\u76ee\u5f55.\n",
      "* `C:\\Python27\\Scripts`\u662fipython\u53ef\u6267\u884c\u7a0b\u5e8f\u6240\u5728\u76ee\u5f55.\n",
      "\n",
      "### \u6c38\u4e45\u6539\u53d8`PATH`\n",
      "\n",
      "\u6211\u7684\u7535\u8111\u53f3\u952e\u5c5e\u6027, Advanced, Environment Variables, User variables for xxx, PATH."
     ]
    },
    {
     "cell_type": "markdown",
     "metadata": {},
     "source": [
      "\u65b0\u5efa\u6587\u4ef6`ex.13.py`, \u8f93\u5165:"
     ]
    },
    {
     "cell_type": "code",
     "collapsed": false,
     "input": [
      "from sys import argv\n",
      "\n",
      "script, first, second, third = argv\n",
      "\n",
      "print \"The script is called:\", script\n",
      "print \"Your first variable is:\", first\n",
      "print \"Your second variable is:\", second\n",
      "print \"Your third variable is:\", third"
     ],
     "language": "python",
     "metadata": {},
     "outputs": []
    },
    {
     "cell_type": "markdown",
     "metadata": {},
     "source": [
      "## import, \u6a21\u5757(module)\n",
      "\n",
      "Python\u7684\u6a21\u5757\u7c7b\u4f3c\u4e8eC/C++\u7684\u5934\u6587\u4ef6. \u662f\u4e00\u79cd\u7a0b\u5e8f\u529f\u80fd\u6a21\u5757\u5316\u7684\u65b9\u5f0f. Python\u8bed\u8a00\u63d0\u4f9b\u7684\u5404\u79cd\u529f\u80fd(\u64cd\u4f5c\u7cfb\u7edf, \u7f51\u7edc, \u56fe\u50cf\u5904\u7406\u7b49)\u5206\u5e03\u5728\u5404\u81ea\u7684\u6a21\u5757\u4e2d.\n",
      "\n",
      "## argv\n",
      "\n",
      "`argv`\u6307\u7a0b\u5e8f\u4ece\u547d\u4ee4\u884c\u4e2d\u5f97\u5230\u7684\u53c2\u6570\u5217\u8868. \u4e0eC/C++\u4e2d`main`\u51fd\u6570\u7684argv\u7c7b\u4f3c:\n",
      "\n",
      "<pre>int main(int argc, char **argv)\n",
      "{\n",
      "    return 0;\n",
      "}</pre>\n",
      "\n",
      "`argc`\u5728\u54ea\u91cc?"
     ]
    },
    {
     "cell_type": "code",
     "collapsed": false,
     "input": [
      "from sys import argv\n",
      "print argv\n",
      "print '%r' % argv\n",
      "print len(argv)"
     ],
     "language": "python",
     "metadata": {},
     "outputs": [
      {
       "output_type": "stream",
       "stream": "stdout",
       "text": [
        "['-c', '-f', 'C:\\\\Users\\\\answeror\\\\.ipython\\\\profile_default\\\\security\\\\kernel-3fa18c18-afeb-48cb-b3b7-f09ffff75b05.json', \"--KernelApp.parent_appname='ipython-notebook'\", '--interrupt=1576', '--parent=1196']\n",
        "['-c', '-f', 'C:\\\\Users\\\\answeror\\\\.ipython\\\\profile_default\\\\security\\\\kernel-3fa18c18-afeb-48cb-b3b7-f09ffff75b05.json', \"--KernelApp.parent_appname='ipython-notebook'\", '--interrupt=1576', '--parent=1196']\n",
        "6\n"
       ]
      }
     ],
     "prompt_number": 1
    },
    {
     "cell_type": "markdown",
     "metadata": {},
     "source": [
      "## \u89e3\u5305(unpack)\n",
      "\n",
      "\u5c06\u4e00\u4e2a\u5e8f\u5217\u4e2d\u7684\u6bcf\u4e2a\u5143\u7d20\u4f9d\u6b21\u8d4b\u4e88\u53d8\u91cf\u540d.\n",
      "\n",
      "\u89e3\u5305\u65f6\u5de6\u8fb9\u7684\u53d8\u91cf\u4e2a\u6570\u9700\u8981\u4e0e\u53f3\u8fb9\u5e8f\u5217\u7684\u5143\u7d20\u4e2a\u6570\u4e00\u81f4."
     ]
    },
    {
     "cell_type": "code",
     "collapsed": false,
     "input": [
      "first, second = [1, 2, 3]"
     ],
     "language": "python",
     "metadata": {},
     "outputs": [
      {
       "ename": "ValueError",
       "evalue": "too many values to unpack",
       "output_type": "pyerr",
       "traceback": [
        "\u001b[1;31m---------------------------------------------------------------------------\u001b[0m\n\u001b[1;31mValueError\u001b[0m                                Traceback (most recent call last)",
        "\u001b[1;32m<ipython-input-2-9e8be4c1117c>\u001b[0m in \u001b[0;36m<module>\u001b[1;34m()\u001b[0m\n\u001b[1;32m----> 1\u001b[1;33m \u001b[0mfirst\u001b[0m\u001b[1;33m,\u001b[0m \u001b[0msecond\u001b[0m \u001b[1;33m=\u001b[0m \u001b[1;33m[\u001b[0m\u001b[1;36m1\u001b[0m\u001b[1;33m,\u001b[0m \u001b[1;36m2\u001b[0m\u001b[1;33m,\u001b[0m \u001b[1;36m3\u001b[0m\u001b[1;33m]\u001b[0m\u001b[1;33m\u001b[0m\u001b[0m\n\u001b[0m",
        "\u001b[1;31mValueError\u001b[0m: too many values to unpack"
       ]
      }
     ],
     "prompt_number": 2
    },
    {
     "cell_type": "code",
     "collapsed": false,
     "input": [
      "first, second = [1]"
     ],
     "language": "python",
     "metadata": {},
     "outputs": [
      {
       "ename": "ValueError",
       "evalue": "need more than 1 value to unpack",
       "output_type": "pyerr",
       "traceback": [
        "\u001b[1;31m---------------------------------------------------------------------------\u001b[0m\n\u001b[1;31mValueError\u001b[0m                                Traceback (most recent call last)",
        "\u001b[1;32m<ipython-input-3-14c4ccb21c37>\u001b[0m in \u001b[0;36m<module>\u001b[1;34m()\u001b[0m\n\u001b[1;32m----> 1\u001b[1;33m \u001b[0mfirst\u001b[0m\u001b[1;33m,\u001b[0m \u001b[0msecond\u001b[0m \u001b[1;33m=\u001b[0m \u001b[1;33m[\u001b[0m\u001b[1;36m1\u001b[0m\u001b[1;33m]\u001b[0m\u001b[1;33m\u001b[0m\u001b[0m\n\u001b[0m",
        "\u001b[1;31mValueError\u001b[0m: need more than 1 value to unpack"
       ]
      }
     ],
     "prompt_number": 3
    },
    {
     "cell_type": "markdown",
     "metadata": {},
     "source": [
      "\u5c1d\u8bd5\u7ed9`ex.13.py`\u4e0d\u540c\u7684\u53c2\u6570:\n",
      "\n",
      "* `python ex.13.py 1 2 3`\n",
      "* `python ex.13.py 1 2 3 4`\n",
      "* `python ex.13.py 1 2`"
     ]
    }
   ],
   "metadata": {}
  }
 ]
}