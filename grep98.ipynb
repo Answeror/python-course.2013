{
 "metadata": {
  "name": "grep98"
 },
 "nbformat": 3,
 "nbformat_minor": 0,
 "worksheets": [
  {
   "cells": [
    {
     "cell_type": "markdown",
     "metadata": {},
     "source": [
      "# CC98\u5168\u6587\u641c\u7d22\n",
      "\n",
      "[CC98](http://www.cc98.org/)\u63d0\u4f9b\u4e86\u6309\u7248\u9762, \u5e16\u5b50\u6807\u9898, \u53d1\u5e16\u4eba\u8fdb\u884c\u641c\u7d22\u7684\u529f\u80fd, \u4f46\u662f\u6ca1\u6709\u5168\u6587\u641c\u7d22. \u60f3\u8981\u627e\u5230\u67d0\u4e9b\u5177\u4f53\u4e00\u70b9\u7684\u4fe1\u606f\u9700\u8981\u4e00\u4e2a\u5e16\u5b50\u4e00\u4e2a\u5e16\u5b50\u5730\u6316, \u975e\u5e38\u9ebb\u70e6.\n",
      "\n",
      "> \u4eba\u751f\u82e6\u77ed, \u6211\u7528Python!\n",
      "\n",
      "## \u8bfb\u53d6\u4e00\u4e2a\u9875\u9762\n",
      "\n",
      "\u4e0b\u9762\u4ee5\u6811\u8393\u677f\u5757\u4e3a\u4f8b, \u9996\u5148\u5c1d\u8bd5\u6293\u53d6\u4e00\u4e2a\u9875\u9762:"
     ]
    },
    {
     "cell_type": "code",
     "collapsed": false,
     "input": [
      "import urllib2\n",
      "\n",
      "r = urllib2.urlopen('http://www.cc98.org/list.asp?boardid=509&page=1')\n",
      "print r.read()"
     ],
     "language": "python",
     "metadata": {},
     "outputs": [
      {
       "output_type": "stream",
       "stream": "stdout",
       "text": [
        "\r\n",
        "<html>\r\n",
        "<head>\r\n",
        "\t<meta http-equiv=\"Content-Type\" content=\"text/html; charset=utf-8\">\r\n",
        "\t<link rel=\"alternate\" type=\"application/rss+xml\" title=\"\u5bdf\u770b\u65b0\u5e16\" href=\"boardrss.asp\" />\r\n",
        "\t<link rel=\"alternate\" type=\"application/rss+xml\" title=\"\u70ed\u95e8\u8bdd\u9898\" href=\"rss.asp\" />\r\n",
        "\t\r\n",
        "\t<title>\u6570\u5b57\u5a92\u4f53\u6280\u672f &raquo; CC98\u8bba\u575b</title>\r\n",
        "\t<link rel=\"shortcut icon\" href=\"favicon.ico\">\r\n",
        "\t<link rel=\"icon\" href=\"favicon.ico\">\r\n",
        "\t<link rel=\"stylesheet\" href=\"inc/style.css\" type=\"text/css\">\r\n",
        "\t<script type=\"text/javascript\">\r\n",
        "\t\tvar currentUserID = 0;\r\n",
        "\t\tvar currentBoardID = 509;\r\n",
        "\t\tvar bannerPath = 'banner/';\r\n",
        "\t\t\r\n",
        "var bannerInfo = {\"t\":[{\"p\":\"5172104394.gif\",\"i\":\"651\"},{\"p\":\"5172113093.gif\",\"i\":\"652\"},{\"p\":\"5172115259.gif\",\"i\":\"653\"}],\"b\":[{\"p\":\"10172365833.jpg\",\"i\":\"632\"},{\"p\":\"32010553856.gif\",\"i\":\"646\"},{\"p\":\"32023391310.jpg\",\"i\":\"648\"},{\"p\":\"32023405085.gif\",\"i\":\"649\"}]};\r\n",
        "\r\n",
        "\t</script>\r\n",
        "\t<script src=\"js/mootools-core-1.4.5-full-compat.js\"></script>\r\n",
        "\t<script type=\"text/javascript\" src=\"js/common.js\"></script>\r\n",
        "\t<script type=\"text/javascript\" src=\"js/ccdialog.js\"></script>\r\n",
        "\t<script type=\"text/javascript\" src=\"js/boardquery.js\"></script>\r\n",
        "</head>\r\n",
        "\r\n",
        "<body  topmargin=0 leftmargin=0>\r\n",
        "\r\n",
        "\t\r\n",
        "\t<!-- \u83dc\u5355 div -->\r\n",
        "\t<div id=\"menuDiv\" style='Z-INDEX: 2; display: none; WIDTH: 1px; POSITION: absolute; HEIGHT: 1px; BACKGROUND-COLOR: #9cc5f8'></div>\r\n",
        "\r\n",
        "\t<!-- \u5934\u90e8table -->\r\n",
        "\t<table cellspacing=\"0\" cellpadding=\"0\" align=\"center\" style=\"border: 1px #6595D6 solid; border-top-width: 0px; border-right-width: 1px; border-bottom-width: 0px; border-left-width: 1px; width: 97%;\">\r\n",
        "\t\t<tr>\r\n",
        "\t\t\t<td width=\"100%\">\r\n",
        "\r\n",
        "\t\t\t\t<!-- \u771f\u6b63\u7684\u5f00\u59cb\u8868\u683c \u5916\u9762\u90a3\u4e2a\u662f\u7528\u6765\u9650\u5236\u7684 -->\r\n",
        "\t\t\t\t<table width=\"100%\" align=\"center\" border=\"0\" cellspacing=\"0\" cellpadding=\"0\">\r\n",
        "\t\t\t\t\t<!-- ==============\u7b2c\u4e00\u884c\u6a2a\u6760====================== -->\r\n",
        "\t\t\t\t\t<tr>\r\n",
        "\t\t\t\t\t\t<td class=\"TopDarkNav\" height=\"9\"></td>\r\n",
        "\t\t\t\t\t</tr>\r\n",
        "\t\t\t\t\t<!-- ==============logo\u548c\u5e2e\u52a9====================== -->\r\n",
        "\t\t\t\t\t<tr>\r\n",
        "\t\t\t\t\t\t<td height=\"70\" class=\"TopLighNav2\">\r\n",
        "\t\t\t\t\t\t\t<table border=\"0\" width=\"100%\" align=\"center\">\r\n",
        "\t\t\t\t\t\t\t\t<tr>\r\n",
        "\t\t\t\t\t\t\t\t\t<!-- \u5c0flogo -->\r\n",
        "\t\t\t\t\t\t\t\t\t<td align=\"left\" width=\"25%\">\r\n",
        "\t\t\t\t\t\t\t\t\t\t<a href=\"http://www.cc98.org\">\r\n",
        "\t\t\t\t\t\t\t\t\t\t\t<img border=\"0\" src=\"images/logo/logo.gif\"></a>\r\n",
        "\t\t\t\t\t\t\t\t\t</td>\r\n",
        "\t\t\t\t\t\t\t\t\t<!-- \u5927logo -->\r\n",
        "\t\t\t\t\t\t\t\t\t<td align=\"center\" width=\"65%\">\r\n",
        "\t\t\t\t\t\t\t\t\t\t<div class=\"advImg\" id=\"advImg\"><a id=\"advLink\" href=\"#\" target=\"_blank\"></a></div>\r\n",
        "\t\t\t\t\t\t\t\t\t\t<script language=\"javascript\">\r\n",
        "\t\t\t\t\t\t\t\t\t\t\tshowadvs(1);\r\n",
        "\t\t\t\t\t\t\t\t\t\t</script>\r\n",
        "\t\t\t\t\t\t\t\t\t</td>\r\n",
        "\t\t\t\t\t\t\t\t\t<!-- \u5e2e\u52a9 -->\r\n",
        "\t\t\t\t\t\t\t\t\t<td align=\"right\" style=\"line-height: 15pt\" width=\"10%\">\r\n",
        "\t\t\t\t\t\t\t\t\t\t<a href=\"#\"><span style=\"CURSOR: hand\" onclick=\"window.external.AddFavorite('http://www.cc98.org', 'www.cc98.org')\">\u52a0\u5165\u6536\u85cf</span></a><br>\r\n",
        "\t\t\t\t\t\t\t\t\t\t<a href=\"#\"><span style=\"cursor: pointer\" onclick=\"this.style.behavior='url(#default#homepage)';this.setHomePage('http://www.cc98.org');\">\u8bbe\u4e3a\u9996\u9875</span></a><br>\r\n",
        "\t\t\t\t\t\t\t\t\t\t<a href=\"#\"><span style=\"cursor: pointer\" class=\"boardQueryLink\" id=\"boardQueryLink\">\u641c\u7d22\u7248\u9762</span></a><br>\r\n",
        "\t\t\t\t\t\t\t\t\t\t<!--<a href=\"boardhelp.asp\">\u8bba\u575b\u5e2e\u52a9</a>-->\r\n",
        "\t\t\t\t\t\t\t\t\t</td>\r\n",
        "\t\t\t\t\t\t\t\t</tr>\r\n",
        "\t\t\t\t\t\t\t</table>\r\n",
        "\t\t\t\t\t\t</td>\r\n",
        "\t\t\t\t\t</tr>\r\n",
        "\t\t\t\t\t<!-- ==============\u7b2c\u4e8c\u884c\u6a2a\u6760====================== -->\r\n",
        "\t\t\t\t\t<tr>\r\n",
        "\t\t\t\t\t\t<td class=\"TopLighNav\" height=\"9\"></td>\r\n",
        "\t\t\t\t\t</tr>\r\n",
        "\t\t\t\t\t<!-- ============== \u83dc\u5355 ====================== -->\r\n",
        "\t\t\t\t\t<tr>\r\n",
        "\t\t\t\t\t\t<td class=\"TopLighNav1\" height=\"22\" valign=\"top\">\r\n",
        "\t\t\t\t\t\t\t<div style=\"position: relative; margin-top: 2px\">\r\n",
        "\t\t\t\t\t\t\t\t<div style=\"position: absolute; width: 960px; top: 0px;\">\r\n",
        "\t\t\t\t\t\t\t\t\t&nbsp;&nbsp;\r\n",
        "\t\t\r\n",
        "\t\t\t\t\t\t\t\t\t<b>\u672a\u767b\u5f55</b>&nbsp;&nbsp;\r\n",
        "\t\t\t<a href=\"login.asp\" onmouseout='DelayHideMenu();' onmouseover='ShowMenu(this,manage1,100);'>\u6ce8\u518c\u767b\u5f55</a>\r\n",
        "\t\t\t\t\t\t\t\t\t\r\n",
        "\t\t\t\t\t\t\t\t\t<!--<img src=pic/navspacer.gif align=absmiddle>\r\n",
        "\t\t<a href=\"guidboard.asp\" onmouseout='DelayHideMenu()' onMouseOver='ShowMenu(this,hotboard,100)'>\u70ed\u95e8\u7248\u9762</a>-->\r\n",
        "\r\n",
        "\t\t\t\t\t\t\t\t\t<img src=\"pic/navspacer.gif\" align=\"absmiddle\">\r\n",
        "\t\t\t\t\t\t\t\t\t<a href=\"query.asp?boardid=509\" onmouseout='DelayHideMenu();' onmouseover='ShowMenu(this,Search,100);'>\u8bba\u575b\u641c\u7d22</a>\r\n",
        "\t\t\t\t\t\t\t\t\t<img src=\"pic/navspacer.gif\" align=\"absmiddle\">\r\n",
        "\t\t\t\t\t\t\t\t\t<!--<a href=\"#\" onmouseout='DelayHideMenu()' onMouseOver='ShowMenu(this,stylelist,100)'>\u81ea\u9009\u98ce\u683c</a>\r\n",
        "\t\t<img src=pic/navspacer.gif align=absmiddle>-->\r\n",
        "\t\t\t\t\t\t\t\t\t<a href=\"boardstat.asp?boardid=509\" onmouseout='DelayHideMenu();' onmouseover='ShowMenu(this,boardstat,100);'>\u8bba\u575b\u72b6\u6001</a>\r\n",
        "\t\t\t\t\t\t\t\t\t<!--\r\n",
        "\t\t<img src=pic/navspacer.gif align=absmiddle>\r\n",
        "\t\t<a href=\"show.asp?boardid=509\" onmouseout='DelayHideMenu()' onMouseOver='ShowMenu(this,downlist,100)'>\u8bba\u575b\u5c55\u533a</a>\r\n",
        "\t\t-->\r\n",
        "\t\t\t\t\t\t\t\t\t<!--<img src=pic/navspacer.gif align=absmiddle>\r\n",
        "\t\t<a href=\"http://10.71.45.100/newblog\" onmouseout='DelayHideMenu()' onMouseOver='ShowMenu(this,blog,100)' target=\"_blank\">98blog</a>\r\n",
        "\t\t<img src=pic/navspacer.gif align=absmiddle>\r\n",
        "\t\t<a href=\"music.asp\" onmouseout='DelayHideMenu()' onMouseOver='ShowMenu(this,music,100)'>\u70b9\u6b4c</a>-->\r\n",
        "\t\t\t\t\t\t\t\t\t<img src=\"pic/navspacer.gif\" align=\"absmiddle\">\r\n",
        "\t\t\t\t\t\t\t\t\t<a onmouseout='DelayHideMenu();this.style.cursor=\"auto\";' onmouseover='ShowMenu(this,addon,100);this.style.cursor=\"pointer\";' target=\"_blank\">\u8bba\u575b\u9644\u4ef6</a>\r\n",
        "\t\t\t\t\t\t\t\t\t<img src=\"pic/navspacer.gif\" align=\"absmiddle\">\r\n",
        "\t\t\t\t\t\t\t\t\t<a href=\"boardhelp.asp\" onmouseout='DelayHideMenu();' onmouseover='ShowMenu(this,help,100);'>\u8bba\u575b\u5e2e\u52a9</a>\r\n",
        "\t\t\t\t\t\t\t\t\t\r\n",
        "\t\t\t\t\t\t\t\t\t<img src=\"pic/navspacer.gif\" align=\"absmiddle\">\r\n",
        "\t\t\t\t\t\t\t\t\t<a href=\"javascript:;\" onclick=\"changeSimple(1)\">Simple\u7248</a>\r\n",
        "\t\t\t\t\t\t\t\t\t<!--\r\n",
        "\t\t<img src=\"pic/navspacer.gif\" align=\"absmiddle\">\r\n",
        "\t\t<a href=\"http://bbs.cc98.org/\" title=\"Alpha \u5c31\u662f\u6bd4 Beta \u66f4\u70c2\u7684...\">2.0 Alpha</a>\r\n",
        "-->\r\n",
        "\t\t\t\t\t\t\t\t\t\r\n",
        "\t\t\t\t\t\t\t\t</div>\r\n",
        "\t\t\t\t\t\t\t\t<div id=\"multiLogin\"></div>\r\n",
        "\t\t\t\t\t\t\t</div>\r\n",
        "\t\t\t\t\t\t</td>\r\n",
        "\t\t\t\t\t</tr>\r\n",
        "\t\t\t\t</table>\r\n",
        "\r\n",
        "\t\t\t\t<!-- \u6700\u5916\u5c42 -->\r\n",
        "\t\t\t</td>\r\n",
        "\t\t</tr>\r\n",
        "\t</table>\r\n",
        "\t\r\n",
        "\t<table cellspacing=\"1\" cellpadding=\"3\" align=\"center\" border=\"0\" width=\"97%\">\r\n",
        "\t\t<tr>\r\n",
        "\t\t\t\r\n",
        "\t\t\t<td height=\"25\">\r\n",
        "\t\t\t\t<br>\r\n",
        "\t\t\t\t>> \r\n",
        "\t\t\u6280\u827a\u53cc\u4fee\uff0c\u5b8c\u7f8e\u5236\u9020\r\n",
        "\t\t\t</td>\r\n",
        "\t\t</tr>\r\n",
        "\t</table>\r\n",
        "\t\r\n",
        "\t<table cellspacing=\"1\" cellpadding=\"3\" align=\"center\" class=\"tableBorder2\">\r\n",
        "\t\t<tr>\r\n",
        "\t\t\t<td height=\"25\" valign=\"middle\">\r\n",
        "\t\t\t\t\r\n",
        "\t\t\t\t<img src=\"pic/Forum_nav.gif\" align=\"absmiddle\">\r\n",
        "\t\t\t\t\r\n",
        "\t\t\t\t<a href=\"index.asp\">www.cc98.org</a> \u2192 \r\n",
        "\t\t\t\t<a href=list.asp?boardid=35>\u9662\u7cfb\u4ea4\u6d41</a> \u2192  <a href=list.asp?boardid=368>\u8ba1\u7b97\u673a\u79d1\u5b66\u4e0e\u6280\u672f\u5b66\u9662</a> \u2192  <a href=list.asp?boardid=509&page=1>\u6570\u5b57\u5a92\u4f53\u6280\u672f</a> \u2192  \u5e16\u5b50\u5217\u8868\r\n",
        "\t\t\t\t<a name=\"top\"></a>\r\n",
        "\t\t\t</td>\r\n",
        "\t\t</tr>\r\n",
        "\t</table>\r\n",
        "\t<br>\r\n",
        "\t\r\n",
        "\r\n",
        "<script type=\"text/javascript\">\r\n",
        "\tvar lastPostInfo = function(id,jsonString){\r\n",
        "\t\tvar js = JSON.decode(jsonString);\r\n",
        "\t\tvar topic = $('topic_'+id);\r\n",
        "\t\tvar lastUser = $('lastPost_'+id);\r\n",
        "\t\tif($chk(topic)){\r\n",
        "\t\t\ttopic.set('title',topic.get('title')+js.txt+'...');\r\n",
        "\t\t\tif(js.usr != '\u533f\u540d'){\r\n",
        "\t\t\t\tlastUser.innerHTML = '<a href=\"dispuser.asp?name='+encodeURI(js.usr)+'\">'+js.usr+'</a>';\r\n",
        "\t\t\t}else{\r\n",
        "\t\t\t\tlastUser.innerHTML = '\u533f\u540d';\r\n",
        "\t\t\t}\r\n",
        "\t\t}\r\n",
        "\t}\r\n",
        "</script>\r\n",
        "\r\n",
        "<iframe width=\"0\" height=\"0\" id=\"hiddenframe\" style=\"display: none\"></iframe>\r\n",
        "\r\n",
        "<!--1599-->\r\n",
        "<script type=\"text/javascript\" src=\"js/BoardSetting.js\"></script>\r\n",
        "<script type=\"text/javascript\" src=\"js/filter.js\"></script>\r\n",
        "<table cellpadding=\"3\" cellspacing=\"1\" class=\"tableborder1\" align=\"center\">\r\n",
        "\t<tr>\r\n",
        "\t\t<th height=\"25\" width=\"100%\" align=\"left\" id=\"tabletitlelink\" style=\"font-weight: normal\">\u603b\u5728\u7ebf<b>2999</b>\u4eba\uff0c\u5176\u4e2d\u6570\u5b57\u5a92\u4f53\u6280\u672f\u4e0a\u5171\u6709 <b>1</b> \u4f4d\u4f1a\u5458\u4e0e <b>\r\n",
        "\t\t\t1</b> \u4f4d\u5ba2\u4eba.\u4eca\u65e5\u5e16\u5b50 <b><font color=\"#FF0000\">0</font></b>\r\n",
        "\t\t\t\r\n",
        "\t\t\t\t\t[<a href=\"list.asp?action=show&boardID=509&page=1&skin=\">\u663e\u793a\u8be6\u7ec6\u5217\u8868</a>]\r\n",
        "\t\t\t\t\r\n",
        "\t\t</th>\r\n",
        "\t</tr>\r\n",
        "\r\n",
        "\t\r\n",
        "\t\r\n",
        "\t</td></tr>\r\n",
        "</table>\r\n",
        "\r\n",
        "\r\n",
        "\t\t<br />\r\n",
        "\t\t<table cellpadding=\"0\" cellspacing=\"0\" border=\"0\" width=\"97%\" align=\"center\" valign=\"middle\">\r\n",
        "\t\t\t<tr style=\"vertical-align: bottom;\">\r\n",
        "\t\t\t\t<td style=\"width: 2px; text-align: center; margin: auto;\"></td>\r\n",
        "\t\t\t\t<td style=\"text-align: left;\">\r\n",
        "\t\t\t\t\t\r\n",
        "\t\t\t\t\t<a href=\"announce.asp?boardid=509\" title=\"\u53d1\u65b0\u5e16\">\r\n",
        "\t\t\t\t\t\t<img src=\"pic/blue/postnew.gif\" style=\"border: none;\" alt=\"\u53d1\u65b0\u5e16\" /></a>\r\n",
        "\t\t\t\t\t&nbsp;&nbsp;<a href=\"vote.asp?boardid=509\" title=\"\u53d1\u8d77\u65b0\u6295\u7968\"><img src=\"pic/blue/votenew.gif\" style=\"border: none;\" alt=\"\u53d1\u8d77\u65b0\u6295\u7968\" /></a>\r\n",
        "\t\t\t\t\t&nbsp;&nbsp;<a href=\"smallpaper.asp?boardid=509\" title=\"\u53d1\u5c0f\u5b57\u62a5\"><img src=\"pic/blue/xzb.gif\" style=\"border: none;\" alt=\"\u53d1\u5e03\u5c0f\u5b57\u62a5\" /></a>\r\n",
        "\t\t\t\t\t\r\n",
        "\r\n",
        "\t\t\t\t</td>\r\n",
        "\t\t\t\t<td style=\"text-align: right;\"><a href=\"boardrss.asp?boardid=509\" title=\"\u6570\u5b57\u5a92\u4f53\u6280\u672f\u4e0a\u7684\u6700\u65b0\u8bdd\u9898\">\r\n",
        "\t\t\t\t\t<img src=\"pic/feed.gif\" border=\"0\" /></a> [<a href=\"customboard.asp?action=add&boardid=509\">\u5b9a\u5236/\u53d6\u6d88\u5b9a\u5236\u672c\u7248</a>]&nbsp;&nbsp;&nbsp;<img src=\"pic/team2.gif\" />&nbsp;<a href=\"dispuser.asp?name=%E4%B9%B1%E8%8F%8A\" target=_blank title=\u70b9\u51fb\u67e5\u770b\u8be5\u7248\u4e3b\u8d44\u6599>\u4e71\u83ca</a>&nbsp;<a href=\"dispuser.asp?name=%E6%B4%B2%E5%93%A5\" target=_blank title=\u70b9\u51fb\u67e5\u770b\u8be5\u7248\u4e3b\u8d44\u6599>\u6d32\u54e5</a>&nbsp;\t  </td>\r\n",
        "\t\t\t</tr>\r\n",
        "\t\t</table>\r\n",
        "\t\t<form action=\"master_batch.asp\" method=\"post\" name=\"batch\" onsubmit=\"return checksearch();\">\r\n",
        "\t\t\t<table cellpadding=\"1\" cellspacing=\"1\" class=\"tableborder1\" align=\"center\">\r\n",
        "\t\t\t\t<tbody>\r\n",
        "\t\t\t\t\t<tr>\r\n",
        "\t\t\t\t\t\t<td class=\"tablebody1\" colspan=\"5\" height=\"20\">\r\n",
        "\t\t\t\t\t\t\t<table width=\"100%\">\r\n",
        "\t\t\t\t\t\t\t\t<tr>\r\n",
        "\t\t\t\t\t\t\t\t\t<td valign=\"middle\" height=\"20\" width=\"50\">\r\n",
        "\t\t\t\t\t\t\t\t\t\t<a href=\"AllPaper.asp?boardid=509\" title=\"\u70b9\u51fb\u67e5\u770b\u672c\u8bba\u575b\u6240\u6709\u5c0f\u5b57\u62a5\"><b>\u5e7f\u64ad\uff1a</b></a>\r\n",
        "\t\t\t\t\t\t\t\t\t</td>\r\n",
        "\t\t\t\t\t\t\t\t\t<td width=\"*\">\r\n",
        "\t\t\t\t\t\t\t\t\t\t<!-- JLEEX Begin: \u4ee5\u540e\u4e0d\u8981\u7528\u5168\u89d2\u7684\u7a7a\u683c, \u5728 Firefox \u4e0b\u9762\u4f1a\u6709\u65b9\u6846\u7684 -->\r\n",
        "\t\t\t\t\t\t\t\t\t\t<marquee scrolldelay=\"150\" scrollamount=\"4\" onmouseout=\"if (document.all!=null){this.start()}\" onmouseover=\"if (document.all!=null){this.stop()}\">\r\n",
        "\t\t\r\n",
        "\t\t</marquee>\r\n",
        "\t\t\t\t\t\t\t\t\t\t<!-- JLEEX End -->\r\n",
        "\t\t\t\t\t\t\t\t\t\t<td align=\"right\" width=\"320\">\r\n",
        "\t\t\t\t\t\t\t\t\t\t\t<a href=\"manage_boardmaster.asp?boardid=35\">\u7279\u6b8a\u6743\u9650</a> | <a href=\"list_best.asp?boardid=509\" title=\"\u67e5\u770b\u672c\u7248\u7cbe\u534e\"><font color=\"#FF0000\"><b>\u7cbe\u534e\u533a</b></font></a>| <a href=\"list_reserve.asp?boardid=509\" title=\"\u67e5\u770b\u672c\u7248\u4fdd\u5b58\u5e16\u5b50\">\u4fdd\u5b58\u533a</a> | <a href=\"info_stopposts.asp?boardid=509\" title=\"\u67e5\u770b\u672c\u7248\u505cP\u7528\u6237\"><b>\u505cP</b></a> | <a href=\"boardstat.asp?reaction=online&boardid=509\" title=\"\u67e5\u770b\u672c\u7248\u5728\u7ebf\u8be6\u7ec6\u60c5\u51b5\">\u5728\u7ebf</a>| <a href=\"info_bbseven.asp?boardid=509\" title=\"\u67e5\u770b\u672c\u7248\u4e8b\u4ef6\">\u4e8b\u4ef6</a>\r\n",
        "\t\t\t\t\t\t\t\t\t\t\t<!-- | <a href=admin_boardset.asp?boardid=509>\u7ba1\u7406</a>-->\r\n",
        "\t\t\t\t\t\t\t\t\t\t\t\r\n",
        "\t\t\t\t\t\t\t\t\t\t</td>\r\n",
        "\t\t\t\t\t\t\t\t</tr>\r\n",
        "\t\t\t\t\t\t\t</table>\r\n",
        "\t\t\t\t\t\t</td>\r\n",
        "\t\t\t\t\t</tr>\r\n",
        "\r\n",
        "\t\t\t\t\t<tr style=\"vertical-align: middle; height: 25px;\">\r\n",
        "\t\t\t\t\t\t<th style=\"text-wrap: none; width: 32px;\">\r\n",
        "\t\t\t\t\t\t\t<a href=\"list.asp?boardid=509&page=1&action=batch\">\u72b6\u6001</a>\r\n",
        "\t\t\t\t\t\t</th>\r\n",
        "\t\t\t\t\t\t<th style=\"text-wrap: none;\">\u4e3b \u9898</th>\r\n",
        "\t\t\t\t\t\t<th style=\"text-wrap: none; width: 80px;\">\u4f5c \u8005</th>\r\n",
        "\t\t\t\t\t\t<th style=\"text-wrap: none;\">\u56de\u590d/\u4eba\u6c14</th>\r\n",
        "\t\t\t\t\t\t<th style=\"text-wrap: none; width: 220px;\">\u6700\u540e\u66f4\u65b0 | \u56de\u590d\u4eba</th>\r\n",
        "\t\t\t\t\t</tr>\r\n",
        "\t\t\t\t\t\r\n",
        "\t\t<tr style=\"vertical-align: middle;\">\r\n",
        "\t\t\t<td style=\"text-wrap: none; width: 32px; height: 27px; text-align: center;\" class=\"tablebody2\">\r\n",
        "\t\t\t\t\r\n",
        "\t\t\t\t<span title=\"\u603b\u56fa\u9876\u4e3b\u9898\">\r\n",
        "\t\t\t\t\t<img src=\"pic/ztop.gif\" style=\"border: none;\" alt=\"\u603b\u56fa\u9876\u4e3b\u9898\" /></span>\r\n",
        "\t\t\t\t\r\n",
        "\t\t\t</td>\r\n",
        "\t\t\t<td style=\"text-align: justify;\" class=\"tablebody1\">\r\n",
        "\r\n",
        "\t\t\t\t &nbsp;\r\n",
        "\t\t\t\t\r\n",
        "\t\t\t\t<a id=\"topic_4219213\" href=\"dispbbs.asp?boardID=136&ID=4219213&page=1\" title=\"\u300a&#35770;&#22363;&#20551;&#26399;&#31649;&#29702;&#21150;&#27861;\u300b&#10;\u4f5c\u8005\uff1a98&#31449;&#21153;&#32452;&#10;\u53d1\u8868\u4e8e7/7/2013 10:02:13 PM&#10;\u6700\u540e\u8ddf\u8d34\uff1a\">\r\n",
        "\t\t\t\t\t\r\n",
        "\t\t\t\t\t<span>&#35770;&#22363;&#20551;&#26399;&#31649;&#29702;&#21150;&#27861;</span>\r\n",
        "\t\t\t\t\t\r\n",
        "\t\t\t\t</a>\r\n",
        "\t\t\t\t\r\n",
        "\t\t\t</td>\r\n",
        "\r\n",
        "\t\t\t<!-- \u663e\u793a\u4f5c\u8005 -->\r\n",
        "\t\t\t\r\n",
        "\t\t\t<td width=\"80\" style=\"text-wrap: none; text-align: center; margin: auto;\" class=\"tablebody2\">\r\n",
        "\t\t\t\t<a href=\"dispuser.asp?id=4775\" target=\"_blank\">98\u7ad9\u52a1\u7ec4</a>\r\n",
        "\t\t\t</td>\r\n",
        "\t\t\t\r\n",
        "\r\n",
        "\t\t\t<!-- \u6295\u7968\u7968\u6570\u6216\u8005\u70b9\u51fb\u7387 -->\r\n",
        "\t\t\t<td style=\"text-wrap: none; text-align: center; margin: auto;\" class=\"tablebody1\">\r\n",
        "\t\t\t\t0/547\r\n",
        "\t\t\t</td>\r\n",
        "\r\n",
        "\t\t\t<!-- \u6700\u540e\u56de\u590d\u65f6\u95f4\u548c\u4f5c\u8005 -->\r\n",
        "\t\t\t<td width=\"220\" align=\"left\" style=\"text-wrap: none;\" class=\"tablebody2\">&nbsp;<a href=\"dispbbs.asp?boardID=136&ID=4219213&star=32767#bottom\">7/7/2013 10:02:13 PM</a>&nbsp;<span style=\"color: #FF0000;\">|</span>&nbsp;<span id=\"lastPost_4219213\"></span>\r\n",
        "\t\t\t</td>\r\n",
        "\t\t</tr>\r\n",
        "\r\n",
        "\t\t\r\n",
        "\t\t<script type=\"text/javascript\">lastPostInfo('4219213','{\"usr\":\"98\u7ad9\u52a1\u7ec4\",\"txt\":\"[b]<I></I> [/b]\u4e00\u3001\u5047\u671f\u5173...\"}');</script>\r\n",
        "\t\t\r\n",
        "\t\t<tr style=\"vertical-align: middle;\">\r\n",
        "\t\t\t<td style=\"text-wrap: none; width: 32px; height: 27px; text-align: center;\" class=\"tablebody2\">\r\n",
        "\t\t\t\t\r\n",
        "\t\t\t\t<span title=\"\u603b\u56fa\u9876\u4e3b\u9898\">\r\n",
        "\t\t\t\t\t<img src=\"pic/ztop.gif\" style=\"border: none;\" alt=\"\u603b\u56fa\u9876\u4e3b\u9898\" /></span>\r\n",
        "\t\t\t\t\r\n",
        "\t\t\t</td>\r\n",
        "\t\t\t<td style=\"text-align: justify;\" class=\"tablebody1\">\r\n",
        "\r\n",
        "\t\t\t\t &nbsp;\r\n",
        "\t\t\t\t\r\n",
        "\t\t\t\t<a id=\"topic_4209961\" href=\"dispbbs.asp?boardID=326&ID=4209961&page=1\" title=\"\u300a&#12304;&#20844;&#21578;&#12305;CC98 &#23398;&#29983;&#32593;&#32476;&#21327;&#20250;&#25104;&#21592;&#38271;&#26399;&#20844;&#24320;&#25307;&#21215;\u300b&#10;\u4f5c\u8005\uff1aCC98&#20844;&#21578;&#10;\u53d1\u8868\u4e8e6/26/2013 12:32:22 AM&#10;\u6700\u540e\u8ddf\u8d34\uff1a\">\r\n",
        "\t\t\t\t\t\r\n",
        "\t\t\t\t\t<span>&#12304;&#20844;&#21578;&#12305;CC98 &#23398;&#29983;&#32593;&#32476;&#21327;&#20250;&#25104;&#21592;&#38271;&#26399;&#20844;&#24320;&#25307;&#21215;</span>\r\n",
        "\t\t\t\t\t\r\n",
        "\t\t\t\t</a>\r\n",
        "\t\t\t\t&nbsp;&nbsp;[<img src=pic/multipage.gif><b> <a href='dispbbs.asp?boardID=326&ID=4209961&star=1&page=1'><font color=#FF0000>1</font></a>  <a href='dispbbs.asp?boardID=326&ID=4209961&star=2&page=1'><font color=#FF0000>2</font></a>  <a href='dispbbs.asp?boardID=326&ID=4209961&star=3&page=1'><font color=#FF0000>3</font></a>  <a href='dispbbs.asp?boardID=326&ID=4209961&star=4&page=1'><font color=#FF0000>4</font></a> ... <a href='dispbbs.asp?boardID=326&ID=4209961&star=10&page=1'><font color=#FF0000>10</font></a> <a href='dispbbs.asp?boardID=326&ID=4209961&star=11&page=1'><font color=#FF0000>11</font></a> <a href='dispbbs.asp?boardID=326&ID=4209961&star=12&page=1'><font color=#FF0000>12</font></a></b>]\r\n",
        "\t\t\t</td>\r\n",
        "\r\n",
        "\t\t\t<!-- \u663e\u793a\u4f5c\u8005 -->\r\n",
        "\t\t\t\r\n",
        "\t\t\t<td width=\"80\" style=\"text-wrap: none; text-align: center; margin: auto;\" class=\"tablebody2\">\r\n",
        "\t\t\t\t<a href=\"dispuser.asp?id=40994\" target=\"_blank\">CC98\u516c\u544a</a>\r\n",
        "\t\t\t</td>\r\n",
        "\t\t\t\r\n",
        "\r\n",
        "\t\t\t<!-- \u6295\u7968\u7968\u6570\u6216\u8005\u70b9\u51fb\u7387 -->\r\n",
        "\t\t\t<td style=\"text-wrap: none; text-align: center; margin: auto;\" class=\"tablebody1\">\r\n",
        "\t\t\t\t119/6448\r\n",
        "\t\t\t</td>\r\n",
        "\r\n",
        "\t\t\t<!-- \u6700\u540e\u56de\u590d\u65f6\u95f4\u548c\u4f5c\u8005 -->\r\n",
        "\t\t\t<td width=\"220\" align=\"left\" style=\"text-wrap: none;\" class=\"tablebody2\">&nbsp;<a href=\"dispbbs.asp?boardID=326&ID=4209961&star=32767#bottom\">7/7/2013 12:05:51 PM</a>&nbsp;<span style=\"color: #FF0000;\">|</span>&nbsp;<span id=\"lastPost_4209961\"></span>\r\n",
        "\t\t\t</td>\r\n",
        "\t\t</tr>\r\n",
        "\r\n",
        "\t\t\r\n",
        "\t\t<script type=\"text/javascript\">lastPostInfo('4209961','{\"usr\":\"\u7f54\u95fb\u72ac\",\"txt\":\"\"}');</script>\r\n",
        "\t\t\r\n",
        "\t\t<tr style=\"vertical-align: middle;\">\r\n",
        "\t\t\t<td style=\"text-wrap: none; width: 32px; height: 27px; text-align: center;\" class=\"tablebody2\">\r\n",
        "\t\t\t\t\r\n",
        "\t\t\t\t<span title=\"\u603b\u56fa\u9876\u4e3b\u9898\">\r\n",
        "\t\t\t\t\t<img src=\"pic/ztop.gif\" style=\"border: none;\" alt=\"\u603b\u56fa\u9876\u4e3b\u9898\" /></span>\r\n",
        "\t\t\t\t\r\n",
        "\t\t\t</td>\r\n",
        "\t\t\t<td style=\"text-align: justify;\" class=\"tablebody1\">\r\n",
        "\r\n",
        "\t\t\t\t &nbsp;\r\n",
        "\t\t\t\t\r\n",
        "\t\t\t\t<a id=\"topic_4209377\" href=\"dispbbs.asp?boardID=136&ID=4209377&page=1\" title=\"\u300a&#12304;&#20844;&#21578;&#12305;&#31649;&#29702;&#22242;&#38431;&#25104;&#21592;&#20154;&#20107;&#21464;&#21160;&#160;&amp;&#160;&#36817;&#26399;&#35770;&#22363;&#21151;&#33021;&#26356;&#26032; &amp; &#31574;&#21010;&#37096;&#20154;&#20107;&#21464;&#21160;\u300b&#10;\u4f5c\u8005\uff1aCC98&#20844;&#21578;&#10;\u53d1\u8868\u4e8e6/25/2013 2:16:08 PM&#10;\u6700\u540e\u8ddf\u8d34\uff1a\">\r\n",
        "\t\t\t\t\t\r\n",
        "\t\t\t\t\t<span>&#12304;&#20844;&#21578;&#12305;&#31649;&#29702;&#22242;&#38431;&#25104;&#21592;&#20154;&#20107;&#21464;&#21160;&#160;&amp;&#160;&#36817;&#26399;&#35770;&#22363;&#21151;&#33021;&#26356;&#26032; &amp; &#31574;&#21010;&#37096;&#20154;&#20107;&#21464;&#21160;</span>\r\n",
        "\t\t\t\t\t\r\n",
        "\t\t\t\t</a>\r\n",
        "\t\t\t\t\r\n",
        "\t\t\t</td>\r\n",
        "\r\n",
        "\t\t\t<!-- \u663e\u793a\u4f5c\u8005 -->\r\n",
        "\t\t\t\r\n",
        "\t\t\t<td width=\"80\" style=\"text-wrap: none; text-align: center; margin: auto;\" class=\"tablebody2\">\r\n",
        "\t\t\t\t<a href=\"dispuser.asp?id=40994\" target=\"_blank\">CC98\u516c\u544a</a>\r\n",
        "\t\t\t</td>\r\n",
        "\t\t\t\r\n",
        "\r\n",
        "\t\t\t<!-- \u6295\u7968\u7968\u6570\u6216\u8005\u70b9\u51fb\u7387 -->\r\n",
        "\t\t\t<td style=\"text-wrap: none; text-align: center; margin: auto;\" class=\"tablebody1\">\r\n",
        "\t\t\t\t2/1528\r\n",
        "\t\t\t</td>\r\n",
        "\r\n",
        "\t\t\t<!-- \u6700\u540e\u56de\u590d\u65f6\u95f4\u548c\u4f5c\u8005 -->\r\n",
        "\t\t\t<td width=\"220\" align=\"left\" style=\"text-wrap: none;\" class=\"tablebody2\">&nbsp;<a href=\"dispbbs.asp?boardID=136&ID=4209377&star=32767#bottom\">6/28/2013 12:31:47 AM</a>&nbsp;<span style=\"color: #FF0000;\">|</span>&nbsp;<span id=\"lastPost_4209377\"></span>\r\n",
        "\t\t\t</td>\r\n",
        "\t\t</tr>\r\n",
        "\r\n",
        "\t\t\r\n",
        "\t\t<script type=\"text/javascript\">lastPostInfo('4209377','{\"usr\":\"98\u7b56\u5212\u90e8\",\"txt\":\"\u6279\u51c6\u5916\u8054\u90e8\u6210\u5458\u3001\u8fd0\u8425\u7b56\u5212\u90e8\u6210\u5458<I></...\"}');</script>\r\n",
        "\t\t\r\n",
        "\t\t<tr style=\"vertical-align: middle;\">\r\n",
        "\t\t\t<td style=\"text-wrap: none; width: 32px; height: 27px; text-align: center;\" class=\"tablebody2\">\r\n",
        "\t\t\t\t\r\n",
        "\t\t\t\t<span title=\"\u533a\u56fa\u9876\u4e3b\u9898\">\r\n",
        "\t\t\t\t\t<img src=\"pic/topb.gif\" style=\"border: none;\" style=\"border: none;\" alt=\"\u533a\u56fa\u9876\u4e3b\u9898\" /></span>\r\n",
        "\t\t\t\t\r\n",
        "\t\t\t</td>\r\n",
        "\t\t\t<td style=\"text-align: justify;\" class=\"tablebody1\">\r\n",
        "\r\n",
        "\t\t\t\t &nbsp;\r\n",
        "\t\t\t\t\r\n",
        "\t\t\t\t<a id=\"topic_3792723\" href=\"dispbbs.asp?boardID=278&ID=3792723&page=1\" title=\"\u300a&#12304;&#20844;&#21578;&#12305;&#21306;&#19979;&#37096;&#20998;&#29256;&#38754;&#25307;&#21215;&#26032;&#29256;&#20027;\u300b&#10;\u4f5c\u8005\uff1awoai&#10;\u53d1\u8868\u4e8e10/26/2011 6:16:33 PM&#10;\u6700\u540e\u8ddf\u8d34\uff1a\">\r\n",
        "\t\t\t\t\t\r\n",
        "\t\t\t\t\t<span style=\"font-weight: bold;color: blue;\">&#12304;&#20844;&#21578;&#12305;&#21306;&#19979;&#37096;&#20998;&#29256;&#38754;&#25307;&#21215;&#26032;&#29256;&#20027;</span>\r\n",
        "\t\t\t\t\t\r\n",
        "\t\t\t\t</a>\r\n",
        "\t\t\t\t\r\n",
        "\t\t\t</td>\r\n",
        "\r\n",
        "\t\t\t<!-- \u663e\u793a\u4f5c\u8005 -->\r\n",
        "\t\t\t\r\n",
        "\t\t\t<td width=\"80\" style=\"text-wrap: none; text-align: center; margin: auto;\" class=\"tablebody2\">\r\n",
        "\t\t\t\t<a href=\"dispuser.asp?id=309790\" target=\"_blank\">woai</a>\r\n",
        "\t\t\t</td>\r\n",
        "\t\t\t\r\n",
        "\r\n",
        "\t\t\t<!-- \u6295\u7968\u7968\u6570\u6216\u8005\u70b9\u51fb\u7387 -->\r\n",
        "\t\t\t<td style=\"text-wrap: none; text-align: center; margin: auto;\" class=\"tablebody1\">\r\n",
        "\t\t\t\t0/3132\r\n",
        "\t\t\t</td>\r\n",
        "\r\n",
        "\t\t\t<!-- \u6700\u540e\u56de\u590d\u65f6\u95f4\u548c\u4f5c\u8005 -->\r\n",
        "\t\t\t<td width=\"220\" align=\"left\" style=\"text-wrap: none;\" class=\"tablebody2\">&nbsp;<a href=\"dispbbs.asp?boardID=278&ID=3792723&star=32767#bottom\">10/26/2011 6:16:33 PM</a>&nbsp;<span style=\"color: #FF0000;\">|</span>&nbsp;<span id=\"lastPost_3792723\"></span>\r\n",
        "\t\t\t</td>\r\n",
        "\t\t</tr>\r\n",
        "\r\n",
        "\t\t\r\n",
        "\t\t<script type=\"text/javascript\">lastPostInfo('3792723','{\"usr\":\"woai\",\"txt\":\"[font=\u5fae\u8f6f\u96c5\u9ed1][b]<I></I...\"}');</script>\r\n",
        "\t\t\r\n",
        "\t\t<tr style=\"vertical-align: middle;\">\r\n",
        "\t\t\t<td style=\"text-wrap: none; width: 32px; height: 27px; text-align: center;\" class=\"tablebody2\">\r\n",
        "\t\t\t\t\r\n",
        "\t\t\t\t<span title=\"\u56fa\u9876\u4e3b\u9898\">\r\n",
        "\t\t\t\t\t<img src=\"pic/top.gif\" style=\"border: none;\" alt=\"\u56fa\u9876\u4e3b\u9898\" /></span>\r\n",
        "\t\t\t\t\r\n",
        "\t\t\t</td>\r\n",
        "\t\t\t<td style=\"text-align: justify;\" class=\"tablebody1\">\r\n",
        "\r\n",
        "\t\t\t\t &nbsp;\r\n",
        "\t\t\t\t\r\n",
        "\t\t\t\t<a id=\"topic_3203506\" href=\"dispbbs.asp?boardID=509&ID=3203506&page=1\" title=\"\u300a&#25968;&#23383;&#23186;&#20307;&#25216;&#26415;&#31616;&#20171;(&#31995;&#32676;12197897-&#23398;&#21495;&#39564;&#35777;&#65292;&#21542;&#21017;&#25298;&#32477;)\u300b&#10;\u4f5c\u8005\uff1a&#26399;&#33406;&#10;\u53d1\u8868\u4e8e4/16/2010 11:05:37 PM&#10;\u6700\u540e\u8ddf\u8d34\uff1a\">\r\n",
        "\t\t\t\t\t\r\n",
        "\t\t\t\t\t<span>&#25968;&#23383;&#23186;&#20307;&#25216;&#26415;&#31616;&#20171;(&#31995;&#32676;12197897-&#23398;&#21495;&#39564;&#35777;&#65292;&#21542;&#21017;&#25298;&#32477;)</span>\r\n",
        "\t\t\t\t\t\r\n",
        "\t\t\t\t</a>\r\n",
        "\t\t\t\t&nbsp;&nbsp;[<img src=pic/multipage.gif><b> <a href='dispbbs.asp?boardID=509&ID=3203506&star=1&page=1'><font color=#FF0000>1</font></a>  <a href='dispbbs.asp?boardID=509&ID=3203506&star=2&page=1'><font color=#FF0000>2</font></a>  <a href='dispbbs.asp?boardID=509&ID=3203506&star=3&page=1'><font color=#FF0000>3</font></a>  <a href='dispbbs.asp?boardID=509&ID=3203506&star=4&page=1'><font color=#FF0000>4</font></a>  <a href='dispbbs.asp?boardID=509&ID=3203506&star=5&page=1'><font color=#FF0000>5</font></a></b>]\r\n",
        "\t\t\t</td>\r\n",
        "\r\n",
        "\t\t\t<!-- \u663e\u793a\u4f5c\u8005 -->\r\n",
        "\t\t\t\r\n",
        "\t\t\t<td width=\"80\" style=\"text-wrap: none; text-align: center; margin: auto;\" class=\"tablebody2\">\r\n",
        "\t\t\t\t<a href=\"dispuser.asp?id=208063\" target=\"_blank\">\u671f\u827e</a>\r\n",
        "\t\t\t</td>\r\n",
        "\t\t\t\r\n",
        "\r\n",
        "\t\t\t<!-- \u6295\u7968\u7968\u6570\u6216\u8005\u70b9\u51fb\u7387 -->\r\n",
        "\t\t\t<td style=\"text-wrap: none; text-align: center; margin: auto;\" class=\"tablebody1\">\r\n",
        "\t\t\t\t48/2319\r\n",
        "\t\t\t</td>\r\n",
        "\r\n",
        "\t\t\t<!-- \u6700\u540e\u56de\u590d\u65f6\u95f4\u548c\u4f5c\u8005 -->\r\n",
        "\t\t\t<td width=\"220\" align=\"left\" style=\"text-wrap: none;\" class=\"tablebody2\">&nbsp;<a href=\"dispbbs.asp?boardID=509&ID=3203506&star=32767#bottom\">1/13/2012 3:42:39 PM</a>&nbsp;<span style=\"color: #FF0000;\">|</span>&nbsp;<span id=\"lastPost_3203506\"></span>\r\n",
        "\t\t\t</td>\r\n",
        "\t\t</tr>\r\n",
        "\r\n",
        "\t\t\r\n",
        "\t\t<script type=\"text/javascript\">lastPostInfo('3203506','{\"usr\":\"Knight.X\",\"txt\":\"\u7a81\u7136\u89c9\u5f97\u8fd9\u4e2a\u4e13\u4e1a\u8fd8\u662f\u5f88\u6709\u524d\u9014...\"}');</script>\r\n",
        "\t\t\r\n",
        "\t\t<tr style=\"vertical-align: middle;\">\r\n",
        "\t\t\t<td style=\"text-wrap: none; width: 32px; height: 27px; text-align: center;\" class=\"tablebody2\">\r\n",
        "\t\t\t\t\r\n",
        "\t\t\t\t<span title=\"\u56fa\u9876\u4e3b\u9898\">\r\n",
        "\t\t\t\t\t<img src=\"pic/top.gif\" style=\"border: none;\" alt=\"\u56fa\u9876\u4e3b\u9898\" /></span>\r\n",
        "\t\t\t\t\r\n",
        "\t\t\t</td>\r\n",
        "\t\t\t<td style=\"text-align: justify;\" class=\"tablebody1\">\r\n",
        "\r\n",
        "\t\t\t\t &nbsp;\r\n",
        "\t\t\t\t\r\n",
        "\t\t\t\t<a id=\"topic_1714926\" href=\"dispbbs.asp?boardID=509&ID=1714926&page=1\" title=\"\u300a&#25968;&#23186;&#29256;&#29256;&#35268;&#8230;&#8230;&#24819;&#35201;&#31934;&#21326;&#21644;&#24819;&#34987;tp&#30340;&#37117;&#26469;&#30475;\u300b&#10;\u4f5c\u8005\uff1a&#39118;&#31070;&#10;\u53d1\u8868\u4e8e7/11/2007 1:29:00 PM&#10;\u6700\u540e\u8ddf\u8d34\uff1a\">\r\n",
        "\t\t\t\t\t\r\n",
        "\t\t\t\t\t<span>&#25968;&#23186;&#29256;&#29256;&#35268;&#8230;&#8230;&#24819;&#35201;&#31934;&#21326;&#21644;&#24819;&#34987;tp&#30340;&#37117;&#26469;&#30475;</span>\r\n",
        "\t\t\t\t\t\r\n",
        "\t\t\t\t</a>\r\n",
        "\t\t\t\t&nbsp;&nbsp;[<img src=pic/multipage.gif><b> <a href='dispbbs.asp?boardID=509&ID=1714926&star=1&page=1'><font color=#FF0000>1</font></a>  <a href='dispbbs.asp?boardID=509&ID=1714926&star=2&page=1'><font color=#FF0000>2</font></a>  <a href='dispbbs.asp?boardID=509&ID=1714926&star=3&page=1'><font color=#FF0000>3</font></a>  <a href='dispbbs.asp?boardID=509&ID=1714926&star=4&page=1'><font color=#FF0000>4</font></a> </b>]\r\n",
        "\t\t\t</td>\r\n",
        "\r\n",
        "\t\t\t<!-- \u663e\u793a\u4f5c\u8005 -->\r\n",
        "\t\t\t\r\n",
        "\t\t\t<td width=\"80\" style=\"text-wrap: none; text-align: center; margin: auto;\" class=\"tablebody2\">\r\n",
        "\t\t\t\t<a href=\"dispuser.asp?id=105832\" target=\"_blank\">\u98ce\u795e</a>\r\n",
        "\t\t\t</td>\r\n",
        "\t\t\t\r\n",
        "\r\n",
        "\t\t\t<!-- \u6295\u7968\u7968\u6570\u6216\u8005\u70b9\u51fb\u7387 -->\r\n",
        "\t\t\t<td style=\"text-wrap: none; text-align: center; margin: auto;\" class=\"tablebody1\">\r\n",
        "\t\t\t\t32/2720\r\n",
        "\t\t\t</td>\r\n",
        "\r\n",
        "\t\t\t<!-- \u6700\u540e\u56de\u590d\u65f6\u95f4\u548c\u4f5c\u8005 -->\r\n",
        "\t\t\t<td width=\"220\" align=\"left\" style=\"text-wrap: none;\" class=\"tablebody2\">&nbsp;<a href=\"dispbbs.asp?boardID=509&ID=1714926&star=32767#bottom\">4/9/2011 2:34:44 PM</a>&nbsp;<span style=\"color: #FF0000;\">|</span>&nbsp;<span id=\"lastPost_1714926\"></span>\r\n",
        "\t\t\t</td>\r\n",
        "\t\t</tr>\r\n",
        "\r\n",
        "\t\t\r\n",
        "\t\t<script type=\"text/javascript\">lastPostInfo('1714926','{\"usr\":\"\u96e8\u591c\u597d\u79c1\u5954\",\"txt\":\"\u5e2e\u9876\uff01\uff01\uff01\"}');</script>\r\n",
        "\t\t\r\n",
        "\t\t<tr style=\"vertical-align: middle;\">\r\n",
        "\t\t\t<td style=\"text-wrap: none; width: 32px; height: 27px; text-align: center;\" class=\"tablebody2\">\r\n",
        "\t\t\t\t\r\n",
        "\t\t\t\t<span title=\"\u5f00\u653e\u4e3b\u9898\">\r\n",
        "\t\t\t\t\t<img src=\"pic/blue/folder.gif\" style=\"border: none;\" alt=\"\u5f00\u653e\u4e3b\u9898\" /></span>\r\n",
        "\t\t\t\t\r\n",
        "\t\t\t</td>\r\n",
        "\t\t\t<td style=\"text-align: justify;\" class=\"tablebody1\">\r\n",
        "\r\n",
        "\t\t\t\t &nbsp;\r\n",
        "\t\t\t\t\r\n",
        "\t\t\t\t<a id=\"topic_4218945\" href=\"dispbbs.asp?boardID=509&ID=4218945&page=1\" title=\"\u300a&#22823;&#19968;&#30701;&#23398;&#26399;&#26377;&#25945;&#26448;&#21527;&#65311;\u300b&#10;\u4f5c\u8005\uff1a&#21494;&#31513;&#10;\u53d1\u8868\u4e8e7/7/2013 1:58:33 PM&#10;\u6700\u540e\u8ddf\u8d34\uff1a\">\r\n",
        "\t\t\t\t\t\r\n",
        "\t\t\t\t\t<span>&#22823;&#19968;&#30701;&#23398;&#26399;&#26377;&#25945;&#26448;&#21527;&#65311;</span>\r\n",
        "\t\t\t\t\t\r\n",
        "\t\t\t\t</a>\r\n",
        "\t\t\t\t&nbsp;&nbsp;[<img src=pic/multipage.gif><b> <a href='dispbbs.asp?boardID=509&ID=4218945&star=1&page=1'><font color=#FF0000>1</font></a>  <a href='dispbbs.asp?boardID=509&ID=4218945&star=2&page=1'><font color=#FF0000>2</font></a> </b>]\r\n",
        "\t\t\t</td>\r\n",
        "\r\n",
        "\t\t\t<!-- \u663e\u793a\u4f5c\u8005 -->\r\n",
        "\t\t\t\r\n",
        "\t\t\t<td width=\"80\" style=\"text-wrap: none; text-align: center; margin: auto;\" class=\"tablebody2\">\r\n",
        "\t\t\t\t<a href=\"dispuser.asp?id=426370\" target=\"_blank\">\u53f6\u7b19</a>\r\n",
        "\t\t\t</td>\r\n",
        "\t\t\t\r\n",
        "\r\n",
        "\t\t\t<!-- \u6295\u7968\u7968\u6570\u6216\u8005\u70b9\u51fb\u7387 -->\r\n",
        "\t\t\t<td style=\"text-wrap: none; text-align: center; margin: auto;\" class=\"tablebody1\">\r\n",
        "\t\t\t\t10/87\r\n",
        "\t\t\t</td>\r\n",
        "\r\n",
        "\t\t\t<!-- \u6700\u540e\u56de\u590d\u65f6\u95f4\u548c\u4f5c\u8005 -->\r\n",
        "\t\t\t<td width=\"220\" align=\"left\" style=\"text-wrap: none;\" class=\"tablebody2\">&nbsp;<a href=\"dispbbs.asp?boardID=509&ID=4218945&star=32767#bottom\">7/8/2013 3:41:52 AM</a>&nbsp;<span style=\"color: #FF0000;\">|</span>&nbsp;<span id=\"lastPost_4218945\"></span>\r\n",
        "\t\t\t</td>\r\n",
        "\t\t</tr>\r\n",
        "\r\n",
        "\t\t\r\n",
        "\t\t<script type=\"text/javascript\">lastPostInfo('4218945','{\"usr\":\"\u6de1\u58a8\u9752\u886b\",\"txt\":\"\u563b\u563b\"}');</script>\r\n",
        "\t\t\r\n",
        "\t\t<tr style=\"vertical-align: middle;\">\r\n",
        "\t\t\t<td style=\"text-wrap: none; width: 32px; height: 27px; text-align: center;\" class=\"tablebody2\">\r\n",
        "\t\t\t\t\r\n",
        "\t\t\t\t<span title=\"\u5f00\u653e\u4e3b\u9898\">\r\n",
        "\t\t\t\t\t<img src=\"pic/blue/folder.gif\" style=\"border: none;\" alt=\"\u5f00\u653e\u4e3b\u9898\" /></span>\r\n",
        "\t\t\t\t\r\n",
        "\t\t\t</td>\r\n",
        "\t\t\t<td style=\"text-align: justify;\" class=\"tablebody1\">\r\n",
        "\r\n",
        "\t\t\t\t &nbsp;\r\n",
        "\t\t\t\t\r\n",
        "\t\t\t\t<a id=\"topic_4218896\" href=\"dispbbs.asp?boardID=509&ID=4218896&page=1\" title=\"\u300a&#22270;&#24418;&#23398;&#31895;&#20998;&#20102;\u300b&#10;\u4f5c\u8005\uff1aChanCheng&#10;\u53d1\u8868\u4e8e7/7/2013 12:53:09 PM&#10;\u6700\u540e\u8ddf\u8d34\uff1a\">\r\n",
        "\t\t\t\t\t\r\n",
        "\t\t\t\t\t<span>&#22270;&#24418;&#23398;&#31895;&#20998;&#20102;</span>\r\n",
        "\t\t\t\t\t\r\n",
        "\t\t\t\t</a>\r\n",
        "\t\t\t\t\r\n",
        "\t\t\t</td>\r\n",
        "\r\n",
        "\t\t\t<!-- \u663e\u793a\u4f5c\u8005 -->\r\n",
        "\t\t\t\r\n",
        "\t\t\t<td width=\"80\" style=\"text-wrap: none; text-align: center; margin: auto;\" class=\"tablebody2\">\r\n",
        "\t\t\t\t<a href=\"dispuser.asp?id=394437\" target=\"_blank\">ChanCheng</a>\r\n",
        "\t\t\t</td>\r\n",
        "\t\t\t\r\n",
        "\r\n",
        "\t\t\t<!-- \u6295\u7968\u7968\u6570\u6216\u8005\u70b9\u51fb\u7387 -->\r\n",
        "\t\t\t<td style=\"text-wrap: none; text-align: center; margin: auto;\" class=\"tablebody1\">\r\n",
        "\t\t\t\t9/80\r\n",
        "\t\t\t</td>\r\n",
        "\r\n",
        "\t\t\t<!-- \u6700\u540e\u56de\u590d\u65f6\u95f4\u548c\u4f5c\u8005 -->\r\n",
        "\t\t\t<td width=\"220\" align=\"left\" style=\"text-wrap: none;\" class=\"tablebody2\">&nbsp;<a href=\"dispbbs.asp?boardID=509&ID=4218896&star=32767#bottom\">7/7/2013 4:12:53 PM</a>&nbsp;<span style=\"color: #FF0000;\">|</span>&nbsp;<span id=\"lastPost_4218896\"></span>\r\n",
        "\t\t\t</td>\r\n",
        "\t\t</tr>\r\n",
        "\r\n",
        "\t\t\r\n",
        "\t\t<script type=\"text/javascript\">lastPostInfo('4218896','{\"usr\":\"\u54df\u563b\",\"txt\":\"\u5176\u5b9e\u6211\u4e5f\u662f\u6211\u4e00\u76f4\u5728\u8bd5\u56fe\u62fc\u51fa\u8c01\u7684\u540d\u5b57\u3002\u3002\u3002...\"}');</script>\r\n",
        "\t\t\r\n",
        "\t\t<tr style=\"vertical-align: middle;\">\r\n",
        "\t\t\t<td style=\"text-wrap: none; width: 32px; height: 27px; text-align: center;\" class=\"tablebody2\">\r\n",
        "\t\t\t\t\r\n",
        "\t\t\t\t<span title=\"\u5f00\u653e\u4e3b\u9898\">\r\n",
        "\t\t\t\t\t<img src=\"pic/blue/folder.gif\" style=\"border: none;\" alt=\"\u5f00\u653e\u4e3b\u9898\" /></span>\r\n",
        "\t\t\t\t\r\n",
        "\t\t\t</td>\r\n",
        "\t\t\t<td style=\"text-align: justify;\" class=\"tablebody1\">\r\n",
        "\r\n",
        "\t\t\t\t &nbsp;\r\n",
        "\t\t\t\t\r\n",
        "\t\t\t\t<a id=\"topic_4218362\" href=\"dispbbs.asp?boardID=509&ID=4218362&page=1\" title=\"\u300a&#27714;&#38382;&#22914;&#20309;&#32852;&#31995;&#21040;&#29577;&#27849;&#21363;&#23558;&#25644;&#36827;&#21435;&#30340;&#37027;&#20010;&#23517;&#23460;&#30340;&#23398;&#22992;&#21568;\u300b&#10;\u4f5c\u8005\uff1aIvy7&#10;\u53d1\u8868\u4e8e7/6/2013 2:10:30 PM&#10;\u6700\u540e\u8ddf\u8d34\uff1a\">\r\n",
        "\t\t\t\t\t\r\n",
        "\t\t\t\t\t<span>&#27714;&#38382;&#22914;&#20309;&#32852;&#31995;&#21040;&#29577;&#27849;&#21363;&#23558;&#25644;&#36827;&#21435;&#30340;&#37027;&#20010;&#23517;&#23460;&#30340;&#23398;&#22992;&#21568;</span>\r\n",
        "\t\t\t\t\t\r\n",
        "\t\t\t\t</a>\r\n",
        "\t\t\t\t\r\n",
        "\t\t\t</td>\r\n",
        "\r\n",
        "\t\t\t<!-- \u663e\u793a\u4f5c\u8005 -->\r\n",
        "\t\t\t\r\n",
        "\t\t\t<td width=\"80\" style=\"text-wrap: none; text-align: center; margin: auto;\" class=\"tablebody2\">\r\n",
        "\t\t\t\t<a href=\"dispuser.asp?id=396556\" target=\"_blank\">Ivy7</a>\r\n",
        "\t\t\t</td>\r\n",
        "\t\t\t\r\n",
        "\r\n",
        "\t\t\t<!-- \u6295\u7968\u7968\u6570\u6216\u8005\u70b9\u51fb\u7387 -->\r\n",
        "\t\t\t<td style=\"text-wrap: none; text-align: center; margin: auto;\" class=\"tablebody1\">\r\n",
        "\t\t\t\t4/72\r\n",
        "\t\t\t</td>\r\n",
        "\r\n",
        "\t\t\t<!-- \u6700\u540e\u56de\u590d\u65f6\u95f4\u548c\u4f5c\u8005 -->\r\n",
        "\t\t\t<td width=\"220\" align=\"left\" style=\"text-wrap: none;\" class=\"tablebody2\">&nbsp;<a href=\"dispbbs.asp?boardID=509&ID=4218362&star=32767#bottom\">7/6/2013 7:05:14 PM</a>&nbsp;<span style=\"color: #FF0000;\">|</span>&nbsp;<span id=\"lastPost_4218362\"></span>\r\n",
        "\t\t\t</td>\r\n",
        "\t\t</tr>\r\n",
        "\r\n",
        "\t\t\r\n",
        "\t\t<script type=\"text/javascript\">lastPostInfo('4218362','{\"usr\":\"muriel\",\"txt\":\"\u6709\u4e9b\u6ca1\u62c6\u7684\uff0c\u53ef\u4ee5\u53bb\u770b\u770b\uff0c\u4e5f\u53ef\u4ee5\u95ee\u95ee\u963f\u59e8\u5565...\"}');</script>\r\n",
        "\t\t\r\n",
        "\t\t<tr style=\"vertical-align: middle;\">\r\n",
        "\t\t\t<td style=\"text-wrap: none; width: 32px; height: 27px; text-align: center;\" class=\"tablebody2\">\r\n",
        "\t\t\t\t\r\n",
        "\t\t\t\t<span title=\"\u5f00\u653e\u4e3b\u9898\">\r\n",
        "\t\t\t\t\t<img src=\"pic/blue/folder.gif\" style=\"border: none;\" alt=\"\u5f00\u653e\u4e3b\u9898\" /></span>\r\n",
        "\t\t\t\t\r\n",
        "\t\t\t</td>\r\n",
        "\t\t\t<td style=\"text-align: justify;\" class=\"tablebody1\">\r\n",
        "\r\n",
        "\t\t\t\t &nbsp;\r\n",
        "\t\t\t\t\r\n",
        "\t\t\t\t<a id=\"topic_4196099\" href=\"dispbbs.asp?boardID=509&ID=4196099&page=1\" title=\"\u300a&#23558;&#35201;&#22823;&#22235;&#30340;&#23398;&#38271;&#23398;&#22992;&#20204;&#65292;&#20320;&#20204;&#36873;&#20102;&#20160;&#20040;&#35838;&#65311;\u300b&#10;\u4f5c\u8005\uff1aESC.&#10;\u53d1\u8868\u4e8e6/7/2013 10:13:24 PM&#10;\u6700\u540e\u8ddf\u8d34\uff1a\">\r\n",
        "\t\t\t\t\t\r\n",
        "\t\t\t\t\t<span>&#23558;&#35201;&#22823;&#22235;&#30340;&#23398;&#38271;&#23398;&#22992;&#20204;&#65292;&#20320;&#20204;&#36873;&#20102;&#20160;&#20040;&#35838;&#65311;</span>\r\n",
        "\t\t\t\t\t\r\n",
        "\t\t\t\t</a>\r\n",
        "\t\t\t\t&nbsp;&nbsp;[<img src=pic/multipage.gif><b> <a href='dispbbs.asp?boardID=509&ID=4196099&star=1&page=1'><font color=#FF0000>1</font></a>  <a href='dispbbs.asp?boardID=509&ID=4196099&star=2&page=1'><font color=#FF0000>2</font></a> </b>]\r\n",
        "\t\t\t</td>\r\n",
        "\r\n",
        "\t\t\t<!-- \u663e\u793a\u4f5c\u8005 -->\r\n",
        "\t\t\t\r\n",
        "\t\t\t<td width=\"80\" style=\"text-wrap: none; text-align: center; margin: auto;\" class=\"tablebody2\">\r\n",
        "\t\t\t\t<a href=\"dispuser.asp?id=401474\" target=\"_blank\">ESC.</a>\r\n",
        "\t\t\t</td>\r\n",
        "\t\t\t\r\n",
        "\r\n",
        "\t\t\t<!-- \u6295\u7968\u7968\u6570\u6216\u8005\u70b9\u51fb\u7387 -->\r\n",
        "\t\t\t<td style=\"text-wrap: none; text-align: center; margin: auto;\" class=\"tablebody1\">\r\n",
        "\t\t\t\t17/346\r\n",
        "\t\t\t</td>\r\n",
        "\r\n",
        "\t\t\t<!-- \u6700\u540e\u56de\u590d\u65f6\u95f4\u548c\u4f5c\u8005 -->\r\n",
        "\t\t\t<td width=\"220\" align=\"left\" style=\"text-wrap: none;\" class=\"tablebody2\">&nbsp;<a href=\"dispbbs.asp?boardID=509&ID=4196099&star=32767#bottom\">7/5/2013 3:35:13 AM</a>&nbsp;<span style=\"color: #FF0000;\">|</span>&nbsp;<span id=\"lastPost_4196099\"></span>\r\n",
        "\t\t\t</td>\r\n",
        "\t\t</tr>\r\n",
        "\r\n",
        "\t\t\r\n",
        "\t\t<script type=\"text/javascript\">lastPostInfo('4196099','{\"usr\":\"\u90fd\u7075\u84dd\u51b0\",\"txt\":\"\u53cd\u6b63\u80fd\u6bd5\u4e1a\"}');</script>\r\n",
        "\t\t\r\n",
        "\t\t<tr style=\"vertical-align: middle;\">\r\n",
        "\t\t\t<td style=\"text-wrap: none; width: 32px; height: 27px; text-align: center;\" class=\"tablebody2\">\r\n",
        "\t\t\t\t\r\n",
        "\t\t\t\t<span title=\"\u7cbe\u534e\u5e16\">\r\n",
        "\t\t\t\t\t<img src=\"pic/isbest.gif\" style=\"border: none;\" alt=\"\u7cbe\u534e\u5e16\u5b50\" /></span>\r\n",
        "\t\t\t\t\r\n",
        "\t\t\t</td>\r\n",
        "\t\t\t<td style=\"text-align: justify;\" class=\"tablebody1\">\r\n",
        "\r\n",
        "\t\t\t\t &nbsp;\r\n",
        "\t\t\t\t\r\n",
        "\t\t\t\t<img src=\"images/files/jpg.gif\" />\r\n",
        "\t\t\t\t\r\n",
        "\t\t\t\t<a id=\"topic_4209031\" href=\"dispbbs.asp?boardID=509&ID=4209031&page=1\" title=\"\u300a&#12304;2013&#27993;&#27743;&#22823;&#23398;&#25968;&#23383;&#23186;&#20307;&#27605;&#19994;&#20316;&#21697;&#23637;&#12305;&#24378;&#21183;&#26469;&#34989;&#65281;\u300b&#10;\u4f5c\u8005\uff1aAKIKARA&#10;\u53d1\u8868\u4e8e6/24/2013 11:50:03 PM&#10;\u6700\u540e\u8ddf\u8d34\uff1a\">\r\n",
        "\t\t\t\t\t\r\n",
        "\t\t\t\t\t<span>&#12304;2013&#27993;&#27743;&#22823;&#23398;&#25968;&#23383;&#23186;&#20307;&#27605;&#19994;&#20316;&#21697;&#23637;&#12305;&#24378;&#21183;&#26469;&#34989;&#65281;</span>\r\n",
        "\t\t\t\t\t\r\n",
        "\t\t\t\t</a>\r\n",
        "\t\t\t\t&nbsp;&nbsp;[<img src=pic/multipage.gif><b> <a href='dispbbs.asp?boardID=509&ID=4209031&star=1&page=1'><font color=#FF0000>1</font></a>  <a href='dispbbs.asp?boardID=509&ID=4209031&star=2&page=1'><font color=#FF0000>2</font></a>  <a href='dispbbs.asp?boardID=509&ID=4209031&star=3&page=1'><font color=#FF0000>3</font></a>  <a href='dispbbs.asp?boardID=509&ID=4209031&star=4&page=1'><font color=#FF0000>4</font></a> ... <a href='dispbbs.asp?boardID=509&ID=4209031&star=10&page=1'><font color=#FF0000>10</font></a> <a href='dispbbs.asp?boardID=509&ID=4209031&star=11&page=1'><font color=#FF0000>11</font></a> <a href='dispbbs.asp?boardID=509&ID=4209031&star=12&page=1'><font color=#FF0000>12</font></a></b>]\r\n",
        "\t\t\t</td>\r\n",
        "\r\n",
        "\t\t\t<!-- \u663e\u793a\u4f5c\u8005 -->\r\n",
        "\t\t\t\r\n",
        "\t\t\t<td width=\"80\" style=\"text-wrap: none; text-align: center; margin: auto;\" class=\"tablebody2\">\r\n",
        "\t\t\t\t<a href=\"dispuser.asp?id=315860\" target=\"_blank\">AKIKARA</a>\r\n",
        "\t\t\t</td>\r\n",
        "\t\t\t\r\n",
        "\r\n",
        "\t\t\t<!-- \u6295\u7968\u7968\u6570\u6216\u8005\u70b9\u51fb\u7387 -->\r\n",
        "\t\t\t<td style=\"text-wrap: none; text-align: center; margin: auto;\" class=\"tablebody1\">\r\n",
        "\t\t\t\t110/3131\r\n",
        "\t\t\t</td>\r\n",
        "\r\n",
        "\t\t\t<!-- \u6700\u540e\u56de\u590d\u65f6\u95f4\u548c\u4f5c\u8005 -->\r\n",
        "\t\t\t<td width=\"220\" align=\"left\" style=\"text-wrap: none;\" class=\"tablebody2\">&nbsp;<a href=\"dispbbs.asp?boardID=509&ID=4209031&star=32767#bottom\">7/5/2013 3:33:26 AM</a>&nbsp;<span style=\"color: #FF0000;\">|</span>&nbsp;<span id=\"lastPost_4209031\"></span>\r\n",
        "\t\t\t</td>\r\n",
        "\t\t</tr>\r\n",
        "\r\n",
        "\t\t\r\n",
        "\t\t<script type=\"text/javascript\">lastPostInfo('4209031','{\"usr\":\"\u90fd\u7075\u84dd\u51b0\",\"txt\":\"\"}');</script>\r\n",
        "\t\t\r\n",
        "\t\t<tr style=\"vertical-align: middle;\">\r\n",
        "\t\t\t<td style=\"text-wrap: none; width: 32px; height: 27px; text-align: center;\" class=\"tablebody2\">\r\n",
        "\t\t\t\t\r\n",
        "\t\t\t\t<span title=\"\u5f00\u653e\u4e3b\u9898\">\r\n",
        "\t\t\t\t\t<img src=\"pic/blue/folder.gif\" style=\"border: none;\" alt=\"\u5f00\u653e\u4e3b\u9898\" /></span>\r\n",
        "\t\t\t\t\r\n",
        "\t\t\t</td>\r\n",
        "\t\t\t<td style=\"text-align: justify;\" class=\"tablebody1\">\r\n",
        "\r\n",
        "\t\t\t\t &nbsp;\r\n",
        "\t\t\t\t\r\n",
        "\t\t\t\t<a id=\"topic_4216916\" href=\"dispbbs.asp?boardID=509&ID=4216916&page=1\" title=\"\u300a[&#20840;&#32844;&#25307;&#32856;]&#32676;&#26680;&#20113;&#35745;&#31639;7.4&#26032;&#22686;&#23703;&#20301;&#8212;&#8212;&#32593;&#31449;&#35270;&#35273;/UI&#35774;&#35745;&#24072;\u300b&#10;\u4f5c\u8005\uff1a&#32676;&#26680;&#10;\u53d1\u8868\u4e8e7/4/2013 4:08:42 PM&#10;\u6700\u540e\u8ddf\u8d34\uff1a\">\r\n",
        "\t\t\t\t\t\r\n",
        "\t\t\t\t\t<span>[&#20840;&#32844;&#25307;&#32856;]&#32676;&#26680;&#20113;&#35745;&#31639;7.4&#26032;&#22686;&#23703;&#20301;&#8212;&#8212;&#32593;&#31449;&#35270;&#35273;/UI&#35774;&#35745;&#24072;</span>\r\n",
        "\t\t\t\t\t\r\n",
        "\t\t\t\t</a>\r\n",
        "\t\t\t\t\r\n",
        "\t\t\t</td>\r\n",
        "\r\n",
        "\t\t\t<!-- \u663e\u793a\u4f5c\u8005 -->\r\n",
        "\t\t\t\r\n",
        "\t\t\t<td width=\"80\" style=\"text-wrap: none; text-align: center; margin: auto;\" class=\"tablebody2\">\r\n",
        "\t\t\t\t<a href=\"dispuser.asp?id=428192\" target=\"_blank\">\u7fa4\u6838</a>\r\n",
        "\t\t\t</td>\r\n",
        "\t\t\t\r\n",
        "\r\n",
        "\t\t\t<!-- \u6295\u7968\u7968\u6570\u6216\u8005\u70b9\u51fb\u7387 -->\r\n",
        "\t\t\t<td style=\"text-wrap: none; text-align: center; margin: auto;\" class=\"tablebody1\">\r\n",
        "\t\t\t\t0/21\r\n",
        "\t\t\t</td>\r\n",
        "\r\n",
        "\t\t\t<!-- \u6700\u540e\u56de\u590d\u65f6\u95f4\u548c\u4f5c\u8005 -->\r\n",
        "\t\t\t<td width=\"220\" align=\"left\" style=\"text-wrap: none;\" class=\"tablebody2\">&nbsp;<a href=\"dispbbs.asp?boardID=509&ID=4216916&star=32767#bottom\">7/4/2013 4:08:42 PM</a>&nbsp;<span style=\"color: #FF0000;\">|</span>&nbsp;<span id=\"lastPost_4216916\"></span>\r\n",
        "\t\t\t</td>\r\n",
        "\t\t</tr>\r\n",
        "\r\n",
        "\t\t\r\n",
        "\t\t<script type=\"text/javascript\">lastPostInfo('4216916','{\"usr\":\"\u7fa4\u6838\",\"txt\":\"[\u7f51\u7ad9\u89c6\u89c9/UI\u8bbe\u8ba1\u5e08]<I></I> ...\"}');</script>\r\n",
        "\t\t\r\n",
        "\t\t<tr style=\"vertical-align: middle;\">\r\n",
        "\t\t\t<td style=\"text-wrap: none; width: 32px; height: 27px; text-align: center;\" class=\"tablebody2\">\r\n",
        "\t\t\t\t\r\n",
        "\t\t\t\t<span title=\"\u5f00\u653e\u4e3b\u9898\">\r\n",
        "\t\t\t\t\t<img src=\"pic/blue/folder.gif\" style=\"border: none;\" alt=\"\u5f00\u653e\u4e3b\u9898\" /></span>\r\n",
        "\t\t\t\t\r\n",
        "\t\t\t</td>\r\n",
        "\t\t\t<td style=\"text-align: justify;\" class=\"tablebody1\">\r\n",
        "\r\n",
        "\t\t\t\t &nbsp;\r\n",
        "\t\t\t\t\r\n",
        "\t\t\t\t<a id=\"topic_4213203\" href=\"dispbbs.asp?boardID=509&ID=4213203&page=1\" title=\"\u300a&#27714;&#35299;&#65292;&#22823;&#19968;&#30701;&#23398;&#26399;&#35201;&#19978;&#21040;&#20960;&#21495;&#65311;\u300b&#10;\u4f5c\u8005\uff1a&#24377;&#26143;&#32773;&#10;\u53d1\u8868\u4e8e6/29/2013 8:51:36 PM&#10;\u6700\u540e\u8ddf\u8d34\uff1a\">\r\n",
        "\t\t\t\t\t\r\n",
        "\t\t\t\t\t<span>&#27714;&#35299;&#65292;&#22823;&#19968;&#30701;&#23398;&#26399;&#35201;&#19978;&#21040;&#20960;&#21495;&#65311;</span>\r\n",
        "\t\t\t\t\t\r\n",
        "\t\t\t\t</a>\r\n",
        "\t\t\t\t\r\n",
        "\t\t\t</td>\r\n",
        "\r\n",
        "\t\t\t<!-- \u663e\u793a\u4f5c\u8005 -->\r\n",
        "\t\t\t\r\n",
        "\t\t\t<td width=\"80\" style=\"text-wrap: none; text-align: center; margin: auto;\" class=\"tablebody2\">\r\n",
        "\t\t\t\t<a href=\"dispuser.asp?id=449605\" target=\"_blank\">\u5f39\u661f\u8005</a>\r\n",
        "\t\t\t</td>\r\n",
        "\t\t\t\r\n",
        "\r\n",
        "\t\t\t<!-- \u6295\u7968\u7968\u6570\u6216\u8005\u70b9\u51fb\u7387 -->\r\n",
        "\t\t\t<td style=\"text-wrap: none; text-align: center; margin: auto;\" class=\"tablebody1\">\r\n",
        "\t\t\t\t5/83\r\n",
        "\t\t\t</td>\r\n",
        "\r\n",
        "\t\t\t<!-- \u6700\u540e\u56de\u590d\u65f6\u95f4\u548c\u4f5c\u8005 -->\r\n",
        "\t\t\t<td width=\"220\" align=\"left\" style=\"text-wrap: none;\" class=\"tablebody2\">&nbsp;<a href=\"dispbbs.asp?boardID=509&ID=4213203&star=32767#bottom\">6/29/2013 10:32:29 PM</a>&nbsp;<span style=\"color: #FF0000;\">|</span>&nbsp;<span id=\"lastPost_4213203\"></span>\r\n",
        "\t\t\t</td>\r\n",
        "\t\t</tr>\r\n",
        "\r\n",
        "\t\t\r\n",
        "\t\t<script type=\"text/javascript\">lastPostInfo('4213203','{\"usr\":\"\u5f39\u661f\u8005\",\"txt\":\"[em54]\"}');</script>\r\n",
        "\t\t\r\n",
        "\t\t<tr style=\"vertical-align: middle;\">\r\n",
        "\t\t\t<td style=\"text-wrap: none; width: 32px; height: 27px; text-align: center;\" class=\"tablebody2\">\r\n",
        "\t\t\t\t\r\n",
        "\t\t\t\t<span title=\"\u5f00\u653e\u4e3b\u9898\">\r\n",
        "\t\t\t\t\t<img src=\"pic/blue/folder.gif\" style=\"border: none;\" alt=\"\u5f00\u653e\u4e3b\u9898\" /></span>\r\n",
        "\t\t\t\t\r\n",
        "\t\t\t</td>\r\n",
        "\t\t\t<td style=\"text-align: justify;\" class=\"tablebody1\">\r\n",
        "\r\n",
        "\t\t\t\t &nbsp;\r\n",
        "\t\t\t\t\r\n",
        "\t\t\t\t<a id=\"topic_4211897\" href=\"dispbbs.asp?boardID=509&ID=4211897&page=1\" title=\"\u300a&#12304;&#37325;&#35201;&#12305;6&#26376;29&#26085;&#27605;&#19994;&#20856;&#31036;&#36890;&#30693;\u300b&#10;\u4f5c\u8005\uff1a&#29481;&#29481;&#10;\u53d1\u8868\u4e8e6/28/2013 11:10:50 AM&#10;\u6700\u540e\u8ddf\u8d34\uff1a\">\r\n",
        "\t\t\t\t\t\r\n",
        "\t\t\t\t\t<span>&#12304;&#37325;&#35201;&#12305;6&#26376;29&#26085;&#27605;&#19994;&#20856;&#31036;&#36890;&#30693;</span>\r\n",
        "\t\t\t\t\t\r\n",
        "\t\t\t\t</a>\r\n",
        "\t\t\t\t\r\n",
        "\t\t\t</td>\r\n",
        "\r\n",
        "\t\t\t<!-- \u663e\u793a\u4f5c\u8005 -->\r\n",
        "\t\t\t\r\n",
        "\t\t\t<td width=\"80\" style=\"text-wrap: none; text-align: center; margin: auto;\" class=\"tablebody2\">\r\n",
        "\t\t\t\t<a href=\"dispuser.asp?id=319828\" target=\"_blank\">\u7329\u7329</a>\r\n",
        "\t\t\t</td>\r\n",
        "\t\t\t\r\n",
        "\r\n",
        "\t\t\t<!-- \u6295\u7968\u7968\u6570\u6216\u8005\u70b9\u51fb\u7387 -->\r\n",
        "\t\t\t<td style=\"text-wrap: none; text-align: center; margin: auto;\" class=\"tablebody1\">\r\n",
        "\t\t\t\t1/91\r\n",
        "\t\t\t</td>\r\n",
        "\r\n",
        "\t\t\t<!-- \u6700\u540e\u56de\u590d\u65f6\u95f4\u548c\u4f5c\u8005 -->\r\n",
        "\t\t\t<td width=\"220\" align=\"left\" style=\"text-wrap: none;\" class=\"tablebody2\">&nbsp;<a href=\"dispbbs.asp?boardID=509&ID=4211897&star=32767#bottom\">6/28/2013 1:05:53 PM</a>&nbsp;<span style=\"color: #FF0000;\">|</span>&nbsp;<span id=\"lastPost_4211897\"></span>\r\n",
        "\t\t\t</td>\r\n",
        "\t\t</tr>\r\n",
        "\r\n",
        "\t\t\r\n",
        "\t\t<script type=\"text/javascript\">lastPostInfo('4211897','{\"usr\":\"blues1\",\"txt\":\"[em06]\"}');</script>\r\n",
        "\t\t\r\n",
        "\t\t<tr style=\"vertical-align: middle;\">\r\n",
        "\t\t\t<td style=\"text-wrap: none; width: 32px; height: 27px; text-align: center;\" class=\"tablebody2\">\r\n",
        "\t\t\t\t\r\n",
        "\t\t\t\t<span title=\"\u5f00\u653e\u4e3b\u9898\">\r\n",
        "\t\t\t\t\t<img src=\"pic/blue/folder.gif\" style=\"border: none;\" alt=\"\u5f00\u653e\u4e3b\u9898\" /></span>\r\n",
        "\t\t\t\t\r\n",
        "\t\t\t</td>\r\n",
        "\t\t\t<td style=\"text-align: justify;\" class=\"tablebody1\">\r\n",
        "\r\n",
        "\t\t\t\t &nbsp;\r\n",
        "\t\t\t\t\r\n",
        "\t\t\t\t<a id=\"topic_4210941\" href=\"dispbbs.asp?boardID=509&ID=4210941&page=1\" title=\"\u300a&#27605;&#19994;&#35777;&#20070;&#39046;&#21462;\u300b&#10;\u4f5c\u8005\uff1alixiao&#10;\u53d1\u8868\u4e8e6/27/2013 9:25:44 AM&#10;\u6700\u540e\u8ddf\u8d34\uff1a\">\r\n",
        "\t\t\t\t\t\r\n",
        "\t\t\t\t\t<span>&#27605;&#19994;&#35777;&#20070;&#39046;&#21462;</span>\r\n",
        "\t\t\t\t\t\r\n",
        "\t\t\t\t</a>\r\n",
        "\t\t\t\t\r\n",
        "\t\t\t</td>\r\n",
        "\r\n",
        "\t\t\t<!-- \u663e\u793a\u4f5c\u8005 -->\r\n",
        "\t\t\t\r\n",
        "\t\t\t<td width=\"80\" style=\"text-wrap: none; text-align: center; margin: auto;\" class=\"tablebody2\">\r\n",
        "\t\t\t\t<a href=\"dispuser.asp?id=246157\" target=\"_blank\">lixiao</a>\r\n",
        "\t\t\t</td>\r\n",
        "\t\t\t\r\n",
        "\r\n",
        "\t\t\t<!-- \u6295\u7968\u7968\u6570\u6216\u8005\u70b9\u51fb\u7387 -->\r\n",
        "\t\t\t<td style=\"text-wrap: none; text-align: center; margin: auto;\" class=\"tablebody1\">\r\n",
        "\t\t\t\t3/80\r\n",
        "\t\t\t</td>\r\n",
        "\r\n",
        "\t\t\t<!-- \u6700\u540e\u56de\u590d\u65f6\u95f4\u548c\u4f5c\u8005 -->\r\n",
        "\t\t\t<td width=\"220\" align=\"left\" style=\"text-wrap: none;\" class=\"tablebody2\">&nbsp;<a href=\"dispbbs.asp?boardID=509&ID=4210941&star=32767#bottom\">6/27/2013 12:44:11 PM</a>&nbsp;<span style=\"color: #FF0000;\">|</span>&nbsp;<span id=\"lastPost_4210941\"></span>\r\n",
        "\t\t\t</td>\r\n",
        "\t\t</tr>\r\n",
        "\r\n",
        "\t\t\r\n",
        "\t\t<script type=\"text/javascript\">lastPostInfo('4210941','{\"usr\":\"\u82cf\u6253\u8349\u8393\",\"txt\":\"13\u4e2a\u7ae0\u3002\u3002\u3002\"}');</script>\r\n",
        "\t\t\r\n",
        "\t\t<tr style=\"vertical-align: middle;\">\r\n",
        "\t\t\t<td style=\"text-wrap: none; width: 32px; height: 27px; text-align: center;\" class=\"tablebody2\">\r\n",
        "\t\t\t\t\r\n",
        "\t\t\t\t<span title=\"\u5f00\u653e\u4e3b\u9898\">\r\n",
        "\t\t\t\t\t<img src=\"pic/blue/folder.gif\" style=\"border: none;\" alt=\"\u5f00\u653e\u4e3b\u9898\" /></span>\r\n",
        "\t\t\t\t\r\n",
        "\t\t\t</td>\r\n",
        "\t\t\t<td style=\"text-align: justify;\" class=\"tablebody1\">\r\n",
        "\r\n",
        "\t\t\t\t &nbsp;\r\n",
        "\t\t\t\t\r\n",
        "\t\t\t\t<img src=\"images/files/jpg.gif\" />\r\n",
        "\t\t\t\t\r\n",
        "\t\t\t\t<a id=\"topic_4203262\" href=\"dispbbs.asp?boardID=509&ID=4203262&page=1\" title=\"\u300a&#12304;&#23454;&#20064;&#25307;&#32856;&#12305;&#28216;&#25103;&#24341;&#25806;&#24037;&#31243;&#24072;&#21450;&#25216;&#26415;&#32654;&#26415;&#23454;&#20064;\u300b&#10;\u4f5c\u8005\uff1a&#21603;&#29992;&#21679;&#10;\u53d1\u8868\u4e8e6/18/2013 1:32:21 PM&#10;\u6700\u540e\u8ddf\u8d34\uff1a\">\r\n",
        "\t\t\t\t\t\r\n",
        "\t\t\t\t\t<span>&#12304;&#23454;&#20064;&#25307;&#32856;&#12305;&#28216;&#25103;&#24341;&#25806;&#24037;&#31243;&#24072;&#21450;&#25216;&#26415;&#32654;&#26415;&#23454;&#20064;</span>\r\n",
        "\t\t\t\t\t\r\n",
        "\t\t\t\t</a>\r\n",
        "\t\t\t\t\r\n",
        "\t\t\t</td>\r\n",
        "\r\n",
        "\t\t\t<!-- \u663e\u793a\u4f5c\u8005 -->\r\n",
        "\t\t\t\r\n",
        "\t\t\t<td width=\"80\" style=\"text-wrap: none; text-align: center; margin: auto;\" class=\"tablebody2\">\r\n",
        "\t\t\t\t<a href=\"dispuser.asp?id=193151\" target=\"_blank\">\u5463\u7528\u54af</a>\r\n",
        "\t\t\t</td>\r\n",
        "\t\t\t\r\n",
        "\r\n",
        "\t\t\t<!-- \u6295\u7968\u7968\u6570\u6216\u8005\u70b9\u51fb\u7387 -->\r\n",
        "\t\t\t<td style=\"text-wrap: none; text-align: center; margin: auto;\" class=\"tablebody1\">\r\n",
        "\t\t\t\t8/230\r\n",
        "\t\t\t</td>\r\n",
        "\r\n",
        "\t\t\t<!-- \u6700\u540e\u56de\u590d\u65f6\u95f4\u548c\u4f5c\u8005 -->\r\n",
        "\t\t\t<td width=\"220\" align=\"left\" style=\"text-wrap: none;\" class=\"tablebody2\">&nbsp;<a href=\"dispbbs.asp?boardID=509&ID=4203262&star=32767#bottom\">6/25/2013 9:05:44 PM</a>&nbsp;<span style=\"color: #FF0000;\">|</span>&nbsp;<span id=\"lastPost_4203262\"></span>\r\n",
        "\t\t\t</td>\r\n",
        "\t\t</tr>\r\n",
        "\r\n",
        "\t\t\r\n",
        "\t\t<script type=\"text/javascript\">lastPostInfo('4203262','{\"usr\":\"aaahexing\",\"txt\":\"\u597d\u5e05\u6c14\u7684\u5c0f\u6d0b\u697c\uff5e\uff5e\"}');</script>\r\n",
        "\t\t\r\n",
        "\t\t<tr style=\"vertical-align: middle;\">\r\n",
        "\t\t\t<td style=\"text-wrap: none; width: 32px; height: 27px; text-align: center;\" class=\"tablebody2\">\r\n",
        "\t\t\t\t\r\n",
        "\t\t\t\t<span title=\"\u5f00\u653e\u4e3b\u9898\">\r\n",
        "\t\t\t\t\t<img src=\"pic/blue/folder.gif\" style=\"border: none;\" alt=\"\u5f00\u653e\u4e3b\u9898\" /></span>\r\n",
        "\t\t\t\t\r\n",
        "\t\t\t</td>\r\n",
        "\t\t\t<td style=\"text-align: justify;\" class=\"tablebody1\">\r\n",
        "\r\n",
        "\t\t\t\t &nbsp;\r\n",
        "\t\t\t\t\r\n",
        "\t\t\t\t<a id=\"topic_4200069\" href=\"dispbbs.asp?boardID=509&ID=4200069&page=1\" title=\"\u300a&#20851;&#20110;&#22823;&#20108;&#23454;&#20064;&#65292;&#26395;&#23398;&#38271;&#23398;&#22992;&#28857;&#25773;&#12290;&#12290;&#12290;\u300b&#10;\u4f5c\u8005\uff1aESC.&#10;\u53d1\u8868\u4e8e6/14/2013 12:05:09 AM&#10;\u6700\u540e\u8ddf\u8d34\uff1a\">\r\n",
        "\t\t\t\t\t\r\n",
        "\t\t\t\t\t<span>&#20851;&#20110;&#22823;&#20108;&#23454;&#20064;&#65292;&#26395;&#23398;&#38271;&#23398;&#22992;&#28857;&#25773;&#12290;&#12290;&#12290;</span>\r\n",
        "\t\t\t\t\t\r\n",
        "\t\t\t\t</a>\r\n",
        "\t\t\t\t&nbsp;&nbsp;[<img src=pic/multipage.gif><b> <a href='dispbbs.asp?boardID=509&ID=4200069&star=1&page=1'><font color=#FF0000>1</font></a>  <a href='dispbbs.asp?boardID=509&ID=4200069&star=2&page=1'><font color=#FF0000>2</font></a>  <a href='dispbbs.asp?boardID=509&ID=4200069&star=3&page=1'><font color=#FF0000>3</font></a> </b>]\r\n",
        "\t\t\t</td>\r\n",
        "\r\n",
        "\t\t\t<!-- \u663e\u793a\u4f5c\u8005 -->\r\n",
        "\t\t\t\r\n",
        "\t\t\t<td width=\"80\" style=\"text-wrap: none; text-align: center; margin: auto;\" class=\"tablebody2\">\r\n",
        "\t\t\t\t<a href=\"dispuser.asp?id=401474\" target=\"_blank\">ESC.</a>\r\n",
        "\t\t\t</td>\r\n",
        "\t\t\t\r\n",
        "\r\n",
        "\t\t\t<!-- \u6295\u7968\u7968\u6570\u6216\u8005\u70b9\u51fb\u7387 -->\r\n",
        "\t\t\t<td style=\"text-wrap: none; text-align: center; margin: auto;\" class=\"tablebody1\">\r\n",
        "\t\t\t\t20/415\r\n",
        "\t\t\t</td>\r\n",
        "\r\n",
        "\t\t\t<!-- \u6700\u540e\u56de\u590d\u65f6\u95f4\u548c\u4f5c\u8005 -->\r\n",
        "\t\t\t<td width=\"220\" align=\"left\" style=\"text-wrap: none;\" class=\"tablebody2\">&nbsp;<a href=\"dispbbs.asp?boardID=509&ID=4200069&star=32767#bottom\">6/25/2013 12:35:35 PM</a>&nbsp;<span style=\"color: #FF0000;\">|</span>&nbsp;<span id=\"lastPost_4200069\"></span>\r\n",
        "\t\t\t</td>\r\n",
        "\t\t</tr>\r\n",
        "\r\n",
        "\t\t\r\n",
        "\t\t<script type=\"text/javascript\">lastPostInfo('4200069','{\"usr\":\"\u4f51\u3002\",\"txt\":\"\u4ee5srtp\u540d\u4e49\u8e6d\u5b9e\u9a8c\u5ba4\uff1f\"}');</script>\r\n",
        "\t\t\r\n",
        "\t\t<tr style=\"vertical-align: middle;\">\r\n",
        "\t\t\t<td style=\"text-wrap: none; width: 32px; height: 27px; text-align: center;\" class=\"tablebody2\">\r\n",
        "\t\t\t\t\r\n",
        "\t\t\t\t<span title=\"\u5f00\u653e\u4e3b\u9898\">\r\n",
        "\t\t\t\t\t<img src=\"pic/blue/folder.gif\" style=\"border: none;\" alt=\"\u5f00\u653e\u4e3b\u9898\" /></span>\r\n",
        "\t\t\t\t\r\n",
        "\t\t\t</td>\r\n",
        "\t\t\t<td style=\"text-align: justify;\" class=\"tablebody1\">\r\n",
        "\r\n",
        "\t\t\t\t &nbsp;\r\n",
        "\t\t\t\t\r\n",
        "\t\t\t\t<img src=\"images/files/bmp.gif\" />\r\n",
        "\t\t\t\t\r\n",
        "\t\t\t\t<a id=\"topic_4208466\" href=\"dispbbs.asp?boardID=509&ID=4208466&page=1\" title=\"\u300a&#22823;&#23478;&#37117;&#33021;&#21809;&#20160;&#20040;&#27468;&#65311;&#25968;&#25454;&#24449;&#38598;&#36148;-By&#160;DBLab\u300b&#10;\u4f5c\u8005\uff1atqode3c&#10;\u53d1\u8868\u4e8e6/24/2013 3:47:00 PM&#10;\u6700\u540e\u8ddf\u8d34\uff1a\">\r\n",
        "\t\t\t\t\t\r\n",
        "\t\t\t\t\t<span>&#22823;&#23478;&#37117;&#33021;&#21809;&#20160;&#20040;&#27468;&#65311;&#25968;&#25454;&#24449;&#38598;&#36148;-By&#160;DBLab</span>\r\n",
        "\t\t\t\t\t\r\n",
        "\t\t\t\t</a>\r\n",
        "\t\t\t\t\r\n",
        "\t\t\t</td>\r\n",
        "\r\n",
        "\t\t\t<!-- \u663e\u793a\u4f5c\u8005 -->\r\n",
        "\t\t\t\r\n",
        "\t\t\t<td width=\"80\" style=\"text-wrap: none; text-align: center; margin: auto;\" class=\"tablebody2\">\r\n",
        "\t\t\t\t<a href=\"dispuser.asp?id=358453\" target=\"_blank\">tqode3c</a>\r\n",
        "\t\t\t</td>\r\n",
        "\t\t\t\r\n",
        "\r\n",
        "\t\t\t<!-- \u6295\u7968\u7968\u6570\u6216\u8005\u70b9\u51fb\u7387 -->\r\n",
        "\t\t\t<td style=\"text-wrap: none; text-align: center; margin: auto;\" class=\"tablebody1\">\r\n",
        "\t\t\t\t4/92\r\n",
        "\t\t\t</td>\r\n",
        "\r\n",
        "\t\t\t<!-- \u6700\u540e\u56de\u590d\u65f6\u95f4\u548c\u4f5c\u8005 -->\r\n",
        "\t\t\t<td width=\"220\" align=\"left\" style=\"text-wrap: none;\" class=\"tablebody2\">&nbsp;<a href=\"dispbbs.asp?boardID=509&ID=4208466&star=32767#bottom\">6/25/2013 12:32:24 PM</a>&nbsp;<span style=\"color: #FF0000;\">|</span>&nbsp;<span id=\"lastPost_4208466\"></span>\r\n",
        "\t\t\t</td>\r\n",
        "\t\t</tr>\r\n",
        "\r\n",
        "\t\t\r\n",
        "\t\t<script type=\"text/javascript\">lastPostInfo('4208466','{\"usr\":\"\u4f51\u3002\",\"txt\":\"\"}');</script>\r\n",
        "\t\t\r\n",
        "\t\t<tr style=\"vertical-align: middle;\">\r\n",
        "\t\t\t<td style=\"text-wrap: none; width: 32px; height: 27px; text-align: center;\" class=\"tablebody2\">\r\n",
        "\t\t\t\t\r\n",
        "\t\t\t\t<span title=\"\u7cbe\u534e\u5e16\">\r\n",
        "\t\t\t\t\t<img src=\"pic/isbest.gif\" style=\"border: none;\" alt=\"\u7cbe\u534e\u5e16\u5b50\" /></span>\r\n",
        "\t\t\t\t\r\n",
        "\t\t\t</td>\r\n",
        "\t\t\t<td style=\"text-align: justify;\" class=\"tablebody1\">\r\n",
        "\r\n",
        "\t\t\t\t &nbsp;\r\n",
        "\t\t\t\t\r\n",
        "\t\t\t\t<a id=\"topic_4127687\" href=\"dispbbs.asp?boardID=509&ID=4127687&page=1\" title=\"\u300a[10&#35838;&#31243;][&#35745;&#31639;&#26426;&#28216;&#25103;&#31243;&#24207;&#35774;&#35745;]\u300b&#10;\u4f5c\u8005\uff1aansweror&#10;\u53d1\u8868\u4e8e3/16/2013 11:11:28 PM&#10;\u6700\u540e\u8ddf\u8d34\uff1a\">\r\n",
        "\t\t\t\t\t\r\n",
        "\t\t\t\t\t<span>[10&#35838;&#31243;][&#35745;&#31639;&#26426;&#28216;&#25103;&#31243;&#24207;&#35774;&#35745;]</span>\r\n",
        "\t\t\t\t\t\r\n",
        "\t\t\t\t</a>\r\n",
        "\t\t\t\t\r\n",
        "\t\t\t</td>\r\n",
        "\r\n",
        "\t\t\t<!-- \u663e\u793a\u4f5c\u8005 -->\r\n",
        "\t\t\t\r\n",
        "\t\t\t<td width=\"80\" style=\"text-wrap: none; text-align: center; margin: auto;\" class=\"tablebody2\">\r\n",
        "\t\t\t\t<a href=\"dispuser.asp?id=401578\" target=\"_blank\">answeror</a>\r\n",
        "\t\t\t</td>\r\n",
        "\t\t\t\r\n",
        "\r\n",
        "\t\t\t<!-- \u6295\u7968\u7968\u6570\u6216\u8005\u70b9\u51fb\u7387 -->\r\n",
        "\t\t\t<td style=\"text-wrap: none; text-align: center; margin: auto;\" class=\"tablebody1\">\r\n",
        "\t\t\t\t8/526\r\n",
        "\t\t\t</td>\r\n",
        "\r\n",
        "\t\t\t<!-- \u6700\u540e\u56de\u590d\u65f6\u95f4\u548c\u4f5c\u8005 -->\r\n",
        "\t\t\t<td width=\"220\" align=\"left\" style=\"text-wrap: none;\" class=\"tablebody2\">&nbsp;<a href=\"dispbbs.asp?boardID=509&ID=4127687&star=32767#bottom\">6/24/2013 8:30:26 AM</a>&nbsp;<span style=\"color: #FF0000;\">|</span>&nbsp;<span id=\"lastPost_4127687\"></span>\r\n",
        "\t\t\t</td>\r\n",
        "\t\t</tr>\r\n",
        "\r\n",
        "\t\t\r\n",
        "\t\t<script type=\"text/javascript\">lastPostInfo('4127687','{\"usr\":\"huwanqi\",\"txt\":\"ding&lt;I&gt;&lt;/I&...\"}');</script>\r\n",
        "\t\t\r\n",
        "\t\t<tr style=\"vertical-align: middle;\">\r\n",
        "\t\t\t<td style=\"text-wrap: none; width: 32px; height: 27px; text-align: center;\" class=\"tablebody2\">\r\n",
        "\t\t\t\t\r\n",
        "\t\t\t\t<span title=\"\u5f00\u653e\u4e3b\u9898\">\r\n",
        "\t\t\t\t\t<img src=\"pic/blue/folder.gif\" style=\"border: none;\" alt=\"\u5f00\u653e\u4e3b\u9898\" /></span>\r\n",
        "\t\t\t\t\r\n",
        "\t\t\t</td>\r\n",
        "\t\t\t<td style=\"text-align: justify;\" class=\"tablebody1\">\r\n",
        "\r\n",
        "\t\t\t\t &nbsp;\r\n",
        "\t\t\t\t\r\n",
        "\t\t\t\t<a id=\"topic_4201518\" href=\"dispbbs.asp?boardID=509&ID=4201518&page=1\" title=\"\u300a&#31572;&#36777;&#21862;&#65292;&#27714;&#36807;&#21568;&#65281;\u300b&#10;\u4f5c\u8005\uff1aIvy&#10;\u53d1\u8868\u4e8e6/16/2013 10:42:27 AM&#10;\u6700\u540e\u8ddf\u8d34\uff1a\">\r\n",
        "\t\t\t\t\t\r\n",
        "\t\t\t\t\t<span>&#31572;&#36777;&#21862;&#65292;&#27714;&#36807;&#21568;&#65281;</span>\r\n",
        "\t\t\t\t\t\r\n",
        "\t\t\t\t</a>\r\n",
        "\t\t\t\t&nbsp;&nbsp;[<img src=pic/multipage.gif><b> <a href='dispbbs.asp?boardID=509&ID=4201518&star=1&page=1'><font color=#FF0000>1</font></a>  <a href='dispbbs.asp?boardID=509&ID=4201518&star=2&page=1'><font color=#FF0000>2</font></a> </b>]\r\n",
        "\t\t\t</td>\r\n",
        "\r\n",
        "\t\t\t<!-- \u663e\u793a\u4f5c\u8005 -->\r\n",
        "\t\t\t\r\n",
        "\t\t\t<td width=\"80\" style=\"text-wrap: none; text-align: center; margin: auto;\" class=\"tablebody2\">\r\n",
        "\t\t\t\t<a href=\"dispuser.asp?id=308948\" target=\"_blank\">Ivy</a>\r\n",
        "\t\t\t</td>\r\n",
        "\t\t\t\r\n",
        "\r\n",
        "\t\t\t<!-- \u6295\u7968\u7968\u6570\u6216\u8005\u70b9\u51fb\u7387 -->\r\n",
        "\t\t\t<td style=\"text-wrap: none; text-align: center; margin: auto;\" class=\"tablebody1\">\r\n",
        "\t\t\t\t13/326\r\n",
        "\t\t\t</td>\r\n",
        "\r\n",
        "\t\t\t<!-- \u6700\u540e\u56de\u590d\u65f6\u95f4\u548c\u4f5c\u8005 -->\r\n",
        "\t\t\t<td width=\"220\" align=\"left\" style=\"text-wrap: none;\" class=\"tablebody2\">&nbsp;<a href=\"dispbbs.asp?boardID=509&ID=4201518&star=32767#bottom\">6/24/2013 12:49:25 AM</a>&nbsp;<span style=\"color: #FF0000;\">|</span>&nbsp;<span id=\"lastPost_4201518\"></span>\r\n",
        "\t\t\t</td>\r\n",
        "\t\t</tr>\r\n",
        "\r\n",
        "\t\t\r\n",
        "\t\t<script type=\"text/javascript\">lastPostInfo('4201518','{\"usr\":\"\u4f51\u3002\",\"txt\":\"\u4f60\u4eec\u5728\u5e72\u4ec0\u4e48[em06]\"}');</script>\r\n",
        "\t\t\r\n",
        "\t\t<tr style=\"vertical-align: middle;\">\r\n",
        "\t\t\t<td style=\"text-wrap: none; width: 32px; height: 27px; text-align: center;\" class=\"tablebody2\">\r\n",
        "\t\t\t\t\r\n",
        "\t\t\t\t<span title=\"\u5f00\u653e\u4e3b\u9898\">\r\n",
        "\t\t\t\t\t<img src=\"pic/blue/folder.gif\" style=\"border: none;\" alt=\"\u5f00\u653e\u4e3b\u9898\" /></span>\r\n",
        "\t\t\t\t\r\n",
        "\t\t\t</td>\r\n",
        "\t\t\t<td style=\"text-align: justify;\" class=\"tablebody1\">\r\n",
        "\r\n",
        "\t\t\t\t &nbsp;\r\n",
        "\t\t\t\t\r\n",
        "\t\t\t\t<a id=\"topic_4205194\" href=\"dispbbs.asp?boardID=509&ID=4205194&page=1\" title=\"\u300a[&#37266;&#30446;]&#160;&#22823;&#23478;&#37117;&#26469;&#21152;09&#38498;&#32676;&#21543;-0-&#160;[/&#37266;&#30446;]\u300b&#10;\u4f5c\u8005\uff1adino&#10;\u53d1\u8868\u4e8e6/20/2013 1:57:53 PM&#10;\u6700\u540e\u8ddf\u8d34\uff1a\">\r\n",
        "\t\t\t\t\t\r\n",
        "\t\t\t\t\t<span>[&#37266;&#30446;]&#160;&#22823;&#23478;&#37117;&#26469;&#21152;09&#38498;&#32676;&#21543;-0-&#160;[/&#37266;&#30446;]</span>\r\n",
        "\t\t\t\t\t\r\n",
        "\t\t\t\t</a>\r\n",
        "\t\t\t\t\r\n",
        "\t\t\t</td>\r\n",
        "\r\n",
        "\t\t\t<!-- \u663e\u793a\u4f5c\u8005 -->\r\n",
        "\t\t\t\r\n",
        "\t\t\t<td width=\"80\" style=\"text-wrap: none; text-align: center; margin: auto;\" class=\"tablebody2\">\r\n",
        "\t\t\t\t<a href=\"dispuser.asp?id=369699\" target=\"_blank\">dino</a>\r\n",
        "\t\t\t</td>\r\n",
        "\t\t\t\r\n",
        "\r\n",
        "\t\t\t<!-- \u6295\u7968\u7968\u6570\u6216\u8005\u70b9\u51fb\u7387 -->\r\n",
        "\t\t\t<td style=\"text-wrap: none; text-align: center; margin: auto;\" class=\"tablebody1\">\r\n",
        "\t\t\t\t0/54\r\n",
        "\t\t\t</td>\r\n",
        "\r\n",
        "\t\t\t<!-- \u6700\u540e\u56de\u590d\u65f6\u95f4\u548c\u4f5c\u8005 -->\r\n",
        "\t\t\t<td width=\"220\" align=\"left\" style=\"text-wrap: none;\" class=\"tablebody2\">&nbsp;<a href=\"dispbbs.asp?boardID=509&ID=4205194&star=32767#bottom\">6/20/2013 1:57:53 PM</a>&nbsp;<span style=\"color: #FF0000;\">|</span>&nbsp;<span id=\"lastPost_4205194\"></span>\r\n",
        "\t\t\t</td>\r\n",
        "\t\t</tr>\r\n",
        "\r\n",
        "\t\t\r\n",
        "\t\t<script type=\"text/javascript\">lastPostInfo('4205194','{\"usr\":\"dino\",\"txt\":\"\u7b54\u8fa9\u90fd\u7ed3\u675f\u4e86\uff0c\u9a6c\u4e0a\u4e5f\u8981\u6bd5\u4e1a\u665a\u4f1a\u4e86\uff0c\u6240\u4ee5\u5927...\"}');</script>\r\n",
        "\t\t\r\n",
        "\t\t<tr style=\"vertical-align: middle;\">\r\n",
        "\t\t\t<td style=\"text-wrap: none; width: 32px; height: 27px; text-align: center;\" class=\"tablebody2\">\r\n",
        "\t\t\t\t\r\n",
        "\t\t\t\t<span title=\"\u5f00\u653e\u4e3b\u9898\">\r\n",
        "\t\t\t\t\t<img src=\"pic/blue/folder.gif\" style=\"border: none;\" alt=\"\u5f00\u653e\u4e3b\u9898\" /></span>\r\n",
        "\t\t\t\t\r\n",
        "\t\t\t</td>\r\n",
        "\t\t\t<td style=\"text-align: justify;\" class=\"tablebody1\">\r\n",
        "\r\n",
        "\t\t\t\t &nbsp;\r\n",
        "\t\t\t\t\r\n",
        "\t\t\t\t<img src=\"images/files/zip.gif\" />\r\n",
        "\t\t\t\t\r\n",
        "\t\t\t\t<a id=\"topic_4205174\" href=\"dispbbs.asp?boardID=509&ID=4205174&page=1\" title=\"\u300a09&#32423;&#27605;&#19994;&#35770;&#25991;&#20108;&#36777;&#21517;&#21333;\u300b&#10;\u4f5c\u8005\uff1alixiao&#10;\u53d1\u8868\u4e8e6/20/2013 1:21:28 PM&#10;\u6700\u540e\u8ddf\u8d34\uff1a\">\r\n",
        "\t\t\t\t\t\r\n",
        "\t\t\t\t\t<span>09&#32423;&#27605;&#19994;&#35770;&#25991;&#20108;&#36777;&#21517;&#21333;</span>\r\n",
        "\t\t\t\t\t\r\n",
        "\t\t\t\t</a>\r\n",
        "\t\t\t\t\r\n",
        "\t\t\t</td>\r\n",
        "\r\n",
        "\t\t\t<!-- \u663e\u793a\u4f5c\u8005 -->\r\n",
        "\t\t\t\r\n",
        "\t\t\t<td width=\"80\" style=\"text-wrap: none; text-align: center; margin: auto;\" class=\"tablebody2\">\r\n",
        "\t\t\t\t<a href=\"dispuser.asp?id=246157\" target=\"_blank\">lixiao</a>\r\n",
        "\t\t\t</td>\r\n",
        "\t\t\t\r\n",
        "\r\n",
        "\t\t\t<!-- \u6295\u7968\u7968\u6570\u6216\u8005\u70b9\u51fb\u7387 -->\r\n",
        "\t\t\t<td style=\"text-wrap: none; text-align: center; margin: auto;\" class=\"tablebody1\">\r\n",
        "\t\t\t\t0/73\r\n",
        "\t\t\t</td>\r\n",
        "\r\n",
        "\t\t\t<!-- \u6700\u540e\u56de\u590d\u65f6\u95f4\u548c\u4f5c\u8005 -->\r\n",
        "\t\t\t<td width=\"220\" align=\"left\" style=\"text-wrap: none;\" class=\"tablebody2\">&nbsp;<a href=\"dispbbs.asp?boardID=509&ID=4205174&star=32767#bottom\">6/20/2013 1:21:28 PM</a>&nbsp;<span style=\"color: #FF0000;\">|</span>&nbsp;<span id=\"lastPost_4205174\"></span>\r\n",
        "\t\t\t</td>\r\n",
        "\t\t</tr>\r\n",
        "\r\n",
        "\t\t\r\n",
        "\t\t<script type=\"text/javascript\">lastPostInfo('4205174','{\"usr\":\"lixiao\",\"txt\":\"\u8bf7\u505a\u597d\u51c6\u5907\uff01[upload=zip,1]...\"}');</script>\r\n",
        "\t\t\r\n",
        "\t\t<tr style=\"vertical-align: middle;\">\r\n",
        "\t\t\t<td style=\"text-wrap: none; width: 32px; height: 27px; text-align: center;\" class=\"tablebody2\">\r\n",
        "\t\t\t\t\r\n",
        "\t\t\t\t<span title=\"\u5f00\u653e\u4e3b\u9898\">\r\n",
        "\t\t\t\t\t<img src=\"pic/blue/folder.gif\" style=\"border: none;\" alt=\"\u5f00\u653e\u4e3b\u9898\" /></span>\r\n",
        "\t\t\t\t\r\n",
        "\t\t\t</td>\r\n",
        "\t\t\t<td style=\"text-align: justify;\" class=\"tablebody1\">\r\n",
        "\r\n",
        "\t\t\t\t &nbsp;\r\n",
        "\t\t\t\t\r\n",
        "\t\t\t\t<a id=\"topic_4204380\" href=\"dispbbs.asp?boardID=509&ID=4204380&page=1\" title=\"\u300a&#12304;&#26477;&#24030;&#12305;&#32676;&#26680;&#20113;&#35745;&#31639;&#65293;&#25968;&#23383;&#22270;&#20687;&#35270;&#39057;&#22788;&#29702;&#24037;&#31243;&#24072;\u300b&#10;\u4f5c\u8005\uff1a&#32676;&#26680;&#10;\u53d1\u8868\u4e8e6/19/2013 3:54:42 PM&#10;\u6700\u540e\u8ddf\u8d34\uff1a\">\r\n",
        "\t\t\t\t\t\r\n",
        "\t\t\t\t\t<span>&#12304;&#26477;&#24030;&#12305;&#32676;&#26680;&#20113;&#35745;&#31639;&#65293;&#25968;&#23383;&#22270;&#20687;&#35270;&#39057;&#22788;&#29702;&#24037;&#31243;&#24072;</span>\r\n",
        "\t\t\t\t\t\r\n",
        "\t\t\t\t</a>\r\n",
        "\t\t\t\t\r\n",
        "\t\t\t</td>\r\n",
        "\r\n",
        "\t\t\t<!-- \u663e\u793a\u4f5c\u8005 -->\r\n",
        "\t\t\t\r\n",
        "\t\t\t<td width=\"80\" style=\"text-wrap: none; text-align: center; margin: auto;\" class=\"tablebody2\">\r\n",
        "\t\t\t\t<a href=\"dispuser.asp?id=428192\" target=\"_blank\">\u7fa4\u6838</a>\r\n",
        "\t\t\t</td>\r\n",
        "\t\t\t\r\n",
        "\r\n",
        "\t\t\t<!-- \u6295\u7968\u7968\u6570\u6216\u8005\u70b9\u51fb\u7387 -->\r\n",
        "\t\t\t<td style=\"text-wrap: none; text-align: center; margin: auto;\" class=\"tablebody1\">\r\n",
        "\t\t\t\t0/44\r\n",
        "\t\t\t</td>\r\n",
        "\r\n",
        "\t\t\t<!-- \u6700\u540e\u56de\u590d\u65f6\u95f4\u548c\u4f5c\u8005 -->\r\n",
        "\t\t\t<td width=\"220\" align=\"left\" style=\"text-wrap: none;\" class=\"tablebody2\">&nbsp;<a href=\"dispbbs.asp?boardID=509&ID=4204380&star=32767#bottom\">6/19/2013 3:54:42 PM</a>&nbsp;<span style=\"color: #FF0000;\">|</span>&nbsp;<span id=\"lastPost_4204380\"></span>\r\n",
        "\t\t\t</td>\r\n",
        "\t\t</tr>\r\n",
        "\r\n",
        "\t\t\r\n",
        "\t\t<script type=\"text/javascript\">lastPostInfo('4204380','{\"usr\":\"\u7fa4\u6838\",\"txt\":\"\u6570\u5b57\u56fe\u50cf\u89c6\u9891\u5904\u7406\u5de5\u7a0b\u5e08<I></I> \uff08...\"}');</script>\r\n",
        "\t\t\r\n",
        "\t\t<tr style=\"vertical-align: middle;\">\r\n",
        "\t\t\t<td style=\"text-wrap: none; width: 32px; height: 27px; text-align: center;\" class=\"tablebody2\">\r\n",
        "\t\t\t\t\r\n",
        "\t\t\t\t<span title=\"\u5f00\u653e\u4e3b\u9898\">\r\n",
        "\t\t\t\t\t<img src=\"pic/blue/folder.gif\" style=\"border: none;\" alt=\"\u5f00\u653e\u4e3b\u9898\" /></span>\r\n",
        "\t\t\t\t\r\n",
        "\t\t\t</td>\r\n",
        "\t\t\t<td style=\"text-align: justify;\" class=\"tablebody1\">\r\n",
        "\r\n",
        "\t\t\t\t &nbsp;\r\n",
        "\t\t\t\t\r\n",
        "\t\t\t\t<a id=\"topic_4204095\" href=\"dispbbs.asp?boardID=509&ID=4204095&page=1\" title=\"\u300a09&#32423;&#27605;&#19994;&#29677;&#23398;&#29983;&#32593;&#19978;&#38382;&#21367;&#35843;&#26597;\u300b&#10;\u4f5c\u8005\uff1alixiao&#10;\u53d1\u8868\u4e8e6/19/2013 11:01:29 AM&#10;\u6700\u540e\u8ddf\u8d34\uff1a\">\r\n",
        "\t\t\t\t\t\r\n",
        "\t\t\t\t\t<span>09&#32423;&#27605;&#19994;&#29677;&#23398;&#29983;&#32593;&#19978;&#38382;&#21367;&#35843;&#26597;</span>\r\n",
        "\t\t\t\t\t\r\n",
        "\t\t\t\t</a>\r\n",
        "\t\t\t\t\r\n",
        "\t\t\t</td>\r\n",
        "\r\n",
        "\t\t\t<!-- \u663e\u793a\u4f5c\u8005 -->\r\n",
        "\t\t\t\r\n",
        "\t\t\t<td width=\"80\" style=\"text-wrap: none; text-align: center; margin: auto;\" class=\"tablebody2\">\r\n",
        "\t\t\t\t<a href=\"dispuser.asp?id=246157\" target=\"_blank\">lixiao</a>\r\n",
        "\t\t\t</td>\r\n",
        "\t\t\t\r\n",
        "\r\n",
        "\t\t\t<!-- \u6295\u7968\u7968\u6570\u6216\u8005\u70b9\u51fb\u7387 -->\r\n",
        "\t\t\t<td style=\"text-wrap: none; text-align: center; margin: auto;\" class=\"tablebody1\">\r\n",
        "\t\t\t\t0/53\r\n",
        "\t\t\t</td>\r\n",
        "\r\n",
        "\t\t\t<!-- \u6700\u540e\u56de\u590d\u65f6\u95f4\u548c\u4f5c\u8005 -->\r\n",
        "\t\t\t<td width=\"220\" align=\"left\" style=\"text-wrap: none;\" class=\"tablebody2\">&nbsp;<a href=\"dispbbs.asp?boardID=509&ID=4204095&star=32767#bottom\">6/19/2013 11:01:29 AM</a>&nbsp;<span style=\"color: #FF0000;\">|</span>&nbsp;<span id=\"lastPost_4204095\"></span>\r\n",
        "\t\t\t</td>\r\n",
        "\t\t</tr>\r\n",
        "\r\n",
        "\t\t\r\n",
        "\t\t<script type=\"text/javascript\">lastPostInfo('4204095','{\"usr\":\"lixiao\",\"txt\":\"\u5404\u4f4d09\u7ea7\u6bd5\u4e1a\u73ed\u540c\u5b66\uff1a <I></I> ...\"}');</script>\r\n",
        "\t\t\r\n",
        "\t\t<tr style=\"vertical-align: middle;\">\r\n",
        "\t\t\t<td style=\"text-wrap: none; width: 32px; height: 27px; text-align: center;\" class=\"tablebody2\">\r\n",
        "\t\t\t\t\r\n",
        "\t\t\t\t<span title=\"\u5f00\u653e\u4e3b\u9898\">\r\n",
        "\t\t\t\t\t<img src=\"pic/blue/folder.gif\" style=\"border: none;\" alt=\"\u5f00\u653e\u4e3b\u9898\" /></span>\r\n",
        "\t\t\t\t\r\n",
        "\t\t\t</td>\r\n",
        "\t\t\t<td style=\"text-align: justify;\" class=\"tablebody1\">\r\n",
        "\r\n",
        "\t\t\t\t &nbsp;\r\n",
        "\t\t\t\t\r\n",
        "\t\t\t\t<a id=\"topic_4119574\" href=\"dispbbs.asp?boardID=509&ID=4119574&page=1\" title=\"\u300a[&#26657;&#25307;]2013 &#38750;&#22855;&#31185;&#25216;&#26657;&#22253;&#25307;&#32856;\u300b&#10;\u4f5c\u8005\uff1a&#33394;&#24433;&#26080;&#24524;&#10;\u53d1\u8868\u4e8e3/7/2013 5:12:33 PM&#10;\u6700\u540e\u8ddf\u8d34\uff1a\">\r\n",
        "\t\t\t\t\t\r\n",
        "\t\t\t\t\t<span>[&#26657;&#25307;]2013 &#38750;&#22855;&#31185;&#25216;&#26657;&#22253;&#25307;&#32856;</span>\r\n",
        "\t\t\t\t\t\r\n",
        "\t\t\t\t</a>\r\n",
        "\t\t\t\t\r\n",
        "\t\t\t</td>\r\n",
        "\r\n",
        "\t\t\t<!-- \u663e\u793a\u4f5c\u8005 -->\r\n",
        "\t\t\t\r\n",
        "\t\t\t<td width=\"80\" style=\"text-wrap: none; text-align: center; margin: auto;\" class=\"tablebody2\">\r\n",
        "\t\t\t\t<a href=\"dispuser.asp?id=310418\" target=\"_blank\">\u8272\u5f71\u65e0\u5fcc</a>\r\n",
        "\t\t\t</td>\r\n",
        "\t\t\t\r\n",
        "\r\n",
        "\t\t\t<!-- \u6295\u7968\u7968\u6570\u6216\u8005\u70b9\u51fb\u7387 -->\r\n",
        "\t\t\t<td style=\"text-wrap: none; text-align: center; margin: auto;\" class=\"tablebody1\">\r\n",
        "\t\t\t\t8/210\r\n",
        "\t\t\t</td>\r\n",
        "\r\n",
        "\t\t\t<!-- \u6700\u540e\u56de\u590d\u65f6\u95f4\u548c\u4f5c\u8005 -->\r\n",
        "\t\t\t<td width=\"220\" align=\"left\" style=\"text-wrap: none;\" class=\"tablebody2\">&nbsp;<a href=\"dispbbs.asp?boardID=509&ID=4119574&star=32767#bottom\">6/18/2013 12:54:27 PM</a>&nbsp;<span style=\"color: #FF0000;\">|</span>&nbsp;<span id=\"lastPost_4119574\"></span>\r\n",
        "\t\t\t</td>\r\n",
        "\t\t</tr>\r\n",
        "\r\n",
        "\t\t\r\n",
        "\t\t<script type=\"text/javascript\">lastPostInfo('4119574','{\"usr\":\"\u8272\u5f71\u65e0\u5fcc\",\"txt\":\"\u7ee7\u7eed\u62db\u4eba\u554a\"}');</script>\r\n",
        "\t\t\r\n",
        "\t\t<tr style=\"vertical-align: middle;\">\r\n",
        "\t\t\t<td style=\"text-wrap: none; width: 32px; height: 27px; text-align: center;\" class=\"tablebody2\">\r\n",
        "\t\t\t\t\r\n",
        "\t\t\t\t<span title=\"\u5f00\u653e\u4e3b\u9898\">\r\n",
        "\t\t\t\t\t<img src=\"pic/blue/folder.gif\" style=\"border: none;\" alt=\"\u5f00\u653e\u4e3b\u9898\" /></span>\r\n",
        "\t\t\t\t\r\n",
        "\t\t\t</td>\r\n",
        "\t\t\t<td style=\"text-align: justify;\" class=\"tablebody1\">\r\n",
        "\r\n",
        "\t\t\t\t &nbsp;\r\n",
        "\t\t\t\t\r\n",
        "\t\t\t\t<a id=\"topic_4194114\" href=\"dispbbs.asp?boardID=509&ID=4194114&page=1\" title=\"\u300a10&#32423;&#23398;&#29983;&#27605;&#19994;&#35770;&#25991;&#65288;&#35774;&#35745;&#65289;&#36873;&#23548;\u300b&#10;\u4f5c\u8005\uff1alixiao&#10;\u53d1\u8868\u4e8e6/5/2013 4:53:03 PM&#10;\u6700\u540e\u8ddf\u8d34\uff1a\">\r\n",
        "\t\t\t\t\t\r\n",
        "\t\t\t\t\t<span>10&#32423;&#23398;&#29983;&#27605;&#19994;&#35770;&#25991;&#65288;&#35774;&#35745;&#65289;&#36873;&#23548;</span>\r\n",
        "\t\t\t\t\t\r\n",
        "\t\t\t\t</a>\r\n",
        "\t\t\t\t\r\n",
        "\t\t\t</td>\r\n",
        "\r\n",
        "\t\t\t<!-- \u663e\u793a\u4f5c\u8005 -->\r\n",
        "\t\t\t\r\n",
        "\t\t\t<td width=\"80\" style=\"text-wrap: none; text-align: center; margin: auto;\" class=\"tablebody2\">\r\n",
        "\t\t\t\t<a href=\"dispuser.asp?id=246157\" target=\"_blank\">lixiao</a>\r\n",
        "\t\t\t</td>\r\n",
        "\t\t\t\r\n",
        "\r\n",
        "\t\t\t<!-- \u6295\u7968\u7968\u6570\u6216\u8005\u70b9\u51fb\u7387 -->\r\n",
        "\t\t\t<td style=\"text-wrap: none; text-align: center; margin: auto;\" class=\"tablebody1\">\r\n",
        "\t\t\t\t2/222\r\n",
        "\t\t\t</td>\r\n",
        "\r\n",
        "\t\t\t<!-- \u6700\u540e\u56de\u590d\u65f6\u95f4\u548c\u4f5c\u8005 -->\r\n",
        "\t\t\t<td width=\"220\" align=\"left\" style=\"text-wrap: none;\" class=\"tablebody2\">&nbsp;<a href=\"dispbbs.asp?boardID=509&ID=4194114&star=32767#bottom\">6/16/2013 7:52:06 AM</a>&nbsp;<span style=\"color: #FF0000;\">|</span>&nbsp;<span id=\"lastPost_4194114\"></span>\r\n",
        "\t\t\t</td>\r\n",
        "\t\t</tr>\r\n",
        "\r\n",
        "\t\t\r\n",
        "\t\t<script type=\"text/javascript\">lastPostInfo('4194114','{\"usr\":\"Tirpitz\",\"txt\":\"\u53e6\u5916\u9700\u8981\u8865\u5145\u8bf4\u660e\u7684\u662f\uff0c\u53c2\u4e0e\u6bd5\u4e1a\u8bbe\u8ba1\u7684\u9009\u5bfc...\"}');</script>\r\n",
        "\t\t\r\n",
        "\t\t\t\t</tbody>\r\n",
        "\t\t\t</table>\r\n",
        "\t\t</form>\r\n",
        "\r\n",
        "\t\t\r\n",
        "\r\n",
        "\t\t<form method=\"post\" action=\"list.asp?boardid=509&action=\">\r\n",
        "\t\t\t<table border=\"0\" cellpadding=\"0\" cellspacing=\"3\" style=\"width: 97%; text-align: center; margin: auto; border-style: none; border-width: 0px;\">\r\n",
        "\t\t\t\t<tr>\r\n",
        "\t\t\t\t\t<td style=\"text-wrap: none; vertical-align: middle; margin: auto; text-align: left;\">\u9875\u6b21\uff1a<b>1</b>/<b>80</b>\u9875 \u6bcf\u9875<b>20</b> \u4e3b\u9898\u6570<b>\r\n",
        "\t\t\t\t\t\t1599</b></td>\r\n",
        "\t\t\t\t\t<td valign=\"middle\" style=\"text-wrap: none;\">\r\n",
        "\t\t\t\t\t\t<div align=\"right\">\r\n",
        "\t\t\t\t\t\t\t\u5206\u9875:\r\n",
        "\t\t\t\t\t\t\t\t\t\t\t<font color=#FF0000>\u9996\u9875</font>   <b><font color=#FF0000>1</font> <a title=\"\u53ef\u4ee5\u4f7f\u7528Alt+PageUp\u6216Alt+PageDown\u5feb\u6377\u7ffb\u9875\"   href='?boardid=509&page=2&action='>2</a>   <a title=\"\u53ef\u4ee5\u4f7f\u7528Alt+PageUp\u6216Alt+PageDown\u5feb\u6377\u7ffb\u9875\"   href='?boardid=509&page=3&action='>3</a>   <a title=\"\u53ef\u4ee5\u4f7f\u7528Alt+PageUp\u6216Alt+PageDown\u5feb\u6377\u7ffb\u9875\"   href='?boardid=509&page=4&action='>4</a>   <a title=\"\u53ef\u4ee5\u4f7f\u7528Alt+PageUp\u6216Alt+PageDown\u5feb\u6377\u7ffb\u9875\"   href='?boardid=509&page=5&action='>5</a>   <a title=\"\u53ef\u4ee5\u4f7f\u7528Alt+PageUp\u6216Alt+PageDown\u5feb\u6377\u7ffb\u9875\"   href='?boardid=509&page=6&action='>6</a>   <a title=\"\u53ef\u4ee5\u4f7f\u7528Alt+PageUp\u6216Alt+PageDown\u5feb\u6377\u7ffb\u9875\"   href='?boardid=509&page=7&action='>7</a>   <a title=\"\u53ef\u4ee5\u4f7f\u7528Alt+PageUp\u6216Alt+PageDown\u5feb\u6377\u7ffb\u9875\"   href='?boardid=509&page=8&action='>8</a>   <a title=\"\u53ef\u4ee5\u4f7f\u7528Alt+PageUp\u6216Alt+PageDown\u5feb\u6377\u7ffb\u9875\"   href='?boardid=509&page=9&action='>9</a>   <a title=\"\u53ef\u4ee5\u4f7f\u7528Alt+PageUp\u6216Alt+PageDown\u5feb\u6377\u7ffb\u9875\"   href='?boardid=509&page=10&action='>10</a>   <a title=\"\u53ef\u4ee5\u4f7f\u7528Alt+PageUp\u6216Alt+PageDown\u5feb\u6377\u7ffb\u9875\"   href='?boardid=509&page=11&action='>11</a>   </b><a href='?boardid=509&page=12&action=' title=\u4e0b\u5341\u9875>>>></a>   <a href='?boardid=509&page=80&action=' title=\u5c3e\u9875>\u5c3e\u9875</a>   \r\n",
        "\u8f6c\u5230:<input type=\"text\" name=\"Page\" size=\"3\" maxlength=\"10\" value=\"1\" />\r\n",
        "\t\t\t\t\t\t\t<input type=\"submit\" value=\"Go\" name=\"submit\" />\r\n",
        "\t\t\t\t\t\t</div>\r\n",
        "\t\t\t\t\t</td>\r\n",
        "\t\t\t\t</tr>\r\n",
        "\r\n",
        "\t\t\t</table>\r\n",
        "\t\t</form>\r\n",
        "\t\t\r\n",
        "\t\t<table border=\"0\" cellpadding=\"0\" cellspacing=\"3\" width=\"97%\" align=\"center\">\r\n",
        "\t\t\t<tr>\r\n",
        "\t\t\t\t<form method=\"POST\" action=\"queryresult.asp?boardid=509&sType=2&SearchDate=1000&pSearch=1\">\r\n",
        "\t\t\t\t\t<td width=\"50%\" valign=\"middle\" style=\"text-wrap: none;\" height=\"40\">\u5feb\u901f\u641c\u7d22\uff1a<input type=\"text\" name=\"keyword\">&nbsp;<input type=\"submit\" name=\"submit\" value=\"\u641c\u7d22\">\r\n",
        "\t\t\t\t\t</td>\r\n",
        "\t\t\t\t</form>\r\n",
        "\t\t\t\t<td valign=\"middle\" style=\"text-wrap: none;\" width=\"50%\">\r\n",
        "\t\t\t\t\t<div align=\"right\">\r\n",
        "\t\t\t\t</td>\r\n",
        "\t\t\t\t<!-- =======================================  \u8df3\u8f6c  ================================-->\r\n",
        "\t\t\t\t<td valign=\"middle\" style=\"text-wrap: none;\" align=\"right\">\r\n",
        "\t\t\t\t\t<select id=\"personal\" onchange=\"if(this.options[this.selectedIndex].value!=''){location=this.options[this.selectedIndex].value;}\">\r\n",
        "\t\t\t\t\t\t<option selected>\u4e2a\u4eba\u5b9a\u5236\u533a...</option>\r\n",
        "\t\t\t\t\t\t<option value=\"hottopic.asp\">\u4eca\u65e5\u5341\u5927\u70ed\u95e8\u4e3b\u9898</option>\r\n",
        "\t\t\t\t\t</select></td>\r\n",
        "\t\t\t</tr>\r\n",
        "\t\t</table>\r\n",
        "\t\t<a name=\"bottom\"></a>\r\n",
        "\t\t\r\n",
        "\t<div id=\"copyright\">Copyright &copy; 2003-2013 CC98 Network Association. Email: contact@cc98.org</div>\r\n",
        "\t\r\n",
        "</body>\r\n",
        "</html>\r\n",
        "\r\n",
        "<!--end:328.125\u6beb\u79d2-->\r\n",
        "\r\n",
        "\r\n",
        "\t\t<script type=\"text/javascript\">\r\n",
        "\r\n",
        "\t\t\tfunction _shortcut(evt)\r\n",
        "\t\t\t{\r\n",
        "\t\t\t\t\r\n",
        "\t\t\t\tvar fileName=\"list.asp\";\r\n",
        "\t\t\t\tvar star=parseInt(\"1\");\r\n",
        "\t\t\t\t//\r\n",
        "\r\n",
        "\t\t\t\tvar origin_search=\"?boardid=509&action=\";\r\n",
        "\t\r\n",
        "\t\t\t\tvar evt=evt?evt:window.event;\r\n",
        "\t\t\t\tif(star==\"\"&star==0) star=1;\r\n",
        "\t\r\n",
        "\t\t\t\tvar nextStar=1;\r\n",
        "\t\r\n",
        "\t\t\t\tif(evt.altKey&&evt.keyCode==33){\r\n",
        "\t\t\t\t\tif(star<=1) return;\r\n",
        "\t\t\t\t\tnextStar=star-1;\r\n",
        "\t\t\t\t\twindow.location.href=fileName+origin_search+\"&page=\"+nextStar;\r\n",
        "\t\t\t\t}else if (evt.altKey && evt.keyCode == 34){\r\n",
        "\t\t\t\t\t//if(star>=total_star) return;\r\n",
        "\t\t\t\t\tnextStar=star+1;\r\n",
        "\t\t\t\t\twindow.location.href=fileName+origin_search+\"&page=\"+nextStar;\r\n",
        "\t\t\t\t}else if(evt.altKey && evt.keyCode == 45){\r\n",
        "\t\t\t\t\t//\u5feb\u6377\u952e \u53d1\u8868\u65b0\u5e16\r\n",
        "\t\t\t\t\twindow.location.href=\"announce.asp?BoardID=509\";\r\n",
        "\t\t\t\t}else if (evt.altKey&&evt.keyCode==36){\r\n",
        "\t\t\t\t\t//\u5feb\u6377\u952e \u56de\u5230\u9996\u9875\r\n",
        "\t\t\t\t\twindow.location.href=\"index.asp\";\r\n",
        "\t\t\t\t}else if (evt.altKey&&evt.keyCode==35){\r\n",
        "\t\t\t\t\t//\u5feb\u6377\u952e \u5b9a\u7126\u4e2a\u4eba\u5b9a\u5236\u8df3\u8f6c\r\n",
        "\t\t\t\t\tdocument.getElementById(\"personal\").click();\r\n",
        "\t\t\t\t}\r\n",
        "\r\n",
        "\t\t\t}\r\n",
        "\t\t\tif(window.document.addEventListener){\r\n",
        "\t\t\t\twindow.document.addEventListener(\"keydown\",_shortcut,false);\r\n",
        "\t\t\t}else{\r\n",
        "\t\t\t\twindow.document.attachEvent(\"onkeydown\",_shortcut,false);\r\n",
        "\t\t\t}\r\n",
        "\r\n",
        "\r\n",
        "\t\t</script>\r\n",
        "\t\t\n"
       ]
      }
     ],
     "prompt_number": 1
    },
    {
     "cell_type": "markdown",
     "metadata": {},
     "source": [
      "## \u62bd\u53d6\u677f\u5757\u5185\u7684\u7ffb\u9875\u6570\n",
      "\n",
      "\u8981\u83b7\u53d6\u6240\u6709\u5e16\u5b50\u7684\u94fe\u63a5, \u5fc5\u9700\u5148\u77e5\u9053\u5e16\u5b50\u5217\u8868\u603b\u5171\u6709\u591a\u5c11\u9875."
     ]
    },
    {
     "cell_type": "code",
     "collapsed": false,
     "input": [
      "import urllib2\n",
      "import re\n",
      "\n",
      "r = urllib2.urlopen('http://www.cc98.org/list.asp?boardid=509&page=1')\n",
      "print re.search(r'<b>(\\d+)</b>\u9875', r.read()).group(1)"
     ],
     "language": "python",
     "metadata": {},
     "outputs": [
      {
       "output_type": "stream",
       "stream": "stdout",
       "text": [
        "80\n"
       ]
      }
     ],
     "prompt_number": 2
    },
    {
     "cell_type": "markdown",
     "metadata": {},
     "source": [
      "\u5199\u6210\u51fd\u6570, \u65b9\u4fbf\u540e\u7eed\u4f7f\u7528:"
     ]
    },
    {
     "cell_type": "code",
     "collapsed": false,
     "input": [
      "import urllib2\n",
      "import re\n",
      "\n",
      "def page_count():\n",
      "    r = urllib2.urlopen('http://www.cc98.org/list.asp?boardid=509&page=1')\n",
      "    return int(re.search(r'<b>(\\d+)</b>\u9875', r.read()).group(1))\n",
      "\n",
      "print page_count()"
     ],
     "language": "python",
     "metadata": {},
     "outputs": [
      {
       "output_type": "stream",
       "stream": "stdout",
       "text": [
        "80\n"
       ]
      }
     ],
     "prompt_number": 3
    },
    {
     "cell_type": "markdown",
     "metadata": {},
     "source": [
      "## \u62bd\u53d6\u4e00\u9875\u5185\u7684\u5e16\u5b50\u94fe\u63a5"
     ]
    },
    {
     "cell_type": "code",
     "collapsed": false,
     "input": [
      "import urllib2\n",
      "import re\n",
      "\n",
      "r = urllib2.urlopen('http://www.cc98.org/list.asp?boardid=509&page=1')\n",
      "print re.findall(r'dispbbs\\.asp\\?boardID=509&ID=\\d+&page=1', r.read())"
     ],
     "language": "python",
     "metadata": {},
     "outputs": [
      {
       "output_type": "stream",
       "stream": "stdout",
       "text": [
        "['dispbbs.asp?boardID=509&ID=3203506&page=1', 'dispbbs.asp?boardID=509&ID=1714926&page=1', 'dispbbs.asp?boardID=509&ID=4218945&page=1', 'dispbbs.asp?boardID=509&ID=4218896&page=1', 'dispbbs.asp?boardID=509&ID=4218362&page=1', 'dispbbs.asp?boardID=509&ID=4196099&page=1', 'dispbbs.asp?boardID=509&ID=4209031&page=1', 'dispbbs.asp?boardID=509&ID=4216916&page=1', 'dispbbs.asp?boardID=509&ID=4213203&page=1', 'dispbbs.asp?boardID=509&ID=4211897&page=1', 'dispbbs.asp?boardID=509&ID=4210941&page=1', 'dispbbs.asp?boardID=509&ID=4203262&page=1', 'dispbbs.asp?boardID=509&ID=4200069&page=1', 'dispbbs.asp?boardID=509&ID=4208466&page=1', 'dispbbs.asp?boardID=509&ID=4127687&page=1', 'dispbbs.asp?boardID=509&ID=4201518&page=1', 'dispbbs.asp?boardID=509&ID=4205194&page=1', 'dispbbs.asp?boardID=509&ID=4205174&page=1', 'dispbbs.asp?boardID=509&ID=4204380&page=1', 'dispbbs.asp?boardID=509&ID=4204095&page=1', 'dispbbs.asp?boardID=509&ID=4119574&page=1', 'dispbbs.asp?boardID=509&ID=4194114&page=1']\n"
       ]
      }
     ],
     "prompt_number": 4
    },
    {
     "cell_type": "markdown",
     "metadata": {},
     "source": [
      "\u8bd5\u8bd5\u770b\u7b2c\u4e8c\u9875:"
     ]
    },
    {
     "cell_type": "code",
     "collapsed": false,
     "input": [
      "import urllib2\n",
      "import re\n",
      "\n",
      "r = urllib2.urlopen('http://www.cc98.org/list.asp?boardid=509&page=2')\n",
      "print re.findall(r'dispbbs\\.asp\\?boardID=509&ID=\\d+&page=1', r.read())"
     ],
     "language": "python",
     "metadata": {},
     "outputs": [
      {
       "output_type": "stream",
       "stream": "stdout",
       "text": [
        "[]\n"
       ]
      }
     ],
     "prompt_number": 5
    },
    {
     "cell_type": "markdown",
     "metadata": {},
     "source": [
      "\u539f\u56e0\u662f\u7b2c\u4e8c\u9875\u4e0a\u7684\u5e16\u5b50\u94fe\u63a5\u6a21\u5f0f\u53d8\u4e86:"
     ]
    },
    {
     "cell_type": "code",
     "collapsed": false,
     "input": [
      "import urllib2\n",
      "import re\n",
      "\n",
      "r = urllib2.urlopen('http://www.cc98.org/list.asp?boardid=509&page=2')\n",
      "print re.findall(r'dispbbs\\.asp\\?boardID=509&ID=\\d+&page=2', r.read())"
     ],
     "language": "python",
     "metadata": {},
     "outputs": [
      {
       "output_type": "stream",
       "stream": "stdout",
       "text": [
        "['dispbbs.asp?boardID=509&ID=4195285&page=2', 'dispbbs.asp?boardID=509&ID=4194135&page=2', 'dispbbs.asp?boardID=509&ID=4199373&page=2', 'dispbbs.asp?boardID=509&ID=4195262&page=2', 'dispbbs.asp?boardID=509&ID=4196150&page=2', 'dispbbs.asp?boardID=509&ID=4191389&page=2', 'dispbbs.asp?boardID=509&ID=4191318&page=2', 'dispbbs.asp?boardID=509&ID=4191313&page=2', 'dispbbs.asp?boardID=509&ID=4187844&page=2', 'dispbbs.asp?boardID=509&ID=4186969&page=2', 'dispbbs.asp?boardID=509&ID=4190265&page=2', 'dispbbs.asp?boardID=509&ID=4190187&page=2', 'dispbbs.asp?boardID=509&ID=4182615&page=2', 'dispbbs.asp?boardID=509&ID=4187328&page=2', 'dispbbs.asp?boardID=509&ID=4186009&page=2', 'dispbbs.asp?boardID=509&ID=4185826&page=2', 'dispbbs.asp?boardID=509&ID=4183861&page=2', 'dispbbs.asp?boardID=509&ID=4184492&page=2', 'dispbbs.asp?boardID=509&ID=4183336&page=2', 'dispbbs.asp?boardID=509&ID=4174407&page=2']\n"
       ]
      }
     ],
     "prompt_number": 6
    },
    {
     "cell_type": "markdown",
     "metadata": {},
     "source": [
      "\u628a\u53d8\u91cf`page`\u62bd\u8c61\u51fa\u6765, \u5199\u6210\u51fd\u6570:"
     ]
    },
    {
     "cell_type": "code",
     "collapsed": false,
     "input": [
      "import urllib2\n",
      "import re\n",
      "\n",
      "def post_urls(page):\n",
      "    r = urllib2.urlopen('http://www.cc98.org/list.asp?boardid=509&page=%d' % page)\n",
      "    return re.findall(r'dispbbs\\.asp\\?boardID=509&ID=\\d+&page=%d' % page, r.read())\n",
      "    \n",
      "print post_urls(1)\n",
      "print post_urls(2)"
     ],
     "language": "python",
     "metadata": {},
     "outputs": [
      {
       "output_type": "stream",
       "stream": "stdout",
       "text": [
        "['dispbbs.asp?boardID=509&ID=3203506&page=1', 'dispbbs.asp?boardID=509&ID=1714926&page=1', 'dispbbs.asp?boardID=509&ID=4218945&page=1', 'dispbbs.asp?boardID=509&ID=4218896&page=1', 'dispbbs.asp?boardID=509&ID=4218362&page=1', 'dispbbs.asp?boardID=509&ID=4196099&page=1', 'dispbbs.asp?boardID=509&ID=4209031&page=1', 'dispbbs.asp?boardID=509&ID=4216916&page=1', 'dispbbs.asp?boardID=509&ID=4213203&page=1', 'dispbbs.asp?boardID=509&ID=4211897&page=1', 'dispbbs.asp?boardID=509&ID=4210941&page=1', 'dispbbs.asp?boardID=509&ID=4203262&page=1', 'dispbbs.asp?boardID=509&ID=4200069&page=1', 'dispbbs.asp?boardID=509&ID=4208466&page=1', 'dispbbs.asp?boardID=509&ID=4127687&page=1', 'dispbbs.asp?boardID=509&ID=4201518&page=1', 'dispbbs.asp?boardID=509&ID=4205194&page=1', 'dispbbs.asp?boardID=509&ID=4205174&page=1', 'dispbbs.asp?boardID=509&ID=4204380&page=1', 'dispbbs.asp?boardID=509&ID=4204095&page=1', 'dispbbs.asp?boardID=509&ID=4119574&page=1', 'dispbbs.asp?boardID=509&ID=4194114&page=1']\n",
        "['dispbbs.asp?boardID=509&ID=4195285&page=2', 'dispbbs.asp?boardID=509&ID=4194135&page=2', 'dispbbs.asp?boardID=509&ID=4199373&page=2', 'dispbbs.asp?boardID=509&ID=4195262&page=2', 'dispbbs.asp?boardID=509&ID=4196150&page=2', 'dispbbs.asp?boardID=509&ID=4191389&page=2', 'dispbbs.asp?boardID=509&ID=4191318&page=2', 'dispbbs.asp?boardID=509&ID=4191313&page=2', 'dispbbs.asp?boardID=509&ID=4187844&page=2', 'dispbbs.asp?boardID=509&ID=4186969&page=2', 'dispbbs.asp?boardID=509&ID=4190265&page=2', 'dispbbs.asp?boardID=509&ID=4190187&page=2', 'dispbbs.asp?boardID=509&ID=4182615&page=2', 'dispbbs.asp?boardID=509&ID=4187328&page=2', 'dispbbs.asp?boardID=509&ID=4186009&page=2', 'dispbbs.asp?boardID=509&ID=4185826&page=2', 'dispbbs.asp?boardID=509&ID=4183861&page=2', 'dispbbs.asp?boardID=509&ID=4184492&page=2', 'dispbbs.asp?boardID=509&ID=4183336&page=2', 'dispbbs.asp?boardID=509&ID=4174407&page=2']"
       ]
      },
      {
       "output_type": "stream",
       "stream": "stdout",
       "text": [
        "\n"
       ]
      }
     ],
     "prompt_number": 7
    },
    {
     "cell_type": "markdown",
     "metadata": {},
     "source": [
      "\u8f6c\u6362\u6210\u7edd\u5bf9\u5730\u5740(\u4ee5`http://www.cc98.org`\u5f00\u5934\u7684\u5730\u5740):"
     ]
    },
    {
     "cell_type": "code",
     "collapsed": false,
     "input": [
      "import urllib2\n",
      "import re\n",
      "from urlparse import urljoin\n",
      "\n",
      "def post_urls(page):\n",
      "    r = urllib2.urlopen('http://www.cc98.org/list.asp?boardid=509&page=%d' % page)\n",
      "    urls = re.findall(r'dispbbs\\.asp\\?boardID=509&ID=\\d+&page=%d' % page, r.read())\n",
      "    return [urljoin('http://www.cc98.org', url) for url in urls]\n",
      "\n",
      "print post_urls(1)"
     ],
     "language": "python",
     "metadata": {},
     "outputs": [
      {
       "output_type": "stream",
       "stream": "stdout",
       "text": [
        "['http://www.cc98.org/dispbbs.asp?boardID=509&ID=3203506&page=1', 'http://www.cc98.org/dispbbs.asp?boardID=509&ID=1714926&page=1', 'http://www.cc98.org/dispbbs.asp?boardID=509&ID=4218945&page=1', 'http://www.cc98.org/dispbbs.asp?boardID=509&ID=4218896&page=1', 'http://www.cc98.org/dispbbs.asp?boardID=509&ID=4218362&page=1', 'http://www.cc98.org/dispbbs.asp?boardID=509&ID=4196099&page=1', 'http://www.cc98.org/dispbbs.asp?boardID=509&ID=4209031&page=1', 'http://www.cc98.org/dispbbs.asp?boardID=509&ID=4216916&page=1', 'http://www.cc98.org/dispbbs.asp?boardID=509&ID=4213203&page=1', 'http://www.cc98.org/dispbbs.asp?boardID=509&ID=4211897&page=1', 'http://www.cc98.org/dispbbs.asp?boardID=509&ID=4210941&page=1', 'http://www.cc98.org/dispbbs.asp?boardID=509&ID=4203262&page=1', 'http://www.cc98.org/dispbbs.asp?boardID=509&ID=4200069&page=1', 'http://www.cc98.org/dispbbs.asp?boardID=509&ID=4208466&page=1', 'http://www.cc98.org/dispbbs.asp?boardID=509&ID=4127687&page=1', 'http://www.cc98.org/dispbbs.asp?boardID=509&ID=4201518&page=1', 'http://www.cc98.org/dispbbs.asp?boardID=509&ID=4205194&page=1', 'http://www.cc98.org/dispbbs.asp?boardID=509&ID=4205174&page=1', 'http://www.cc98.org/dispbbs.asp?boardID=509&ID=4204380&page=1', 'http://www.cc98.org/dispbbs.asp?boardID=509&ID=4204095&page=1', 'http://www.cc98.org/dispbbs.asp?boardID=509&ID=4119574&page=1', 'http://www.cc98.org/dispbbs.asp?boardID=509&ID=4194114&page=1']\n"
       ]
      }
     ],
     "prompt_number": 8
    },
    {
     "cell_type": "markdown",
     "metadata": {},
     "source": [
      "## \u62bd\u53d6\u5168\u90e8\u5e16\u5b50\u94fe\u63a5"
     ]
    },
    {
     "cell_type": "code",
     "collapsed": false,
     "input": [
      "import urllib2\n",
      "import re\n",
      "from urlparse import urljoin\n",
      "\n",
      "def post_urls(page):\n",
      "    r = urllib2.urlopen('http://www.cc98.org/list.asp?boardid=509&page=%d' % page)\n",
      "    urls = re.findall(r'dispbbs\\.asp\\?boardID=509&ID=\\d+&page=%d' % page, r.read())\n",
      "    return [urljoin('http://www.cc98.org', url) for url in urls]\n",
      "\n",
      "def page_count():\n",
      "    r = urllib2.urlopen('http://www.cc98.org/list.asp?boardid=509&page=1')\n",
      "    return int(re.search(r'<b>(\\d+)</b>\u9875', r.read()).group(1))\n",
      "\n",
      "urls = []\n",
      "for page in range(1, page_count() + 1):\n",
      "    urls.extend(post_urls(page))\n",
      "    \n",
      "print urls"
     ],
     "language": "python",
     "metadata": {},
     "outputs": [
      {
       "output_type": "stream",
       "stream": "stdout",
       "text": [
        "['http://www.cc98.org/dispbbs.asp?boardID=509&ID=3203506&page=1', 'http://www.cc98.org/dispbbs.asp?boardID=509&ID=1714926&page=1', 'http://www.cc98.org/dispbbs.asp?boardID=509&ID=4218945&page=1', 'http://www.cc98.org/dispbbs.asp?boardID=509&ID=4218896&page=1', 'http://www.cc98.org/dispbbs.asp?boardID=509&ID=4218362&page=1', 'http://www.cc98.org/dispbbs.asp?boardID=509&ID=4196099&page=1', 'http://www.cc98.org/dispbbs.asp?boardID=509&ID=4209031&page=1', 'http://www.cc98.org/dispbbs.asp?boardID=509&ID=4216916&page=1', 'http://www.cc98.org/dispbbs.asp?boardID=509&ID=4213203&page=1', 'http://www.cc98.org/dispbbs.asp?boardID=509&ID=4211897&page=1', 'http://www.cc98.org/dispbbs.asp?boardID=509&ID=4210941&page=1', 'http://www.cc98.org/dispbbs.asp?boardID=509&ID=4203262&page=1', 'http://www.cc98.org/dispbbs.asp?boardID=509&ID=4200069&page=1', 'http://www.cc98.org/dispbbs.asp?boardID=509&ID=4208466&page=1', 'http://www.cc98.org/dispbbs.asp?boardID=509&ID=4127687&page=1', 'http://www.cc98.org/dispbbs.asp?boardID=509&ID=4201518&page=1', 'http://www.cc98.org/dispbbs.asp?boardID=509&ID=4205194&page=1', 'http://www.cc98.org/dispbbs.asp?boardID=509&ID=4205174&page=1', 'http://www.cc98.org/dispbbs.asp?boardID=509&ID=4204380&page=1', 'http://www.cc98.org/dispbbs.asp?boardID=509&ID=4204095&page=1', 'http://www.cc98.org/dispbbs.asp?boardID=509&ID=4119574&page=1', 'http://www.cc98.org/dispbbs.asp?boardID=509&ID=4194114&page=1', 'http://www.cc98.org/dispbbs.asp?boardID=509&ID=4195285&page=2', 'http://www.cc98.org/dispbbs.asp?boardID=509&ID=4194135&page=2', 'http://www.cc98.org/dispbbs.asp?boardID=509&ID=4199373&page=2', 'http://www.cc98.org/dispbbs.asp?boardID=509&ID=4195262&page=2', 'http://www.cc98.org/dispbbs.asp?boardID=509&ID=4196150&page=2', 'http://www.cc98.org/dispbbs.asp?boardID=509&ID=4191389&page=2', 'http://www.cc98.org/dispbbs.asp?boardID=509&ID=4191318&page=2', 'http://www.cc98.org/dispbbs.asp?boardID=509&ID=4191313&page=2', 'http://www.cc98.org/dispbbs.asp?boardID=509&ID=4187844&page=2', 'http://www.cc98.org/dispbbs.asp?boardID=509&ID=4186969&page=2', 'http://www.cc98.org/dispbbs.asp?boardID=509&ID=4190265&page=2', 'http://www.cc98.org/dispbbs.asp?boardID=509&ID=4190187&page=2', 'http://www.cc98.org/dispbbs.asp?boardID=509&ID=4182615&page=2', 'http://www.cc98.org/dispbbs.asp?boardID=509&ID=4187328&page=2', 'http://www.cc98.org/dispbbs.asp?boardID=509&ID=4186009&page=2', 'http://www.cc98.org/dispbbs.asp?boardID=509&ID=4185826&page=2', 'http://www.cc98.org/dispbbs.asp?boardID=509&ID=4183861&page=2', 'http://www.cc98.org/dispbbs.asp?boardID=509&ID=4184492&page=2', 'http://www.cc98.org/dispbbs.asp?boardID=509&ID=4183336&page=2', 'http://www.cc98.org/dispbbs.asp?boardID=509&ID=4174407&page=2', 'http://www.cc98.org/dispbbs.asp?boardID=509&ID=4182503&page=3', 'http://www.cc98.org/dispbbs.asp?boardID=509&ID=4182254&page=3', 'http://www.cc98.org/dispbbs.asp?boardID=509&ID=4179005&page=3', 'http://www.cc98.org/dispbbs.asp?boardID=509&ID=4179947&page=3', 'http://www.cc98.org/dispbbs.asp?boardID=509&ID=4174249&page=3', 'http://www.cc98.org/dispbbs.asp?boardID=509&ID=4175692&page=3', 'http://www.cc98.org/dispbbs.asp?boardID=509&ID=4176355&page=3', 'http://www.cc98.org/dispbbs.asp?boardID=509&ID=4176211&page=3', 'http://www.cc98.org/dispbbs.asp?boardID=509&ID=4176119&page=3', 'http://www.cc98.org/dispbbs.asp?boardID=509&ID=4175528&page=3', 'http://www.cc98.org/dispbbs.asp?boardID=509&ID=4174705&page=3', 'http://www.cc98.org/dispbbs.asp?boardID=509&ID=4158626&page=3', 'http://www.cc98.org/dispbbs.asp?boardID=509&ID=4173952&page=3', 'http://www.cc98.org/dispbbs.asp?boardID=509&ID=4173740&page=3', 'http://www.cc98.org/dispbbs.asp?boardID=509&ID=4171841&page=3', 'http://www.cc98.org/dispbbs.asp?boardID=509&ID=4173755&page=3', 'http://www.cc98.org/dispbbs.asp?boardID=509&ID=4167986&page=3', 'http://www.cc98.org/dispbbs.asp?boardID=509&ID=4171662&page=3', 'http://www.cc98.org/dispbbs.asp?boardID=509&ID=4171658&page=3', 'http://www.cc98.org/dispbbs.asp?boardID=509&ID=4169417&page=3', 'http://www.cc98.org/dispbbs.asp?boardID=509&ID=4168363&page=4', 'http://www.cc98.org/dispbbs.asp?boardID=509&ID=4168192&page=4', 'http://www.cc98.org/dispbbs.asp?boardID=509&ID=4114939&page=4', 'http://www.cc98.org/dispbbs.asp?boardID=509&ID=4166096&page=4', 'http://www.cc98.org/dispbbs.asp?boardID=509&ID=4166094&page=4', 'http://www.cc98.org/dispbbs.asp?boardID=509&ID=4143011&page=4', 'http://www.cc98.org/dispbbs.asp?boardID=509&ID=4165970&page=4', 'http://www.cc98.org/dispbbs.asp?boardID=509&ID=4135397&page=4', 'http://www.cc98.org/dispbbs.asp?boardID=509&ID=3215619&page=4', 'http://www.cc98.org/dispbbs.asp?boardID=509&ID=4161472&page=4', 'http://www.cc98.org/dispbbs.asp?boardID=509&ID=4160747&page=4', 'http://www.cc98.org/dispbbs.asp?boardID=509&ID=4159102&page=4', 'http://www.cc98.org/dispbbs.asp?boardID=509&ID=4158617&page=4', 'http://www.cc98.org/dispbbs.asp?boardID=509&ID=4158612&page=4', 'http://www.cc98.org/dispbbs.asp?boardID=509&ID=4158605&page=4', 'http://www.cc98.org/dispbbs.asp?boardID=509&ID=4158333&page=4', 'http://www.cc98.org/dispbbs.asp?boardID=509&ID=4158119&page=4', 'http://www.cc98.org/dispbbs.asp?boardID=509&ID=4156514&page=4', 'http://www.cc98.org/dispbbs.asp?boardID=509&ID=4157799&page=4', 'http://www.cc98.org/dispbbs.asp?boardID=509&ID=4156800&page=4', 'http://www.cc98.org/dispbbs.asp?boardID=509&ID=4155762&page=5', 'http://www.cc98.org/dispbbs.asp?boardID=509&ID=4150918&page=5', 'http://www.cc98.org/dispbbs.asp?boardID=509&ID=4145600&page=5', 'http://www.cc98.org/dispbbs.asp?boardID=509&ID=4154587&page=5', 'http://www.cc98.org/dispbbs.asp?boardID=509&ID=4151045&page=5', 'http://www.cc98.org/dispbbs.asp?boardID=509&ID=4150217&page=5', 'http://www.cc98.org/dispbbs.asp?boardID=509&ID=4148211&page=5', 'http://www.cc98.org/dispbbs.asp?boardID=509&ID=4136712&page=5', 'http://www.cc98.org/dispbbs.asp?boardID=509&ID=4148867&page=5', 'http://www.cc98.org/dispbbs.asp?boardID=509&ID=1720720&page=5', 'http://www.cc98.org/dispbbs.asp?boardID=509&ID=4147615&page=5', 'http://www.cc98.org/dispbbs.asp?boardID=509&ID=4105485&page=5', 'http://www.cc98.org/dispbbs.asp?boardID=509&ID=4147262&page=5', 'http://www.cc98.org/dispbbs.asp?boardID=509&ID=4147220&page=5', 'http://www.cc98.org/dispbbs.asp?boardID=509&ID=4146371&page=5', 'http://www.cc98.org/dispbbs.asp?boardID=509&ID=4145605&page=5', 'http://www.cc98.org/dispbbs.asp?boardID=509&ID=4144890&page=5', 'http://www.cc98.org/dispbbs.asp?boardID=509&ID=4143036&page=5', 'http://www.cc98.org/dispbbs.asp?boardID=509&ID=4141860&page=5', 'http://www.cc98.org/dispbbs.asp?boardID=509&ID=4136255&page=5', 'http://www.cc98.org/dispbbs.asp?boardID=509&ID=4140354&page=6', 'http://www.cc98.org/dispbbs.asp?boardID=509&ID=4139975&page=6', 'http://www.cc98.org/dispbbs.asp?boardID=509&ID=4136245&page=6', 'http://www.cc98.org/dispbbs.asp?boardID=509&ID=4137283&page=6', 'http://www.cc98.org/dispbbs.asp?boardID=509&ID=4137290&page=6', 'http://www.cc98.org/dispbbs.asp?boardID=509&ID=4137590&page=6', 'http://www.cc98.org/dispbbs.asp?boardID=509&ID=4124118&page=6', 'http://www.cc98.org/dispbbs.asp?boardID=509&ID=4136523&page=6', 'http://www.cc98.org/dispbbs.asp?boardID=509&ID=4136263&page=6', 'http://www.cc98.org/dispbbs.asp?boardID=509&ID=4133390&page=6', 'http://www.cc98.org/dispbbs.asp?boardID=509&ID=4134115&page=6', 'http://www.cc98.org/dispbbs.asp?boardID=509&ID=4133823&page=6', 'http://www.cc98.org/dispbbs.asp?boardID=509&ID=4131267&page=6', 'http://www.cc98.org/dispbbs.asp?boardID=509&ID=4132307&page=6', 'http://www.cc98.org/dispbbs.asp?boardID=509&ID=4132058&page=6', 'http://www.cc98.org/dispbbs.asp?boardID=509&ID=4130415&page=6', 'http://www.cc98.org/dispbbs.asp?boardID=509&ID=4131760&page=6', 'http://www.cc98.org/dispbbs.asp?boardID=509&ID=4130385&page=6', 'http://www.cc98.org/dispbbs.asp?boardID=509&ID=4130330&page=6', 'http://www.cc98.org/dispbbs.asp?boardID=509&ID=4129570&page=6', 'http://www.cc98.org/dispbbs.asp?boardID=509&ID=4127078&page=7', 'http://www.cc98.org/dispbbs.asp?boardID=509&ID=4126722&page=7', 'http://www.cc98.org/dispbbs.asp?boardID=509&ID=4126692&page=7', 'http://www.cc98.org/dispbbs.asp?boardID=509&ID=4126408&page=7', 'http://www.cc98.org/dispbbs.asp?boardID=509&ID=4126267&page=7', 'http://www.cc98.org/dispbbs.asp?boardID=509&ID=4123256&page=7', 'http://www.cc98.org/dispbbs.asp?boardID=509&ID=4121481&page=7', 'http://www.cc98.org/dispbbs.asp?boardID=509&ID=4117842&page=7', 'http://www.cc98.org/dispbbs.asp?boardID=509&ID=4120902&page=7', 'http://www.cc98.org/dispbbs.asp?boardID=509&ID=4120245&page=7', 'http://www.cc98.org/dispbbs.asp?boardID=509&ID=4120165&page=7', 'http://www.cc98.org/dispbbs.asp?boardID=509&ID=4119855&page=7', 'http://www.cc98.org/dispbbs.asp?boardID=509&ID=4119520&page=7', 'http://www.cc98.org/dispbbs.asp?boardID=509&ID=4113585&page=7', 'http://www.cc98.org/dispbbs.asp?boardID=509&ID=4117909&page=7', 'http://www.cc98.org/dispbbs.asp?boardID=509&ID=4117578&page=7', 'http://www.cc98.org/dispbbs.asp?boardID=509&ID=4116875&page=7', 'http://www.cc98.org/dispbbs.asp?boardID=509&ID=4113319&page=7', 'http://www.cc98.org/dispbbs.asp?boardID=509&ID=4103889&page=7', 'http://www.cc98.org/dispbbs.asp?boardID=509&ID=4114106&page=7', 'http://www.cc98.org/dispbbs.asp?boardID=509&ID=4113308&page=8', 'http://www.cc98.org/dispbbs.asp?boardID=509&ID=4111730&page=8', 'http://www.cc98.org/dispbbs.asp?boardID=509&ID=4111656&page=8', 'http://www.cc98.org/dispbbs.asp?boardID=509&ID=4111575&page=8', 'http://www.cc98.org/dispbbs.asp?boardID=509&ID=4110724&page=8', 'http://www.cc98.org/dispbbs.asp?boardID=509&ID=4102264&page=8', 'http://www.cc98.org/dispbbs.asp?boardID=509&ID=4106353&page=8', 'http://www.cc98.org/dispbbs.asp?boardID=509&ID=4107634&page=8', 'http://www.cc98.org/dispbbs.asp?boardID=509&ID=4105568&page=8', 'http://www.cc98.org/dispbbs.asp?boardID=509&ID=4105634&page=8', 'http://www.cc98.org/dispbbs.asp?boardID=509&ID=4102186&page=8', 'http://www.cc98.org/dispbbs.asp?boardID=509&ID=4104620&page=8', 'http://www.cc98.org/dispbbs.asp?boardID=509&ID=4103083&page=8', 'http://www.cc98.org/dispbbs.asp?boardID=509&ID=4101842&page=8', 'http://www.cc98.org/dispbbs.asp?boardID=509&ID=4101223&page=8', 'http://www.cc98.org/dispbbs.asp?boardID=509&ID=4101622&page=8', 'http://www.cc98.org/dispbbs.asp?boardID=509&ID=4100911&page=8', 'http://www.cc98.org/dispbbs.asp?boardID=509&ID=4100512&page=8', 'http://www.cc98.org/dispbbs.asp?boardID=509&ID=4101027&page=8', 'http://www.cc98.org/dispbbs.asp?boardID=509&ID=4100910&page=8', 'http://www.cc98.org/dispbbs.asp?boardID=509&ID=4097030&page=9', 'http://www.cc98.org/dispbbs.asp?boardID=509&ID=4090133&page=9', 'http://www.cc98.org/dispbbs.asp?boardID=509&ID=4073026&page=9', 'http://www.cc98.org/dispbbs.asp?boardID=509&ID=4096183&page=9', 'http://www.cc98.org/dispbbs.asp?boardID=509&ID=4098735&page=9', 'http://www.cc98.org/dispbbs.asp?boardID=509&ID=4098803&page=9', 'http://www.cc98.org/dispbbs.asp?boardID=509&ID=4081930&page=9', 'http://www.cc98.org/dispbbs.asp?boardID=509&ID=4098411&page=9', 'http://www.cc98.org/dispbbs.asp?boardID=509&ID=4097666&page=9', 'http://www.cc98.org/dispbbs.asp?boardID=509&ID=4062674&page=9', 'http://www.cc98.org/dispbbs.asp?boardID=509&ID=4094470&page=9', 'http://www.cc98.org/dispbbs.asp?boardID=509&ID=4091370&page=9', 'http://www.cc98.org/dispbbs.asp?boardID=509&ID=4057218&page=9', 'http://www.cc98.org/dispbbs.asp?boardID=509&ID=4090932&page=9', 'http://www.cc98.org/dispbbs.asp?boardID=509&ID=4087286&page=9', 'http://www.cc98.org/dispbbs.asp?boardID=509&ID=4083457&page=9', 'http://www.cc98.org/dispbbs.asp?boardID=509&ID=4087019&page=9', 'http://www.cc98.org/dispbbs.asp?boardID=509&ID=4086810&page=9', 'http://www.cc98.org/dispbbs.asp?boardID=509&ID=4084379&page=9', 'http://www.cc98.org/dispbbs.asp?boardID=509&ID=4084795&page=9', 'http://www.cc98.org/dispbbs.asp?boardID=509&ID=4076946&page=10', 'http://www.cc98.org/dispbbs.asp?boardID=509&ID=4077020&page=10', 'http://www.cc98.org/dispbbs.asp?boardID=509&ID=4076355&page=10', 'http://www.cc98.org/dispbbs.asp?boardID=509&ID=4075432&page=10', 'http://www.cc98.org/dispbbs.asp?boardID=509&ID=4073753&page=10', 'http://www.cc98.org/dispbbs.asp?boardID=509&ID=4072169&page=10', 'http://www.cc98.org/dispbbs.asp?boardID=509&ID=4071929&page=10', 'http://www.cc98.org/dispbbs.asp?boardID=509&ID=4071369&page=10', 'http://www.cc98.org/dispbbs.asp?boardID=509&ID=4071149&page=10', 'http://www.cc98.org/dispbbs.asp?boardID=509&ID=4069938&page=10', 'http://www.cc98.org/dispbbs.asp?boardID=509&ID=4059567&page=10', 'http://www.cc98.org/dispbbs.asp?boardID=509&ID=4068637&page=10', 'http://www.cc98.org/dispbbs.asp?boardID=509&ID=4067042&page=10', 'http://www.cc98.org/dispbbs.asp?boardID=509&ID=4067035&page=10', 'http://www.cc98.org/dispbbs.asp?boardID=509&ID=4065809&page=10', 'http://www.cc98.org/dispbbs.asp?boardID=509&ID=4059759&page=10', 'http://www.cc98.org/dispbbs.asp?boardID=509&ID=4063032&page=10', 'http://www.cc98.org/dispbbs.asp?boardID=509&ID=4060226&page=10', 'http://www.cc98.org/dispbbs.asp?boardID=509&ID=4055251&page=10', 'http://www.cc98.org/dispbbs.asp?boardID=509&ID=4031298&page=10', 'http://www.cc98.org/dispbbs.asp?boardID=509&ID=4057735&page=11', 'http://www.cc98.org/dispbbs.asp?boardID=509&ID=4056665&page=11', 'http://www.cc98.org/dispbbs.asp?boardID=509&ID=4055819&page=11', 'http://www.cc98.org/dispbbs.asp?boardID=509&ID=4003425&page=11', 'http://www.cc98.org/dispbbs.asp?boardID=509&ID=4054511&page=11', 'http://www.cc98.org/dispbbs.asp?boardID=509&ID=4054952&page=11', 'http://www.cc98.org/dispbbs.asp?boardID=509&ID=4054161&page=11', 'http://www.cc98.org/dispbbs.asp?boardID=509&ID=4052114&page=11', 'http://www.cc98.org/dispbbs.asp?boardID=509&ID=4053017&page=11', 'http://www.cc98.org/dispbbs.asp?boardID=509&ID=4075248&page=11', 'http://www.cc98.org/dispbbs.asp?boardID=509&ID=4051564&page=11', 'http://www.cc98.org/dispbbs.asp?boardID=509&ID=4051237&page=11', 'http://www.cc98.org/dispbbs.asp?boardID=509&ID=4046644&page=11', 'http://www.cc98.org/dispbbs.asp?boardID=509&ID=4048974&page=11', 'http://www.cc98.org/dispbbs.asp?boardID=509&ID=4038427&page=11', 'http://www.cc98.org/dispbbs.asp?boardID=509&ID=4010264&page=11', 'http://www.cc98.org/dispbbs.asp?boardID=509&ID=4046753&page=11', 'http://www.cc98.org/dispbbs.asp?boardID=509&ID=4007916&page=11', 'http://www.cc98.org/dispbbs.asp?boardID=509&ID=4043756&page=11', 'http://www.cc98.org/dispbbs.asp?boardID=509&ID=4045560&page=11', 'http://www.cc98.org/dispbbs.asp?boardID=509&ID=4045294&page=12', 'http://www.cc98.org/dispbbs.asp?boardID=509&ID=4045271&page=12', 'http://www.cc98.org/dispbbs.asp?boardID=509&ID=4044380&page=12', 'http://www.cc98.org/dispbbs.asp?boardID=509&ID=4036378&page=12', 'http://www.cc98.org/dispbbs.asp?boardID=509&ID=4041355&page=12', 'http://www.cc98.org/dispbbs.asp?boardID=509&ID=4028148&page=12', 'http://www.cc98.org/dispbbs.asp?boardID=509&ID=4038633&page=12', 'http://www.cc98.org/dispbbs.asp?boardID=509&ID=4041062&page=12', 'http://www.cc98.org/dispbbs.asp?boardID=509&ID=4039663&page=12', 'http://www.cc98.org/dispbbs.asp?boardID=509&ID=4036028&page=12', 'http://www.cc98.org/dispbbs.asp?boardID=509&ID=4038094&page=12', 'http://www.cc98.org/dispbbs.asp?boardID=509&ID=4027188&page=12', 'http://www.cc98.org/dispbbs.asp?boardID=509&ID=3775617&page=12', 'http://www.cc98.org/dispbbs.asp?boardID=509&ID=4037407&page=12', 'http://www.cc98.org/dispbbs.asp?boardID=509&ID=4036712&page=12', 'http://www.cc98.org/dispbbs.asp?boardID=509&ID=4034620&page=12', 'http://www.cc98.org/dispbbs.asp?boardID=509&ID=4036416&page=12', 'http://www.cc98.org/dispbbs.asp?boardID=509&ID=4035656&page=12', 'http://www.cc98.org/dispbbs.asp?boardID=509&ID=4034986&page=12', 'http://www.cc98.org/dispbbs.asp?boardID=509&ID=4034766&page=12', 'http://www.cc98.org/dispbbs.asp?boardID=509&ID=4034452&page=13', 'http://www.cc98.org/dispbbs.asp?boardID=509&ID=4031357&page=13', 'http://www.cc98.org/dispbbs.asp?boardID=509&ID=4030041&page=13', 'http://www.cc98.org/dispbbs.asp?boardID=509&ID=4030074&page=13', 'http://www.cc98.org/dispbbs.asp?boardID=509&ID=4029188&page=13', 'http://www.cc98.org/dispbbs.asp?boardID=509&ID=4029369&page=13', 'http://www.cc98.org/dispbbs.asp?boardID=509&ID=4028870&page=13', 'http://www.cc98.org/dispbbs.asp?boardID=509&ID=4027160&page=13', 'http://www.cc98.org/dispbbs.asp?boardID=509&ID=4008447&page=13', 'http://www.cc98.org/dispbbs.asp?boardID=509&ID=4024596&page=13', 'http://www.cc98.org/dispbbs.asp?boardID=509&ID=4024346&page=13', 'http://www.cc98.org/dispbbs.asp?boardID=509&ID=4024326&page=13', 'http://www.cc98.org/dispbbs.asp?boardID=509&ID=4023958&page=13', 'http://www.cc98.org/dispbbs.asp?boardID=509&ID=4023634&page=13', 'http://www.cc98.org/dispbbs.asp?boardID=509&ID=4021717&page=13', 'http://www.cc98.org/dispbbs.asp?boardID=509&ID=4016851&page=13', 'http://www.cc98.org/dispbbs.asp?boardID=509&ID=4013765&page=13', 'http://www.cc98.org/dispbbs.asp?boardID=509&ID=4022044&page=13', 'http://www.cc98.org/dispbbs.asp?boardID=509&ID=4021810&page=13', 'http://www.cc98.org/dispbbs.asp?boardID=509&ID=4020302&page=13', 'http://www.cc98.org/dispbbs.asp?boardID=509&ID=4010952&page=14', 'http://www.cc98.org/dispbbs.asp?boardID=509&ID=4019635&page=14', 'http://www.cc98.org/dispbbs.asp?boardID=509&ID=4021025&page=14', 'http://www.cc98.org/dispbbs.asp?boardID=509&ID=4020986&page=14', 'http://www.cc98.org/dispbbs.asp?boardID=509&ID=4020932&page=14', 'http://www.cc98.org/dispbbs.asp?boardID=509&ID=4016981&page=14', 'http://www.cc98.org/dispbbs.asp?boardID=509&ID=4018243&page=14', 'http://www.cc98.org/dispbbs.asp?boardID=509&ID=4018057&page=14', 'http://www.cc98.org/dispbbs.asp?boardID=509&ID=4015775&page=14', 'http://www.cc98.org/dispbbs.asp?boardID=509&ID=4016830&page=14', 'http://www.cc98.org/dispbbs.asp?boardID=509&ID=4016587&page=14', 'http://www.cc98.org/dispbbs.asp?boardID=509&ID=4016004&page=14', 'http://www.cc98.org/dispbbs.asp?boardID=509&ID=3917311&page=14', 'http://www.cc98.org/dispbbs.asp?boardID=509&ID=4012154&page=14', 'http://www.cc98.org/dispbbs.asp?boardID=509&ID=4014350&page=14', 'http://www.cc98.org/dispbbs.asp?boardID=509&ID=4012166&page=14', 'http://www.cc98.org/dispbbs.asp?boardID=509&ID=4012063&page=14', 'http://www.cc98.org/dispbbs.asp?boardID=509&ID=4011740&page=14', 'http://www.cc98.org/dispbbs.asp?boardID=509&ID=4008877&page=14', 'http://www.cc98.org/dispbbs.asp?boardID=509&ID=4007490&page=14', 'http://www.cc98.org/dispbbs.asp?boardID=509&ID=4009361&page=15', 'http://www.cc98.org/dispbbs.asp?boardID=509&ID=4002285&page=15', 'http://www.cc98.org/dispbbs.asp?boardID=509&ID=3984150&page=15', 'http://www.cc98.org/dispbbs.asp?boardID=509&ID=4007232&page=15', 'http://www.cc98.org/dispbbs.asp?boardID=509&ID=4007835&page=15', 'http://www.cc98.org/dispbbs.asp?boardID=509&ID=4000898&page=15', 'http://www.cc98.org/dispbbs.asp?boardID=509&ID=4002415&page=15', 'http://www.cc98.org/dispbbs.asp?boardID=509&ID=4004013&page=15', 'http://www.cc98.org/dispbbs.asp?boardID=509&ID=4003744&page=15', 'http://www.cc98.org/dispbbs.asp?boardID=509&ID=4003601&page=15', 'http://www.cc98.org/dispbbs.asp?boardID=509&ID=4003578&page=15', 'http://www.cc98.org/dispbbs.asp?boardID=509&ID=3997863&page=15', 'http://www.cc98.org/dispbbs.asp?boardID=509&ID=4002952&page=15', 'http://www.cc98.org/dispbbs.asp?boardID=509&ID=4001461&page=15', 'http://www.cc98.org/dispbbs.asp?boardID=509&ID=4001116&page=15', 'http://www.cc98.org/dispbbs.asp?boardID=509&ID=4000317&page=15', 'http://www.cc98.org/dispbbs.asp?boardID=509&ID=4001457&page=15', 'http://www.cc98.org/dispbbs.asp?boardID=509&ID=2814750&page=15', 'http://www.cc98.org/dispbbs.asp?boardID=509&ID=3995697&page=15', 'http://www.cc98.org/dispbbs.asp?boardID=509&ID=4000985&page=15', 'http://www.cc98.org/dispbbs.asp?boardID=509&ID=3999064&page=16', 'http://www.cc98.org/dispbbs.asp?boardID=509&ID=3731966&page=16', 'http://www.cc98.org/dispbbs.asp?boardID=509&ID=3998420&page=16', 'http://www.cc98.org/dispbbs.asp?boardID=509&ID=3998352&page=16', 'http://www.cc98.org/dispbbs.asp?boardID=509&ID=3997926&page=16', 'http://www.cc98.org/dispbbs.asp?boardID=509&ID=3995377&page=16', 'http://www.cc98.org/dispbbs.asp?boardID=509&ID=3990261&page=16', 'http://www.cc98.org/dispbbs.asp?boardID=509&ID=3991711&page=16', 'http://www.cc98.org/dispbbs.asp?boardID=509&ID=3992191&page=16', 'http://www.cc98.org/dispbbs.asp?boardID=509&ID=3990279&page=16', 'http://www.cc98.org/dispbbs.asp?boardID=509&ID=3701877&page=16', 'http://www.cc98.org/dispbbs.asp?boardID=509&ID=3987841&page=16', 'http://www.cc98.org/dispbbs.asp?boardID=509&ID=3987384&page=16', 'http://www.cc98.org/dispbbs.asp?boardID=509&ID=3987094&page=16', 'http://www.cc98.org/dispbbs.asp?boardID=509&ID=3969162&page=16', 'http://www.cc98.org/dispbbs.asp?boardID=509&ID=3984254&page=16', 'http://www.cc98.org/dispbbs.asp?boardID=509&ID=3983953&page=16', 'http://www.cc98.org/dispbbs.asp?boardID=509&ID=3982895&page=16', 'http://www.cc98.org/dispbbs.asp?boardID=509&ID=3980235&page=16', 'http://www.cc98.org/dispbbs.asp?boardID=509&ID=3976740&page=16', 'http://www.cc98.org/dispbbs.asp?boardID=509&ID=3859756&page=17', 'http://www.cc98.org/dispbbs.asp?boardID=509&ID=3967359&page=17', 'http://www.cc98.org/dispbbs.asp?boardID=509&ID=3974414&page=17', 'http://www.cc98.org/dispbbs.asp?boardID=509&ID=3975012&page=17', 'http://www.cc98.org/dispbbs.asp?boardID=509&ID=3957944&page=17', 'http://www.cc98.org/dispbbs.asp?boardID=509&ID=3971321&page=17', 'http://www.cc98.org/dispbbs.asp?boardID=509&ID=3970243&page=17', 'http://www.cc98.org/dispbbs.asp?boardID=509&ID=3970212&page=17', 'http://www.cc98.org/dispbbs.asp?boardID=509&ID=3970669&page=17', 'http://www.cc98.org/dispbbs.asp?boardID=509&ID=3970101&page=17', 'http://www.cc98.org/dispbbs.asp?boardID=509&ID=3970685&page=17', 'http://www.cc98.org/dispbbs.asp?boardID=509&ID=3964542&page=17', 'http://www.cc98.org/dispbbs.asp?boardID=509&ID=3969680&page=17', 'http://www.cc98.org/dispbbs.asp?boardID=509&ID=3967760&page=17', 'http://www.cc98.org/dispbbs.asp?boardID=509&ID=3965975&page=17', 'http://www.cc98.org/dispbbs.asp?boardID=509&ID=3966875&page=17', 'http://www.cc98.org/dispbbs.asp?boardID=509&ID=3963707&page=17', 'http://www.cc98.org/dispbbs.asp?boardID=509&ID=3961030&page=17', 'http://www.cc98.org/dispbbs.asp?boardID=509&ID=3963405&page=17', 'http://www.cc98.org/dispbbs.asp?boardID=509&ID=3959795&page=17', 'http://www.cc98.org/dispbbs.asp?boardID=509&ID=3963114&page=18', 'http://www.cc98.org/dispbbs.asp?boardID=509&ID=3907711&page=18', 'http://www.cc98.org/dispbbs.asp?boardID=509&ID=3747244&page=18', 'http://www.cc98.org/dispbbs.asp?boardID=509&ID=3961235&page=18', 'http://www.cc98.org/dispbbs.asp?boardID=509&ID=3958175&page=18', 'http://www.cc98.org/dispbbs.asp?boardID=509&ID=3954424&page=18', 'http://www.cc98.org/dispbbs.asp?boardID=509&ID=3881896&page=18', 'http://www.cc98.org/dispbbs.asp?boardID=509&ID=3960531&page=18', 'http://www.cc98.org/dispbbs.asp?boardID=509&ID=3959285&page=18', 'http://www.cc98.org/dispbbs.asp?boardID=509&ID=3959303&page=18', 'http://www.cc98.org/dispbbs.asp?boardID=509&ID=3956755&page=18', 'http://www.cc98.org/dispbbs.asp?boardID=509&ID=3957954&page=18', 'http://www.cc98.org/dispbbs.asp?boardID=509&ID=3955413&page=18', 'http://www.cc98.org/dispbbs.asp?boardID=509&ID=3956850&page=18', 'http://www.cc98.org/dispbbs.asp?boardID=509&ID=3956973&page=18', 'http://www.cc98.org/dispbbs.asp?boardID=509&ID=3954416&page=18', 'http://www.cc98.org/dispbbs.asp?boardID=509&ID=3954043&page=18', 'http://www.cc98.org/dispbbs.asp?boardID=509&ID=3950336&page=18', 'http://www.cc98.org/dispbbs.asp?boardID=509&ID=3944207&page=18', 'http://www.cc98.org/dispbbs.asp?boardID=509&ID=3951547&page=18', 'http://www.cc98.org/dispbbs.asp?boardID=509&ID=3897151&page=19', 'http://www.cc98.org/dispbbs.asp?boardID=509&ID=3950298&page=19', 'http://www.cc98.org/dispbbs.asp?boardID=509&ID=3938202&page=19', 'http://www.cc98.org/dispbbs.asp?boardID=509&ID=3947112&page=19', 'http://www.cc98.org/dispbbs.asp?boardID=509&ID=3948845&page=19', 'http://www.cc98.org/dispbbs.asp?boardID=509&ID=3949190&page=19', 'http://www.cc98.org/dispbbs.asp?boardID=509&ID=3949142&page=19', 'http://www.cc98.org/dispbbs.asp?boardID=509&ID=3948234&page=19', 'http://www.cc98.org/dispbbs.asp?boardID=509&ID=3943685&page=19', 'http://www.cc98.org/dispbbs.asp?boardID=509&ID=3947052&page=19', 'http://www.cc98.org/dispbbs.asp?boardID=509&ID=3944472&page=19', 'http://www.cc98.org/dispbbs.asp?boardID=509&ID=3944223&page=19', 'http://www.cc98.org/dispbbs.asp?boardID=509&ID=3945469&page=19', 'http://www.cc98.org/dispbbs.asp?boardID=509&ID=3944157&page=19', 'http://www.cc98.org/dispbbs.asp?boardID=509&ID=3943957&page=19', 'http://www.cc98.org/dispbbs.asp?boardID=509&ID=3943214&page=19', 'http://www.cc98.org/dispbbs.asp?boardID=509&ID=3943028&page=19', 'http://www.cc98.org/dispbbs.asp?boardID=509&ID=3942241&page=19', 'http://www.cc98.org/dispbbs.asp?boardID=509&ID=3942005&page=19', 'http://www.cc98.org/dispbbs.asp?boardID=509&ID=3942225&page=19', 'http://www.cc98.org/dispbbs.asp?boardID=509&ID=3941567&page=20', 'http://www.cc98.org/dispbbs.asp?boardID=509&ID=3941358&page=20', 'http://www.cc98.org/dispbbs.asp?boardID=509&ID=3938113&page=20', 'http://www.cc98.org/dispbbs.asp?boardID=509&ID=3941095&page=20', 'http://www.cc98.org/dispbbs.asp?boardID=509&ID=3940914&page=20', 'http://www.cc98.org/dispbbs.asp?boardID=509&ID=3938642&page=20', 'http://www.cc98.org/dispbbs.asp?boardID=509&ID=3935690&page=20', 'http://www.cc98.org/dispbbs.asp?boardID=509&ID=3938677&page=20', 'http://www.cc98.org/dispbbs.asp?boardID=509&ID=3935889&page=20', 'http://www.cc98.org/dispbbs.asp?boardID=509&ID=3938412&page=20', 'http://www.cc98.org/dispbbs.asp?boardID=509&ID=3937310&page=20', 'http://www.cc98.org/dispbbs.asp?boardID=509&ID=3938124&page=20', 'http://www.cc98.org/dispbbs.asp?boardID=509&ID=3936944&page=20', 'http://www.cc98.org/dispbbs.asp?boardID=509&ID=3934946&page=20', 'http://www.cc98.org/dispbbs.asp?boardID=509&ID=3937545&page=20', 'http://www.cc98.org/dispbbs.asp?boardID=509&ID=3933255&page=20', 'http://www.cc98.org/dispbbs.asp?boardID=509&ID=3937418&page=20', 'http://www.cc98.org/dispbbs.asp?boardID=509&ID=3937362&page=20', 'http://www.cc98.org/dispbbs.asp?boardID=509&ID=3936982&page=20', 'http://www.cc98.org/dispbbs.asp?boardID=509&ID=3936326&page=20', 'http://www.cc98.org/dispbbs.asp?boardID=509&ID=3936086&page=21', 'http://www.cc98.org/dispbbs.asp?boardID=509&ID=3935814&page=21', 'http://www.cc98.org/dispbbs.asp?boardID=509&ID=3908439&page=21', 'http://www.cc98.org/dispbbs.asp?boardID=509&ID=3934164&page=21', 'http://www.cc98.org/dispbbs.asp?boardID=509&ID=3929096&page=21', 'http://www.cc98.org/dispbbs.asp?boardID=509&ID=3933992&page=21', 'http://www.cc98.org/dispbbs.asp?boardID=509&ID=3929476&page=21', 'http://www.cc98.org/dispbbs.asp?boardID=509&ID=3917328&page=21', 'http://www.cc98.org/dispbbs.asp?boardID=509&ID=3931684&page=21', 'http://www.cc98.org/dispbbs.asp?boardID=509&ID=3931378&page=21', 'http://www.cc98.org/dispbbs.asp?boardID=509&ID=3930189&page=21', 'http://www.cc98.org/dispbbs.asp?boardID=509&ID=3930816&page=21', 'http://www.cc98.org/dispbbs.asp?boardID=509&ID=3924824&page=21', 'http://www.cc98.org/dispbbs.asp?boardID=509&ID=3928783&page=21', 'http://www.cc98.org/dispbbs.asp?boardID=509&ID=3928681&page=21', 'http://www.cc98.org/dispbbs.asp?boardID=509&ID=3928450&page=21', 'http://www.cc98.org/dispbbs.asp?boardID=509&ID=3928437&page=21', 'http://www.cc98.org/dispbbs.asp?boardID=509&ID=3927665&page=21', 'http://www.cc98.org/dispbbs.asp?boardID=509&ID=3927492&page=21', 'http://www.cc98.org/dispbbs.asp?boardID=509&ID=3924142&page=21', 'http://www.cc98.org/dispbbs.asp?boardID=509&ID=3925125&page=22', 'http://www.cc98.org/dispbbs.asp?boardID=509&ID=3923189&page=22', 'http://www.cc98.org/dispbbs.asp?boardID=509&ID=3925710&page=22', 'http://www.cc98.org/dispbbs.asp?boardID=509&ID=3923450&page=22', 'http://www.cc98.org/dispbbs.asp?boardID=509&ID=3921608&page=22', 'http://www.cc98.org/dispbbs.asp?boardID=509&ID=3923784&page=22', 'http://www.cc98.org/dispbbs.asp?boardID=509&ID=3922919&page=22', 'http://www.cc98.org/dispbbs.asp?boardID=509&ID=3904270&page=22', 'http://www.cc98.org/dispbbs.asp?boardID=509&ID=3919843&page=22', 'http://www.cc98.org/dispbbs.asp?boardID=509&ID=3920507&page=22', 'http://www.cc98.org/dispbbs.asp?boardID=509&ID=3914290&page=22', 'http://www.cc98.org/dispbbs.asp?boardID=509&ID=3919495&page=22', 'http://www.cc98.org/dispbbs.asp?boardID=509&ID=3919534&page=22', 'http://www.cc98.org/dispbbs.asp?boardID=509&ID=3919290&page=22', 'http://www.cc98.org/dispbbs.asp?boardID=509&ID=3918299&page=22', 'http://www.cc98.org/dispbbs.asp?boardID=509&ID=3917781&page=22', 'http://www.cc98.org/dispbbs.asp?boardID=509&ID=3915192&page=22', 'http://www.cc98.org/dispbbs.asp?boardID=509&ID=3918605&page=22', 'http://www.cc98.org/dispbbs.asp?boardID=509&ID=3915531&page=22', 'http://www.cc98.org/dispbbs.asp?boardID=509&ID=3913087&page=22', 'http://www.cc98.org/dispbbs.asp?boardID=509&ID=3912864&page=23', 'http://www.cc98.org/dispbbs.asp?boardID=509&ID=3915646&page=23', 'http://www.cc98.org/dispbbs.asp?boardID=509&ID=3908961&page=23', 'http://www.cc98.org/dispbbs.asp?boardID=509&ID=3914876&page=23', 'http://www.cc98.org/dispbbs.asp?boardID=509&ID=3866022&page=23', 'http://www.cc98.org/dispbbs.asp?boardID=509&ID=3882278&page=23', 'http://www.cc98.org/dispbbs.asp?boardID=509&ID=3909391&page=23', 'http://www.cc98.org/dispbbs.asp?boardID=509&ID=3913399&page=23', 'http://www.cc98.org/dispbbs.asp?boardID=509&ID=3913063&page=23', 'http://www.cc98.org/dispbbs.asp?boardID=509&ID=3912990&page=23', 'http://www.cc98.org/dispbbs.asp?boardID=509&ID=3913764&page=23', 'http://www.cc98.org/dispbbs.asp?boardID=509&ID=3912418&page=23', 'http://www.cc98.org/dispbbs.asp?boardID=509&ID=3908416&page=23', 'http://www.cc98.org/dispbbs.asp?boardID=509&ID=3984202&page=23', 'http://www.cc98.org/dispbbs.asp?boardID=509&ID=3910421&page=23', 'http://www.cc98.org/dispbbs.asp?boardID=509&ID=3910118&page=23', 'http://www.cc98.org/dispbbs.asp?boardID=509&ID=3909183&page=23', 'http://www.cc98.org/dispbbs.asp?boardID=509&ID=2513587&page=23', 'http://www.cc98.org/dispbbs.asp?boardID=509&ID=3908312&page=23', 'http://www.cc98.org/dispbbs.asp?boardID=509&ID=3907405&page=23', 'http://www.cc98.org/dispbbs.asp?boardID=509&ID=3906634&page=24', 'http://www.cc98.org/dispbbs.asp?boardID=509&ID=3906067&page=24', 'http://www.cc98.org/dispbbs.asp?boardID=509&ID=3905841&page=24', 'http://www.cc98.org/dispbbs.asp?boardID=509&ID=3905703&page=24', 'http://www.cc98.org/dispbbs.asp?boardID=509&ID=3905264&page=24', 'http://www.cc98.org/dispbbs.asp?boardID=509&ID=3904867&page=24', 'http://www.cc98.org/dispbbs.asp?boardID=509&ID=3904753&page=24', 'http://www.cc98.org/dispbbs.asp?boardID=509&ID=3904445&page=24', 'http://www.cc98.org/dispbbs.asp?boardID=509&ID=3903472&page=24', 'http://www.cc98.org/dispbbs.asp?boardID=509&ID=3901144&page=24', 'http://www.cc98.org/dispbbs.asp?boardID=509&ID=3903410&page=24', 'http://www.cc98.org/dispbbs.asp?boardID=509&ID=3900650&page=24', 'http://www.cc98.org/dispbbs.asp?boardID=509&ID=3900028&page=24', 'http://www.cc98.org/dispbbs.asp?boardID=509&ID=3901086&page=24', 'http://www.cc98.org/dispbbs.asp?boardID=509&ID=3892540&page=24', 'http://www.cc98.org/dispbbs.asp?boardID=509&ID=3900404&page=24', 'http://www.cc98.org/dispbbs.asp?boardID=509&ID=3898062&page=24', 'http://www.cc98.org/dispbbs.asp?boardID=509&ID=3893416&page=24', 'http://www.cc98.org/dispbbs.asp?boardID=509&ID=3897475&page=24', 'http://www.cc98.org/dispbbs.asp?boardID=509&ID=3893076&page=24', 'http://www.cc98.org/dispbbs.asp?boardID=509&ID=3896371&page=25', 'http://www.cc98.org/dispbbs.asp?boardID=509&ID=3895535&page=25', 'http://www.cc98.org/dispbbs.asp?boardID=509&ID=3895515&page=25', 'http://www.cc98.org/dispbbs.asp?boardID=509&ID=3895480&page=25', 'http://www.cc98.org/dispbbs.asp?boardID=509&ID=3458865&page=25', 'http://www.cc98.org/dispbbs.asp?boardID=509&ID=3895246&page=25', 'http://www.cc98.org/dispbbs.asp?boardID=509&ID=3894812&page=25', 'http://www.cc98.org/dispbbs.asp?boardID=509&ID=3312860&page=25', 'http://www.cc98.org/dispbbs.asp?boardID=509&ID=3894542&page=25', 'http://www.cc98.org/dispbbs.asp?boardID=509&ID=3894455&page=25', 'http://www.cc98.org/dispbbs.asp?boardID=509&ID=3894137&page=25', 'http://www.cc98.org/dispbbs.asp?boardID=509&ID=3898956&page=25', 'http://www.cc98.org/dispbbs.asp?boardID=509&ID=3891255&page=25', 'http://www.cc98.org/dispbbs.asp?boardID=509&ID=3892342&page=25', 'http://www.cc98.org/dispbbs.asp?boardID=509&ID=3892876&page=25', 'http://www.cc98.org/dispbbs.asp?boardID=509&ID=3892260&page=25', 'http://www.cc98.org/dispbbs.asp?boardID=509&ID=3890191&page=25', 'http://www.cc98.org/dispbbs.asp?boardID=509&ID=3885268&page=25', 'http://www.cc98.org/dispbbs.asp?boardID=509&ID=3889112&page=25', 'http://www.cc98.org/dispbbs.asp?boardID=509&ID=3889660&page=25', 'http://www.cc98.org/dispbbs.asp?boardID=509&ID=3888356&page=26', 'http://www.cc98.org/dispbbs.asp?boardID=509&ID=3888680&page=26', 'http://www.cc98.org/dispbbs.asp?boardID=509&ID=3886585&page=26', 'http://www.cc98.org/dispbbs.asp?boardID=509&ID=3884917&page=26', 'http://www.cc98.org/dispbbs.asp?boardID=509&ID=3885622&page=26', 'http://www.cc98.org/dispbbs.asp?boardID=509&ID=3883957&page=26', 'http://www.cc98.org/dispbbs.asp?boardID=509&ID=3880847&page=26', 'http://www.cc98.org/dispbbs.asp?boardID=509&ID=3218205&page=26', 'http://www.cc98.org/dispbbs.asp?boardID=509&ID=3883651&page=26', 'http://www.cc98.org/dispbbs.asp?boardID=509&ID=3882465&page=26', 'http://www.cc98.org/dispbbs.asp?boardID=509&ID=3882936&page=26', 'http://www.cc98.org/dispbbs.asp?boardID=509&ID=3856421&page=26', 'http://www.cc98.org/dispbbs.asp?boardID=509&ID=3882665&page=26', 'http://www.cc98.org/dispbbs.asp?boardID=509&ID=3855591&page=26', 'http://www.cc98.org/dispbbs.asp?boardID=509&ID=3882371&page=26', 'http://www.cc98.org/dispbbs.asp?boardID=509&ID=3881912&page=26', 'http://www.cc98.org/dispbbs.asp?boardID=509&ID=3880233&page=26', 'http://www.cc98.org/dispbbs.asp?boardID=509&ID=3880236&page=26', 'http://www.cc98.org/dispbbs.asp?boardID=509&ID=3861146&page=26', 'http://www.cc98.org/dispbbs.asp?boardID=509&ID=3877916&page=26', 'http://www.cc98.org/dispbbs.asp?boardID=509&ID=3874823&page=27', 'http://www.cc98.org/dispbbs.asp?boardID=509&ID=3877245&page=27', 'http://www.cc98.org/dispbbs.asp?boardID=509&ID=3875632&page=27', 'http://www.cc98.org/dispbbs.asp?boardID=509&ID=3876624&page=27', 'http://www.cc98.org/dispbbs.asp?boardID=509&ID=3874829&page=27', 'http://www.cc98.org/dispbbs.asp?boardID=509&ID=3874813&page=27', 'http://www.cc98.org/dispbbs.asp?boardID=509&ID=3874675&page=27', 'http://www.cc98.org/dispbbs.asp?boardID=509&ID=3874568&page=27', 'http://www.cc98.org/dispbbs.asp?boardID=509&ID=3861881&page=27', 'http://www.cc98.org/dispbbs.asp?boardID=509&ID=3868106&page=27', 'http://www.cc98.org/dispbbs.asp?boardID=509&ID=3871550&page=27', 'http://www.cc98.org/dispbbs.asp?boardID=509&ID=3869470&page=27', 'http://www.cc98.org/dispbbs.asp?boardID=509&ID=3868056&page=27', 'http://www.cc98.org/dispbbs.asp?boardID=509&ID=3868461&page=27', 'http://www.cc98.org/dispbbs.asp?boardID=509&ID=3868115&page=27', 'http://www.cc98.org/dispbbs.asp?boardID=509&ID=3868073&page=27', 'http://www.cc98.org/dispbbs.asp?boardID=509&ID=3868064&page=27', 'http://www.cc98.org/dispbbs.asp?boardID=509&ID=3867172&page=27', 'http://www.cc98.org/dispbbs.asp?boardID=509&ID=3844712&page=27', 'http://www.cc98.org/dispbbs.asp?boardID=509&ID=3864203&page=27', 'http://www.cc98.org/dispbbs.asp?boardID=509&ID=3864321&page=28', 'http://www.cc98.org/dispbbs.asp?boardID=509&ID=3864808&page=28', 'http://www.cc98.org/dispbbs.asp?boardID=509&ID=3863077&page=28', 'http://www.cc98.org/dispbbs.asp?boardID=509&ID=3859954&page=28', 'http://www.cc98.org/dispbbs.asp?boardID=509&ID=3861457&page=28', 'http://www.cc98.org/dispbbs.asp?boardID=509&ID=3856434&page=28', 'http://www.cc98.org/dispbbs.asp?boardID=509&ID=3860985&page=28', 'http://www.cc98.org/dispbbs.asp?boardID=509&ID=3858790&page=28', 'http://www.cc98.org/dispbbs.asp?boardID=509&ID=3859986&page=28', 'http://www.cc98.org/dispbbs.asp?boardID=509&ID=3860214&page=28', 'http://www.cc98.org/dispbbs.asp?boardID=509&ID=3857091&page=28', 'http://www.cc98.org/dispbbs.asp?boardID=509&ID=3858918&page=28', 'http://www.cc98.org/dispbbs.asp?boardID=509&ID=3858387&page=28', 'http://www.cc98.org/dispbbs.asp?boardID=509&ID=3856777&page=28', 'http://www.cc98.org/dispbbs.asp?boardID=509&ID=3857478&page=28', 'http://www.cc98.org/dispbbs.asp?boardID=509&ID=3857185&page=28', 'http://www.cc98.org/dispbbs.asp?boardID=509&ID=3856232&page=28', 'http://www.cc98.org/dispbbs.asp?boardID=509&ID=3853048&page=28', 'http://www.cc98.org/dispbbs.asp?boardID=509&ID=3850448&page=28', 'http://www.cc98.org/dispbbs.asp?boardID=509&ID=3856390&page=28', 'http://www.cc98.org/dispbbs.asp?boardID=509&ID=3854876&page=29', 'http://www.cc98.org/dispbbs.asp?boardID=509&ID=3856131&page=29', 'http://www.cc98.org/dispbbs.asp?boardID=509&ID=3855680&page=29', 'http://www.cc98.org/dispbbs.asp?boardID=509&ID=3854507&page=29', 'http://www.cc98.org/dispbbs.asp?boardID=509&ID=3854471&page=29', 'http://www.cc98.org/dispbbs.asp?boardID=509&ID=3854378&page=29', 'http://www.cc98.org/dispbbs.asp?boardID=509&ID=3844703&page=29', 'http://www.cc98.org/dispbbs.asp?boardID=509&ID=3853746&page=29', 'http://www.cc98.org/dispbbs.asp?boardID=509&ID=3838942&page=29', 'http://www.cc98.org/dispbbs.asp?boardID=509&ID=3847243&page=29', 'http://www.cc98.org/dispbbs.asp?boardID=509&ID=3849559&page=29', 'http://www.cc98.org/dispbbs.asp?boardID=509&ID=3850567&page=29', 'http://www.cc98.org/dispbbs.asp?boardID=509&ID=3849746&page=29', 'http://www.cc98.org/dispbbs.asp?boardID=509&ID=3849047&page=29', 'http://www.cc98.org/dispbbs.asp?boardID=509&ID=3847203&page=29', 'http://www.cc98.org/dispbbs.asp?boardID=509&ID=3844935&page=29', 'http://www.cc98.org/dispbbs.asp?boardID=509&ID=3841388&page=29', 'http://www.cc98.org/dispbbs.asp?boardID=509&ID=3842424&page=29', 'http://www.cc98.org/dispbbs.asp?boardID=509&ID=3830877&page=29', 'http://www.cc98.org/dispbbs.asp?boardID=509&ID=3840470&page=29', 'http://www.cc98.org/dispbbs.asp?boardID=509&ID=3840435&page=30', 'http://www.cc98.org/dispbbs.asp?boardID=509&ID=3840541&page=30', 'http://www.cc98.org/dispbbs.asp?boardID=509&ID=3837033&page=30', 'http://www.cc98.org/dispbbs.asp?boardID=509&ID=3839565&page=30', 'http://www.cc98.org/dispbbs.asp?boardID=509&ID=3835399&page=30', 'http://www.cc98.org/dispbbs.asp?boardID=509&ID=3833948&page=30', 'http://www.cc98.org/dispbbs.asp?boardID=509&ID=3837012&page=30', 'http://www.cc98.org/dispbbs.asp?boardID=509&ID=3835927&page=30', 'http://www.cc98.org/dispbbs.asp?boardID=509&ID=3822842&page=30', 'http://www.cc98.org/dispbbs.asp?boardID=509&ID=3835225&page=30', 'http://www.cc98.org/dispbbs.asp?boardID=509&ID=3836259&page=30', 'http://www.cc98.org/dispbbs.asp?boardID=509&ID=3834613&page=30', 'http://www.cc98.org/dispbbs.asp?boardID=509&ID=3834575&page=30', 'http://www.cc98.org/dispbbs.asp?boardID=509&ID=3834094&page=30', 'http://www.cc98.org/dispbbs.asp?boardID=509&ID=3831540&page=30', 'http://www.cc98.org/dispbbs.asp?boardID=509&ID=3820681&page=30', 'http://www.cc98.org/dispbbs.asp?boardID=509&ID=3830530&page=30', 'http://www.cc98.org/dispbbs.asp?boardID=509&ID=3823899&page=30', 'http://www.cc98.org/dispbbs.asp?boardID=509&ID=3820358&page=30', 'http://www.cc98.org/dispbbs.asp?boardID=509&ID=3819723&page=30', 'http://www.cc98.org/dispbbs.asp?boardID=509&ID=3826320&page=31', 'http://www.cc98.org/dispbbs.asp?boardID=509&ID=3826678&page=31', 'http://www.cc98.org/dispbbs.asp?boardID=509&ID=3824971&page=31', 'http://www.cc98.org/dispbbs.asp?boardID=509&ID=3825605&page=31', 'http://www.cc98.org/dispbbs.asp?boardID=509&ID=3822096&page=31', 'http://www.cc98.org/dispbbs.asp?boardID=509&ID=3822633&page=31', 'http://www.cc98.org/dispbbs.asp?boardID=509&ID=3744372&page=31', 'http://www.cc98.org/dispbbs.asp?boardID=509&ID=3822175&page=31', 'http://www.cc98.org/dispbbs.asp?boardID=509&ID=3822850&page=31', 'http://www.cc98.org/dispbbs.asp?boardID=509&ID=3801053&page=31', 'http://www.cc98.org/dispbbs.asp?boardID=509&ID=3814892&page=31', 'http://www.cc98.org/dispbbs.asp?boardID=509&ID=3810720&page=31', 'http://www.cc98.org/dispbbs.asp?boardID=509&ID=3820282&page=31', 'http://www.cc98.org/dispbbs.asp?boardID=509&ID=3820273&page=31', 'http://www.cc98.org/dispbbs.asp?boardID=509&ID=3820260&page=31', 'http://www.cc98.org/dispbbs.asp?boardID=509&ID=3799843&page=31', 'http://www.cc98.org/dispbbs.asp?boardID=509&ID=3816097&page=31', 'http://www.cc98.org/dispbbs.asp?boardID=509&ID=3686181&page=31', 'http://www.cc98.org/dispbbs.asp?boardID=509&ID=3810757&page=31', 'http://www.cc98.org/dispbbs.asp?boardID=509&ID=3817436&page=31', 'http://www.cc98.org/dispbbs.asp?boardID=509&ID=3811596&page=32', 'http://www.cc98.org/dispbbs.asp?boardID=509&ID=3816363&page=32', 'http://www.cc98.org/dispbbs.asp?boardID=509&ID=3799353&page=32', 'http://www.cc98.org/dispbbs.asp?boardID=509&ID=3810593&page=32', 'http://www.cc98.org/dispbbs.asp?boardID=509&ID=3810255&page=32', 'http://www.cc98.org/dispbbs.asp?boardID=509&ID=3812397&page=32', 'http://www.cc98.org/dispbbs.asp?boardID=509&ID=3810331&page=32', 'http://www.cc98.org/dispbbs.asp?boardID=509&ID=3811895&page=32', 'http://www.cc98.org/dispbbs.asp?boardID=509&ID=3811205&page=32', 'http://www.cc98.org/dispbbs.asp?boardID=509&ID=3794415&page=32', 'http://www.cc98.org/dispbbs.asp?boardID=509&ID=3799187&page=32', 'http://www.cc98.org/dispbbs.asp?boardID=509&ID=3809357&page=32', 'http://www.cc98.org/dispbbs.asp?boardID=509&ID=3809859&page=32', 'http://www.cc98.org/dispbbs.asp?boardID=509&ID=3802343&page=32', 'http://www.cc98.org/dispbbs.asp?boardID=509&ID=3807802&page=32', 'http://www.cc98.org/dispbbs.asp?boardID=509&ID=3804946&page=32', 'http://www.cc98.org/dispbbs.asp?boardID=509&ID=3802864&page=32', 'http://www.cc98.org/dispbbs.asp?boardID=509&ID=3806843&page=32', 'http://www.cc98.org/dispbbs.asp?boardID=509&ID=3807062&page=32', 'http://www.cc98.org/dispbbs.asp?boardID=509&ID=3805037&page=32', 'http://www.cc98.org/dispbbs.asp?boardID=509&ID=3806811&page=33', 'http://www.cc98.org/dispbbs.asp?boardID=509&ID=3805607&page=33', 'http://www.cc98.org/dispbbs.asp?boardID=509&ID=3806215&page=33', 'http://www.cc98.org/dispbbs.asp?boardID=509&ID=2025086&page=33', 'http://www.cc98.org/dispbbs.asp?boardID=509&ID=3805288&page=33', 'http://www.cc98.org/dispbbs.asp?boardID=509&ID=3805155&page=33', 'http://www.cc98.org/dispbbs.asp?boardID=509&ID=3804091&page=33', 'http://www.cc98.org/dispbbs.asp?boardID=509&ID=3722036&page=33', 'http://www.cc98.org/dispbbs.asp?boardID=509&ID=3803287&page=33', 'http://www.cc98.org/dispbbs.asp?boardID=509&ID=3801100&page=33', 'http://www.cc98.org/dispbbs.asp?boardID=509&ID=3800485&page=33', 'http://www.cc98.org/dispbbs.asp?boardID=509&ID=3786351&page=33', 'http://www.cc98.org/dispbbs.asp?boardID=509&ID=3798334&page=33', 'http://www.cc98.org/dispbbs.asp?boardID=509&ID=3793635&page=33', 'http://www.cc98.org/dispbbs.asp?boardID=509&ID=3783409&page=33', 'http://www.cc98.org/dispbbs.asp?boardID=509&ID=3797833&page=33', 'http://www.cc98.org/dispbbs.asp?boardID=509&ID=3796859&page=33', 'http://www.cc98.org/dispbbs.asp?boardID=509&ID=3785116&page=33', 'http://www.cc98.org/dispbbs.asp?boardID=509&ID=3794867&page=33', 'http://www.cc98.org/dispbbs.asp?boardID=509&ID=3793414&page=33', 'http://www.cc98.org/dispbbs.asp?boardID=509&ID=3786244&page=34', 'http://www.cc98.org/dispbbs.asp?boardID=509&ID=3791733&page=34', 'http://www.cc98.org/dispbbs.asp?boardID=509&ID=3790497&page=34', 'http://www.cc98.org/dispbbs.asp?boardID=509&ID=3782589&page=34', 'http://www.cc98.org/dispbbs.asp?boardID=509&ID=3787683&page=34', 'http://www.cc98.org/dispbbs.asp?boardID=509&ID=3787686&page=34', 'http://www.cc98.org/dispbbs.asp?boardID=509&ID=3787680&page=34', 'http://www.cc98.org/dispbbs.asp?boardID=509&ID=3787552&page=34', 'http://www.cc98.org/dispbbs.asp?boardID=509&ID=3787053&page=34', 'http://www.cc98.org/dispbbs.asp?boardID=509&ID=3786974&page=34', 'http://www.cc98.org/dispbbs.asp?boardID=509&ID=3786781&page=34', 'http://www.cc98.org/dispbbs.asp?boardID=509&ID=3786649&page=34', 'http://www.cc98.org/dispbbs.asp?boardID=509&ID=3781197&page=34', 'http://www.cc98.org/dispbbs.asp?boardID=509&ID=3784231&page=34', 'http://www.cc98.org/dispbbs.asp?boardID=509&ID=3785773&page=34', 'http://www.cc98.org/dispbbs.asp?boardID=509&ID=3782507&page=34', 'http://www.cc98.org/dispbbs.asp?boardID=509&ID=3780498&page=34', 'http://www.cc98.org/dispbbs.asp?boardID=509&ID=3784396&page=34', 'http://www.cc98.org/dispbbs.asp?boardID=509&ID=3783218&page=34', 'http://www.cc98.org/dispbbs.asp?boardID=509&ID=3778380&page=34', 'http://www.cc98.org/dispbbs.asp?boardID=509&ID=3782438&page=35', 'http://www.cc98.org/dispbbs.asp?boardID=509&ID=3811593&page=35', 'http://www.cc98.org/dispbbs.asp?boardID=509&ID=3782441&page=35', 'http://www.cc98.org/dispbbs.asp?boardID=509&ID=3782383&page=35', 'http://www.cc98.org/dispbbs.asp?boardID=509&ID=3781149&page=35', 'http://www.cc98.org/dispbbs.asp?boardID=509&ID=3781264&page=35', 'http://www.cc98.org/dispbbs.asp?boardID=509&ID=3778890&page=35', 'http://www.cc98.org/dispbbs.asp?boardID=509&ID=3781037&page=35', 'http://www.cc98.org/dispbbs.asp?boardID=509&ID=3778872&page=35', 'http://www.cc98.org/dispbbs.asp?boardID=509&ID=3779705&page=35', 'http://www.cc98.org/dispbbs.asp?boardID=509&ID=3779597&page=35', 'http://www.cc98.org/dispbbs.asp?boardID=509&ID=3778885&page=35', 'http://www.cc98.org/dispbbs.asp?boardID=509&ID=3778597&page=35', 'http://www.cc98.org/dispbbs.asp?boardID=509&ID=3778218&page=35', 'http://www.cc98.org/dispbbs.asp?boardID=509&ID=3778211&page=35', 'http://www.cc98.org/dispbbs.asp?boardID=509&ID=3775824&page=35', 'http://www.cc98.org/dispbbs.asp?boardID=509&ID=3778187&page=35', 'http://www.cc98.org/dispbbs.asp?boardID=509&ID=3778010&page=35', 'http://www.cc98.org/dispbbs.asp?boardID=509&ID=3770666&page=35', 'http://www.cc98.org/dispbbs.asp?boardID=509&ID=3756416&page=35', 'http://www.cc98.org/dispbbs.asp?boardID=509&ID=3776838&page=36', 'http://www.cc98.org/dispbbs.asp?boardID=509&ID=3774900&page=36', 'http://www.cc98.org/dispbbs.asp?boardID=509&ID=3776072&page=36', 'http://www.cc98.org/dispbbs.asp?boardID=509&ID=3770708&page=36', 'http://www.cc98.org/dispbbs.asp?boardID=509&ID=3776052&page=36', 'http://www.cc98.org/dispbbs.asp?boardID=509&ID=3775518&page=36', 'http://www.cc98.org/dispbbs.asp?boardID=509&ID=3775815&page=36', 'http://www.cc98.org/dispbbs.asp?boardID=509&ID=3775578&page=36', 'http://www.cc98.org/dispbbs.asp?boardID=509&ID=3773949&page=36', 'http://www.cc98.org/dispbbs.asp?boardID=509&ID=3772634&page=36', 'http://www.cc98.org/dispbbs.asp?boardID=509&ID=3773779&page=36', 'http://www.cc98.org/dispbbs.asp?boardID=509&ID=3775321&page=36', 'http://www.cc98.org/dispbbs.asp?boardID=509&ID=3775081&page=36', 'http://www.cc98.org/dispbbs.asp?boardID=509&ID=3775041&page=36', 'http://www.cc98.org/dispbbs.asp?boardID=509&ID=3774471&page=36', 'http://www.cc98.org/dispbbs.asp?boardID=509&ID=3772635&page=36', 'http://www.cc98.org/dispbbs.asp?boardID=509&ID=3771709&page=36', 'http://www.cc98.org/dispbbs.asp?boardID=509&ID=3769912&page=36', 'http://www.cc98.org/dispbbs.asp?boardID=509&ID=3768943&page=36', 'http://www.cc98.org/dispbbs.asp?boardID=509&ID=3770712&page=36', 'http://www.cc98.org/dispbbs.asp?boardID=509&ID=3770533&page=37', 'http://www.cc98.org/dispbbs.asp?boardID=509&ID=3770127&page=37', 'http://www.cc98.org/dispbbs.asp?boardID=509&ID=3769260&page=37', 'http://www.cc98.org/dispbbs.asp?boardID=509&ID=3766655&page=37', 'http://www.cc98.org/dispbbs.asp?boardID=509&ID=3769059&page=37', 'http://www.cc98.org/dispbbs.asp?boardID=509&ID=3767134&page=37', 'http://www.cc98.org/dispbbs.asp?boardID=509&ID=3768287&page=37', 'http://www.cc98.org/dispbbs.asp?boardID=509&ID=3763857&page=37', 'http://www.cc98.org/dispbbs.asp?boardID=509&ID=3760394&page=37', 'http://www.cc98.org/dispbbs.asp?boardID=509&ID=3768076&page=37', 'http://www.cc98.org/dispbbs.asp?boardID=509&ID=3768019&page=37', 'http://www.cc98.org/dispbbs.asp?boardID=509&ID=3767618&page=37', 'http://www.cc98.org/dispbbs.asp?boardID=509&ID=3766895&page=37', 'http://www.cc98.org/dispbbs.asp?boardID=509&ID=3766853&page=37', 'http://www.cc98.org/dispbbs.asp?boardID=509&ID=3766000&page=37', 'http://www.cc98.org/dispbbs.asp?boardID=509&ID=3761684&page=37', 'http://www.cc98.org/dispbbs.asp?boardID=509&ID=3763684&page=37', 'http://www.cc98.org/dispbbs.asp?boardID=509&ID=3754017&page=37', 'http://www.cc98.org/dispbbs.asp?boardID=509&ID=3765688&page=37', 'http://www.cc98.org/dispbbs.asp?boardID=509&ID=3765168&page=37', 'http://www.cc98.org/dispbbs.asp?boardID=509&ID=3764867&page=38', 'http://www.cc98.org/dispbbs.asp?boardID=509&ID=3763286&page=38', 'http://www.cc98.org/dispbbs.asp?boardID=509&ID=3763017&page=38', 'http://www.cc98.org/dispbbs.asp?boardID=509&ID=3761850&page=38', 'http://www.cc98.org/dispbbs.asp?boardID=509&ID=3762188&page=38', 'http://www.cc98.org/dispbbs.asp?boardID=509&ID=3762154&page=38', 'http://www.cc98.org/dispbbs.asp?boardID=509&ID=3759397&page=38', 'http://www.cc98.org/dispbbs.asp?boardID=509&ID=3761765&page=38', 'http://www.cc98.org/dispbbs.asp?boardID=509&ID=3760193&page=38', 'http://www.cc98.org/dispbbs.asp?boardID=509&ID=3760778&page=38', 'http://www.cc98.org/dispbbs.asp?boardID=509&ID=3760789&page=38', 'http://www.cc98.org/dispbbs.asp?boardID=509&ID=3758438&page=38', 'http://www.cc98.org/dispbbs.asp?boardID=509&ID=3759673&page=38', 'http://www.cc98.org/dispbbs.asp?boardID=509&ID=3759625&page=38', 'http://www.cc98.org/dispbbs.asp?boardID=509&ID=3758802&page=38', 'http://www.cc98.org/dispbbs.asp?boardID=509&ID=3756420&page=38', 'http://www.cc98.org/dispbbs.asp?boardID=509&ID=3757186&page=38', 'http://www.cc98.org/dispbbs.asp?boardID=509&ID=3755790&page=38', 'http://www.cc98.org/dispbbs.asp?boardID=509&ID=3758537&page=38', 'http://www.cc98.org/dispbbs.asp?boardID=509&ID=3746793&page=38', 'http://www.cc98.org/dispbbs.asp?boardID=509&ID=3757046&page=39', 'http://www.cc98.org/dispbbs.asp?boardID=509&ID=3756460&page=39', 'http://www.cc98.org/dispbbs.asp?boardID=509&ID=3755830&page=39', 'http://www.cc98.org/dispbbs.asp?boardID=509&ID=3754086&page=39', 'http://www.cc98.org/dispbbs.asp?boardID=509&ID=3756057&page=39', 'http://www.cc98.org/dispbbs.asp?boardID=509&ID=3753292&page=39', 'http://www.cc98.org/dispbbs.asp?boardID=509&ID=3753812&page=39', 'http://www.cc98.org/dispbbs.asp?boardID=509&ID=3752505&page=39', 'http://www.cc98.org/dispbbs.asp?boardID=509&ID=3754647&page=39', 'http://www.cc98.org/dispbbs.asp?boardID=509&ID=3754225&page=39', 'http://www.cc98.org/dispbbs.asp?boardID=509&ID=3750859&page=39', 'http://www.cc98.org/dispbbs.asp?boardID=509&ID=3754076&page=39', 'http://www.cc98.org/dispbbs.asp?boardID=509&ID=3754069&page=39', 'http://www.cc98.org/dispbbs.asp?boardID=509&ID=3752131&page=39', 'http://www.cc98.org/dispbbs.asp?boardID=509&ID=3752889&page=39', 'http://www.cc98.org/dispbbs.asp?boardID=509&ID=3752918&page=39', 'http://www.cc98.org/dispbbs.asp?boardID=509&ID=3725001&page=39', 'http://www.cc98.org/dispbbs.asp?boardID=509&ID=3752627&page=39', 'http://www.cc98.org/dispbbs.asp?boardID=509&ID=3752327&page=39', 'http://www.cc98.org/dispbbs.asp?boardID=509&ID=3032637&page=39', 'http://www.cc98.org/dispbbs.asp?boardID=509&ID=3751932&page=40', 'http://www.cc98.org/dispbbs.asp?boardID=509&ID=3748911&page=40', 'http://www.cc98.org/dispbbs.asp?boardID=509&ID=3750690&page=40', 'http://www.cc98.org/dispbbs.asp?boardID=509&ID=3747588&page=40', 'http://www.cc98.org/dispbbs.asp?boardID=509&ID=3747272&page=40', 'http://www.cc98.org/dispbbs.asp?boardID=509&ID=3749312&page=40', 'http://www.cc98.org/dispbbs.asp?boardID=509&ID=3744851&page=40', 'http://www.cc98.org/dispbbs.asp?boardID=509&ID=3745598&page=40', 'http://www.cc98.org/dispbbs.asp?boardID=509&ID=3746701&page=40', 'http://www.cc98.org/dispbbs.asp?boardID=509&ID=3743730&page=40', 'http://www.cc98.org/dispbbs.asp?boardID=509&ID=3746163&page=40', 'http://www.cc98.org/dispbbs.asp?boardID=509&ID=3745337&page=40', 'http://www.cc98.org/dispbbs.asp?boardID=509&ID=3744528&page=40', 'http://www.cc98.org/dispbbs.asp?boardID=509&ID=3744121&page=40', 'http://www.cc98.org/dispbbs.asp?boardID=509&ID=3745936&page=40', 'http://www.cc98.org/dispbbs.asp?boardID=509&ID=3738322&page=40', 'http://www.cc98.org/dispbbs.asp?boardID=509&ID=3743982&page=40', 'http://www.cc98.org/dispbbs.asp?boardID=509&ID=3733445&page=40', 'http://www.cc98.org/dispbbs.asp?boardID=509&ID=3732016&page=40', 'http://www.cc98.org/dispbbs.asp?boardID=509&ID=3737955&page=40', 'http://www.cc98.org/dispbbs.asp?boardID=509&ID=3738496&page=41', 'http://www.cc98.org/dispbbs.asp?boardID=509&ID=3737845&page=41', 'http://www.cc98.org/dispbbs.asp?boardID=509&ID=3741905&page=41', 'http://www.cc98.org/dispbbs.asp?boardID=509&ID=3738532&page=41', 'http://www.cc98.org/dispbbs.asp?boardID=509&ID=3739701&page=41', 'http://www.cc98.org/dispbbs.asp?boardID=509&ID=3736720&page=41', 'http://www.cc98.org/dispbbs.asp?boardID=509&ID=3743372&page=41', 'http://www.cc98.org/dispbbs.asp?boardID=509&ID=3770669&page=41', 'http://www.cc98.org/dispbbs.asp?boardID=509&ID=3735121&page=41', 'http://www.cc98.org/dispbbs.asp?boardID=509&ID=3736883&page=41', 'http://www.cc98.org/dispbbs.asp?boardID=509&ID=3734478&page=41', 'http://www.cc98.org/dispbbs.asp?boardID=509&ID=2085133&page=41', 'http://www.cc98.org/dispbbs.asp?boardID=509&ID=3730882&page=41', 'http://www.cc98.org/dispbbs.asp?boardID=509&ID=3718113&page=41', 'http://www.cc98.org/dispbbs.asp?boardID=509&ID=3730313&page=41', 'http://www.cc98.org/dispbbs.asp?boardID=509&ID=3729761&page=41', 'http://www.cc98.org/dispbbs.asp?boardID=509&ID=3725383&page=41', 'http://www.cc98.org/dispbbs.asp?boardID=509&ID=3724000&page=41', 'http://www.cc98.org/dispbbs.asp?boardID=509&ID=3562351&page=41', 'http://www.cc98.org/dispbbs.asp?boardID=509&ID=3724559&page=41', 'http://www.cc98.org/dispbbs.asp?boardID=509&ID=3684747&page=42', 'http://www.cc98.org/dispbbs.asp?boardID=509&ID=3724002&page=42', 'http://www.cc98.org/dispbbs.asp?boardID=509&ID=3717596&page=42', 'http://www.cc98.org/dispbbs.asp?boardID=509&ID=3719508&page=42', 'http://www.cc98.org/dispbbs.asp?boardID=509&ID=3710273&page=42', 'http://www.cc98.org/dispbbs.asp?boardID=509&ID=3709818&page=42', 'http://www.cc98.org/dispbbs.asp?boardID=509&ID=3705801&page=42', 'http://www.cc98.org/dispbbs.asp?boardID=509&ID=3687864&page=42', 'http://www.cc98.org/dispbbs.asp?boardID=509&ID=3599072&page=42', 'http://www.cc98.org/dispbbs.asp?boardID=509&ID=3689155&page=42', 'http://www.cc98.org/dispbbs.asp?boardID=509&ID=3714764&page=42', 'http://www.cc98.org/dispbbs.asp?boardID=509&ID=3710960&page=42', 'http://www.cc98.org/dispbbs.asp?boardID=509&ID=3658000&page=42', 'http://www.cc98.org/dispbbs.asp?boardID=509&ID=3659842&page=42', 'http://www.cc98.org/dispbbs.asp?boardID=509&ID=3688819&page=42', 'http://www.cc98.org/dispbbs.asp?boardID=509&ID=3685417&page=42', 'http://www.cc98.org/dispbbs.asp?boardID=509&ID=3704551&page=42', 'http://www.cc98.org/dispbbs.asp?boardID=509&ID=3709136&page=42', 'http://www.cc98.org/dispbbs.asp?boardID=509&ID=3705056&page=42', 'http://www.cc98.org/dispbbs.asp?boardID=509&ID=3707586&page=42', 'http://www.cc98.org/dispbbs.asp?boardID=509&ID=3511997&page=43', 'http://www.cc98.org/dispbbs.asp?boardID=509&ID=3708698&page=43', 'http://www.cc98.org/dispbbs.asp?boardID=509&ID=3707193&page=43', 'http://www.cc98.org/dispbbs.asp?boardID=509&ID=3705545&page=43', 'http://www.cc98.org/dispbbs.asp?boardID=509&ID=3709304&page=43', 'http://www.cc98.org/dispbbs.asp?boardID=509&ID=3708932&page=43', 'http://www.cc98.org/dispbbs.asp?boardID=509&ID=3709303&page=43', 'http://www.cc98.org/dispbbs.asp?boardID=509&ID=3707033&page=43', 'http://www.cc98.org/dispbbs.asp?boardID=509&ID=3706597&page=43', 'http://www.cc98.org/dispbbs.asp?boardID=509&ID=3708635&page=43', 'http://www.cc98.org/dispbbs.asp?boardID=509&ID=3698259&page=43', 'http://www.cc98.org/dispbbs.asp?boardID=509&ID=3706155&page=43', 'http://www.cc98.org/dispbbs.asp?boardID=509&ID=3703679&page=43', 'http://www.cc98.org/dispbbs.asp?boardID=509&ID=3705049&page=43', 'http://www.cc98.org/dispbbs.asp?boardID=509&ID=3705101&page=43', 'http://www.cc98.org/dispbbs.asp?boardID=509&ID=3704571&page=43', 'http://www.cc98.org/dispbbs.asp?boardID=509&ID=3697826&page=43', 'http://www.cc98.org/dispbbs.asp?boardID=509&ID=3694947&page=43', 'http://www.cc98.org/dispbbs.asp?boardID=509&ID=3702786&page=43', 'http://www.cc98.org/dispbbs.asp?boardID=509&ID=3698629&page=43', 'http://www.cc98.org/dispbbs.asp?boardID=509&ID=3701492&page=44', 'http://www.cc98.org/dispbbs.asp?boardID=509&ID=3697248&page=44', 'http://www.cc98.org/dispbbs.asp?boardID=509&ID=3699538&page=44', 'http://www.cc98.org/dispbbs.asp?boardID=509&ID=3699813&page=44', 'http://www.cc98.org/dispbbs.asp?boardID=509&ID=3699031&page=44', 'http://www.cc98.org/dispbbs.asp?boardID=509&ID=3698710&page=44', 'http://www.cc98.org/dispbbs.asp?boardID=509&ID=3698437&page=44', 'http://www.cc98.org/dispbbs.asp?boardID=509&ID=3178856&page=44', 'http://www.cc98.org/dispbbs.asp?boardID=509&ID=3696599&page=44', 'http://www.cc98.org/dispbbs.asp?boardID=509&ID=3696642&page=44', 'http://www.cc98.org/dispbbs.asp?boardID=509&ID=3688853&page=44', 'http://www.cc98.org/dispbbs.asp?boardID=509&ID=3696077&page=44', 'http://www.cc98.org/dispbbs.asp?boardID=509&ID=3696596&page=44', 'http://www.cc98.org/dispbbs.asp?boardID=509&ID=3695837&page=44', 'http://www.cc98.org/dispbbs.asp?boardID=509&ID=3692610&page=44', 'http://www.cc98.org/dispbbs.asp?boardID=509&ID=3695380&page=44', 'http://www.cc98.org/dispbbs.asp?boardID=509&ID=3695173&page=44', 'http://www.cc98.org/dispbbs.asp?boardID=509&ID=3693058&page=44', 'http://www.cc98.org/dispbbs.asp?boardID=509&ID=3693250&page=44', 'http://www.cc98.org/dispbbs.asp?boardID=509&ID=3693575&page=44', 'http://www.cc98.org/dispbbs.asp?boardID=509&ID=3693036&page=45', 'http://www.cc98.org/dispbbs.asp?boardID=509&ID=3693477&page=45', 'http://www.cc98.org/dispbbs.asp?boardID=509&ID=3693708&page=45', 'http://www.cc98.org/dispbbs.asp?boardID=509&ID=3688215&page=45', 'http://www.cc98.org/dispbbs.asp?boardID=509&ID=3683582&page=45', 'http://www.cc98.org/dispbbs.asp?boardID=509&ID=3678865&page=45', 'http://www.cc98.org/dispbbs.asp?boardID=509&ID=3687249&page=45', 'http://www.cc98.org/dispbbs.asp?boardID=509&ID=3691969&page=45', 'http://www.cc98.org/dispbbs.asp?boardID=509&ID=3691966&page=45', 'http://www.cc98.org/dispbbs.asp?boardID=509&ID=3670360&page=45', 'http://www.cc98.org/dispbbs.asp?boardID=509&ID=3690423&page=45', 'http://www.cc98.org/dispbbs.asp?boardID=509&ID=3691072&page=45', 'http://www.cc98.org/dispbbs.asp?boardID=509&ID=3689597&page=45', 'http://www.cc98.org/dispbbs.asp?boardID=509&ID=3689227&page=45', 'http://www.cc98.org/dispbbs.asp?boardID=509&ID=3688265&page=45', 'http://www.cc98.org/dispbbs.asp?boardID=509&ID=3401824&page=45', 'http://www.cc98.org/dispbbs.asp?boardID=509&ID=3687240&page=45', 'http://www.cc98.org/dispbbs.asp?boardID=509&ID=3685469&page=45', 'http://www.cc98.org/dispbbs.asp?boardID=509&ID=3687229&page=45', 'http://www.cc98.org/dispbbs.asp?boardID=509&ID=3593987&page=45', 'http://www.cc98.org/dispbbs.asp?boardID=509&ID=3686820&page=46', 'http://www.cc98.org/dispbbs.asp?boardID=509&ID=3686529&page=46', 'http://www.cc98.org/dispbbs.asp?boardID=509&ID=3685599&page=46', 'http://www.cc98.org/dispbbs.asp?boardID=509&ID=3685479&page=46', 'http://www.cc98.org/dispbbs.asp?boardID=509&ID=3278954&page=46', 'http://www.cc98.org/dispbbs.asp?boardID=509&ID=3667357&page=46', 'http://www.cc98.org/dispbbs.asp?boardID=509&ID=3678661&page=46', 'http://www.cc98.org/dispbbs.asp?boardID=509&ID=3683038&page=46', 'http://www.cc98.org/dispbbs.asp?boardID=509&ID=3683207&page=46', 'http://www.cc98.org/dispbbs.asp?boardID=509&ID=3681399&page=46', 'http://www.cc98.org/dispbbs.asp?boardID=509&ID=3679975&page=46', 'http://www.cc98.org/dispbbs.asp?boardID=509&ID=3681362&page=46', 'http://www.cc98.org/dispbbs.asp?boardID=509&ID=3681893&page=46', 'http://www.cc98.org/dispbbs.asp?boardID=509&ID=3680638&page=46', 'http://www.cc98.org/dispbbs.asp?boardID=509&ID=3681311&page=46', 'http://www.cc98.org/dispbbs.asp?boardID=509&ID=3678232&page=46', 'http://www.cc98.org/dispbbs.asp?boardID=509&ID=3677295&page=46', 'http://www.cc98.org/dispbbs.asp?boardID=509&ID=3676286&page=46', 'http://www.cc98.org/dispbbs.asp?boardID=509&ID=3673562&page=46', 'http://www.cc98.org/dispbbs.asp?boardID=509&ID=3675673&page=46', 'http://www.cc98.org/dispbbs.asp?boardID=509&ID=3675732&page=47', 'http://www.cc98.org/dispbbs.asp?boardID=509&ID=3670734&page=47', 'http://www.cc98.org/dispbbs.asp?boardID=509&ID=3672005&page=47', 'http://www.cc98.org/dispbbs.asp?boardID=509&ID=3668774&page=47', 'http://www.cc98.org/dispbbs.asp?boardID=509&ID=3671964&page=47', 'http://www.cc98.org/dispbbs.asp?boardID=509&ID=3670721&page=47', 'http://www.cc98.org/dispbbs.asp?boardID=509&ID=3666927&page=47', 'http://www.cc98.org/dispbbs.asp?boardID=509&ID=3671267&page=47', 'http://www.cc98.org/dispbbs.asp?boardID=509&ID=3670680&page=47', 'http://www.cc98.org/dispbbs.asp?boardID=509&ID=3670749&page=47', 'http://www.cc98.org/dispbbs.asp?boardID=509&ID=3670716&page=47', 'http://www.cc98.org/dispbbs.asp?boardID=509&ID=3670731&page=47', 'http://www.cc98.org/dispbbs.asp?boardID=509&ID=3670328&page=47', 'http://www.cc98.org/dispbbs.asp?boardID=509&ID=3618347&page=47', 'http://www.cc98.org/dispbbs.asp?boardID=509&ID=3648862&page=47', 'http://www.cc98.org/dispbbs.asp?boardID=509&ID=3663229&page=47', 'http://www.cc98.org/dispbbs.asp?boardID=509&ID=3665077&page=47', 'http://www.cc98.org/dispbbs.asp?boardID=509&ID=3657291&page=47', 'http://www.cc98.org/dispbbs.asp?boardID=509&ID=3577325&page=47', 'http://www.cc98.org/dispbbs.asp?boardID=509&ID=3559328&page=47', 'http://www.cc98.org/dispbbs.asp?boardID=509&ID=3666116&page=48', 'http://www.cc98.org/dispbbs.asp?boardID=509&ID=3665824&page=48', 'http://www.cc98.org/dispbbs.asp?boardID=509&ID=3663934&page=48', 'http://www.cc98.org/dispbbs.asp?boardID=509&ID=3665012&page=48', 'http://www.cc98.org/dispbbs.asp?boardID=509&ID=3664716&page=48', 'http://www.cc98.org/dispbbs.asp?boardID=509&ID=3663124&page=48', 'http://www.cc98.org/dispbbs.asp?boardID=509&ID=3630431&page=48', 'http://www.cc98.org/dispbbs.asp?boardID=509&ID=3663108&page=48', 'http://www.cc98.org/dispbbs.asp?boardID=509&ID=3662880&page=48', 'http://www.cc98.org/dispbbs.asp?boardID=509&ID=3662579&page=48', 'http://www.cc98.org/dispbbs.asp?boardID=509&ID=3661374&page=48', 'http://www.cc98.org/dispbbs.asp?boardID=509&ID=3656226&page=48', 'http://www.cc98.org/dispbbs.asp?boardID=509&ID=3658966&page=48', 'http://www.cc98.org/dispbbs.asp?boardID=509&ID=3657910&page=48', 'http://www.cc98.org/dispbbs.asp?boardID=509&ID=3659407&page=48', 'http://www.cc98.org/dispbbs.asp?boardID=509&ID=3649065&page=48', 'http://www.cc98.org/dispbbs.asp?boardID=509&ID=3655425&page=48', 'http://www.cc98.org/dispbbs.asp?boardID=509&ID=3657808&page=48', 'http://www.cc98.org/dispbbs.asp?boardID=509&ID=3658678&page=48', 'http://www.cc98.org/dispbbs.asp?boardID=509&ID=3655617&page=48', 'http://www.cc98.org/dispbbs.asp?boardID=509&ID=3654447&page=49', 'http://www.cc98.org/dispbbs.asp?boardID=509&ID=3656570&page=49', 'http://www.cc98.org/dispbbs.asp?boardID=509&ID=3655727&page=49', 'http://www.cc98.org/dispbbs.asp?boardID=509&ID=3654804&page=49', 'http://www.cc98.org/dispbbs.asp?boardID=509&ID=3642648&page=49', 'http://www.cc98.org/dispbbs.asp?boardID=509&ID=3653570&page=49', 'http://www.cc98.org/dispbbs.asp?boardID=509&ID=3468493&page=49', 'http://www.cc98.org/dispbbs.asp?boardID=509&ID=3654409&page=49', 'http://www.cc98.org/dispbbs.asp?boardID=509&ID=3652431&page=49', 'http://www.cc98.org/dispbbs.asp?boardID=509&ID=3654114&page=49', 'http://www.cc98.org/dispbbs.asp?boardID=509&ID=3654030&page=49', 'http://www.cc98.org/dispbbs.asp?boardID=509&ID=3653777&page=49', 'http://www.cc98.org/dispbbs.asp?boardID=509&ID=3644143&page=49', 'http://www.cc98.org/dispbbs.asp?boardID=509&ID=3652495&page=49', 'http://www.cc98.org/dispbbs.asp?boardID=509&ID=3647677&page=49', 'http://www.cc98.org/dispbbs.asp?boardID=509&ID=3651840&page=49', 'http://www.cc98.org/dispbbs.asp?boardID=509&ID=3651863&page=49', 'http://www.cc98.org/dispbbs.asp?boardID=509&ID=3650169&page=49', 'http://www.cc98.org/dispbbs.asp?boardID=509&ID=3650174&page=49', 'http://www.cc98.org/dispbbs.asp?boardID=509&ID=3650131&page=49', 'http://www.cc98.org/dispbbs.asp?boardID=509&ID=3647967&page=50', 'http://www.cc98.org/dispbbs.asp?boardID=509&ID=3650176&page=50', 'http://www.cc98.org/dispbbs.asp?boardID=509&ID=3648917&page=50', 'http://www.cc98.org/dispbbs.asp?boardID=509&ID=3648424&page=50', 'http://www.cc98.org/dispbbs.asp?boardID=509&ID=3647960&page=50', 'http://www.cc98.org/dispbbs.asp?boardID=509&ID=3639007&page=50', 'http://www.cc98.org/dispbbs.asp?boardID=509&ID=3642928&page=50', 'http://www.cc98.org/dispbbs.asp?boardID=509&ID=3647233&page=50', 'http://www.cc98.org/dispbbs.asp?boardID=509&ID=3646784&page=50', 'http://www.cc98.org/dispbbs.asp?boardID=509&ID=3646771&page=50', 'http://www.cc98.org/dispbbs.asp?boardID=509&ID=3641607&page=50', 'http://www.cc98.org/dispbbs.asp?boardID=509&ID=3643058&page=50', 'http://www.cc98.org/dispbbs.asp?boardID=509&ID=3642250&page=50', 'http://www.cc98.org/dispbbs.asp?boardID=509&ID=3642040&page=50', 'http://www.cc98.org/dispbbs.asp?boardID=509&ID=3643514&page=50', 'http://www.cc98.org/dispbbs.asp?boardID=509&ID=3643039&page=50', 'http://www.cc98.org/dispbbs.asp?boardID=509&ID=3303733&page=50', 'http://www.cc98.org/dispbbs.asp?boardID=509&ID=3643071&page=50', 'http://www.cc98.org/dispbbs.asp?boardID=509&ID=3642873&page=50', 'http://www.cc98.org/dispbbs.asp?boardID=509&ID=3640716&page=50', 'http://www.cc98.org/dispbbs.asp?boardID=509&ID=3622660&page=51', 'http://www.cc98.org/dispbbs.asp?boardID=509&ID=3637387&page=51', 'http://www.cc98.org/dispbbs.asp?boardID=509&ID=3634141&page=51', 'http://www.cc98.org/dispbbs.asp?boardID=509&ID=3639215&page=51', 'http://www.cc98.org/dispbbs.asp?boardID=509&ID=3636795&page=51', 'http://www.cc98.org/dispbbs.asp?boardID=509&ID=3633750&page=51', 'http://www.cc98.org/dispbbs.asp?boardID=509&ID=3635941&page=51', 'http://www.cc98.org/dispbbs.asp?boardID=509&ID=3633953&page=51', 'http://www.cc98.org/dispbbs.asp?boardID=509&ID=3631591&page=51', 'http://www.cc98.org/dispbbs.asp?boardID=509&ID=3634634&page=51', 'http://www.cc98.org/dispbbs.asp?boardID=509&ID=3633554&page=51', 'http://www.cc98.org/dispbbs.asp?boardID=509&ID=3633329&page=51', 'http://www.cc98.org/dispbbs.asp?boardID=509&ID=3633127&page=51', 'http://www.cc98.org/dispbbs.asp?boardID=509&ID=3632332&page=51', 'http://www.cc98.org/dispbbs.asp?boardID=509&ID=3630057&page=51', 'http://www.cc98.org/dispbbs.asp?boardID=509&ID=3624591&page=51', 'http://www.cc98.org/dispbbs.asp?boardID=509&ID=3622109&page=51', 'http://www.cc98.org/dispbbs.asp?boardID=509&ID=3630252&page=51', 'http://www.cc98.org/dispbbs.asp?boardID=509&ID=3630621&page=51', 'http://www.cc98.org/dispbbs.asp?boardID=509&ID=3629921&page=51', 'http://www.cc98.org/dispbbs.asp?boardID=509&ID=3628444&page=52', 'http://www.cc98.org/dispbbs.asp?boardID=509&ID=3627228&page=52', 'http://www.cc98.org/dispbbs.asp?boardID=509&ID=3627330&page=52', 'http://www.cc98.org/dispbbs.asp?boardID=509&ID=3626876&page=52', 'http://www.cc98.org/dispbbs.asp?boardID=509&ID=3627215&page=52', 'http://www.cc98.org/dispbbs.asp?boardID=509&ID=3627159&page=52', 'http://www.cc98.org/dispbbs.asp?boardID=509&ID=3625525&page=52', 'http://www.cc98.org/dispbbs.asp?boardID=509&ID=3618109&page=52', 'http://www.cc98.org/dispbbs.asp?boardID=509&ID=3624465&page=52', 'http://www.cc98.org/dispbbs.asp?boardID=509&ID=3624449&page=52', 'http://www.cc98.org/dispbbs.asp?boardID=509&ID=3623740&page=52', 'http://www.cc98.org/dispbbs.asp?boardID=509&ID=3604038&page=52', 'http://www.cc98.org/dispbbs.asp?boardID=509&ID=3623559&page=52', 'http://www.cc98.org/dispbbs.asp?boardID=509&ID=3619404&page=52', 'http://www.cc98.org/dispbbs.asp?boardID=509&ID=3564769&page=52', 'http://www.cc98.org/dispbbs.asp?boardID=509&ID=3619823&page=52', 'http://www.cc98.org/dispbbs.asp?boardID=509&ID=3621785&page=52', 'http://www.cc98.org/dispbbs.asp?boardID=509&ID=3619981&page=52', 'http://www.cc98.org/dispbbs.asp?boardID=509&ID=3620981&page=52', 'http://www.cc98.org/dispbbs.asp?boardID=509&ID=3616070&page=52', 'http://www.cc98.org/dispbbs.asp?boardID=509&ID=3620999&page=53', 'http://www.cc98.org/dispbbs.asp?boardID=509&ID=3619534&page=53', 'http://www.cc98.org/dispbbs.asp?boardID=509&ID=3617822&page=53', 'http://www.cc98.org/dispbbs.asp?boardID=509&ID=3577410&page=53', 'http://www.cc98.org/dispbbs.asp?boardID=509&ID=3618832&page=53', 'http://www.cc98.org/dispbbs.asp?boardID=509&ID=3617881&page=53', 'http://www.cc98.org/dispbbs.asp?boardID=509&ID=3599670&page=53', 'http://www.cc98.org/dispbbs.asp?boardID=509&ID=3619079&page=53', 'http://www.cc98.org/dispbbs.asp?boardID=509&ID=3618371&page=53', 'http://www.cc98.org/dispbbs.asp?boardID=509&ID=3618361&page=53', 'http://www.cc98.org/dispbbs.asp?boardID=509&ID=3618296&page=53', 'http://www.cc98.org/dispbbs.asp?boardID=509&ID=3618249&page=53', 'http://www.cc98.org/dispbbs.asp?boardID=509&ID=3614811&page=53', 'http://www.cc98.org/dispbbs.asp?boardID=509&ID=3616881&page=53', 'http://www.cc98.org/dispbbs.asp?boardID=509&ID=3617208&page=53', 'http://www.cc98.org/dispbbs.asp?boardID=509&ID=3616998&page=53', 'http://www.cc98.org/dispbbs.asp?boardID=509&ID=3616978&page=53', 'http://www.cc98.org/dispbbs.asp?boardID=509&ID=3615292&page=53', 'http://www.cc98.org/dispbbs.asp?boardID=509&ID=3616258&page=53', 'http://www.cc98.org/dispbbs.asp?boardID=509&ID=3616162&page=53', 'http://www.cc98.org/dispbbs.asp?boardID=509&ID=3615829&page=54', 'http://www.cc98.org/dispbbs.asp?boardID=509&ID=3615382&page=54', 'http://www.cc98.org/dispbbs.asp?boardID=509&ID=3614315&page=54', 'http://www.cc98.org/dispbbs.asp?boardID=509&ID=3612542&page=54', 'http://www.cc98.org/dispbbs.asp?boardID=509&ID=3603591&page=54', 'http://www.cc98.org/dispbbs.asp?boardID=509&ID=2597650&page=54', 'http://www.cc98.org/dispbbs.asp?boardID=509&ID=3612756&page=54', 'http://www.cc98.org/dispbbs.asp?boardID=509&ID=3612924&page=54', 'http://www.cc98.org/dispbbs.asp?boardID=509&ID=3612361&page=54', 'http://www.cc98.org/dispbbs.asp?boardID=509&ID=3609921&page=54', 'http://www.cc98.org/dispbbs.asp?boardID=509&ID=3610665&page=54', 'http://www.cc98.org/dispbbs.asp?boardID=509&ID=3610471&page=54', 'http://www.cc98.org/dispbbs.asp?boardID=509&ID=3610841&page=54', 'http://www.cc98.org/dispbbs.asp?boardID=509&ID=3610405&page=54', 'http://www.cc98.org/dispbbs.asp?boardID=509&ID=3610373&page=54', 'http://www.cc98.org/dispbbs.asp?boardID=509&ID=3609993&page=54', 'http://www.cc98.org/dispbbs.asp?boardID=509&ID=3604104&page=54', 'http://www.cc98.org/dispbbs.asp?boardID=509&ID=3606814&page=54', 'http://www.cc98.org/dispbbs.asp?boardID=509&ID=3604562&page=54', 'http://www.cc98.org/dispbbs.asp?boardID=509&ID=3605733&page=54', 'http://www.cc98.org/dispbbs.asp?boardID=509&ID=3607594&page=55', 'http://www.cc98.org/dispbbs.asp?boardID=509&ID=3606250&page=55', 'http://www.cc98.org/dispbbs.asp?boardID=509&ID=3578779&page=55', 'http://www.cc98.org/dispbbs.asp?boardID=509&ID=3604545&page=55', 'http://www.cc98.org/dispbbs.asp?boardID=509&ID=3605533&page=55', 'http://www.cc98.org/dispbbs.asp?boardID=509&ID=3604720&page=55', 'http://www.cc98.org/dispbbs.asp?boardID=509&ID=3604586&page=55', 'http://www.cc98.org/dispbbs.asp?boardID=509&ID=3604638&page=55', 'http://www.cc98.org/dispbbs.asp?boardID=509&ID=3604806&page=55', 'http://www.cc98.org/dispbbs.asp?boardID=509&ID=3599404&page=55', 'http://www.cc98.org/dispbbs.asp?boardID=509&ID=3604272&page=55', 'http://www.cc98.org/dispbbs.asp?boardID=509&ID=3601432&page=55', 'http://www.cc98.org/dispbbs.asp?boardID=509&ID=3600101&page=55', 'http://www.cc98.org/dispbbs.asp?boardID=509&ID=3603003&page=55', 'http://www.cc98.org/dispbbs.asp?boardID=509&ID=3601654&page=55', 'http://www.cc98.org/dispbbs.asp?boardID=509&ID=3601774&page=55', 'http://www.cc98.org/dispbbs.asp?boardID=509&ID=3602103&page=55', 'http://www.cc98.org/dispbbs.asp?boardID=509&ID=3602295&page=55', 'http://www.cc98.org/dispbbs.asp?boardID=509&ID=3602376&page=55', 'http://www.cc98.org/dispbbs.asp?boardID=509&ID=3602334&page=55', 'http://www.cc98.org/dispbbs.asp?boardID=509&ID=3599913&page=56', 'http://www.cc98.org/dispbbs.asp?boardID=509&ID=3602116&page=56', 'http://www.cc98.org/dispbbs.asp?boardID=509&ID=3599286&page=56', 'http://www.cc98.org/dispbbs.asp?boardID=509&ID=3599167&page=56', 'http://www.cc98.org/dispbbs.asp?boardID=509&ID=3599721&page=56', 'http://www.cc98.org/dispbbs.asp?boardID=509&ID=3599826&page=56', 'http://www.cc98.org/dispbbs.asp?boardID=509&ID=3599823&page=56', 'http://www.cc98.org/dispbbs.asp?boardID=509&ID=3599801&page=56', 'http://www.cc98.org/dispbbs.asp?boardID=509&ID=3599746&page=56', 'http://www.cc98.org/dispbbs.asp?boardID=509&ID=3599604&page=56', 'http://www.cc98.org/dispbbs.asp?boardID=509&ID=3599499&page=56', 'http://www.cc98.org/dispbbs.asp?boardID=509&ID=3599592&page=56', 'http://www.cc98.org/dispbbs.asp?boardID=509&ID=3599186&page=56', 'http://www.cc98.org/dispbbs.asp?boardID=509&ID=3598719&page=56', 'http://www.cc98.org/dispbbs.asp?boardID=509&ID=3597574&page=56', 'http://www.cc98.org/dispbbs.asp?boardID=509&ID=3595371&page=56', 'http://www.cc98.org/dispbbs.asp?boardID=509&ID=3594322&page=56', 'http://www.cc98.org/dispbbs.asp?boardID=509&ID=3596423&page=56', 'http://www.cc98.org/dispbbs.asp?boardID=509&ID=3592668&page=56', 'http://www.cc98.org/dispbbs.asp?boardID=509&ID=3596362&page=56', 'http://www.cc98.org/dispbbs.asp?boardID=509&ID=3596260&page=57', 'http://www.cc98.org/dispbbs.asp?boardID=509&ID=2743119&page=57', 'http://www.cc98.org/dispbbs.asp?boardID=509&ID=3593678&page=57', 'http://www.cc98.org/dispbbs.asp?boardID=509&ID=3593703&page=57', 'http://www.cc98.org/dispbbs.asp?boardID=509&ID=3593245&page=57', 'http://www.cc98.org/dispbbs.asp?boardID=509&ID=3590959&page=57', 'http://www.cc98.org/dispbbs.asp?boardID=509&ID=3593953&page=57', 'http://www.cc98.org/dispbbs.asp?boardID=509&ID=3592524&page=57', 'http://www.cc98.org/dispbbs.asp?boardID=509&ID=3590437&page=57', 'http://www.cc98.org/dispbbs.asp?boardID=509&ID=3591525&page=57', 'http://www.cc98.org/dispbbs.asp?boardID=509&ID=3591128&page=57', 'http://www.cc98.org/dispbbs.asp?boardID=509&ID=3590577&page=57', 'http://www.cc98.org/dispbbs.asp?boardID=509&ID=3586823&page=57', 'http://www.cc98.org/dispbbs.asp?boardID=509&ID=3590527&page=57', 'http://www.cc98.org/dispbbs.asp?boardID=509&ID=3588019&page=57', 'http://www.cc98.org/dispbbs.asp?boardID=509&ID=3586847&page=57', 'http://www.cc98.org/dispbbs.asp?boardID=509&ID=3587155&page=57', 'http://www.cc98.org/dispbbs.asp?boardID=509&ID=3588528&page=57', 'http://www.cc98.org/dispbbs.asp?boardID=509&ID=3588569&page=57', 'http://www.cc98.org/dispbbs.asp?boardID=509&ID=3074336&page=57', 'http://www.cc98.org/dispbbs.asp?boardID=509&ID=2770908&page=58', 'http://www.cc98.org/dispbbs.asp?boardID=509&ID=3585957&page=58', 'http://www.cc98.org/dispbbs.asp?boardID=509&ID=3585826&page=58', 'http://www.cc98.org/dispbbs.asp?boardID=509&ID=2941179&page=58', 'http://www.cc98.org/dispbbs.asp?boardID=509&ID=2982687&page=58', 'http://www.cc98.org/dispbbs.asp?boardID=509&ID=1901452&page=58', 'http://www.cc98.org/dispbbs.asp?boardID=509&ID=3032709&page=58', 'http://www.cc98.org/dispbbs.asp?boardID=509&ID=2530192&page=58', 'http://www.cc98.org/dispbbs.asp?boardID=509&ID=2896143&page=58', 'http://www.cc98.org/dispbbs.asp?boardID=509&ID=2802264&page=58', 'http://www.cc98.org/dispbbs.asp?boardID=509&ID=3259467&page=58', 'http://www.cc98.org/dispbbs.asp?boardID=509&ID=2889533&page=58', 'http://www.cc98.org/dispbbs.asp?boardID=509&ID=1864632&page=58', 'http://www.cc98.org/dispbbs.asp?boardID=509&ID=2426734&page=58', 'http://www.cc98.org/dispbbs.asp?boardID=509&ID=3585486&page=58', 'http://www.cc98.org/dispbbs.asp?boardID=509&ID=3584292&page=58', 'http://www.cc98.org/dispbbs.asp?boardID=509&ID=3585431&page=58', 'http://www.cc98.org/dispbbs.asp?boardID=509&ID=3584111&page=58', 'http://www.cc98.org/dispbbs.asp?boardID=509&ID=3570422&page=58', 'http://www.cc98.org/dispbbs.asp?boardID=509&ID=3575677&page=58', 'http://www.cc98.org/dispbbs.asp?boardID=509&ID=3581782&page=59', 'http://www.cc98.org/dispbbs.asp?boardID=509&ID=3583616&page=59', 'http://www.cc98.org/dispbbs.asp?boardID=509&ID=3581591&page=59', 'http://www.cc98.org/dispbbs.asp?boardID=509&ID=3579995&page=59', 'http://www.cc98.org/dispbbs.asp?boardID=509&ID=3577818&page=59', 'http://www.cc98.org/dispbbs.asp?boardID=509&ID=3581434&page=59', 'http://www.cc98.org/dispbbs.asp?boardID=509&ID=3582184&page=59', 'http://www.cc98.org/dispbbs.asp?boardID=509&ID=3582253&page=59', 'http://www.cc98.org/dispbbs.asp?boardID=509&ID=3579465&page=59', 'http://www.cc98.org/dispbbs.asp?boardID=509&ID=3580828&page=59', 'http://www.cc98.org/dispbbs.asp?boardID=509&ID=3581283&page=59', 'http://www.cc98.org/dispbbs.asp?boardID=509&ID=3578661&page=59', 'http://www.cc98.org/dispbbs.asp?boardID=509&ID=3578711&page=59', 'http://www.cc98.org/dispbbs.asp?boardID=509&ID=3578483&page=59', 'http://www.cc98.org/dispbbs.asp?boardID=509&ID=3576024&page=59', 'http://www.cc98.org/dispbbs.asp?boardID=509&ID=3577699&page=59', 'http://www.cc98.org/dispbbs.asp?boardID=509&ID=3576620&page=59', 'http://www.cc98.org/dispbbs.asp?boardID=509&ID=3579688&page=59', 'http://www.cc98.org/dispbbs.asp?boardID=509&ID=3576235&page=59', 'http://www.cc98.org/dispbbs.asp?boardID=509&ID=3576236&page=59', 'http://www.cc98.org/dispbbs.asp?boardID=509&ID=3574951&page=60', 'http://www.cc98.org/dispbbs.asp?boardID=509&ID=3575103&page=60', 'http://www.cc98.org/dispbbs.asp?boardID=509&ID=3575067&page=60', 'http://www.cc98.org/dispbbs.asp?boardID=509&ID=3564134&page=60', 'http://www.cc98.org/dispbbs.asp?boardID=509&ID=3574917&page=60', 'http://www.cc98.org/dispbbs.asp?boardID=509&ID=3570787&page=60', 'http://www.cc98.org/dispbbs.asp?boardID=509&ID=3571428&page=60', 'http://www.cc98.org/dispbbs.asp?boardID=509&ID=3570319&page=60', 'http://www.cc98.org/dispbbs.asp?boardID=509&ID=3572560&page=60', 'http://www.cc98.org/dispbbs.asp?boardID=509&ID=3570931&page=60', 'http://www.cc98.org/dispbbs.asp?boardID=509&ID=3567359&page=60', 'http://www.cc98.org/dispbbs.asp?boardID=509&ID=3480568&page=60', 'http://www.cc98.org/dispbbs.asp?boardID=509&ID=3568920&page=60', 'http://www.cc98.org/dispbbs.asp?boardID=509&ID=3570454&page=60', 'http://www.cc98.org/dispbbs.asp?boardID=509&ID=3568370&page=60', 'http://www.cc98.org/dispbbs.asp?boardID=509&ID=3568971&page=60', 'http://www.cc98.org/dispbbs.asp?boardID=509&ID=3569638&page=60', 'http://www.cc98.org/dispbbs.asp?boardID=509&ID=3567832&page=60', 'http://www.cc98.org/dispbbs.asp?boardID=509&ID=3568273&page=60', 'http://www.cc98.org/dispbbs.asp?boardID=509&ID=3567892&page=60', 'http://www.cc98.org/dispbbs.asp?boardID=509&ID=3566376&page=61', 'http://www.cc98.org/dispbbs.asp?boardID=509&ID=3566896&page=61', 'http://www.cc98.org/dispbbs.asp?boardID=509&ID=3566713&page=61', 'http://www.cc98.org/dispbbs.asp?boardID=509&ID=3566597&page=61', 'http://www.cc98.org/dispbbs.asp?boardID=509&ID=3561133&page=61', 'http://www.cc98.org/dispbbs.asp?boardID=509&ID=3564474&page=61', 'http://www.cc98.org/dispbbs.asp?boardID=509&ID=3561064&page=61', 'http://www.cc98.org/dispbbs.asp?boardID=509&ID=3562467&page=61', 'http://www.cc98.org/dispbbs.asp?boardID=509&ID=3564367&page=61', 'http://www.cc98.org/dispbbs.asp?boardID=509&ID=3564281&page=61', 'http://www.cc98.org/dispbbs.asp?boardID=509&ID=3563213&page=61', 'http://www.cc98.org/dispbbs.asp?boardID=509&ID=3559764&page=61', 'http://www.cc98.org/dispbbs.asp?boardID=509&ID=3563450&page=61', 'http://www.cc98.org/dispbbs.asp?boardID=509&ID=3562812&page=61', 'http://www.cc98.org/dispbbs.asp?boardID=509&ID=3563228&page=61', 'http://www.cc98.org/dispbbs.asp?boardID=509&ID=3561605&page=61', 'http://www.cc98.org/dispbbs.asp?boardID=509&ID=3561153&page=61', 'http://www.cc98.org/dispbbs.asp?boardID=509&ID=3562311&page=61', 'http://www.cc98.org/dispbbs.asp?boardID=509&ID=3562240&page=61', 'http://www.cc98.org/dispbbs.asp?boardID=509&ID=3561049&page=61', 'http://www.cc98.org/dispbbs.asp?boardID=509&ID=3562001&page=62', 'http://www.cc98.org/dispbbs.asp?boardID=509&ID=3560991&page=62', 'http://www.cc98.org/dispbbs.asp?boardID=509&ID=3560908&page=62', 'http://www.cc98.org/dispbbs.asp?boardID=509&ID=3558630&page=62', 'http://www.cc98.org/dispbbs.asp?boardID=509&ID=3558367&page=62', 'http://www.cc98.org/dispbbs.asp?boardID=509&ID=3558392&page=62', 'http://www.cc98.org/dispbbs.asp?boardID=509&ID=3558017&page=62', 'http://www.cc98.org/dispbbs.asp?boardID=509&ID=3557108&page=62', 'http://www.cc98.org/dispbbs.asp?boardID=509&ID=2712517&page=62', 'http://www.cc98.org/dispbbs.asp?boardID=509&ID=3536734&page=62', 'http://www.cc98.org/dispbbs.asp?boardID=509&ID=3556002&page=62', 'http://www.cc98.org/dispbbs.asp?boardID=509&ID=3552781&page=62', 'http://www.cc98.org/dispbbs.asp?boardID=509&ID=3556655&page=62', 'http://www.cc98.org/dispbbs.asp?boardID=509&ID=3555629&page=62', 'http://www.cc98.org/dispbbs.asp?boardID=509&ID=3554966&page=62', 'http://www.cc98.org/dispbbs.asp?boardID=509&ID=3552910&page=62', 'http://www.cc98.org/dispbbs.asp?boardID=509&ID=2939521&page=62', 'http://www.cc98.org/dispbbs.asp?boardID=509&ID=3390628&page=62', 'http://www.cc98.org/dispbbs.asp?boardID=509&ID=3273463&page=62', 'http://www.cc98.org/dispbbs.asp?boardID=509&ID=2142738&page=62', 'http://www.cc98.org/dispbbs.asp?boardID=509&ID=2522307&page=63', 'http://www.cc98.org/dispbbs.asp?boardID=509&ID=1864979&page=63', 'http://www.cc98.org/dispbbs.asp?boardID=509&ID=1864954&page=63', 'http://www.cc98.org/dispbbs.asp?boardID=509&ID=1959475&page=63', 'http://www.cc98.org/dispbbs.asp?boardID=509&ID=3552472&page=63', 'http://www.cc98.org/dispbbs.asp?boardID=509&ID=3550489&page=63', 'http://www.cc98.org/dispbbs.asp?boardID=509&ID=3551684&page=63', 'http://www.cc98.org/dispbbs.asp?boardID=509&ID=3542217&page=63', 'http://www.cc98.org/dispbbs.asp?boardID=509&ID=3547242&page=63', 'http://www.cc98.org/dispbbs.asp?boardID=509&ID=3490054&page=63', 'http://www.cc98.org/dispbbs.asp?boardID=509&ID=3548147&page=63', 'http://www.cc98.org/dispbbs.asp?boardID=509&ID=3542836&page=63', 'http://www.cc98.org/dispbbs.asp?boardID=509&ID=3547501&page=63', 'http://www.cc98.org/dispbbs.asp?boardID=509&ID=3547785&page=63', 'http://www.cc98.org/dispbbs.asp?boardID=509&ID=3546185&page=63', 'http://www.cc98.org/dispbbs.asp?boardID=509&ID=3544498&page=63', 'http://www.cc98.org/dispbbs.asp?boardID=509&ID=3545254&page=63', 'http://www.cc98.org/dispbbs.asp?boardID=509&ID=3409661&page=63', 'http://www.cc98.org/dispbbs.asp?boardID=509&ID=3545378&page=63', 'http://www.cc98.org/dispbbs.asp?boardID=509&ID=3545620&page=63', 'http://www.cc98.org/dispbbs.asp?boardID=509&ID=3531355&page=64', 'http://www.cc98.org/dispbbs.asp?boardID=509&ID=3540958&page=64', 'http://www.cc98.org/dispbbs.asp?boardID=509&ID=3536585&page=64', 'http://www.cc98.org/dispbbs.asp?boardID=509&ID=3542109&page=64', 'http://www.cc98.org/dispbbs.asp?boardID=509&ID=3542551&page=64', 'http://www.cc98.org/dispbbs.asp?boardID=509&ID=3542449&page=64', 'http://www.cc98.org/dispbbs.asp?boardID=509&ID=3541176&page=64', 'http://www.cc98.org/dispbbs.asp?boardID=509&ID=3541880&page=64', 'http://www.cc98.org/dispbbs.asp?boardID=509&ID=3531964&page=64', 'http://www.cc98.org/dispbbs.asp?boardID=509&ID=3537963&page=64', 'http://www.cc98.org/dispbbs.asp?boardID=509&ID=3537535&page=64', 'http://www.cc98.org/dispbbs.asp?boardID=509&ID=3539500&page=64', 'http://www.cc98.org/dispbbs.asp?boardID=509&ID=3537915&page=64', 'http://www.cc98.org/dispbbs.asp?boardID=509&ID=3537462&page=64', 'http://www.cc98.org/dispbbs.asp?boardID=509&ID=3536801&page=64', 'http://www.cc98.org/dispbbs.asp?boardID=509&ID=3537729&page=64', 'http://www.cc98.org/dispbbs.asp?boardID=509&ID=3537637&page=64', 'http://www.cc98.org/dispbbs.asp?boardID=509&ID=3536900&page=64', 'http://www.cc98.org/dispbbs.asp?boardID=509&ID=3530594&page=64', 'http://www.cc98.org/dispbbs.asp?boardID=509&ID=3525804&page=64', 'http://www.cc98.org/dispbbs.asp?boardID=509&ID=3534068&page=65', 'http://www.cc98.org/dispbbs.asp?boardID=509&ID=3532220&page=65', 'http://www.cc98.org/dispbbs.asp?boardID=509&ID=3534169&page=65', 'http://www.cc98.org/dispbbs.asp?boardID=509&ID=3527316&page=65', 'http://www.cc98.org/dispbbs.asp?boardID=509&ID=3531985&page=65', 'http://www.cc98.org/dispbbs.asp?boardID=509&ID=3531064&page=65', 'http://www.cc98.org/dispbbs.asp?boardID=509&ID=3530846&page=65', 'http://www.cc98.org/dispbbs.asp?boardID=509&ID=3530428&page=65', 'http://www.cc98.org/dispbbs.asp?boardID=509&ID=3519001&page=65', 'http://www.cc98.org/dispbbs.asp?boardID=509&ID=3523371&page=65', 'http://www.cc98.org/dispbbs.asp?boardID=509&ID=3482669&page=65', 'http://www.cc98.org/dispbbs.asp?boardID=509&ID=3526862&page=65', 'http://www.cc98.org/dispbbs.asp?boardID=509&ID=3521798&page=65', 'http://www.cc98.org/dispbbs.asp?boardID=509&ID=3523071&page=65', 'http://www.cc98.org/dispbbs.asp?boardID=509&ID=3519759&page=65', 'http://www.cc98.org/dispbbs.asp?boardID=509&ID=3523328&page=65', 'http://www.cc98.org/dispbbs.asp?boardID=509&ID=3523067&page=65', 'http://www.cc98.org/dispbbs.asp?boardID=509&ID=3520549&page=65', 'http://www.cc98.org/dispbbs.asp?boardID=509&ID=3522052&page=65', 'http://www.cc98.org/dispbbs.asp?boardID=509&ID=3518562&page=65', 'http://www.cc98.org/dispbbs.asp?boardID=509&ID=3520439&page=66', 'http://www.cc98.org/dispbbs.asp?boardID=509&ID=3521591&page=66', 'http://www.cc98.org/dispbbs.asp?boardID=509&ID=3521200&page=66', 'http://www.cc98.org/dispbbs.asp?boardID=509&ID=3520892&page=66', 'http://www.cc98.org/dispbbs.asp?boardID=509&ID=3517286&page=66', 'http://www.cc98.org/dispbbs.asp?boardID=509&ID=3520420&page=66', 'http://www.cc98.org/dispbbs.asp?boardID=509&ID=3518716&page=66', 'http://www.cc98.org/dispbbs.asp?boardID=509&ID=3518560&page=66', 'http://www.cc98.org/dispbbs.asp?boardID=509&ID=3516750&page=66', 'http://www.cc98.org/dispbbs.asp?boardID=509&ID=3513172&page=66', 'http://www.cc98.org/dispbbs.asp?boardID=509&ID=3513906&page=66', 'http://www.cc98.org/dispbbs.asp?boardID=509&ID=3516974&page=66', 'http://www.cc98.org/dispbbs.asp?boardID=509&ID=3514919&page=66', 'http://www.cc98.org/dispbbs.asp?boardID=509&ID=3515268&page=66', 'http://www.cc98.org/dispbbs.asp?boardID=509&ID=3515612&page=66', 'http://www.cc98.org/dispbbs.asp?boardID=509&ID=3515202&page=66', 'http://www.cc98.org/dispbbs.asp?boardID=509&ID=3513651&page=66', 'http://www.cc98.org/dispbbs.asp?boardID=509&ID=3514126&page=66', 'http://www.cc98.org/dispbbs.asp?boardID=509&ID=3513333&page=66', 'http://www.cc98.org/dispbbs.asp?boardID=509&ID=3512810&page=66', 'http://www.cc98.org/dispbbs.asp?boardID=509&ID=3513932&page=67', 'http://www.cc98.org/dispbbs.asp?boardID=509&ID=3513307&page=67', 'http://www.cc98.org/dispbbs.asp?boardID=509&ID=3513059&page=67', 'http://www.cc98.org/dispbbs.asp?boardID=509&ID=3066936&page=67', 'http://www.cc98.org/dispbbs.asp?boardID=509&ID=3513179&page=67', 'http://www.cc98.org/dispbbs.asp?boardID=509&ID=3512850&page=67', 'http://www.cc98.org/dispbbs.asp?boardID=509&ID=3512950&page=67', 'http://www.cc98.org/dispbbs.asp?boardID=509&ID=3512801&page=67', 'http://www.cc98.org/dispbbs.asp?boardID=509&ID=3511598&page=67', 'http://www.cc98.org/dispbbs.asp?boardID=509&ID=3512691&page=67', 'http://www.cc98.org/dispbbs.asp?boardID=509&ID=3512017&page=67', 'http://www.cc98.org/dispbbs.asp?boardID=509&ID=3508174&page=67', 'http://www.cc98.org/dispbbs.asp?boardID=509&ID=3506296&page=67', 'http://www.cc98.org/dispbbs.asp?boardID=509&ID=3499567&page=67', 'http://www.cc98.org/dispbbs.asp?boardID=509&ID=3508279&page=67', 'http://www.cc98.org/dispbbs.asp?boardID=509&ID=3508763&page=67', 'http://www.cc98.org/dispbbs.asp?boardID=509&ID=3509628&page=67', 'http://www.cc98.org/dispbbs.asp?boardID=509&ID=3509494&page=67', 'http://www.cc98.org/dispbbs.asp?boardID=509&ID=3507507&page=67', 'http://www.cc98.org/dispbbs.asp?boardID=509&ID=3505809&page=67', 'http://www.cc98.org/dispbbs.asp?boardID=509&ID=3508802&page=68', 'http://www.cc98.org/dispbbs.asp?boardID=509&ID=3507883&page=68', 'http://www.cc98.org/dispbbs.asp?boardID=509&ID=3505660&page=68', 'http://www.cc98.org/dispbbs.asp?boardID=509&ID=3508019&page=68', 'http://www.cc98.org/dispbbs.asp?boardID=509&ID=3507063&page=68', 'http://www.cc98.org/dispbbs.asp?boardID=509&ID=3506222&page=68', 'http://www.cc98.org/dispbbs.asp?boardID=509&ID=3501228&page=68', 'http://www.cc98.org/dispbbs.asp?boardID=509&ID=3505779&page=68', 'http://www.cc98.org/dispbbs.asp?boardID=509&ID=3505248&page=68', 'http://www.cc98.org/dispbbs.asp?boardID=509&ID=3504916&page=68', 'http://www.cc98.org/dispbbs.asp?boardID=509&ID=3504830&page=68', 'http://www.cc98.org/dispbbs.asp?boardID=509&ID=3503458&page=68', 'http://www.cc98.org/dispbbs.asp?boardID=509&ID=3504832&page=68', 'http://www.cc98.org/dispbbs.asp?boardID=509&ID=3504741&page=68', 'http://www.cc98.org/dispbbs.asp?boardID=509&ID=3504297&page=68', 'http://www.cc98.org/dispbbs.asp?boardID=509&ID=3502503&page=68', 'http://www.cc98.org/dispbbs.asp?boardID=509&ID=3503190&page=68', 'http://www.cc98.org/dispbbs.asp?boardID=509&ID=3502791&page=68', 'http://www.cc98.org/dispbbs.asp?boardID=509&ID=3500120&page=68', 'http://www.cc98.org/dispbbs.asp?boardID=509&ID=3501256&page=68', 'http://www.cc98.org/dispbbs.asp?boardID=509&ID=3502099&page=69', 'http://www.cc98.org/dispbbs.asp?boardID=509&ID=3499062&page=69', 'http://www.cc98.org/dispbbs.asp?boardID=509&ID=3499444&page=69', 'http://www.cc98.org/dispbbs.asp?boardID=509&ID=3500865&page=69', 'http://www.cc98.org/dispbbs.asp?boardID=509&ID=3500007&page=69', 'http://www.cc98.org/dispbbs.asp?boardID=509&ID=3499029&page=69', 'http://www.cc98.org/dispbbs.asp?boardID=509&ID=3494636&page=69', 'http://www.cc98.org/dispbbs.asp?boardID=509&ID=3498624&page=69', 'http://www.cc98.org/dispbbs.asp?boardID=509&ID=3497229&page=69', 'http://www.cc98.org/dispbbs.asp?boardID=509&ID=3497729&page=69', 'http://www.cc98.org/dispbbs.asp?boardID=509&ID=3490374&page=69', 'http://www.cc98.org/dispbbs.asp?boardID=509&ID=3585303&page=69', 'http://www.cc98.org/dispbbs.asp?boardID=509&ID=3494275&page=69', 'http://www.cc98.org/dispbbs.asp?boardID=509&ID=3495659&page=69', 'http://www.cc98.org/dispbbs.asp?boardID=509&ID=3489605&page=69', 'http://www.cc98.org/dispbbs.asp?boardID=509&ID=3493910&page=69', 'http://www.cc98.org/dispbbs.asp?boardID=509&ID=3487992&page=69', 'http://www.cc98.org/dispbbs.asp?boardID=509&ID=3490614&page=69', 'http://www.cc98.org/dispbbs.asp?boardID=509&ID=3490590&page=69', 'http://www.cc98.org/dispbbs.asp?boardID=509&ID=3490445&page=69', 'http://www.cc98.org/dispbbs.asp?boardID=509&ID=3490128&page=70', 'http://www.cc98.org/dispbbs.asp?boardID=509&ID=3486957&page=70', 'http://www.cc98.org/dispbbs.asp?boardID=509&ID=3489727&page=70', 'http://www.cc98.org/dispbbs.asp?boardID=509&ID=3489704&page=70', 'http://www.cc98.org/dispbbs.asp?boardID=509&ID=3488752&page=70', 'http://www.cc98.org/dispbbs.asp?boardID=509&ID=3487622&page=70', 'http://www.cc98.org/dispbbs.asp?boardID=509&ID=3486623&page=70', 'http://www.cc98.org/dispbbs.asp?boardID=509&ID=3487768&page=70', 'http://www.cc98.org/dispbbs.asp?boardID=509&ID=3485411&page=70', 'http://www.cc98.org/dispbbs.asp?boardID=509&ID=3487540&page=70', 'http://www.cc98.org/dispbbs.asp?boardID=509&ID=3483395&page=70', 'http://www.cc98.org/dispbbs.asp?boardID=509&ID=3480369&page=70', 'http://www.cc98.org/dispbbs.asp?boardID=509&ID=3408151&page=70', 'http://www.cc98.org/dispbbs.asp?boardID=509&ID=3483373&page=70', 'http://www.cc98.org/dispbbs.asp?boardID=509&ID=3483420&page=70', 'http://www.cc98.org/dispbbs.asp?boardID=509&ID=3478711&page=70', 'http://www.cc98.org/dispbbs.asp?boardID=509&ID=3483592&page=70', 'http://www.cc98.org/dispbbs.asp?boardID=509&ID=3483168&page=70', 'http://www.cc98.org/dispbbs.asp?boardID=509&ID=3482132&page=70', 'http://www.cc98.org/dispbbs.asp?boardID=509&ID=3482363&page=70', 'http://www.cc98.org/dispbbs.asp?boardID=509&ID=3473797&page=71', 'http://www.cc98.org/dispbbs.asp?boardID=509&ID=3482105&page=71', 'http://www.cc98.org/dispbbs.asp?boardID=509&ID=3481952&page=71', 'http://www.cc98.org/dispbbs.asp?boardID=509&ID=3481757&page=71', 'http://www.cc98.org/dispbbs.asp?boardID=509&ID=3474057&page=71', 'http://www.cc98.org/dispbbs.asp?boardID=509&ID=3480666&page=71', 'http://www.cc98.org/dispbbs.asp?boardID=509&ID=3480777&page=71', 'http://www.cc98.org/dispbbs.asp?boardID=509&ID=3479298&page=71', 'http://www.cc98.org/dispbbs.asp?boardID=509&ID=3480546&page=71', 'http://www.cc98.org/dispbbs.asp?boardID=509&ID=3479951&page=71', 'http://www.cc98.org/dispbbs.asp?boardID=509&ID=3474690&page=71', 'http://www.cc98.org/dispbbs.asp?boardID=509&ID=3472670&page=71', 'http://www.cc98.org/dispbbs.asp?boardID=509&ID=3477885&page=71', 'http://www.cc98.org/dispbbs.asp?boardID=509&ID=3477475&page=71', 'http://www.cc98.org/dispbbs.asp?boardID=509&ID=3470486&page=71', 'http://www.cc98.org/dispbbs.asp?boardID=509&ID=3472682&page=71', 'http://www.cc98.org/dispbbs.asp?boardID=509&ID=3471297&page=71', 'http://www.cc98.org/dispbbs.asp?boardID=509&ID=3471133&page=71', 'http://www.cc98.org/dispbbs.asp?boardID=509&ID=3473701&page=71', 'http://www.cc98.org/dispbbs.asp?boardID=509&ID=3474476&page=71', 'http://www.cc98.org/dispbbs.asp?boardID=509&ID=3475112&page=72', 'http://www.cc98.org/dispbbs.asp?boardID=509&ID=3387657&page=72', 'http://www.cc98.org/dispbbs.asp?boardID=509&ID=3471113&page=72', 'http://www.cc98.org/dispbbs.asp?boardID=509&ID=3458306&page=72', 'http://www.cc98.org/dispbbs.asp?boardID=509&ID=3474442&page=72', 'http://www.cc98.org/dispbbs.asp?boardID=509&ID=3474236&page=72', 'http://www.cc98.org/dispbbs.asp?boardID=509&ID=3473479&page=72', 'http://www.cc98.org/dispbbs.asp?boardID=509&ID=3465098&page=72', 'http://www.cc98.org/dispbbs.asp?boardID=509&ID=3563582&page=72', 'http://www.cc98.org/dispbbs.asp?boardID=509&ID=3465096&page=72', 'http://www.cc98.org/dispbbs.asp?boardID=509&ID=3471869&page=72', 'http://www.cc98.org/dispbbs.asp?boardID=509&ID=3471446&page=72', 'http://www.cc98.org/dispbbs.asp?boardID=509&ID=3461242&page=72', 'http://www.cc98.org/dispbbs.asp?boardID=509&ID=3465537&page=72', 'http://www.cc98.org/dispbbs.asp?boardID=509&ID=3467797&page=72', 'http://www.cc98.org/dispbbs.asp?boardID=509&ID=3467644&page=72', 'http://www.cc98.org/dispbbs.asp?boardID=509&ID=3465013&page=72', 'http://www.cc98.org/dispbbs.asp?boardID=509&ID=3470229&page=72', 'http://www.cc98.org/dispbbs.asp?boardID=509&ID=3468657&page=72', 'http://www.cc98.org/dispbbs.asp?boardID=509&ID=3466758&page=72', 'http://www.cc98.org/dispbbs.asp?boardID=509&ID=3464215&page=73', 'http://www.cc98.org/dispbbs.asp?boardID=509&ID=3460787&page=73', 'http://www.cc98.org/dispbbs.asp?boardID=509&ID=3466624&page=73', 'http://www.cc98.org/dispbbs.asp?boardID=509&ID=3463797&page=73', 'http://www.cc98.org/dispbbs.asp?boardID=509&ID=3455182&page=73', 'http://www.cc98.org/dispbbs.asp?boardID=509&ID=3465432&page=73', 'http://www.cc98.org/dispbbs.asp?boardID=509&ID=3465419&page=73', 'http://www.cc98.org/dispbbs.asp?boardID=509&ID=3465265&page=73', 'http://www.cc98.org/dispbbs.asp?boardID=509&ID=3464242&page=73', 'http://www.cc98.org/dispbbs.asp?boardID=509&ID=3462217&page=73', 'http://www.cc98.org/dispbbs.asp?boardID=509&ID=3462184&page=73', 'http://www.cc98.org/dispbbs.asp?boardID=509&ID=3461788&page=73', 'http://www.cc98.org/dispbbs.asp?boardID=509&ID=3457823&page=73', 'http://www.cc98.org/dispbbs.asp?boardID=509&ID=3461664&page=73', 'http://www.cc98.org/dispbbs.asp?boardID=509&ID=3456324&page=73', 'http://www.cc98.org/dispbbs.asp?boardID=509&ID=3460960&page=73', 'http://www.cc98.org/dispbbs.asp?boardID=509&ID=3460435&page=73', 'http://www.cc98.org/dispbbs.asp?boardID=509&ID=3458471&page=73', 'http://www.cc98.org/dispbbs.asp?boardID=509&ID=3459578&page=73', 'http://www.cc98.org/dispbbs.asp?boardID=509&ID=3459528&page=73', 'http://www.cc98.org/dispbbs.asp?boardID=509&ID=3441957&page=74', 'http://www.cc98.org/dispbbs.asp?boardID=509&ID=3407406&page=74', 'http://www.cc98.org/dispbbs.asp?boardID=509&ID=3405330&page=74', 'http://www.cc98.org/dispbbs.asp?boardID=509&ID=3404732&page=74', 'http://www.cc98.org/dispbbs.asp?boardID=509&ID=3404061&page=74', 'http://www.cc98.org/dispbbs.asp?boardID=509&ID=2641235&page=74', 'http://www.cc98.org/dispbbs.asp?boardID=509&ID=2361773&page=74', 'http://www.cc98.org/dispbbs.asp?boardID=509&ID=3399152&page=74', 'http://www.cc98.org/dispbbs.asp?boardID=509&ID=3401235&page=74', 'http://www.cc98.org/dispbbs.asp?boardID=509&ID=3399307&page=74', 'http://www.cc98.org/dispbbs.asp?boardID=509&ID=3393382&page=74', 'http://www.cc98.org/dispbbs.asp?boardID=509&ID=3366843&page=74', 'http://www.cc98.org/dispbbs.asp?boardID=509&ID=3392706&page=74', 'http://www.cc98.org/dispbbs.asp?boardID=509&ID=3392836&page=74', 'http://www.cc98.org/dispbbs.asp?boardID=509&ID=3392834&page=74', 'http://www.cc98.org/dispbbs.asp?boardID=509&ID=3381270&page=74', 'http://www.cc98.org/dispbbs.asp?boardID=509&ID=3375322&page=74', 'http://www.cc98.org/dispbbs.asp?boardID=509&ID=3374471&page=74', 'http://www.cc98.org/dispbbs.asp?boardID=509&ID=3373495&page=74', 'http://www.cc98.org/dispbbs.asp?boardID=509&ID=3373369&page=74', 'http://www.cc98.org/dispbbs.asp?boardID=509&ID=3372677&page=75', 'http://www.cc98.org/dispbbs.asp?boardID=509&ID=3349116&page=75', 'http://www.cc98.org/dispbbs.asp?boardID=509&ID=3338136&page=75', 'http://www.cc98.org/dispbbs.asp?boardID=509&ID=3346983&page=75', 'http://www.cc98.org/dispbbs.asp?boardID=509&ID=3229425&page=75', 'http://www.cc98.org/dispbbs.asp?boardID=509&ID=3317755&page=75', 'http://www.cc98.org/dispbbs.asp?boardID=509&ID=3323218&page=75', 'http://www.cc98.org/dispbbs.asp?boardID=509&ID=3274635&page=75', 'http://www.cc98.org/dispbbs.asp?boardID=509&ID=3145825&page=75', 'http://www.cc98.org/dispbbs.asp?boardID=509&ID=2506497&page=75', 'http://www.cc98.org/dispbbs.asp?boardID=509&ID=3310397&page=75', 'http://www.cc98.org/dispbbs.asp?boardID=509&ID=3312554&page=75', 'http://www.cc98.org/dispbbs.asp?boardID=509&ID=3304277&page=75', 'http://www.cc98.org/dispbbs.asp?boardID=509&ID=3304903&page=75', 'http://www.cc98.org/dispbbs.asp?boardID=509&ID=3293933&page=75', 'http://www.cc98.org/dispbbs.asp?boardID=509&ID=3285210&page=75', 'http://www.cc98.org/dispbbs.asp?boardID=509&ID=3284337&page=75', 'http://www.cc98.org/dispbbs.asp?boardID=509&ID=3281890&page=75', 'http://www.cc98.org/dispbbs.asp?boardID=509&ID=2578792&page=75', 'http://www.cc98.org/dispbbs.asp?boardID=509&ID=3230461&page=75', 'http://www.cc98.org/dispbbs.asp?boardID=509&ID=2458340&page=76', 'http://www.cc98.org/dispbbs.asp?boardID=509&ID=3255787&page=76', 'http://www.cc98.org/dispbbs.asp?boardID=509&ID=1715584&page=76', 'http://www.cc98.org/dispbbs.asp?boardID=509&ID=3221120&page=76', 'http://www.cc98.org/dispbbs.asp?boardID=509&ID=2773270&page=76', 'http://www.cc98.org/dispbbs.asp?boardID=509&ID=1977873&page=76', 'http://www.cc98.org/dispbbs.asp?boardID=509&ID=3199139&page=76', 'http://www.cc98.org/dispbbs.asp?boardID=509&ID=3190016&page=76', 'http://www.cc98.org/dispbbs.asp?boardID=509&ID=3101982&page=76', 'http://www.cc98.org/dispbbs.asp?boardID=509&ID=2904328&page=76', 'http://www.cc98.org/dispbbs.asp?boardID=509&ID=2980790&page=76', 'http://www.cc98.org/dispbbs.asp?boardID=509&ID=2561077&page=76', 'http://www.cc98.org/dispbbs.asp?boardID=509&ID=3005062&page=76', 'http://www.cc98.org/dispbbs.asp?boardID=509&ID=2951048&page=76', 'http://www.cc98.org/dispbbs.asp?boardID=509&ID=2916839&page=76', 'http://www.cc98.org/dispbbs.asp?boardID=509&ID=2959286&page=76', 'http://www.cc98.org/dispbbs.asp?boardID=509&ID=2944973&page=76', 'http://www.cc98.org/dispbbs.asp?boardID=509&ID=2932218&page=76', 'http://www.cc98.org/dispbbs.asp?boardID=509&ID=2904389&page=76', 'http://www.cc98.org/dispbbs.asp?boardID=509&ID=2904129&page=76', 'http://www.cc98.org/dispbbs.asp?boardID=509&ID=2888862&page=77', 'http://www.cc98.org/dispbbs.asp?boardID=509&ID=2853631&page=77', 'http://www.cc98.org/dispbbs.asp?boardID=509&ID=2589257&page=77', 'http://www.cc98.org/dispbbs.asp?boardID=509&ID=2803084&page=77', 'http://www.cc98.org/dispbbs.asp?boardID=509&ID=2788855&page=77', 'http://www.cc98.org/dispbbs.asp?boardID=509&ID=2718565&page=77', 'http://www.cc98.org/dispbbs.asp?boardID=509&ID=2503070&page=77', 'http://www.cc98.org/dispbbs.asp?boardID=509&ID=2756027&page=77', 'http://www.cc98.org/dispbbs.asp?boardID=509&ID=2749602&page=77', 'http://www.cc98.org/dispbbs.asp?boardID=509&ID=2627355&page=77', 'http://www.cc98.org/dispbbs.asp?boardID=509&ID=2627356&page=77', 'http://www.cc98.org/dispbbs.asp?boardID=509&ID=1714239&page=77', 'http://www.cc98.org/dispbbs.asp?boardID=509&ID=2737833&page=77', 'http://www.cc98.org/dispbbs.asp?boardID=509&ID=2710168&page=77', 'http://www.cc98.org/dispbbs.asp?boardID=509&ID=2474643&page=77', 'http://www.cc98.org/dispbbs.asp?boardID=509&ID=2684076&page=77', 'http://www.cc98.org/dispbbs.asp?boardID=509&ID=2464334&page=77', 'http://www.cc98.org/dispbbs.asp?boardID=509&ID=2638373&page=77', 'http://www.cc98.org/dispbbs.asp?boardID=509&ID=2612783&page=77', 'http://www.cc98.org/dispbbs.asp?boardID=509&ID=2618757&page=77', 'http://www.cc98.org/dispbbs.asp?boardID=509&ID=2587733&page=78', 'http://www.cc98.org/dispbbs.asp?boardID=509&ID=2591824&page=78', 'http://www.cc98.org/dispbbs.asp?boardID=509&ID=2594606&page=78', 'http://www.cc98.org/dispbbs.asp?boardID=509&ID=2590329&page=78', 'http://www.cc98.org/dispbbs.asp?boardID=509&ID=2590455&page=78', 'http://www.cc98.org/dispbbs.asp?boardID=509&ID=2587251&page=78', 'http://www.cc98.org/dispbbs.asp?boardID=509&ID=2576321&page=78', 'http://www.cc98.org/dispbbs.asp?boardID=509&ID=2501926&page=78', 'http://www.cc98.org/dispbbs.asp?boardID=509&ID=2552287&page=78', 'http://www.cc98.org/dispbbs.asp?boardID=509&ID=1978863&page=78', 'http://www.cc98.org/dispbbs.asp?boardID=509&ID=2536288&page=78', 'http://www.cc98.org/dispbbs.asp?boardID=509&ID=2522262&page=78', 'http://www.cc98.org/dispbbs.asp?boardID=509&ID=2520276&page=78', 'http://www.cc98.org/dispbbs.asp?boardID=509&ID=2512811&page=78', 'http://www.cc98.org/dispbbs.asp?boardID=509&ID=2513705&page=78', 'http://www.cc98.org/dispbbs.asp?boardID=509&ID=2497533&page=78', 'http://www.cc98.org/dispbbs.asp?boardID=509&ID=2502207&page=78', 'http://www.cc98.org/dispbbs.asp?boardID=509&ID=2500012&page=78', 'http://www.cc98.org/dispbbs.asp?boardID=509&ID=2485842&page=78', 'http://www.cc98.org/dispbbs.asp?boardID=509&ID=2484877&page=78', 'http://www.cc98.org/dispbbs.asp?boardID=509&ID=2445589&page=79', 'http://www.cc98.org/dispbbs.asp?boardID=509&ID=2392817&page=79', 'http://www.cc98.org/dispbbs.asp?boardID=509&ID=2392510&page=79', 'http://www.cc98.org/dispbbs.asp?boardID=509&ID=2364543&page=79', 'http://www.cc98.org/dispbbs.asp?boardID=509&ID=2338956&page=79', 'http://www.cc98.org/dispbbs.asp?boardID=509&ID=2341627&page=79', 'http://www.cc98.org/dispbbs.asp?boardID=509&ID=2339758&page=79', 'http://www.cc98.org/dispbbs.asp?boardID=509&ID=2341695&page=79', 'http://www.cc98.org/dispbbs.asp?boardID=509&ID=2341214&page=79', 'http://www.cc98.org/dispbbs.asp?boardID=509&ID=2341391&page=79', 'http://www.cc98.org/dispbbs.asp?boardID=509&ID=2341123&page=79', 'http://www.cc98.org/dispbbs.asp?boardID=509&ID=2339504&page=79', 'http://www.cc98.org/dispbbs.asp?boardID=509&ID=2338915&page=79', 'http://www.cc98.org/dispbbs.asp?boardID=509&ID=2338866&page=79', 'http://www.cc98.org/dispbbs.asp?boardID=509&ID=2327253&page=79', 'http://www.cc98.org/dispbbs.asp?boardID=509&ID=2296531&page=79', 'http://www.cc98.org/dispbbs.asp?boardID=509&ID=2012737&page=79', 'http://www.cc98.org/dispbbs.asp?boardID=509&ID=2261493&page=79', 'http://www.cc98.org/dispbbs.asp?boardID=509&ID=2258955&page=79', 'http://www.cc98.org/dispbbs.asp?boardID=509&ID=2018033&page=79', 'http://www.cc98.org/dispbbs.asp?boardID=509&ID=2227402&page=80', 'http://www.cc98.org/dispbbs.asp?boardID=509&ID=2240469&page=80', 'http://www.cc98.org/dispbbs.asp?boardID=509&ID=2216646&page=80', 'http://www.cc98.org/dispbbs.asp?boardID=509&ID=2181736&page=80', 'http://www.cc98.org/dispbbs.asp?boardID=509&ID=2216033&page=80', 'http://www.cc98.org/dispbbs.asp?boardID=509&ID=2155425&page=80', 'http://www.cc98.org/dispbbs.asp?boardID=509&ID=2150290&page=80', 'http://www.cc98.org/dispbbs.asp?boardID=509&ID=2075292&page=80', 'http://www.cc98.org/dispbbs.asp?boardID=509&ID=2008940&page=80', 'http://www.cc98.org/dispbbs.asp?boardID=509&ID=2005512&page=80', 'http://www.cc98.org/dispbbs.asp?boardID=509&ID=1975786&page=80', 'http://www.cc98.org/dispbbs.asp?boardID=509&ID=1906498&page=80', 'http://www.cc98.org/dispbbs.asp?boardID=509&ID=1894763&page=80', 'http://www.cc98.org/dispbbs.asp?boardID=509&ID=1864514&page=80', 'http://www.cc98.org/dispbbs.asp?boardID=509&ID=1854966&page=80', 'http://www.cc98.org/dispbbs.asp?boardID=509&ID=1848784&page=80', 'http://www.cc98.org/dispbbs.asp?boardID=509&ID=1717188&page=80']\n"
       ]
      }
     ],
     "prompt_number": 9
    },
    {
     "cell_type": "markdown",
     "metadata": {},
     "source": [
      "## \u68c0\u67e5\u5e16\u5b50\u4e2d\u662f\u5426\u6ee1\u8db3\u641c\u7d22\u6761\u4ef6"
     ]
    },
    {
     "cell_type": "code",
     "collapsed": false,
     "input": [
      "import urllib2\n",
      "import re\n",
      "\n",
      "def check(url, pattern):\n",
      "    r = urllib2.urlopen(url)\n",
      "    return re.search(pattern, r.read()) is not None\n",
      "\n",
      "print check('http://www.cc98.org/dispbbs.asp?boardID=509&ID=4199373&page=2', '\u7b54\u8fa9')\n",
      "print check('http://www.cc98.org/dispbbs.asp?boardID=509&ID=4199373&page=2', 'python')"
     ],
     "language": "python",
     "metadata": {},
     "outputs": [
      {
       "output_type": "stream",
       "stream": "stdout",
       "text": [
        "True\n",
        "False"
       ]
      },
      {
       "output_type": "stream",
       "stream": "stdout",
       "text": [
        "\n"
       ]
      }
     ],
     "prompt_number": 10
    },
    {
     "cell_type": "markdown",
     "metadata": {},
     "source": [
      "## \u7ed9\u6211\u641c!"
     ]
    },
    {
     "cell_type": "code",
     "collapsed": false,
     "input": [
      "import urllib2\n",
      "import re\n",
      "from urlparse import urljoin\n",
      "\n",
      "def post_urls(page):\n",
      "    r = urllib2.urlopen('http://www.cc98.org/list.asp?boardid=509&page=%d' % page)\n",
      "    urls = re.findall(r'dispbbs\\.asp\\?boardID=509&ID=\\d+&page=%d' % page, r.read())\n",
      "    return [urljoin('http://www.cc98.org', url) for url in urls]\n",
      "\n",
      "def page_count():\n",
      "    r = urllib2.urlopen('http://www.cc98.org/list.asp?boardid=509&page=1')\n",
      "    return int(re.search(r'<b>(\\d+)</b>\u9875', r.read()).group(1))\n",
      "\n",
      "def check(url, pattern):\n",
      "    r = urllib2.urlopen(url)\n",
      "    return re.search(pattern, r.read()) is not None\n",
      "\n",
      "def post_urls_all():\n",
      "    urls = []\n",
      "    for page in range(1, page_count() + 1):\n",
      "        urls.extend(post_urls(page))\n",
      "    return urls\n",
      "\n",
      "def grep98(pattern):\n",
      "    urls = []\n",
      "    posts = post_urls_all()\n",
      "    for i, post in enumerate(posts):\n",
      "        print '%d/%d' % (i + 1, len(posts))\n",
      "        if check(post, pattern):\n",
      "            urls.append(post)\n",
      "    return urls\n",
      "\n",
      "urls = grep98('[Pp]ython')"
     ],
     "language": "python",
     "metadata": {},
     "outputs": [
      {
       "output_type": "stream",
       "stream": "stdout",
       "text": [
        "1/1599\n",
        "2/1599"
       ]
      },
      {
       "output_type": "stream",
       "stream": "stdout",
       "text": [
        "\n",
        "3/1599"
       ]
      },
      {
       "output_type": "stream",
       "stream": "stdout",
       "text": [
        "\n",
        "4/1599"
       ]
      },
      {
       "output_type": "stream",
       "stream": "stdout",
       "text": [
        "\n",
        "5/1599"
       ]
      },
      {
       "output_type": "stream",
       "stream": "stdout",
       "text": [
        "\n",
        "6/1599"
       ]
      },
      {
       "output_type": "stream",
       "stream": "stdout",
       "text": [
        "\n",
        "7/1599"
       ]
      },
      {
       "output_type": "stream",
       "stream": "stdout",
       "text": [
        "\n",
        "8/1599"
       ]
      },
      {
       "output_type": "stream",
       "stream": "stdout",
       "text": [
        "\n",
        "9/1599\n",
        "10/1599"
       ]
      },
      {
       "output_type": "stream",
       "stream": "stdout",
       "text": [
        "\n",
        "11/1599\n",
        "12/1599"
       ]
      },
      {
       "output_type": "stream",
       "stream": "stdout",
       "text": [
        "\n",
        "13/1599"
       ]
      },
      {
       "output_type": "stream",
       "stream": "stdout",
       "text": [
        "\n",
        "14/1599"
       ]
      },
      {
       "output_type": "stream",
       "stream": "stdout",
       "text": [
        "\n",
        "15/1599\n",
        "16/1599"
       ]
      },
      {
       "output_type": "stream",
       "stream": "stdout",
       "text": [
        "\n",
        "17/1599"
       ]
      },
      {
       "output_type": "stream",
       "stream": "stdout",
       "text": [
        "\n",
        "18/1599\n",
        "19/1599"
       ]
      },
      {
       "output_type": "stream",
       "stream": "stdout",
       "text": [
        "\n",
        "20/1599\n",
        "21/1599"
       ]
      },
      {
       "output_type": "stream",
       "stream": "stdout",
       "text": [
        "\n",
        "22/1599"
       ]
      },
      {
       "output_type": "stream",
       "stream": "stdout",
       "text": [
        "\n",
        "23/1599"
       ]
      },
      {
       "output_type": "stream",
       "stream": "stdout",
       "text": [
        "\n",
        "24/1599"
       ]
      },
      {
       "output_type": "stream",
       "stream": "stdout",
       "text": [
        "\n",
        "25/1599"
       ]
      },
      {
       "output_type": "stream",
       "stream": "stdout",
       "text": [
        "\n",
        "26/1599"
       ]
      },
      {
       "output_type": "stream",
       "stream": "stdout",
       "text": [
        "\n",
        "27/1599"
       ]
      },
      {
       "output_type": "stream",
       "stream": "stdout",
       "text": [
        "\n",
        "28/1599"
       ]
      },
      {
       "output_type": "stream",
       "stream": "stdout",
       "text": [
        "\n",
        "29/1599"
       ]
      },
      {
       "output_type": "stream",
       "stream": "stdout",
       "text": [
        "\n",
        "30/1599\n",
        "31/1599"
       ]
      },
      {
       "output_type": "stream",
       "stream": "stdout",
       "text": [
        "\n",
        "32/1599"
       ]
      },
      {
       "output_type": "stream",
       "stream": "stdout",
       "text": [
        "\n",
        "33/1599"
       ]
      },
      {
       "output_type": "stream",
       "stream": "stdout",
       "text": [
        "\n",
        "34/1599\n",
        "35/1599"
       ]
      },
      {
       "output_type": "stream",
       "stream": "stdout",
       "text": [
        "\n",
        "36/1599"
       ]
      },
      {
       "output_type": "stream",
       "stream": "stdout",
       "text": [
        "\n",
        "37/1599"
       ]
      },
      {
       "output_type": "stream",
       "stream": "stdout",
       "text": [
        "\n",
        "38/1599\n",
        "39/1599"
       ]
      },
      {
       "output_type": "stream",
       "stream": "stdout",
       "text": [
        "\n",
        "40/1599"
       ]
      },
      {
       "output_type": "stream",
       "stream": "stdout",
       "text": [
        "\n",
        "41/1599"
       ]
      },
      {
       "output_type": "stream",
       "stream": "stdout",
       "text": [
        "\n",
        "42/1599"
       ]
      },
      {
       "output_type": "stream",
       "stream": "stdout",
       "text": [
        "\n",
        "43/1599"
       ]
      },
      {
       "output_type": "stream",
       "stream": "stdout",
       "text": [
        "\n",
        "44/1599"
       ]
      },
      {
       "output_type": "stream",
       "stream": "stdout",
       "text": [
        "\n",
        "45/1599"
       ]
      },
      {
       "output_type": "stream",
       "stream": "stdout",
       "text": [
        "\n",
        "46/1599"
       ]
      },
      {
       "output_type": "stream",
       "stream": "stdout",
       "text": [
        "\n",
        "47/1599\n",
        "48/1599"
       ]
      },
      {
       "output_type": "stream",
       "stream": "stdout",
       "text": [
        "\n",
        "49/1599"
       ]
      },
      {
       "output_type": "stream",
       "stream": "stdout",
       "text": [
        "\n",
        "50/1599"
       ]
      },
      {
       "output_type": "stream",
       "stream": "stdout",
       "text": [
        "\n",
        "51/1599\n",
        "52/1599"
       ]
      },
      {
       "output_type": "stream",
       "stream": "stdout",
       "text": [
        "\n",
        "53/1599\n",
        "54/1599"
       ]
      },
      {
       "output_type": "stream",
       "stream": "stdout",
       "text": [
        "\n",
        "55/1599\n",
        "56/1599"
       ]
      },
      {
       "output_type": "stream",
       "stream": "stdout",
       "text": [
        "\n",
        "57/1599"
       ]
      },
      {
       "output_type": "stream",
       "stream": "stdout",
       "text": [
        "\n",
        "58/1599"
       ]
      },
      {
       "output_type": "stream",
       "stream": "stdout",
       "text": [
        "\n",
        "59/1599\n",
        "60/1599"
       ]
      },
      {
       "output_type": "stream",
       "stream": "stdout",
       "text": [
        "\n",
        "61/1599"
       ]
      },
      {
       "output_type": "stream",
       "stream": "stdout",
       "text": [
        "\n",
        "62/1599"
       ]
      },
      {
       "output_type": "stream",
       "stream": "stdout",
       "text": [
        "\n",
        "63/1599"
       ]
      },
      {
       "output_type": "stream",
       "stream": "stdout",
       "text": [
        "\n",
        "64/1599"
       ]
      },
      {
       "output_type": "stream",
       "stream": "stdout",
       "text": [
        "\n",
        "65/1599"
       ]
      },
      {
       "output_type": "stream",
       "stream": "stdout",
       "text": [
        "\n",
        "66/1599"
       ]
      },
      {
       "output_type": "stream",
       "stream": "stdout",
       "text": [
        "\n",
        "67/1599"
       ]
      },
      {
       "output_type": "stream",
       "stream": "stdout",
       "text": [
        "\n",
        "68/1599\n",
        "69/1599"
       ]
      },
      {
       "output_type": "stream",
       "stream": "stdout",
       "text": [
        "\n",
        "70/1599\n",
        "71/1599"
       ]
      },
      {
       "output_type": "stream",
       "stream": "stdout",
       "text": [
        "\n",
        "72/1599"
       ]
      },
      {
       "output_type": "stream",
       "stream": "stdout",
       "text": [
        "\n",
        "73/1599"
       ]
      },
      {
       "output_type": "stream",
       "stream": "stdout",
       "text": [
        "\n",
        "74/1599"
       ]
      },
      {
       "output_type": "stream",
       "stream": "stdout",
       "text": [
        "\n",
        "75/1599"
       ]
      },
      {
       "output_type": "stream",
       "stream": "stdout",
       "text": [
        "\n",
        "76/1599\n",
        "77/1599"
       ]
      },
      {
       "output_type": "stream",
       "stream": "stdout",
       "text": [
        "\n",
        "78/1599\n",
        "79/1599"
       ]
      },
      {
       "output_type": "stream",
       "stream": "stdout",
       "text": [
        "\n",
        "80/1599\n",
        "81/1599"
       ]
      },
      {
       "output_type": "stream",
       "stream": "stdout",
       "text": [
        "\n",
        "82/1599\n",
        "83/1599"
       ]
      },
      {
       "output_type": "stream",
       "stream": "stdout",
       "text": [
        "\n",
        "84/1599"
       ]
      },
      {
       "output_type": "stream",
       "stream": "stdout",
       "text": [
        "\n",
        "85/1599"
       ]
      },
      {
       "output_type": "stream",
       "stream": "stdout",
       "text": [
        "\n",
        "86/1599"
       ]
      },
      {
       "output_type": "stream",
       "stream": "stdout",
       "text": [
        "\n",
        "87/1599\n",
        "88/1599"
       ]
      },
      {
       "output_type": "stream",
       "stream": "stdout",
       "text": [
        "\n",
        "89/1599"
       ]
      },
      {
       "output_type": "stream",
       "stream": "stdout",
       "text": [
        "\n",
        "90/1599"
       ]
      },
      {
       "output_type": "stream",
       "stream": "stdout",
       "text": [
        "\n",
        "91/1599"
       ]
      },
      {
       "output_type": "stream",
       "stream": "stdout",
       "text": [
        "\n",
        "92/1599"
       ]
      },
      {
       "output_type": "stream",
       "stream": "stdout",
       "text": [
        "\n",
        "93/1599"
       ]
      },
      {
       "output_type": "stream",
       "stream": "stdout",
       "text": [
        "\n",
        "94/1599\n",
        "95/1599"
       ]
      },
      {
       "output_type": "stream",
       "stream": "stdout",
       "text": [
        "\n",
        "96/1599\n",
        "97/1599"
       ]
      },
      {
       "output_type": "stream",
       "stream": "stdout",
       "text": [
        "\n",
        "98/1599\n",
        "99/1599"
       ]
      },
      {
       "output_type": "stream",
       "stream": "stdout",
       "text": [
        "\n",
        "100/1599\n",
        "101/1599"
       ]
      },
      {
       "output_type": "stream",
       "stream": "stdout",
       "text": [
        "\n",
        "102/1599\n",
        "103/1599"
       ]
      },
      {
       "output_type": "stream",
       "stream": "stdout",
       "text": [
        "\n",
        "104/1599"
       ]
      },
      {
       "output_type": "stream",
       "stream": "stdout",
       "text": [
        "\n",
        "105/1599"
       ]
      },
      {
       "output_type": "stream",
       "stream": "stdout",
       "text": [
        "\n",
        "106/1599"
       ]
      },
      {
       "output_type": "stream",
       "stream": "stdout",
       "text": [
        "\n",
        "107/1599"
       ]
      },
      {
       "output_type": "stream",
       "stream": "stdout",
       "text": [
        "\n",
        "108/1599\n",
        "109/1599"
       ]
      },
      {
       "output_type": "stream",
       "stream": "stdout",
       "text": [
        "\n",
        "110/1599"
       ]
      },
      {
       "output_type": "stream",
       "stream": "stdout",
       "text": [
        "\n",
        "111/1599"
       ]
      },
      {
       "output_type": "stream",
       "stream": "stdout",
       "text": [
        "\n",
        "112/1599\n",
        "113/1599"
       ]
      },
      {
       "output_type": "stream",
       "stream": "stdout",
       "text": [
        "\n",
        "114/1599"
       ]
      },
      {
       "output_type": "stream",
       "stream": "stdout",
       "text": [
        "\n",
        "115/1599\n",
        "116/1599"
       ]
      },
      {
       "output_type": "stream",
       "stream": "stdout",
       "text": [
        "\n",
        "117/1599"
       ]
      },
      {
       "output_type": "stream",
       "stream": "stdout",
       "text": [
        "\n",
        "118/1599"
       ]
      },
      {
       "output_type": "stream",
       "stream": "stdout",
       "text": [
        "\n",
        "119/1599"
       ]
      },
      {
       "output_type": "stream",
       "stream": "stdout",
       "text": [
        "\n",
        "120/1599\n",
        "121/1599"
       ]
      },
      {
       "output_type": "stream",
       "stream": "stdout",
       "text": [
        "\n",
        "122/1599"
       ]
      },
      {
       "output_type": "stream",
       "stream": "stdout",
       "text": [
        "\n",
        "123/1599"
       ]
      },
      {
       "output_type": "stream",
       "stream": "stdout",
       "text": [
        "\n",
        "124/1599"
       ]
      },
      {
       "output_type": "stream",
       "stream": "stdout",
       "text": [
        "\n",
        "125/1599"
       ]
      },
      {
       "output_type": "stream",
       "stream": "stdout",
       "text": [
        "\n",
        "126/1599"
       ]
      },
      {
       "output_type": "stream",
       "stream": "stdout",
       "text": [
        "\n",
        "127/1599"
       ]
      },
      {
       "output_type": "stream",
       "stream": "stdout",
       "text": [
        "\n",
        "128/1599"
       ]
      },
      {
       "output_type": "stream",
       "stream": "stdout",
       "text": [
        "\n",
        "129/1599"
       ]
      },
      {
       "output_type": "stream",
       "stream": "stdout",
       "text": [
        "\n",
        "130/1599"
       ]
      },
      {
       "output_type": "stream",
       "stream": "stdout",
       "text": [
        "\n",
        "131/1599"
       ]
      },
      {
       "output_type": "stream",
       "stream": "stdout",
       "text": [
        "\n",
        "132/1599"
       ]
      },
      {
       "output_type": "stream",
       "stream": "stdout",
       "text": [
        "\n",
        "133/1599"
       ]
      },
      {
       "output_type": "stream",
       "stream": "stdout",
       "text": [
        "\n",
        "134/1599\n",
        "135/1599"
       ]
      },
      {
       "output_type": "stream",
       "stream": "stdout",
       "text": [
        "\n",
        "136/1599"
       ]
      },
      {
       "output_type": "stream",
       "stream": "stdout",
       "text": [
        "\n",
        "137/1599"
       ]
      },
      {
       "output_type": "stream",
       "stream": "stdout",
       "text": [
        "\n",
        "138/1599"
       ]
      },
      {
       "output_type": "stream",
       "stream": "stdout",
       "text": [
        "\n",
        "139/1599"
       ]
      },
      {
       "output_type": "stream",
       "stream": "stdout",
       "text": [
        "\n",
        "140/1599"
       ]
      },
      {
       "output_type": "stream",
       "stream": "stdout",
       "text": [
        "\n",
        "141/1599"
       ]
      },
      {
       "output_type": "stream",
       "stream": "stdout",
       "text": [
        "\n",
        "142/1599"
       ]
      },
      {
       "output_type": "stream",
       "stream": "stdout",
       "text": [
        "\n",
        "143/1599"
       ]
      },
      {
       "output_type": "stream",
       "stream": "stdout",
       "text": [
        "\n",
        "144/1599\n",
        "145/1599"
       ]
      },
      {
       "output_type": "stream",
       "stream": "stdout",
       "text": [
        "\n",
        "146/1599"
       ]
      },
      {
       "output_type": "stream",
       "stream": "stdout",
       "text": [
        "\n",
        "147/1599\n",
        "148/1599"
       ]
      },
      {
       "output_type": "stream",
       "stream": "stdout",
       "text": [
        "\n",
        "149/1599"
       ]
      },
      {
       "output_type": "stream",
       "stream": "stdout",
       "text": [
        "\n",
        "150/1599"
       ]
      },
      {
       "output_type": "stream",
       "stream": "stdout",
       "text": [
        "\n",
        "151/1599"
       ]
      },
      {
       "output_type": "stream",
       "stream": "stdout",
       "text": [
        "\n",
        "152/1599\n",
        "153/1599"
       ]
      },
      {
       "output_type": "stream",
       "stream": "stdout",
       "text": [
        "\n",
        "154/1599"
       ]
      },
      {
       "output_type": "stream",
       "stream": "stdout",
       "text": [
        "\n",
        "155/1599"
       ]
      },
      {
       "output_type": "stream",
       "stream": "stdout",
       "text": [
        "\n",
        "156/1599"
       ]
      },
      {
       "output_type": "stream",
       "stream": "stdout",
       "text": [
        "\n",
        "157/1599"
       ]
      },
      {
       "output_type": "stream",
       "stream": "stdout",
       "text": [
        "\n",
        "158/1599"
       ]
      },
      {
       "output_type": "stream",
       "stream": "stdout",
       "text": [
        "\n",
        "159/1599"
       ]
      },
      {
       "output_type": "stream",
       "stream": "stdout",
       "text": [
        "\n",
        "160/1599"
       ]
      },
      {
       "output_type": "stream",
       "stream": "stdout",
       "text": [
        "\n",
        "161/1599"
       ]
      },
      {
       "output_type": "stream",
       "stream": "stdout",
       "text": [
        "\n",
        "162/1599\n",
        "163/1599"
       ]
      },
      {
       "output_type": "stream",
       "stream": "stdout",
       "text": [
        "\n",
        "164/1599"
       ]
      },
      {
       "output_type": "stream",
       "stream": "stdout",
       "text": [
        "\n",
        "165/1599"
       ]
      },
      {
       "output_type": "stream",
       "stream": "stdout",
       "text": [
        "\n",
        "166/1599\n",
        "167/1599"
       ]
      },
      {
       "output_type": "stream",
       "stream": "stdout",
       "text": [
        "\n",
        "168/1599"
       ]
      },
      {
       "output_type": "stream",
       "stream": "stdout",
       "text": [
        "\n",
        "169/1599\n",
        "170/1599"
       ]
      },
      {
       "output_type": "stream",
       "stream": "stdout",
       "text": [
        "\n",
        "171/1599\n",
        "172/1599"
       ]
      },
      {
       "output_type": "stream",
       "stream": "stdout",
       "text": [
        "\n",
        "173/1599"
       ]
      },
      {
       "output_type": "stream",
       "stream": "stdout",
       "text": [
        "\n",
        "174/1599"
       ]
      },
      {
       "output_type": "stream",
       "stream": "stdout",
       "text": [
        "\n",
        "175/1599"
       ]
      },
      {
       "output_type": "stream",
       "stream": "stdout",
       "text": [
        "\n",
        "176/1599"
       ]
      },
      {
       "output_type": "stream",
       "stream": "stdout",
       "text": [
        "\n",
        "177/1599\n",
        "178/1599"
       ]
      },
      {
       "output_type": "stream",
       "stream": "stdout",
       "text": [
        "\n",
        "179/1599"
       ]
      },
      {
       "output_type": "stream",
       "stream": "stdout",
       "text": [
        "\n",
        "180/1599"
       ]
      },
      {
       "output_type": "stream",
       "stream": "stdout",
       "text": [
        "\n",
        "181/1599"
       ]
      },
      {
       "output_type": "stream",
       "stream": "stdout",
       "text": [
        "\n",
        "182/1599"
       ]
      },
      {
       "output_type": "stream",
       "stream": "stdout",
       "text": [
        "\n",
        "183/1599\n",
        "184/1599"
       ]
      },
      {
       "output_type": "stream",
       "stream": "stdout",
       "text": [
        "\n",
        "185/1599"
       ]
      },
      {
       "output_type": "stream",
       "stream": "stdout",
       "text": [
        "\n",
        "186/1599"
       ]
      },
      {
       "output_type": "stream",
       "stream": "stdout",
       "text": [
        "\n",
        "187/1599"
       ]
      },
      {
       "output_type": "stream",
       "stream": "stdout",
       "text": [
        "\n",
        "188/1599"
       ]
      },
      {
       "output_type": "stream",
       "stream": "stdout",
       "text": [
        "\n",
        "189/1599"
       ]
      },
      {
       "output_type": "stream",
       "stream": "stdout",
       "text": [
        "\n",
        "190/1599"
       ]
      },
      {
       "output_type": "stream",
       "stream": "stdout",
       "text": [
        "\n",
        "191/1599"
       ]
      },
      {
       "output_type": "stream",
       "stream": "stdout",
       "text": [
        "\n",
        "192/1599"
       ]
      },
      {
       "output_type": "stream",
       "stream": "stdout",
       "text": [
        "\n",
        "193/1599"
       ]
      },
      {
       "output_type": "stream",
       "stream": "stdout",
       "text": [
        "\n",
        "194/1599"
       ]
      },
      {
       "output_type": "stream",
       "stream": "stdout",
       "text": [
        "\n",
        "195/1599"
       ]
      },
      {
       "output_type": "stream",
       "stream": "stdout",
       "text": [
        "\n",
        "196/1599"
       ]
      },
      {
       "output_type": "stream",
       "stream": "stdout",
       "text": [
        "\n",
        "197/1599\n",
        "198/1599"
       ]
      },
      {
       "output_type": "stream",
       "stream": "stdout",
       "text": [
        "\n",
        "199/1599"
       ]
      },
      {
       "output_type": "stream",
       "stream": "stdout",
       "text": [
        "\n",
        "200/1599"
       ]
      },
      {
       "output_type": "stream",
       "stream": "stdout",
       "text": [
        "\n",
        "201/1599"
       ]
      },
      {
       "output_type": "stream",
       "stream": "stdout",
       "text": [
        "\n",
        "202/1599"
       ]
      },
      {
       "output_type": "stream",
       "stream": "stdout",
       "text": [
        "\n",
        "203/1599"
       ]
      },
      {
       "output_type": "stream",
       "stream": "stdout",
       "text": [
        "\n",
        "204/1599"
       ]
      },
      {
       "output_type": "stream",
       "stream": "stdout",
       "text": [
        "\n",
        "205/1599\n",
        "206/1599"
       ]
      },
      {
       "output_type": "stream",
       "stream": "stdout",
       "text": [
        "\n",
        "207/1599"
       ]
      },
      {
       "output_type": "stream",
       "stream": "stdout",
       "text": [
        "\n",
        "208/1599"
       ]
      },
      {
       "output_type": "stream",
       "stream": "stdout",
       "text": [
        "\n",
        "209/1599\n",
        "210/1599"
       ]
      },
      {
       "output_type": "stream",
       "stream": "stdout",
       "text": [
        "\n",
        "211/1599"
       ]
      },
      {
       "output_type": "stream",
       "stream": "stdout",
       "text": [
        "\n",
        "212/1599"
       ]
      },
      {
       "output_type": "stream",
       "stream": "stdout",
       "text": [
        "\n",
        "213/1599"
       ]
      },
      {
       "output_type": "stream",
       "stream": "stdout",
       "text": [
        "\n",
        "214/1599\n",
        "215/1599"
       ]
      },
      {
       "output_type": "stream",
       "stream": "stdout",
       "text": [
        "\n",
        "216/1599"
       ]
      },
      {
       "output_type": "stream",
       "stream": "stdout",
       "text": [
        "\n",
        "217/1599"
       ]
      },
      {
       "output_type": "stream",
       "stream": "stdout",
       "text": [
        "\n",
        "218/1599"
       ]
      },
      {
       "output_type": "stream",
       "stream": "stdout",
       "text": [
        "\n",
        "219/1599"
       ]
      },
      {
       "output_type": "stream",
       "stream": "stdout",
       "text": [
        "\n",
        "220/1599\n",
        "221/1599"
       ]
      },
      {
       "output_type": "stream",
       "stream": "stdout",
       "text": [
        "\n",
        "222/1599"
       ]
      },
      {
       "output_type": "stream",
       "stream": "stdout",
       "text": [
        "\n",
        "223/1599\n",
        "224/1599"
       ]
      },
      {
       "output_type": "stream",
       "stream": "stdout",
       "text": [
        "\n",
        "225/1599\n",
        "226/1599"
       ]
      },
      {
       "output_type": "stream",
       "stream": "stdout",
       "text": [
        "\n",
        "227/1599"
       ]
      },
      {
       "output_type": "stream",
       "stream": "stdout",
       "text": [
        "\n",
        "228/1599"
       ]
      },
      {
       "output_type": "stream",
       "stream": "stdout",
       "text": [
        "\n",
        "229/1599"
       ]
      },
      {
       "output_type": "stream",
       "stream": "stdout",
       "text": [
        "\n",
        "230/1599"
       ]
      },
      {
       "output_type": "stream",
       "stream": "stdout",
       "text": [
        "\n",
        "231/1599\n",
        "232/1599"
       ]
      },
      {
       "output_type": "stream",
       "stream": "stdout",
       "text": [
        "\n",
        "233/1599"
       ]
      },
      {
       "output_type": "stream",
       "stream": "stdout",
       "text": [
        "\n",
        "234/1599\n",
        "235/1599"
       ]
      },
      {
       "output_type": "stream",
       "stream": "stdout",
       "text": [
        "\n",
        "236/1599"
       ]
      },
      {
       "output_type": "stream",
       "stream": "stdout",
       "text": [
        "\n",
        "237/1599\n",
        "238/1599"
       ]
      },
      {
       "output_type": "stream",
       "stream": "stdout",
       "text": [
        "\n",
        "239/1599"
       ]
      },
      {
       "output_type": "stream",
       "stream": "stdout",
       "text": [
        "\n",
        "240/1599"
       ]
      },
      {
       "output_type": "stream",
       "stream": "stdout",
       "text": [
        "\n",
        "241/1599\n",
        "242/1599"
       ]
      },
      {
       "output_type": "stream",
       "stream": "stdout",
       "text": [
        "\n",
        "243/1599\n",
        "244/1599"
       ]
      },
      {
       "output_type": "stream",
       "stream": "stdout",
       "text": [
        "\n",
        "245/1599\n",
        "246/1599"
       ]
      },
      {
       "output_type": "stream",
       "stream": "stdout",
       "text": [
        "\n",
        "247/1599\n",
        "248/1599"
       ]
      },
      {
       "output_type": "stream",
       "stream": "stdout",
       "text": [
        "\n",
        "249/1599\n",
        "250/1599"
       ]
      },
      {
       "output_type": "stream",
       "stream": "stdout",
       "text": [
        "\n",
        "251/1599"
       ]
      },
      {
       "output_type": "stream",
       "stream": "stdout",
       "text": [
        "\n",
        "252/1599\n",
        "253/1599"
       ]
      },
      {
       "output_type": "stream",
       "stream": "stdout",
       "text": [
        "\n",
        "254/1599"
       ]
      },
      {
       "output_type": "stream",
       "stream": "stdout",
       "text": [
        "\n",
        "255/1599"
       ]
      },
      {
       "output_type": "stream",
       "stream": "stdout",
       "text": [
        "\n",
        "256/1599"
       ]
      },
      {
       "output_type": "stream",
       "stream": "stdout",
       "text": [
        "\n",
        "257/1599"
       ]
      },
      {
       "output_type": "stream",
       "stream": "stdout",
       "text": [
        "\n",
        "258/1599"
       ]
      },
      {
       "output_type": "stream",
       "stream": "stdout",
       "text": [
        "\n",
        "259/1599"
       ]
      },
      {
       "output_type": "stream",
       "stream": "stdout",
       "text": [
        "\n",
        "260/1599"
       ]
      },
      {
       "output_type": "stream",
       "stream": "stdout",
       "text": [
        "\n",
        "261/1599\n",
        "262/1599"
       ]
      },
      {
       "output_type": "stream",
       "stream": "stdout",
       "text": [
        "\n",
        "263/1599"
       ]
      },
      {
       "output_type": "stream",
       "stream": "stdout",
       "text": [
        "\n",
        "264/1599"
       ]
      },
      {
       "output_type": "stream",
       "stream": "stdout",
       "text": [
        "\n",
        "265/1599"
       ]
      },
      {
       "output_type": "stream",
       "stream": "stdout",
       "text": [
        "\n",
        "266/1599\n",
        "267/1599"
       ]
      },
      {
       "output_type": "stream",
       "stream": "stdout",
       "text": [
        "\n",
        "268/1599\n",
        "269/1599"
       ]
      },
      {
       "output_type": "stream",
       "stream": "stdout",
       "text": [
        "\n",
        "270/1599"
       ]
      },
      {
       "output_type": "stream",
       "stream": "stdout",
       "text": [
        "\n",
        "271/1599\n",
        "272/1599"
       ]
      },
      {
       "output_type": "stream",
       "stream": "stdout",
       "text": [
        "\n",
        "273/1599"
       ]
      },
      {
       "output_type": "stream",
       "stream": "stdout",
       "text": [
        "\n",
        "274/1599"
       ]
      },
      {
       "output_type": "stream",
       "stream": "stdout",
       "text": [
        "\n",
        "275/1599"
       ]
      },
      {
       "output_type": "stream",
       "stream": "stdout",
       "text": [
        "\n",
        "276/1599"
       ]
      },
      {
       "output_type": "stream",
       "stream": "stdout",
       "text": [
        "\n",
        "277/1599"
       ]
      },
      {
       "output_type": "stream",
       "stream": "stdout",
       "text": [
        "\n",
        "278/1599"
       ]
      },
      {
       "output_type": "stream",
       "stream": "stdout",
       "text": [
        "\n",
        "279/1599\n",
        "280/1599"
       ]
      },
      {
       "output_type": "stream",
       "stream": "stdout",
       "text": [
        "\n",
        "281/1599\n",
        "282/1599"
       ]
      },
      {
       "output_type": "stream",
       "stream": "stdout",
       "text": [
        "\n",
        "283/1599"
       ]
      },
      {
       "output_type": "stream",
       "stream": "stdout",
       "text": [
        "\n",
        "284/1599\n",
        "285/1599"
       ]
      },
      {
       "output_type": "stream",
       "stream": "stdout",
       "text": [
        "\n",
        "286/1599"
       ]
      },
      {
       "output_type": "stream",
       "stream": "stdout",
       "text": [
        "\n",
        "287/1599"
       ]
      },
      {
       "output_type": "stream",
       "stream": "stdout",
       "text": [
        "\n",
        "288/1599\n",
        "289/1599"
       ]
      },
      {
       "output_type": "stream",
       "stream": "stdout",
       "text": [
        "\n",
        "290/1599\n",
        "291/1599"
       ]
      },
      {
       "output_type": "stream",
       "stream": "stdout",
       "text": [
        "\n",
        "292/1599\n",
        "293/1599"
       ]
      },
      {
       "output_type": "stream",
       "stream": "stdout",
       "text": [
        "\n",
        "294/1599"
       ]
      },
      {
       "output_type": "stream",
       "stream": "stdout",
       "text": [
        "\n",
        "295/1599"
       ]
      },
      {
       "output_type": "stream",
       "stream": "stdout",
       "text": [
        "\n",
        "296/1599"
       ]
      },
      {
       "output_type": "stream",
       "stream": "stdout",
       "text": [
        "\n",
        "297/1599"
       ]
      },
      {
       "output_type": "stream",
       "stream": "stdout",
       "text": [
        "\n",
        "298/1599"
       ]
      },
      {
       "output_type": "stream",
       "stream": "stdout",
       "text": [
        "\n",
        "299/1599"
       ]
      },
      {
       "output_type": "stream",
       "stream": "stdout",
       "text": [
        "\n",
        "300/1599"
       ]
      },
      {
       "output_type": "stream",
       "stream": "stdout",
       "text": [
        "\n",
        "301/1599"
       ]
      },
      {
       "output_type": "stream",
       "stream": "stdout",
       "text": [
        "\n",
        "302/1599"
       ]
      },
      {
       "output_type": "stream",
       "stream": "stdout",
       "text": [
        "\n",
        "303/1599\n",
        "304/1599"
       ]
      },
      {
       "output_type": "stream",
       "stream": "stdout",
       "text": [
        "\n",
        "305/1599"
       ]
      },
      {
       "output_type": "stream",
       "stream": "stdout",
       "text": [
        "\n",
        "306/1599"
       ]
      },
      {
       "output_type": "stream",
       "stream": "stdout",
       "text": [
        "\n",
        "307/1599"
       ]
      },
      {
       "output_type": "stream",
       "stream": "stdout",
       "text": [
        "\n",
        "308/1599\n",
        "309/1599"
       ]
      },
      {
       "output_type": "stream",
       "stream": "stdout",
       "text": [
        "\n",
        "310/1599"
       ]
      },
      {
       "output_type": "stream",
       "stream": "stdout",
       "text": [
        "\n",
        "311/1599"
       ]
      },
      {
       "output_type": "stream",
       "stream": "stdout",
       "text": [
        "\n",
        "312/1599\n",
        "313/1599"
       ]
      },
      {
       "output_type": "stream",
       "stream": "stdout",
       "text": [
        "\n",
        "314/1599"
       ]
      },
      {
       "output_type": "stream",
       "stream": "stdout",
       "text": [
        "\n",
        "315/1599\n",
        "316/1599"
       ]
      },
      {
       "output_type": "stream",
       "stream": "stdout",
       "text": [
        "\n",
        "317/1599"
       ]
      },
      {
       "output_type": "stream",
       "stream": "stdout",
       "text": [
        "\n",
        "318/1599"
       ]
      },
      {
       "output_type": "stream",
       "stream": "stdout",
       "text": [
        "\n",
        "319/1599"
       ]
      },
      {
       "output_type": "stream",
       "stream": "stdout",
       "text": [
        "\n",
        "320/1599\n",
        "321/1599"
       ]
      },
      {
       "output_type": "stream",
       "stream": "stdout",
       "text": [
        "\n",
        "322/1599"
       ]
      },
      {
       "output_type": "stream",
       "stream": "stdout",
       "text": [
        "\n",
        "323/1599\n",
        "324/1599"
       ]
      },
      {
       "output_type": "stream",
       "stream": "stdout",
       "text": [
        "\n",
        "325/1599"
       ]
      },
      {
       "output_type": "stream",
       "stream": "stdout",
       "text": [
        "\n",
        "326/1599"
       ]
      },
      {
       "output_type": "stream",
       "stream": "stdout",
       "text": [
        "\n",
        "327/1599\n",
        "328/1599"
       ]
      },
      {
       "output_type": "stream",
       "stream": "stdout",
       "text": [
        "\n",
        "329/1599"
       ]
      },
      {
       "output_type": "stream",
       "stream": "stdout",
       "text": [
        "\n",
        "330/1599\n",
        "331/1599"
       ]
      },
      {
       "output_type": "stream",
       "stream": "stdout",
       "text": [
        "\n",
        "332/1599\n",
        "333/1599"
       ]
      },
      {
       "output_type": "stream",
       "stream": "stdout",
       "text": [
        "\n",
        "334/1599"
       ]
      },
      {
       "output_type": "stream",
       "stream": "stdout",
       "text": [
        "\n",
        "335/1599"
       ]
      },
      {
       "output_type": "stream",
       "stream": "stdout",
       "text": [
        "\n",
        "336/1599\n",
        "337/1599"
       ]
      },
      {
       "output_type": "stream",
       "stream": "stdout",
       "text": [
        "\n",
        "338/1599"
       ]
      },
      {
       "output_type": "stream",
       "stream": "stdout",
       "text": [
        "\n",
        "339/1599"
       ]
      },
      {
       "output_type": "stream",
       "stream": "stdout",
       "text": [
        "\n",
        "340/1599"
       ]
      },
      {
       "output_type": "stream",
       "stream": "stdout",
       "text": [
        "\n",
        "341/1599"
       ]
      },
      {
       "output_type": "stream",
       "stream": "stdout",
       "text": [
        "\n",
        "342/1599"
       ]
      },
      {
       "output_type": "stream",
       "stream": "stdout",
       "text": [
        "\n",
        "343/1599"
       ]
      },
      {
       "output_type": "stream",
       "stream": "stdout",
       "text": [
        "\n",
        "344/1599"
       ]
      },
      {
       "output_type": "stream",
       "stream": "stdout",
       "text": [
        "\n",
        "345/1599"
       ]
      },
      {
       "output_type": "stream",
       "stream": "stdout",
       "text": [
        "\n",
        "346/1599"
       ]
      },
      {
       "output_type": "stream",
       "stream": "stdout",
       "text": [
        "\n",
        "347/1599\n",
        "348/1599"
       ]
      },
      {
       "output_type": "stream",
       "stream": "stdout",
       "text": [
        "\n",
        "349/1599"
       ]
      },
      {
       "output_type": "stream",
       "stream": "stdout",
       "text": [
        "\n",
        "350/1599"
       ]
      },
      {
       "output_type": "stream",
       "stream": "stdout",
       "text": [
        "\n",
        "351/1599\n",
        "352/1599"
       ]
      },
      {
       "output_type": "stream",
       "stream": "stdout",
       "text": [
        "\n",
        "353/1599"
       ]
      },
      {
       "output_type": "stream",
       "stream": "stdout",
       "text": [
        "\n",
        "354/1599"
       ]
      },
      {
       "output_type": "stream",
       "stream": "stdout",
       "text": [
        "\n",
        "355/1599"
       ]
      },
      {
       "output_type": "stream",
       "stream": "stdout",
       "text": [
        "\n",
        "356/1599"
       ]
      },
      {
       "output_type": "stream",
       "stream": "stdout",
       "text": [
        "\n",
        "357/1599"
       ]
      },
      {
       "output_type": "stream",
       "stream": "stdout",
       "text": [
        "\n",
        "358/1599\n",
        "359/1599"
       ]
      },
      {
       "output_type": "stream",
       "stream": "stdout",
       "text": [
        "\n",
        "360/1599"
       ]
      },
      {
       "output_type": "stream",
       "stream": "stdout",
       "text": [
        "\n",
        "361/1599"
       ]
      },
      {
       "output_type": "stream",
       "stream": "stdout",
       "text": [
        "\n",
        "362/1599"
       ]
      },
      {
       "output_type": "stream",
       "stream": "stdout",
       "text": [
        "\n",
        "363/1599"
       ]
      },
      {
       "output_type": "stream",
       "stream": "stdout",
       "text": [
        "\n",
        "364/1599"
       ]
      },
      {
       "output_type": "stream",
       "stream": "stdout",
       "text": [
        "\n",
        "365/1599"
       ]
      },
      {
       "output_type": "stream",
       "stream": "stdout",
       "text": [
        "\n",
        "366/1599"
       ]
      },
      {
       "output_type": "stream",
       "stream": "stdout",
       "text": [
        "\n",
        "367/1599"
       ]
      },
      {
       "output_type": "stream",
       "stream": "stdout",
       "text": [
        "\n",
        "368/1599"
       ]
      },
      {
       "output_type": "stream",
       "stream": "stdout",
       "text": [
        "\n",
        "369/1599"
       ]
      },
      {
       "output_type": "stream",
       "stream": "stdout",
       "text": [
        "\n",
        "370/1599"
       ]
      },
      {
       "output_type": "stream",
       "stream": "stdout",
       "text": [
        "\n",
        "371/1599\n",
        "372/1599"
       ]
      },
      {
       "output_type": "stream",
       "stream": "stdout",
       "text": [
        "\n",
        "373/1599"
       ]
      },
      {
       "output_type": "stream",
       "stream": "stdout",
       "text": [
        "\n",
        "374/1599"
       ]
      },
      {
       "output_type": "stream",
       "stream": "stdout",
       "text": [
        "\n",
        "375/1599"
       ]
      },
      {
       "output_type": "stream",
       "stream": "stdout",
       "text": [
        "\n",
        "376/1599"
       ]
      },
      {
       "output_type": "stream",
       "stream": "stdout",
       "text": [
        "\n",
        "377/1599"
       ]
      },
      {
       "output_type": "stream",
       "stream": "stdout",
       "text": [
        "\n",
        "378/1599"
       ]
      },
      {
       "output_type": "stream",
       "stream": "stdout",
       "text": [
        "\n",
        "379/1599"
       ]
      },
      {
       "output_type": "stream",
       "stream": "stdout",
       "text": [
        "\n",
        "380/1599"
       ]
      },
      {
       "output_type": "stream",
       "stream": "stdout",
       "text": [
        "\n",
        "381/1599"
       ]
      },
      {
       "output_type": "stream",
       "stream": "stdout",
       "text": [
        "\n",
        "382/1599\n",
        "383/1599"
       ]
      },
      {
       "output_type": "stream",
       "stream": "stdout",
       "text": [
        "\n",
        "384/1599"
       ]
      },
      {
       "output_type": "stream",
       "stream": "stdout",
       "text": [
        "\n",
        "385/1599"
       ]
      },
      {
       "output_type": "stream",
       "stream": "stdout",
       "text": [
        "\n",
        "386/1599"
       ]
      },
      {
       "output_type": "stream",
       "stream": "stdout",
       "text": [
        "\n",
        "387/1599"
       ]
      },
      {
       "output_type": "stream",
       "stream": "stdout",
       "text": [
        "\n",
        "388/1599"
       ]
      },
      {
       "output_type": "stream",
       "stream": "stdout",
       "text": [
        "\n",
        "389/1599"
       ]
      },
      {
       "output_type": "stream",
       "stream": "stdout",
       "text": [
        "\n",
        "390/1599"
       ]
      },
      {
       "output_type": "stream",
       "stream": "stdout",
       "text": [
        "\n",
        "391/1599\n",
        "392/1599"
       ]
      },
      {
       "output_type": "stream",
       "stream": "stdout",
       "text": [
        "\n",
        "393/1599\n",
        "394/1599"
       ]
      },
      {
       "output_type": "stream",
       "stream": "stdout",
       "text": [
        "\n",
        "395/1599\n",
        "396/1599"
       ]
      },
      {
       "output_type": "stream",
       "stream": "stdout",
       "text": [
        "\n",
        "397/1599"
       ]
      },
      {
       "output_type": "stream",
       "stream": "stdout",
       "text": [
        "\n",
        "398/1599"
       ]
      },
      {
       "output_type": "stream",
       "stream": "stdout",
       "text": [
        "\n",
        "399/1599"
       ]
      },
      {
       "output_type": "stream",
       "stream": "stdout",
       "text": [
        "\n",
        "400/1599"
       ]
      },
      {
       "output_type": "stream",
       "stream": "stdout",
       "text": [
        "\n",
        "401/1599"
       ]
      },
      {
       "output_type": "stream",
       "stream": "stdout",
       "text": [
        "\n",
        "402/1599"
       ]
      },
      {
       "output_type": "stream",
       "stream": "stdout",
       "text": [
        "\n",
        "403/1599"
       ]
      },
      {
       "output_type": "stream",
       "stream": "stdout",
       "text": [
        "\n",
        "404/1599"
       ]
      },
      {
       "output_type": "stream",
       "stream": "stdout",
       "text": [
        "\n",
        "405/1599"
       ]
      },
      {
       "output_type": "stream",
       "stream": "stdout",
       "text": [
        "\n",
        "406/1599"
       ]
      },
      {
       "output_type": "stream",
       "stream": "stdout",
       "text": [
        "\n",
        "407/1599"
       ]
      },
      {
       "output_type": "stream",
       "stream": "stdout",
       "text": [
        "\n",
        "408/1599"
       ]
      },
      {
       "output_type": "stream",
       "stream": "stdout",
       "text": [
        "\n",
        "409/1599\n",
        "410/1599"
       ]
      },
      {
       "output_type": "stream",
       "stream": "stdout",
       "text": [
        "\n",
        "411/1599"
       ]
      },
      {
       "output_type": "stream",
       "stream": "stdout",
       "text": [
        "\n",
        "412/1599"
       ]
      },
      {
       "output_type": "stream",
       "stream": "stdout",
       "text": [
        "\n",
        "413/1599\n",
        "414/1599"
       ]
      },
      {
       "output_type": "stream",
       "stream": "stdout",
       "text": [
        "\n",
        "415/1599"
       ]
      },
      {
       "output_type": "stream",
       "stream": "stdout",
       "text": [
        "\n",
        "416/1599"
       ]
      },
      {
       "output_type": "stream",
       "stream": "stdout",
       "text": [
        "\n",
        "417/1599\n",
        "418/1599"
       ]
      },
      {
       "output_type": "stream",
       "stream": "stdout",
       "text": [
        "\n",
        "419/1599\n",
        "420/1599"
       ]
      },
      {
       "output_type": "stream",
       "stream": "stdout",
       "text": [
        "\n",
        "421/1599"
       ]
      },
      {
       "output_type": "stream",
       "stream": "stdout",
       "text": [
        "\n",
        "422/1599"
       ]
      },
      {
       "output_type": "stream",
       "stream": "stdout",
       "text": [
        "\n",
        "423/1599\n",
        "424/1599"
       ]
      },
      {
       "output_type": "stream",
       "stream": "stdout",
       "text": [
        "\n",
        "425/1599"
       ]
      },
      {
       "output_type": "stream",
       "stream": "stdout",
       "text": [
        "\n",
        "426/1599"
       ]
      },
      {
       "output_type": "stream",
       "stream": "stdout",
       "text": [
        "\n",
        "427/1599"
       ]
      },
      {
       "output_type": "stream",
       "stream": "stdout",
       "text": [
        "\n",
        "428/1599"
       ]
      },
      {
       "output_type": "stream",
       "stream": "stdout",
       "text": [
        "\n",
        "429/1599"
       ]
      },
      {
       "output_type": "stream",
       "stream": "stdout",
       "text": [
        "\n",
        "430/1599"
       ]
      },
      {
       "output_type": "stream",
       "stream": "stdout",
       "text": [
        "\n",
        "431/1599"
       ]
      },
      {
       "output_type": "stream",
       "stream": "stdout",
       "text": [
        "\n",
        "432/1599"
       ]
      },
      {
       "output_type": "stream",
       "stream": "stdout",
       "text": [
        "\n",
        "433/1599"
       ]
      },
      {
       "output_type": "stream",
       "stream": "stdout",
       "text": [
        "\n",
        "434/1599"
       ]
      },
      {
       "output_type": "stream",
       "stream": "stdout",
       "text": [
        "\n",
        "435/1599"
       ]
      },
      {
       "output_type": "stream",
       "stream": "stdout",
       "text": [
        "\n",
        "436/1599\n",
        "437/1599"
       ]
      },
      {
       "output_type": "stream",
       "stream": "stdout",
       "text": [
        "\n",
        "438/1599\n",
        "439/1599"
       ]
      },
      {
       "output_type": "stream",
       "stream": "stdout",
       "text": [
        "\n",
        "440/1599"
       ]
      },
      {
       "output_type": "stream",
       "stream": "stdout",
       "text": [
        "\n",
        "441/1599"
       ]
      },
      {
       "output_type": "stream",
       "stream": "stdout",
       "text": [
        "\n",
        "442/1599"
       ]
      },
      {
       "output_type": "stream",
       "stream": "stdout",
       "text": [
        "\n",
        "443/1599"
       ]
      },
      {
       "output_type": "stream",
       "stream": "stdout",
       "text": [
        "\n",
        "444/1599"
       ]
      },
      {
       "output_type": "stream",
       "stream": "stdout",
       "text": [
        "\n",
        "445/1599"
       ]
      },
      {
       "output_type": "stream",
       "stream": "stdout",
       "text": [
        "\n",
        "446/1599"
       ]
      },
      {
       "output_type": "stream",
       "stream": "stdout",
       "text": [
        "\n",
        "447/1599\n",
        "448/1599"
       ]
      },
      {
       "output_type": "stream",
       "stream": "stdout",
       "text": [
        "\n",
        "449/1599"
       ]
      },
      {
       "output_type": "stream",
       "stream": "stdout",
       "text": [
        "\n",
        "450/1599"
       ]
      },
      {
       "output_type": "stream",
       "stream": "stdout",
       "text": [
        "\n",
        "451/1599\n",
        "452/1599"
       ]
      },
      {
       "output_type": "stream",
       "stream": "stdout",
       "text": [
        "\n",
        "453/1599\n",
        "454/1599"
       ]
      },
      {
       "output_type": "stream",
       "stream": "stdout",
       "text": [
        "\n",
        "455/1599"
       ]
      },
      {
       "output_type": "stream",
       "stream": "stdout",
       "text": [
        "\n",
        "456/1599"
       ]
      },
      {
       "output_type": "stream",
       "stream": "stdout",
       "text": [
        "\n",
        "457/1599"
       ]
      },
      {
       "output_type": "stream",
       "stream": "stdout",
       "text": [
        "\n",
        "458/1599\n",
        "459/1599"
       ]
      },
      {
       "output_type": "stream",
       "stream": "stdout",
       "text": [
        "\n",
        "460/1599\n",
        "461/1599"
       ]
      },
      {
       "output_type": "stream",
       "stream": "stdout",
       "text": [
        "\n",
        "462/1599\n",
        "463/1599"
       ]
      },
      {
       "output_type": "stream",
       "stream": "stdout",
       "text": [
        "\n",
        "464/1599"
       ]
      },
      {
       "output_type": "stream",
       "stream": "stdout",
       "text": [
        "\n",
        "465/1599"
       ]
      },
      {
       "output_type": "stream",
       "stream": "stdout",
       "text": [
        "\n",
        "466/1599\n",
        "467/1599"
       ]
      },
      {
       "output_type": "stream",
       "stream": "stdout",
       "text": [
        "\n",
        "468/1599"
       ]
      },
      {
       "output_type": "stream",
       "stream": "stdout",
       "text": [
        "\n",
        "469/1599\n",
        "470/1599"
       ]
      },
      {
       "output_type": "stream",
       "stream": "stdout",
       "text": [
        "\n",
        "471/1599"
       ]
      },
      {
       "output_type": "stream",
       "stream": "stdout",
       "text": [
        "\n",
        "472/1599"
       ]
      },
      {
       "output_type": "stream",
       "stream": "stdout",
       "text": [
        "\n",
        "473/1599"
       ]
      },
      {
       "output_type": "stream",
       "stream": "stdout",
       "text": [
        "\n",
        "474/1599"
       ]
      },
      {
       "output_type": "stream",
       "stream": "stdout",
       "text": [
        "\n",
        "475/1599"
       ]
      },
      {
       "output_type": "stream",
       "stream": "stdout",
       "text": [
        "\n",
        "476/1599"
       ]
      },
      {
       "output_type": "stream",
       "stream": "stdout",
       "text": [
        "\n",
        "477/1599"
       ]
      },
      {
       "output_type": "stream",
       "stream": "stdout",
       "text": [
        "\n",
        "478/1599"
       ]
      },
      {
       "output_type": "stream",
       "stream": "stdout",
       "text": [
        "\n",
        "479/1599"
       ]
      },
      {
       "output_type": "stream",
       "stream": "stdout",
       "text": [
        "\n",
        "480/1599"
       ]
      },
      {
       "output_type": "stream",
       "stream": "stdout",
       "text": [
        "\n",
        "481/1599"
       ]
      },
      {
       "output_type": "stream",
       "stream": "stdout",
       "text": [
        "\n",
        "482/1599"
       ]
      },
      {
       "output_type": "stream",
       "stream": "stdout",
       "text": [
        "\n",
        "483/1599"
       ]
      },
      {
       "output_type": "stream",
       "stream": "stdout",
       "text": [
        "\n",
        "484/1599"
       ]
      },
      {
       "output_type": "stream",
       "stream": "stdout",
       "text": [
        "\n",
        "485/1599\n",
        "486/1599"
       ]
      },
      {
       "output_type": "stream",
       "stream": "stdout",
       "text": [
        "\n",
        "487/1599"
       ]
      },
      {
       "output_type": "stream",
       "stream": "stdout",
       "text": [
        "\n",
        "488/1599"
       ]
      },
      {
       "output_type": "stream",
       "stream": "stdout",
       "text": [
        "\n",
        "489/1599"
       ]
      },
      {
       "output_type": "stream",
       "stream": "stdout",
       "text": [
        "\n",
        "490/1599"
       ]
      },
      {
       "output_type": "stream",
       "stream": "stdout",
       "text": [
        "\n",
        "491/1599"
       ]
      },
      {
       "output_type": "stream",
       "stream": "stdout",
       "text": [
        "\n",
        "492/1599\n",
        "493/1599"
       ]
      },
      {
       "output_type": "stream",
       "stream": "stdout",
       "text": [
        "\n",
        "494/1599"
       ]
      },
      {
       "output_type": "stream",
       "stream": "stdout",
       "text": [
        "\n",
        "495/1599"
       ]
      },
      {
       "output_type": "stream",
       "stream": "stdout",
       "text": [
        "\n",
        "496/1599"
       ]
      },
      {
       "output_type": "stream",
       "stream": "stdout",
       "text": [
        "\n",
        "497/1599"
       ]
      },
      {
       "output_type": "stream",
       "stream": "stdout",
       "text": [
        "\n",
        "498/1599"
       ]
      },
      {
       "output_type": "stream",
       "stream": "stdout",
       "text": [
        "\n",
        "499/1599"
       ]
      },
      {
       "output_type": "stream",
       "stream": "stdout",
       "text": [
        "\n",
        "500/1599"
       ]
      },
      {
       "output_type": "stream",
       "stream": "stdout",
       "text": [
        "\n",
        "501/1599"
       ]
      },
      {
       "output_type": "stream",
       "stream": "stdout",
       "text": [
        "\n",
        "502/1599"
       ]
      },
      {
       "output_type": "stream",
       "stream": "stdout",
       "text": [
        "\n",
        "503/1599\n",
        "504/1599"
       ]
      },
      {
       "output_type": "stream",
       "stream": "stdout",
       "text": [
        "\n",
        "505/1599\n",
        "506/1599"
       ]
      },
      {
       "output_type": "stream",
       "stream": "stdout",
       "text": [
        "\n",
        "507/1599"
       ]
      },
      {
       "output_type": "stream",
       "stream": "stdout",
       "text": [
        "\n",
        "508/1599"
       ]
      },
      {
       "output_type": "stream",
       "stream": "stdout",
       "text": [
        "\n",
        "509/1599\n",
        "510/1599"
       ]
      },
      {
       "output_type": "stream",
       "stream": "stdout",
       "text": [
        "\n",
        "511/1599"
       ]
      },
      {
       "output_type": "stream",
       "stream": "stdout",
       "text": [
        "\n",
        "512/1599"
       ]
      },
      {
       "output_type": "stream",
       "stream": "stdout",
       "text": [
        "\n",
        "513/1599"
       ]
      },
      {
       "output_type": "stream",
       "stream": "stdout",
       "text": [
        "\n",
        "514/1599"
       ]
      },
      {
       "output_type": "stream",
       "stream": "stdout",
       "text": [
        "\n",
        "515/1599"
       ]
      },
      {
       "output_type": "stream",
       "stream": "stdout",
       "text": [
        "\n",
        "516/1599"
       ]
      },
      {
       "output_type": "stream",
       "stream": "stdout",
       "text": [
        "\n",
        "517/1599"
       ]
      },
      {
       "output_type": "stream",
       "stream": "stdout",
       "text": [
        "\n",
        "518/1599"
       ]
      },
      {
       "output_type": "stream",
       "stream": "stdout",
       "text": [
        "\n",
        "519/1599"
       ]
      },
      {
       "output_type": "stream",
       "stream": "stdout",
       "text": [
        "\n",
        "520/1599"
       ]
      },
      {
       "output_type": "stream",
       "stream": "stdout",
       "text": [
        "\n",
        "521/1599"
       ]
      },
      {
       "output_type": "stream",
       "stream": "stdout",
       "text": [
        "\n",
        "522/1599"
       ]
      },
      {
       "output_type": "stream",
       "stream": "stdout",
       "text": [
        "\n",
        "523/1599"
       ]
      },
      {
       "output_type": "stream",
       "stream": "stdout",
       "text": [
        "\n",
        "524/1599"
       ]
      },
      {
       "output_type": "stream",
       "stream": "stdout",
       "text": [
        "\n",
        "525/1599\n",
        "526/1599"
       ]
      },
      {
       "output_type": "stream",
       "stream": "stdout",
       "text": [
        "\n",
        "527/1599"
       ]
      },
      {
       "output_type": "stream",
       "stream": "stdout",
       "text": [
        "\n",
        "528/1599"
       ]
      },
      {
       "output_type": "stream",
       "stream": "stdout",
       "text": [
        "\n",
        "529/1599"
       ]
      },
      {
       "output_type": "stream",
       "stream": "stdout",
       "text": [
        "\n",
        "530/1599\n",
        "531/1599"
       ]
      },
      {
       "output_type": "stream",
       "stream": "stdout",
       "text": [
        "\n",
        "532/1599"
       ]
      },
      {
       "output_type": "stream",
       "stream": "stdout",
       "text": [
        "\n",
        "533/1599\n",
        "534/1599"
       ]
      },
      {
       "output_type": "stream",
       "stream": "stdout",
       "text": [
        "\n",
        "535/1599\n",
        "536/1599"
       ]
      },
      {
       "output_type": "stream",
       "stream": "stdout",
       "text": [
        "\n",
        "537/1599"
       ]
      },
      {
       "output_type": "stream",
       "stream": "stdout",
       "text": [
        "\n",
        "538/1599"
       ]
      },
      {
       "output_type": "stream",
       "stream": "stdout",
       "text": [
        "\n",
        "539/1599"
       ]
      },
      {
       "output_type": "stream",
       "stream": "stdout",
       "text": [
        "\n",
        "540/1599"
       ]
      },
      {
       "output_type": "stream",
       "stream": "stdout",
       "text": [
        "\n",
        "541/1599"
       ]
      },
      {
       "output_type": "stream",
       "stream": "stdout",
       "text": [
        "\n",
        "542/1599"
       ]
      },
      {
       "output_type": "stream",
       "stream": "stdout",
       "text": [
        "\n",
        "543/1599"
       ]
      },
      {
       "output_type": "stream",
       "stream": "stdout",
       "text": [
        "\n",
        "544/1599"
       ]
      },
      {
       "output_type": "stream",
       "stream": "stdout",
       "text": [
        "\n",
        "545/1599"
       ]
      },
      {
       "output_type": "stream",
       "stream": "stdout",
       "text": [
        "\n",
        "546/1599"
       ]
      },
      {
       "output_type": "stream",
       "stream": "stdout",
       "text": [
        "\n",
        "547/1599"
       ]
      },
      {
       "output_type": "stream",
       "stream": "stdout",
       "text": [
        "\n",
        "548/1599"
       ]
      },
      {
       "output_type": "stream",
       "stream": "stdout",
       "text": [
        "\n",
        "549/1599"
       ]
      },
      {
       "output_type": "stream",
       "stream": "stdout",
       "text": [
        "\n",
        "550/1599"
       ]
      },
      {
       "output_type": "stream",
       "stream": "stdout",
       "text": [
        "\n",
        "551/1599"
       ]
      },
      {
       "output_type": "stream",
       "stream": "stdout",
       "text": [
        "\n",
        "552/1599"
       ]
      },
      {
       "output_type": "stream",
       "stream": "stdout",
       "text": [
        "\n",
        "553/1599"
       ]
      },
      {
       "output_type": "stream",
       "stream": "stdout",
       "text": [
        "\n",
        "554/1599"
       ]
      },
      {
       "output_type": "stream",
       "stream": "stdout",
       "text": [
        "\n",
        "555/1599"
       ]
      },
      {
       "output_type": "stream",
       "stream": "stdout",
       "text": [
        "\n",
        "556/1599"
       ]
      },
      {
       "output_type": "stream",
       "stream": "stdout",
       "text": [
        "\n",
        "557/1599"
       ]
      },
      {
       "output_type": "stream",
       "stream": "stdout",
       "text": [
        "\n",
        "558/1599\n",
        "559/1599"
       ]
      },
      {
       "output_type": "stream",
       "stream": "stdout",
       "text": [
        "\n",
        "560/1599"
       ]
      },
      {
       "output_type": "stream",
       "stream": "stdout",
       "text": [
        "\n",
        "561/1599"
       ]
      },
      {
       "output_type": "stream",
       "stream": "stdout",
       "text": [
        "\n",
        "562/1599"
       ]
      },
      {
       "output_type": "stream",
       "stream": "stdout",
       "text": [
        "\n",
        "563/1599\n",
        "564/1599"
       ]
      },
      {
       "output_type": "stream",
       "stream": "stdout",
       "text": [
        "\n",
        "565/1599\n",
        "566/1599"
       ]
      },
      {
       "output_type": "stream",
       "stream": "stdout",
       "text": [
        "\n",
        "567/1599"
       ]
      },
      {
       "output_type": "stream",
       "stream": "stdout",
       "text": [
        "\n",
        "568/1599\n",
        "569/1599"
       ]
      },
      {
       "output_type": "stream",
       "stream": "stdout",
       "text": [
        "\n",
        "570/1599"
       ]
      },
      {
       "output_type": "stream",
       "stream": "stdout",
       "text": [
        "\n",
        "571/1599"
       ]
      },
      {
       "output_type": "stream",
       "stream": "stdout",
       "text": [
        "\n",
        "572/1599"
       ]
      },
      {
       "output_type": "stream",
       "stream": "stdout",
       "text": [
        "\n",
        "573/1599"
       ]
      },
      {
       "output_type": "stream",
       "stream": "stdout",
       "text": [
        "\n",
        "574/1599"
       ]
      },
      {
       "output_type": "stream",
       "stream": "stdout",
       "text": [
        "\n",
        "575/1599"
       ]
      },
      {
       "output_type": "stream",
       "stream": "stdout",
       "text": [
        "\n",
        "576/1599"
       ]
      },
      {
       "output_type": "stream",
       "stream": "stdout",
       "text": [
        "\n",
        "577/1599"
       ]
      },
      {
       "output_type": "stream",
       "stream": "stdout",
       "text": [
        "\n",
        "578/1599"
       ]
      },
      {
       "output_type": "stream",
       "stream": "stdout",
       "text": [
        "\n",
        "579/1599"
       ]
      },
      {
       "output_type": "stream",
       "stream": "stdout",
       "text": [
        "\n",
        "580/1599"
       ]
      },
      {
       "output_type": "stream",
       "stream": "stdout",
       "text": [
        "\n",
        "581/1599"
       ]
      },
      {
       "output_type": "stream",
       "stream": "stdout",
       "text": [
        "\n",
        "582/1599"
       ]
      },
      {
       "output_type": "stream",
       "stream": "stdout",
       "text": [
        "\n",
        "583/1599"
       ]
      },
      {
       "output_type": "stream",
       "stream": "stdout",
       "text": [
        "\n",
        "584/1599"
       ]
      },
      {
       "output_type": "stream",
       "stream": "stdout",
       "text": [
        "\n",
        "585/1599"
       ]
      },
      {
       "output_type": "stream",
       "stream": "stdout",
       "text": [
        "\n",
        "586/1599"
       ]
      },
      {
       "output_type": "stream",
       "stream": "stdout",
       "text": [
        "\n",
        "587/1599"
       ]
      },
      {
       "output_type": "stream",
       "stream": "stdout",
       "text": [
        "\n",
        "588/1599"
       ]
      },
      {
       "output_type": "stream",
       "stream": "stdout",
       "text": [
        "\n",
        "589/1599"
       ]
      },
      {
       "output_type": "stream",
       "stream": "stdout",
       "text": [
        "\n",
        "590/1599"
       ]
      },
      {
       "output_type": "stream",
       "stream": "stdout",
       "text": [
        "\n",
        "591/1599\n",
        "592/1599"
       ]
      },
      {
       "output_type": "stream",
       "stream": "stdout",
       "text": [
        "\n",
        "593/1599"
       ]
      },
      {
       "output_type": "stream",
       "stream": "stdout",
       "text": [
        "\n",
        "594/1599\n",
        "595/1599"
       ]
      },
      {
       "output_type": "stream",
       "stream": "stdout",
       "text": [
        "\n",
        "596/1599\n",
        "597/1599"
       ]
      },
      {
       "output_type": "stream",
       "stream": "stdout",
       "text": [
        "\n",
        "598/1599"
       ]
      },
      {
       "output_type": "stream",
       "stream": "stdout",
       "text": [
        "\n",
        "599/1599"
       ]
      },
      {
       "output_type": "stream",
       "stream": "stdout",
       "text": [
        "\n",
        "600/1599"
       ]
      },
      {
       "output_type": "stream",
       "stream": "stdout",
       "text": [
        "\n",
        "601/1599"
       ]
      },
      {
       "output_type": "stream",
       "stream": "stdout",
       "text": [
        "\n",
        "602/1599"
       ]
      },
      {
       "output_type": "stream",
       "stream": "stdout",
       "text": [
        "\n",
        "603/1599"
       ]
      },
      {
       "output_type": "stream",
       "stream": "stdout",
       "text": [
        "\n",
        "604/1599"
       ]
      },
      {
       "output_type": "stream",
       "stream": "stdout",
       "text": [
        "\n",
        "605/1599"
       ]
      },
      {
       "output_type": "stream",
       "stream": "stdout",
       "text": [
        "\n",
        "606/1599"
       ]
      },
      {
       "output_type": "stream",
       "stream": "stdout",
       "text": [
        "\n",
        "607/1599"
       ]
      },
      {
       "output_type": "stream",
       "stream": "stdout",
       "text": [
        "\n",
        "608/1599"
       ]
      },
      {
       "output_type": "stream",
       "stream": "stdout",
       "text": [
        "\n",
        "609/1599"
       ]
      },
      {
       "output_type": "stream",
       "stream": "stdout",
       "text": [
        "\n",
        "610/1599"
       ]
      },
      {
       "output_type": "stream",
       "stream": "stdout",
       "text": [
        "\n",
        "611/1599"
       ]
      },
      {
       "output_type": "stream",
       "stream": "stdout",
       "text": [
        "\n",
        "612/1599"
       ]
      },
      {
       "output_type": "stream",
       "stream": "stdout",
       "text": [
        "\n",
        "613/1599"
       ]
      },
      {
       "output_type": "stream",
       "stream": "stdout",
       "text": [
        "\n",
        "614/1599"
       ]
      },
      {
       "output_type": "stream",
       "stream": "stdout",
       "text": [
        "\n",
        "615/1599"
       ]
      },
      {
       "output_type": "stream",
       "stream": "stdout",
       "text": [
        "\n",
        "616/1599"
       ]
      },
      {
       "output_type": "stream",
       "stream": "stdout",
       "text": [
        "\n",
        "617/1599"
       ]
      },
      {
       "output_type": "stream",
       "stream": "stdout",
       "text": [
        "\n",
        "618/1599"
       ]
      },
      {
       "output_type": "stream",
       "stream": "stdout",
       "text": [
        "\n",
        "619/1599"
       ]
      },
      {
       "output_type": "stream",
       "stream": "stdout",
       "text": [
        "\n",
        "620/1599"
       ]
      },
      {
       "output_type": "stream",
       "stream": "stdout",
       "text": [
        "\n",
        "621/1599"
       ]
      },
      {
       "output_type": "stream",
       "stream": "stdout",
       "text": [
        "\n",
        "622/1599"
       ]
      },
      {
       "output_type": "stream",
       "stream": "stdout",
       "text": [
        "\n",
        "623/1599"
       ]
      },
      {
       "output_type": "stream",
       "stream": "stdout",
       "text": [
        "\n",
        "624/1599"
       ]
      },
      {
       "output_type": "stream",
       "stream": "stdout",
       "text": [
        "\n",
        "625/1599"
       ]
      },
      {
       "output_type": "stream",
       "stream": "stdout",
       "text": [
        "\n",
        "626/1599"
       ]
      },
      {
       "output_type": "stream",
       "stream": "stdout",
       "text": [
        "\n",
        "627/1599"
       ]
      },
      {
       "output_type": "stream",
       "stream": "stdout",
       "text": [
        "\n",
        "628/1599"
       ]
      },
      {
       "output_type": "stream",
       "stream": "stdout",
       "text": [
        "\n",
        "629/1599"
       ]
      },
      {
       "output_type": "stream",
       "stream": "stdout",
       "text": [
        "\n",
        "630/1599"
       ]
      },
      {
       "output_type": "stream",
       "stream": "stdout",
       "text": [
        "\n",
        "631/1599\n",
        "632/1599"
       ]
      },
      {
       "output_type": "stream",
       "stream": "stdout",
       "text": [
        "\n",
        "633/1599"
       ]
      },
      {
       "output_type": "stream",
       "stream": "stdout",
       "text": [
        "\n",
        "634/1599"
       ]
      },
      {
       "output_type": "stream",
       "stream": "stdout",
       "text": [
        "\n",
        "635/1599"
       ]
      },
      {
       "output_type": "stream",
       "stream": "stdout",
       "text": [
        "\n",
        "636/1599"
       ]
      },
      {
       "output_type": "stream",
       "stream": "stdout",
       "text": [
        "\n",
        "637/1599"
       ]
      },
      {
       "output_type": "stream",
       "stream": "stdout",
       "text": [
        "\n",
        "638/1599"
       ]
      },
      {
       "output_type": "stream",
       "stream": "stdout",
       "text": [
        "\n",
        "639/1599"
       ]
      },
      {
       "output_type": "stream",
       "stream": "stdout",
       "text": [
        "\n",
        "640/1599"
       ]
      },
      {
       "output_type": "stream",
       "stream": "stdout",
       "text": [
        "\n",
        "641/1599"
       ]
      },
      {
       "output_type": "stream",
       "stream": "stdout",
       "text": [
        "\n",
        "642/1599"
       ]
      },
      {
       "output_type": "stream",
       "stream": "stdout",
       "text": [
        "\n",
        "643/1599"
       ]
      },
      {
       "output_type": "stream",
       "stream": "stdout",
       "text": [
        "\n",
        "644/1599"
       ]
      },
      {
       "output_type": "stream",
       "stream": "stdout",
       "text": [
        "\n",
        "645/1599"
       ]
      },
      {
       "output_type": "stream",
       "stream": "stdout",
       "text": [
        "\n",
        "646/1599"
       ]
      },
      {
       "output_type": "stream",
       "stream": "stdout",
       "text": [
        "\n",
        "647/1599"
       ]
      },
      {
       "output_type": "stream",
       "stream": "stdout",
       "text": [
        "\n",
        "648/1599\n",
        "649/1599"
       ]
      },
      {
       "output_type": "stream",
       "stream": "stdout",
       "text": [
        "\n",
        "650/1599"
       ]
      },
      {
       "output_type": "stream",
       "stream": "stdout",
       "text": [
        "\n",
        "651/1599"
       ]
      },
      {
       "output_type": "stream",
       "stream": "stdout",
       "text": [
        "\n",
        "652/1599"
       ]
      },
      {
       "output_type": "stream",
       "stream": "stdout",
       "text": [
        "\n",
        "653/1599\n",
        "654/1599"
       ]
      },
      {
       "output_type": "stream",
       "stream": "stdout",
       "text": [
        "\n",
        "655/1599"
       ]
      },
      {
       "output_type": "stream",
       "stream": "stdout",
       "text": [
        "\n",
        "656/1599"
       ]
      },
      {
       "output_type": "stream",
       "stream": "stdout",
       "text": [
        "\n",
        "657/1599"
       ]
      },
      {
       "output_type": "stream",
       "stream": "stdout",
       "text": [
        "\n",
        "658/1599"
       ]
      },
      {
       "output_type": "stream",
       "stream": "stdout",
       "text": [
        "\n",
        "659/1599"
       ]
      },
      {
       "output_type": "stream",
       "stream": "stdout",
       "text": [
        "\n",
        "660/1599"
       ]
      },
      {
       "output_type": "stream",
       "stream": "stdout",
       "text": [
        "\n",
        "661/1599"
       ]
      },
      {
       "output_type": "stream",
       "stream": "stdout",
       "text": [
        "\n",
        "662/1599"
       ]
      },
      {
       "output_type": "stream",
       "stream": "stdout",
       "text": [
        "\n",
        "663/1599"
       ]
      },
      {
       "output_type": "stream",
       "stream": "stdout",
       "text": [
        "\n",
        "664/1599"
       ]
      },
      {
       "output_type": "stream",
       "stream": "stdout",
       "text": [
        "\n",
        "665/1599"
       ]
      },
      {
       "output_type": "stream",
       "stream": "stdout",
       "text": [
        "\n",
        "666/1599"
       ]
      },
      {
       "output_type": "stream",
       "stream": "stdout",
       "text": [
        "\n",
        "667/1599"
       ]
      },
      {
       "output_type": "stream",
       "stream": "stdout",
       "text": [
        "\n",
        "668/1599"
       ]
      },
      {
       "output_type": "stream",
       "stream": "stdout",
       "text": [
        "\n",
        "669/1599\n",
        "670/1599"
       ]
      },
      {
       "output_type": "stream",
       "stream": "stdout",
       "text": [
        "\n",
        "671/1599"
       ]
      },
      {
       "output_type": "stream",
       "stream": "stdout",
       "text": [
        "\n",
        "672/1599"
       ]
      },
      {
       "output_type": "stream",
       "stream": "stdout",
       "text": [
        "\n",
        "673/1599"
       ]
      },
      {
       "output_type": "stream",
       "stream": "stdout",
       "text": [
        "\n",
        "674/1599\n",
        "675/1599"
       ]
      },
      {
       "output_type": "stream",
       "stream": "stdout",
       "text": [
        "\n",
        "676/1599"
       ]
      },
      {
       "output_type": "stream",
       "stream": "stdout",
       "text": [
        "\n",
        "677/1599"
       ]
      },
      {
       "output_type": "stream",
       "stream": "stdout",
       "text": [
        "\n",
        "678/1599"
       ]
      },
      {
       "output_type": "stream",
       "stream": "stdout",
       "text": [
        "\n",
        "679/1599"
       ]
      },
      {
       "output_type": "stream",
       "stream": "stdout",
       "text": [
        "\n",
        "680/1599"
       ]
      },
      {
       "output_type": "stream",
       "stream": "stdout",
       "text": [
        "\n",
        "681/1599\n",
        "682/1599"
       ]
      },
      {
       "output_type": "stream",
       "stream": "stdout",
       "text": [
        "\n",
        "683/1599"
       ]
      },
      {
       "output_type": "stream",
       "stream": "stdout",
       "text": [
        "\n",
        "684/1599"
       ]
      },
      {
       "output_type": "stream",
       "stream": "stdout",
       "text": [
        "\n",
        "685/1599\n",
        "686/1599"
       ]
      },
      {
       "output_type": "stream",
       "stream": "stdout",
       "text": [
        "\n",
        "687/1599\n",
        "688/1599"
       ]
      },
      {
       "output_type": "stream",
       "stream": "stdout",
       "text": [
        "\n",
        "689/1599\n",
        "690/1599"
       ]
      },
      {
       "output_type": "stream",
       "stream": "stdout",
       "text": [
        "\n",
        "691/1599\n",
        "692/1599"
       ]
      },
      {
       "output_type": "stream",
       "stream": "stdout",
       "text": [
        "\n",
        "693/1599\n",
        "694/1599"
       ]
      },
      {
       "output_type": "stream",
       "stream": "stdout",
       "text": [
        "\n",
        "695/1599\n",
        "696/1599"
       ]
      },
      {
       "output_type": "stream",
       "stream": "stdout",
       "text": [
        "\n",
        "697/1599"
       ]
      },
      {
       "output_type": "stream",
       "stream": "stdout",
       "text": [
        "\n",
        "698/1599\n",
        "699/1599"
       ]
      },
      {
       "output_type": "stream",
       "stream": "stdout",
       "text": [
        "\n",
        "700/1599\n",
        "701/1599"
       ]
      },
      {
       "output_type": "stream",
       "stream": "stdout",
       "text": [
        "\n",
        "702/1599"
       ]
      },
      {
       "output_type": "stream",
       "stream": "stdout",
       "text": [
        "\n",
        "703/1599"
       ]
      },
      {
       "output_type": "stream",
       "stream": "stdout",
       "text": [
        "\n",
        "704/1599\n",
        "705/1599"
       ]
      },
      {
       "output_type": "stream",
       "stream": "stdout",
       "text": [
        "\n",
        "706/1599"
       ]
      },
      {
       "output_type": "stream",
       "stream": "stdout",
       "text": [
        "\n",
        "707/1599"
       ]
      },
      {
       "output_type": "stream",
       "stream": "stdout",
       "text": [
        "\n",
        "708/1599"
       ]
      },
      {
       "output_type": "stream",
       "stream": "stdout",
       "text": [
        "\n",
        "709/1599"
       ]
      },
      {
       "output_type": "stream",
       "stream": "stdout",
       "text": [
        "\n",
        "710/1599\n",
        "711/1599"
       ]
      },
      {
       "output_type": "stream",
       "stream": "stdout",
       "text": [
        "\n",
        "712/1599"
       ]
      },
      {
       "output_type": "stream",
       "stream": "stdout",
       "text": [
        "\n",
        "713/1599"
       ]
      },
      {
       "output_type": "stream",
       "stream": "stdout",
       "text": [
        "\n",
        "714/1599"
       ]
      },
      {
       "output_type": "stream",
       "stream": "stdout",
       "text": [
        "\n",
        "715/1599\n",
        "716/1599"
       ]
      },
      {
       "output_type": "stream",
       "stream": "stdout",
       "text": [
        "\n",
        "717/1599"
       ]
      },
      {
       "output_type": "stream",
       "stream": "stdout",
       "text": [
        "\n",
        "718/1599\n",
        "719/1599"
       ]
      },
      {
       "output_type": "stream",
       "stream": "stdout",
       "text": [
        "\n",
        "720/1599"
       ]
      },
      {
       "output_type": "stream",
       "stream": "stdout",
       "text": [
        "\n",
        "721/1599"
       ]
      },
      {
       "output_type": "stream",
       "stream": "stdout",
       "text": [
        "\n",
        "722/1599"
       ]
      },
      {
       "output_type": "stream",
       "stream": "stdout",
       "text": [
        "\n",
        "723/1599"
       ]
      },
      {
       "output_type": "stream",
       "stream": "stdout",
       "text": [
        "\n",
        "724/1599"
       ]
      },
      {
       "output_type": "stream",
       "stream": "stdout",
       "text": [
        "\n",
        "725/1599"
       ]
      },
      {
       "output_type": "stream",
       "stream": "stdout",
       "text": [
        "\n",
        "726/1599"
       ]
      },
      {
       "output_type": "stream",
       "stream": "stdout",
       "text": [
        "\n",
        "727/1599"
       ]
      },
      {
       "output_type": "stream",
       "stream": "stdout",
       "text": [
        "\n",
        "728/1599\n",
        "729/1599"
       ]
      },
      {
       "output_type": "stream",
       "stream": "stdout",
       "text": [
        "\n",
        "730/1599"
       ]
      },
      {
       "output_type": "stream",
       "stream": "stdout",
       "text": [
        "\n",
        "731/1599"
       ]
      },
      {
       "output_type": "stream",
       "stream": "stdout",
       "text": [
        "\n",
        "732/1599"
       ]
      },
      {
       "output_type": "stream",
       "stream": "stdout",
       "text": [
        "\n",
        "733/1599"
       ]
      },
      {
       "output_type": "stream",
       "stream": "stdout",
       "text": [
        "\n",
        "734/1599"
       ]
      },
      {
       "output_type": "stream",
       "stream": "stdout",
       "text": [
        "\n",
        "735/1599"
       ]
      },
      {
       "output_type": "stream",
       "stream": "stdout",
       "text": [
        "\n",
        "736/1599"
       ]
      },
      {
       "output_type": "stream",
       "stream": "stdout",
       "text": [
        "\n",
        "737/1599"
       ]
      },
      {
       "output_type": "stream",
       "stream": "stdout",
       "text": [
        "\n",
        "738/1599"
       ]
      },
      {
       "output_type": "stream",
       "stream": "stdout",
       "text": [
        "\n",
        "739/1599"
       ]
      },
      {
       "output_type": "stream",
       "stream": "stdout",
       "text": [
        "\n",
        "740/1599"
       ]
      },
      {
       "output_type": "stream",
       "stream": "stdout",
       "text": [
        "\n",
        "741/1599"
       ]
      },
      {
       "output_type": "stream",
       "stream": "stdout",
       "text": [
        "\n",
        "742/1599"
       ]
      },
      {
       "output_type": "stream",
       "stream": "stdout",
       "text": [
        "\n",
        "743/1599"
       ]
      },
      {
       "output_type": "stream",
       "stream": "stdout",
       "text": [
        "\n",
        "744/1599"
       ]
      },
      {
       "output_type": "stream",
       "stream": "stdout",
       "text": [
        "\n",
        "745/1599"
       ]
      },
      {
       "output_type": "stream",
       "stream": "stdout",
       "text": [
        "\n",
        "746/1599"
       ]
      },
      {
       "output_type": "stream",
       "stream": "stdout",
       "text": [
        "\n",
        "747/1599"
       ]
      },
      {
       "output_type": "stream",
       "stream": "stdout",
       "text": [
        "\n",
        "748/1599"
       ]
      },
      {
       "output_type": "stream",
       "stream": "stdout",
       "text": [
        "\n",
        "749/1599"
       ]
      },
      {
       "output_type": "stream",
       "stream": "stdout",
       "text": [
        "\n",
        "750/1599"
       ]
      },
      {
       "output_type": "stream",
       "stream": "stdout",
       "text": [
        "\n",
        "751/1599\n",
        "752/1599"
       ]
      },
      {
       "output_type": "stream",
       "stream": "stdout",
       "text": [
        "\n",
        "753/1599\n",
        "754/1599"
       ]
      },
      {
       "output_type": "stream",
       "stream": "stdout",
       "text": [
        "\n",
        "755/1599"
       ]
      },
      {
       "output_type": "stream",
       "stream": "stdout",
       "text": [
        "\n",
        "756/1599"
       ]
      },
      {
       "output_type": "stream",
       "stream": "stdout",
       "text": [
        "\n",
        "757/1599\n",
        "758/1599"
       ]
      },
      {
       "output_type": "stream",
       "stream": "stdout",
       "text": [
        "\n",
        "759/1599"
       ]
      },
      {
       "output_type": "stream",
       "stream": "stdout",
       "text": [
        "\n",
        "760/1599"
       ]
      },
      {
       "output_type": "stream",
       "stream": "stdout",
       "text": [
        "\n",
        "761/1599"
       ]
      },
      {
       "output_type": "stream",
       "stream": "stdout",
       "text": [
        "\n",
        "762/1599"
       ]
      },
      {
       "output_type": "stream",
       "stream": "stdout",
       "text": [
        "\n",
        "763/1599"
       ]
      },
      {
       "output_type": "stream",
       "stream": "stdout",
       "text": [
        "\n",
        "764/1599"
       ]
      },
      {
       "output_type": "stream",
       "stream": "stdout",
       "text": [
        "\n",
        "765/1599"
       ]
      },
      {
       "output_type": "stream",
       "stream": "stdout",
       "text": [
        "\n",
        "766/1599\n",
        "767/1599"
       ]
      },
      {
       "output_type": "stream",
       "stream": "stdout",
       "text": [
        "\n",
        "768/1599\n",
        "769/1599"
       ]
      },
      {
       "output_type": "stream",
       "stream": "stdout",
       "text": [
        "\n",
        "770/1599"
       ]
      },
      {
       "output_type": "stream",
       "stream": "stdout",
       "text": [
        "\n",
        "771/1599"
       ]
      },
      {
       "output_type": "stream",
       "stream": "stdout",
       "text": [
        "\n",
        "772/1599"
       ]
      },
      {
       "output_type": "stream",
       "stream": "stdout",
       "text": [
        "\n",
        "773/1599\n",
        "774/1599"
       ]
      },
      {
       "output_type": "stream",
       "stream": "stdout",
       "text": [
        "\n",
        "775/1599\n",
        "776/1599"
       ]
      },
      {
       "output_type": "stream",
       "stream": "stdout",
       "text": [
        "\n",
        "777/1599"
       ]
      },
      {
       "output_type": "stream",
       "stream": "stdout",
       "text": [
        "\n",
        "778/1599\n",
        "779/1599"
       ]
      },
      {
       "output_type": "stream",
       "stream": "stdout",
       "text": [
        "\n",
        "780/1599"
       ]
      },
      {
       "output_type": "stream",
       "stream": "stdout",
       "text": [
        "\n",
        "781/1599"
       ]
      },
      {
       "output_type": "stream",
       "stream": "stdout",
       "text": [
        "\n",
        "782/1599"
       ]
      },
      {
       "output_type": "stream",
       "stream": "stdout",
       "text": [
        "\n",
        "783/1599"
       ]
      },
      {
       "output_type": "stream",
       "stream": "stdout",
       "text": [
        "\n",
        "784/1599"
       ]
      },
      {
       "output_type": "stream",
       "stream": "stdout",
       "text": [
        "\n",
        "785/1599"
       ]
      },
      {
       "output_type": "stream",
       "stream": "stdout",
       "text": [
        "\n",
        "786/1599\n",
        "787/1599"
       ]
      },
      {
       "output_type": "stream",
       "stream": "stdout",
       "text": [
        "\n",
        "788/1599"
       ]
      },
      {
       "output_type": "stream",
       "stream": "stdout",
       "text": [
        "\n",
        "789/1599"
       ]
      },
      {
       "output_type": "stream",
       "stream": "stdout",
       "text": [
        "\n",
        "790/1599"
       ]
      },
      {
       "output_type": "stream",
       "stream": "stdout",
       "text": [
        "\n",
        "791/1599"
       ]
      },
      {
       "output_type": "stream",
       "stream": "stdout",
       "text": [
        "\n",
        "792/1599\n",
        "793/1599"
       ]
      },
      {
       "output_type": "stream",
       "stream": "stdout",
       "text": [
        "\n",
        "794/1599\n",
        "795/1599"
       ]
      },
      {
       "output_type": "stream",
       "stream": "stdout",
       "text": [
        "\n",
        "796/1599"
       ]
      },
      {
       "output_type": "stream",
       "stream": "stdout",
       "text": [
        "\n",
        "797/1599"
       ]
      },
      {
       "output_type": "stream",
       "stream": "stdout",
       "text": [
        "\n",
        "798/1599\n",
        "799/1599"
       ]
      },
      {
       "output_type": "stream",
       "stream": "stdout",
       "text": [
        "\n",
        "800/1599"
       ]
      },
      {
       "output_type": "stream",
       "stream": "stdout",
       "text": [
        "\n",
        "801/1599"
       ]
      },
      {
       "output_type": "stream",
       "stream": "stdout",
       "text": [
        "\n",
        "802/1599"
       ]
      },
      {
       "output_type": "stream",
       "stream": "stdout",
       "text": [
        "\n",
        "803/1599"
       ]
      },
      {
       "output_type": "stream",
       "stream": "stdout",
       "text": [
        "\n",
        "804/1599"
       ]
      },
      {
       "output_type": "stream",
       "stream": "stdout",
       "text": [
        "\n",
        "805/1599"
       ]
      },
      {
       "output_type": "stream",
       "stream": "stdout",
       "text": [
        "\n",
        "806/1599"
       ]
      },
      {
       "output_type": "stream",
       "stream": "stdout",
       "text": [
        "\n",
        "807/1599"
       ]
      },
      {
       "output_type": "stream",
       "stream": "stdout",
       "text": [
        "\n",
        "808/1599"
       ]
      },
      {
       "output_type": "stream",
       "stream": "stdout",
       "text": [
        "\n",
        "809/1599"
       ]
      },
      {
       "output_type": "stream",
       "stream": "stdout",
       "text": [
        "\n",
        "810/1599\n",
        "811/1599"
       ]
      },
      {
       "output_type": "stream",
       "stream": "stdout",
       "text": [
        "\n",
        "812/1599"
       ]
      },
      {
       "output_type": "stream",
       "stream": "stdout",
       "text": [
        "\n",
        "813/1599"
       ]
      },
      {
       "output_type": "stream",
       "stream": "stdout",
       "text": [
        "\n",
        "814/1599\n",
        "815/1599"
       ]
      },
      {
       "output_type": "stream",
       "stream": "stdout",
       "text": [
        "\n",
        "816/1599"
       ]
      },
      {
       "output_type": "stream",
       "stream": "stdout",
       "text": [
        "\n",
        "817/1599"
       ]
      },
      {
       "output_type": "stream",
       "stream": "stdout",
       "text": [
        "\n",
        "818/1599"
       ]
      },
      {
       "output_type": "stream",
       "stream": "stdout",
       "text": [
        "\n",
        "819/1599"
       ]
      },
      {
       "output_type": "stream",
       "stream": "stdout",
       "text": [
        "\n",
        "820/1599"
       ]
      },
      {
       "output_type": "stream",
       "stream": "stdout",
       "text": [
        "\n",
        "821/1599"
       ]
      },
      {
       "output_type": "stream",
       "stream": "stdout",
       "text": [
        "\n",
        "822/1599"
       ]
      },
      {
       "output_type": "stream",
       "stream": "stdout",
       "text": [
        "\n",
        "823/1599"
       ]
      },
      {
       "output_type": "stream",
       "stream": "stdout",
       "text": [
        "\n",
        "824/1599"
       ]
      },
      {
       "output_type": "stream",
       "stream": "stdout",
       "text": [
        "\n",
        "825/1599"
       ]
      },
      {
       "output_type": "stream",
       "stream": "stdout",
       "text": [
        "\n",
        "826/1599"
       ]
      },
      {
       "output_type": "stream",
       "stream": "stdout",
       "text": [
        "\n",
        "827/1599"
       ]
      },
      {
       "output_type": "stream",
       "stream": "stdout",
       "text": [
        "\n",
        "828/1599"
       ]
      },
      {
       "output_type": "stream",
       "stream": "stdout",
       "text": [
        "\n",
        "829/1599"
       ]
      },
      {
       "output_type": "stream",
       "stream": "stdout",
       "text": [
        "\n",
        "830/1599"
       ]
      },
      {
       "output_type": "stream",
       "stream": "stdout",
       "text": [
        "\n",
        "831/1599"
       ]
      },
      {
       "output_type": "stream",
       "stream": "stdout",
       "text": [
        "\n",
        "832/1599"
       ]
      },
      {
       "output_type": "stream",
       "stream": "stdout",
       "text": [
        "\n",
        "833/1599"
       ]
      },
      {
       "output_type": "stream",
       "stream": "stdout",
       "text": [
        "\n",
        "834/1599"
       ]
      },
      {
       "output_type": "stream",
       "stream": "stdout",
       "text": [
        "\n",
        "835/1599"
       ]
      },
      {
       "output_type": "stream",
       "stream": "stdout",
       "text": [
        "\n",
        "836/1599"
       ]
      },
      {
       "output_type": "stream",
       "stream": "stdout",
       "text": [
        "\n",
        "837/1599"
       ]
      },
      {
       "output_type": "stream",
       "stream": "stdout",
       "text": [
        "\n",
        "838/1599"
       ]
      },
      {
       "output_type": "stream",
       "stream": "stdout",
       "text": [
        "\n",
        "839/1599"
       ]
      },
      {
       "output_type": "stream",
       "stream": "stdout",
       "text": [
        "\n",
        "840/1599"
       ]
      },
      {
       "output_type": "stream",
       "stream": "stdout",
       "text": [
        "\n",
        "841/1599"
       ]
      },
      {
       "output_type": "stream",
       "stream": "stdout",
       "text": [
        "\n",
        "842/1599"
       ]
      },
      {
       "output_type": "stream",
       "stream": "stdout",
       "text": [
        "\n",
        "843/1599"
       ]
      },
      {
       "output_type": "stream",
       "stream": "stdout",
       "text": [
        "\n",
        "844/1599"
       ]
      },
      {
       "output_type": "stream",
       "stream": "stdout",
       "text": [
        "\n",
        "845/1599"
       ]
      },
      {
       "output_type": "stream",
       "stream": "stdout",
       "text": [
        "\n",
        "846/1599"
       ]
      },
      {
       "output_type": "stream",
       "stream": "stdout",
       "text": [
        "\n",
        "847/1599"
       ]
      },
      {
       "output_type": "stream",
       "stream": "stdout",
       "text": [
        "\n",
        "848/1599"
       ]
      },
      {
       "output_type": "stream",
       "stream": "stdout",
       "text": [
        "\n",
        "849/1599"
       ]
      },
      {
       "output_type": "stream",
       "stream": "stdout",
       "text": [
        "\n",
        "850/1599"
       ]
      },
      {
       "output_type": "stream",
       "stream": "stdout",
       "text": [
        "\n",
        "851/1599"
       ]
      },
      {
       "output_type": "stream",
       "stream": "stdout",
       "text": [
        "\n",
        "852/1599"
       ]
      },
      {
       "output_type": "stream",
       "stream": "stdout",
       "text": [
        "\n",
        "853/1599\n",
        "854/1599"
       ]
      },
      {
       "output_type": "stream",
       "stream": "stdout",
       "text": [
        "\n",
        "855/1599"
       ]
      },
      {
       "output_type": "stream",
       "stream": "stdout",
       "text": [
        "\n",
        "856/1599"
       ]
      },
      {
       "output_type": "stream",
       "stream": "stdout",
       "text": [
        "\n",
        "857/1599"
       ]
      },
      {
       "output_type": "stream",
       "stream": "stdout",
       "text": [
        "\n",
        "858/1599"
       ]
      },
      {
       "output_type": "stream",
       "stream": "stdout",
       "text": [
        "\n",
        "859/1599"
       ]
      },
      {
       "output_type": "stream",
       "stream": "stdout",
       "text": [
        "\n",
        "860/1599"
       ]
      },
      {
       "output_type": "stream",
       "stream": "stdout",
       "text": [
        "\n",
        "861/1599"
       ]
      },
      {
       "output_type": "stream",
       "stream": "stdout",
       "text": [
        "\n",
        "862/1599"
       ]
      },
      {
       "output_type": "stream",
       "stream": "stdout",
       "text": [
        "\n",
        "863/1599"
       ]
      },
      {
       "output_type": "stream",
       "stream": "stdout",
       "text": [
        "\n",
        "864/1599"
       ]
      },
      {
       "output_type": "stream",
       "stream": "stdout",
       "text": [
        "\n",
        "865/1599\n",
        "866/1599"
       ]
      },
      {
       "output_type": "stream",
       "stream": "stdout",
       "text": [
        "\n",
        "867/1599"
       ]
      },
      {
       "output_type": "stream",
       "stream": "stdout",
       "text": [
        "\n",
        "868/1599"
       ]
      },
      {
       "output_type": "stream",
       "stream": "stdout",
       "text": [
        "\n",
        "869/1599"
       ]
      },
      {
       "output_type": "stream",
       "stream": "stdout",
       "text": [
        "\n",
        "870/1599"
       ]
      },
      {
       "output_type": "stream",
       "stream": "stdout",
       "text": [
        "\n",
        "871/1599"
       ]
      },
      {
       "output_type": "stream",
       "stream": "stdout",
       "text": [
        "\n",
        "872/1599"
       ]
      },
      {
       "output_type": "stream",
       "stream": "stdout",
       "text": [
        "\n",
        "873/1599"
       ]
      },
      {
       "output_type": "stream",
       "stream": "stdout",
       "text": [
        "\n",
        "874/1599"
       ]
      },
      {
       "output_type": "stream",
       "stream": "stdout",
       "text": [
        "\n",
        "875/1599"
       ]
      },
      {
       "output_type": "stream",
       "stream": "stdout",
       "text": [
        "\n",
        "876/1599"
       ]
      },
      {
       "output_type": "stream",
       "stream": "stdout",
       "text": [
        "\n",
        "877/1599"
       ]
      },
      {
       "output_type": "stream",
       "stream": "stdout",
       "text": [
        "\n",
        "878/1599"
       ]
      },
      {
       "output_type": "stream",
       "stream": "stdout",
       "text": [
        "\n",
        "879/1599"
       ]
      },
      {
       "output_type": "stream",
       "stream": "stdout",
       "text": [
        "\n",
        "880/1599"
       ]
      },
      {
       "output_type": "stream",
       "stream": "stdout",
       "text": [
        "\n",
        "881/1599"
       ]
      },
      {
       "output_type": "stream",
       "stream": "stdout",
       "text": [
        "\n",
        "882/1599"
       ]
      },
      {
       "output_type": "stream",
       "stream": "stdout",
       "text": [
        "\n",
        "883/1599"
       ]
      },
      {
       "output_type": "stream",
       "stream": "stdout",
       "text": [
        "\n",
        "884/1599"
       ]
      },
      {
       "output_type": "stream",
       "stream": "stdout",
       "text": [
        "\n",
        "885/1599"
       ]
      },
      {
       "output_type": "stream",
       "stream": "stdout",
       "text": [
        "\n",
        "886/1599\n",
        "887/1599"
       ]
      },
      {
       "output_type": "stream",
       "stream": "stdout",
       "text": [
        "\n",
        "888/1599"
       ]
      },
      {
       "output_type": "stream",
       "stream": "stdout",
       "text": [
        "\n",
        "889/1599"
       ]
      },
      {
       "output_type": "stream",
       "stream": "stdout",
       "text": [
        "\n",
        "890/1599"
       ]
      },
      {
       "output_type": "stream",
       "stream": "stdout",
       "text": [
        "\n",
        "891/1599"
       ]
      },
      {
       "output_type": "stream",
       "stream": "stdout",
       "text": [
        "\n",
        "892/1599"
       ]
      },
      {
       "output_type": "stream",
       "stream": "stdout",
       "text": [
        "\n",
        "893/1599"
       ]
      },
      {
       "output_type": "stream",
       "stream": "stdout",
       "text": [
        "\n",
        "894/1599"
       ]
      },
      {
       "output_type": "stream",
       "stream": "stdout",
       "text": [
        "\n",
        "895/1599\n",
        "896/1599"
       ]
      },
      {
       "output_type": "stream",
       "stream": "stdout",
       "text": [
        "\n",
        "897/1599"
       ]
      },
      {
       "output_type": "stream",
       "stream": "stdout",
       "text": [
        "\n",
        "898/1599\n",
        "899/1599"
       ]
      },
      {
       "output_type": "stream",
       "stream": "stdout",
       "text": [
        "\n",
        "900/1599"
       ]
      },
      {
       "output_type": "stream",
       "stream": "stdout",
       "text": [
        "\n",
        "901/1599"
       ]
      },
      {
       "output_type": "stream",
       "stream": "stdout",
       "text": [
        "\n",
        "902/1599"
       ]
      },
      {
       "output_type": "stream",
       "stream": "stdout",
       "text": [
        "\n",
        "903/1599"
       ]
      },
      {
       "output_type": "stream",
       "stream": "stdout",
       "text": [
        "\n",
        "904/1599"
       ]
      },
      {
       "output_type": "stream",
       "stream": "stdout",
       "text": [
        "\n",
        "905/1599\n",
        "906/1599"
       ]
      },
      {
       "output_type": "stream",
       "stream": "stdout",
       "text": [
        "\n",
        "907/1599"
       ]
      },
      {
       "output_type": "stream",
       "stream": "stdout",
       "text": [
        "\n",
        "908/1599"
       ]
      },
      {
       "output_type": "stream",
       "stream": "stdout",
       "text": [
        "\n",
        "909/1599"
       ]
      },
      {
       "output_type": "stream",
       "stream": "stdout",
       "text": [
        "\n",
        "910/1599"
       ]
      },
      {
       "output_type": "stream",
       "stream": "stdout",
       "text": [
        "\n",
        "911/1599"
       ]
      },
      {
       "output_type": "stream",
       "stream": "stdout",
       "text": [
        "\n",
        "912/1599"
       ]
      },
      {
       "output_type": "stream",
       "stream": "stdout",
       "text": [
        "\n",
        "913/1599"
       ]
      },
      {
       "output_type": "stream",
       "stream": "stdout",
       "text": [
        "\n",
        "914/1599"
       ]
      },
      {
       "output_type": "stream",
       "stream": "stdout",
       "text": [
        "\n",
        "915/1599"
       ]
      },
      {
       "output_type": "stream",
       "stream": "stdout",
       "text": [
        "\n",
        "916/1599"
       ]
      },
      {
       "output_type": "stream",
       "stream": "stdout",
       "text": [
        "\n",
        "917/1599"
       ]
      },
      {
       "output_type": "stream",
       "stream": "stdout",
       "text": [
        "\n",
        "918/1599"
       ]
      },
      {
       "output_type": "stream",
       "stream": "stdout",
       "text": [
        "\n",
        "919/1599"
       ]
      },
      {
       "output_type": "stream",
       "stream": "stdout",
       "text": [
        "\n",
        "920/1599"
       ]
      },
      {
       "output_type": "stream",
       "stream": "stdout",
       "text": [
        "\n",
        "921/1599"
       ]
      },
      {
       "output_type": "stream",
       "stream": "stdout",
       "text": [
        "\n",
        "922/1599"
       ]
      },
      {
       "output_type": "stream",
       "stream": "stdout",
       "text": [
        "\n",
        "923/1599"
       ]
      },
      {
       "output_type": "stream",
       "stream": "stdout",
       "text": [
        "\n",
        "924/1599"
       ]
      },
      {
       "output_type": "stream",
       "stream": "stdout",
       "text": [
        "\n",
        "925/1599"
       ]
      },
      {
       "output_type": "stream",
       "stream": "stdout",
       "text": [
        "\n",
        "926/1599"
       ]
      },
      {
       "output_type": "stream",
       "stream": "stdout",
       "text": [
        "\n",
        "927/1599"
       ]
      },
      {
       "output_type": "stream",
       "stream": "stdout",
       "text": [
        "\n",
        "928/1599"
       ]
      },
      {
       "output_type": "stream",
       "stream": "stdout",
       "text": [
        "\n",
        "929/1599"
       ]
      },
      {
       "output_type": "stream",
       "stream": "stdout",
       "text": [
        "\n",
        "930/1599"
       ]
      },
      {
       "output_type": "stream",
       "stream": "stdout",
       "text": [
        "\n",
        "931/1599"
       ]
      },
      {
       "output_type": "stream",
       "stream": "stdout",
       "text": [
        "\n",
        "932/1599"
       ]
      },
      {
       "output_type": "stream",
       "stream": "stdout",
       "text": [
        "\n",
        "933/1599"
       ]
      },
      {
       "output_type": "stream",
       "stream": "stdout",
       "text": [
        "\n",
        "934/1599"
       ]
      },
      {
       "output_type": "stream",
       "stream": "stdout",
       "text": [
        "\n",
        "935/1599"
       ]
      },
      {
       "output_type": "stream",
       "stream": "stdout",
       "text": [
        "\n",
        "936/1599"
       ]
      },
      {
       "output_type": "stream",
       "stream": "stdout",
       "text": [
        "\n",
        "937/1599"
       ]
      },
      {
       "output_type": "stream",
       "stream": "stdout",
       "text": [
        "\n",
        "938/1599"
       ]
      },
      {
       "output_type": "stream",
       "stream": "stdout",
       "text": [
        "\n",
        "939/1599"
       ]
      },
      {
       "output_type": "stream",
       "stream": "stdout",
       "text": [
        "\n",
        "940/1599"
       ]
      },
      {
       "output_type": "stream",
       "stream": "stdout",
       "text": [
        "\n",
        "941/1599"
       ]
      },
      {
       "output_type": "stream",
       "stream": "stdout",
       "text": [
        "\n",
        "942/1599"
       ]
      },
      {
       "output_type": "stream",
       "stream": "stdout",
       "text": [
        "\n",
        "943/1599"
       ]
      },
      {
       "output_type": "stream",
       "stream": "stdout",
       "text": [
        "\n",
        "944/1599"
       ]
      },
      {
       "output_type": "stream",
       "stream": "stdout",
       "text": [
        "\n",
        "945/1599"
       ]
      },
      {
       "output_type": "stream",
       "stream": "stdout",
       "text": [
        "\n",
        "946/1599"
       ]
      },
      {
       "output_type": "stream",
       "stream": "stdout",
       "text": [
        "\n",
        "947/1599"
       ]
      },
      {
       "output_type": "stream",
       "stream": "stdout",
       "text": [
        "\n",
        "948/1599"
       ]
      },
      {
       "output_type": "stream",
       "stream": "stdout",
       "text": [
        "\n",
        "949/1599"
       ]
      },
      {
       "output_type": "stream",
       "stream": "stdout",
       "text": [
        "\n",
        "950/1599"
       ]
      },
      {
       "output_type": "stream",
       "stream": "stdout",
       "text": [
        "\n",
        "951/1599"
       ]
      },
      {
       "output_type": "stream",
       "stream": "stdout",
       "text": [
        "\n",
        "952/1599"
       ]
      },
      {
       "output_type": "stream",
       "stream": "stdout",
       "text": [
        "\n",
        "953/1599"
       ]
      },
      {
       "output_type": "stream",
       "stream": "stdout",
       "text": [
        "\n",
        "954/1599"
       ]
      },
      {
       "output_type": "stream",
       "stream": "stdout",
       "text": [
        "\n",
        "955/1599"
       ]
      },
      {
       "output_type": "stream",
       "stream": "stdout",
       "text": [
        "\n",
        "956/1599"
       ]
      },
      {
       "output_type": "stream",
       "stream": "stdout",
       "text": [
        "\n",
        "957/1599"
       ]
      },
      {
       "output_type": "stream",
       "stream": "stdout",
       "text": [
        "\n",
        "958/1599"
       ]
      },
      {
       "output_type": "stream",
       "stream": "stdout",
       "text": [
        "\n",
        "959/1599"
       ]
      },
      {
       "output_type": "stream",
       "stream": "stdout",
       "text": [
        "\n",
        "960/1599"
       ]
      },
      {
       "output_type": "stream",
       "stream": "stdout",
       "text": [
        "\n",
        "961/1599"
       ]
      },
      {
       "output_type": "stream",
       "stream": "stdout",
       "text": [
        "\n",
        "962/1599"
       ]
      },
      {
       "output_type": "stream",
       "stream": "stdout",
       "text": [
        "\n",
        "963/1599"
       ]
      },
      {
       "output_type": "stream",
       "stream": "stdout",
       "text": [
        "\n",
        "964/1599"
       ]
      },
      {
       "output_type": "stream",
       "stream": "stdout",
       "text": [
        "\n",
        "965/1599\n",
        "966/1599"
       ]
      },
      {
       "output_type": "stream",
       "stream": "stdout",
       "text": [
        "\n",
        "967/1599\n",
        "968/1599"
       ]
      },
      {
       "output_type": "stream",
       "stream": "stdout",
       "text": [
        "\n",
        "969/1599"
       ]
      },
      {
       "output_type": "stream",
       "stream": "stdout",
       "text": [
        "\n",
        "970/1599"
       ]
      },
      {
       "output_type": "stream",
       "stream": "stdout",
       "text": [
        "\n",
        "971/1599"
       ]
      },
      {
       "output_type": "stream",
       "stream": "stdout",
       "text": [
        "\n",
        "972/1599"
       ]
      },
      {
       "output_type": "stream",
       "stream": "stdout",
       "text": [
        "\n",
        "973/1599"
       ]
      },
      {
       "output_type": "stream",
       "stream": "stdout",
       "text": [
        "\n",
        "974/1599"
       ]
      },
      {
       "output_type": "stream",
       "stream": "stdout",
       "text": [
        "\n",
        "975/1599\n",
        "976/1599"
       ]
      },
      {
       "output_type": "stream",
       "stream": "stdout",
       "text": [
        "\n",
        "977/1599"
       ]
      },
      {
       "output_type": "stream",
       "stream": "stdout",
       "text": [
        "\n",
        "978/1599"
       ]
      },
      {
       "output_type": "stream",
       "stream": "stdout",
       "text": [
        "\n",
        "979/1599"
       ]
      },
      {
       "output_type": "stream",
       "stream": "stdout",
       "text": [
        "\n",
        "980/1599\n",
        "981/1599"
       ]
      },
      {
       "output_type": "stream",
       "stream": "stdout",
       "text": [
        "\n",
        "982/1599"
       ]
      },
      {
       "output_type": "stream",
       "stream": "stdout",
       "text": [
        "\n",
        "983/1599"
       ]
      },
      {
       "output_type": "stream",
       "stream": "stdout",
       "text": [
        "\n",
        "984/1599"
       ]
      },
      {
       "output_type": "stream",
       "stream": "stdout",
       "text": [
        "\n",
        "985/1599\n",
        "986/1599"
       ]
      },
      {
       "output_type": "stream",
       "stream": "stdout",
       "text": [
        "\n",
        "987/1599"
       ]
      },
      {
       "output_type": "stream",
       "stream": "stdout",
       "text": [
        "\n",
        "988/1599"
       ]
      },
      {
       "output_type": "stream",
       "stream": "stdout",
       "text": [
        "\n",
        "989/1599"
       ]
      },
      {
       "output_type": "stream",
       "stream": "stdout",
       "text": [
        "\n",
        "990/1599"
       ]
      },
      {
       "output_type": "stream",
       "stream": "stdout",
       "text": [
        "\n",
        "991/1599\n",
        "992/1599"
       ]
      },
      {
       "output_type": "stream",
       "stream": "stdout",
       "text": [
        "\n",
        "993/1599"
       ]
      },
      {
       "output_type": "stream",
       "stream": "stdout",
       "text": [
        "\n",
        "994/1599"
       ]
      },
      {
       "output_type": "stream",
       "stream": "stdout",
       "text": [
        "\n",
        "995/1599"
       ]
      },
      {
       "output_type": "stream",
       "stream": "stdout",
       "text": [
        "\n",
        "996/1599"
       ]
      },
      {
       "output_type": "stream",
       "stream": "stdout",
       "text": [
        "\n",
        "997/1599"
       ]
      },
      {
       "output_type": "stream",
       "stream": "stdout",
       "text": [
        "\n",
        "998/1599"
       ]
      },
      {
       "output_type": "stream",
       "stream": "stdout",
       "text": [
        "\n",
        "999/1599"
       ]
      },
      {
       "output_type": "stream",
       "stream": "stdout",
       "text": [
        "\n",
        "1000/1599"
       ]
      },
      {
       "output_type": "stream",
       "stream": "stdout",
       "text": [
        "\n",
        "1001/1599"
       ]
      },
      {
       "output_type": "stream",
       "stream": "stdout",
       "text": [
        "\n",
        "1002/1599"
       ]
      },
      {
       "output_type": "stream",
       "stream": "stdout",
       "text": [
        "\n",
        "1003/1599"
       ]
      },
      {
       "output_type": "stream",
       "stream": "stdout",
       "text": [
        "\n",
        "1004/1599"
       ]
      },
      {
       "output_type": "stream",
       "stream": "stdout",
       "text": [
        "\n",
        "1005/1599"
       ]
      },
      {
       "output_type": "stream",
       "stream": "stdout",
       "text": [
        "\n",
        "1006/1599"
       ]
      },
      {
       "output_type": "stream",
       "stream": "stdout",
       "text": [
        "\n",
        "1007/1599"
       ]
      },
      {
       "output_type": "stream",
       "stream": "stdout",
       "text": [
        "\n",
        "1008/1599"
       ]
      },
      {
       "output_type": "stream",
       "stream": "stdout",
       "text": [
        "\n",
        "1009/1599"
       ]
      },
      {
       "output_type": "stream",
       "stream": "stdout",
       "text": [
        "\n",
        "1010/1599\n",
        "1011/1599"
       ]
      },
      {
       "output_type": "stream",
       "stream": "stdout",
       "text": [
        "\n",
        "1012/1599"
       ]
      },
      {
       "output_type": "stream",
       "stream": "stdout",
       "text": [
        "\n",
        "1013/1599"
       ]
      },
      {
       "output_type": "stream",
       "stream": "stdout",
       "text": [
        "\n",
        "1014/1599"
       ]
      },
      {
       "output_type": "stream",
       "stream": "stdout",
       "text": [
        "\n",
        "1015/1599"
       ]
      },
      {
       "output_type": "stream",
       "stream": "stdout",
       "text": [
        "\n",
        "1016/1599"
       ]
      },
      {
       "output_type": "stream",
       "stream": "stdout",
       "text": [
        "\n",
        "1017/1599"
       ]
      },
      {
       "output_type": "stream",
       "stream": "stdout",
       "text": [
        "\n",
        "1018/1599"
       ]
      },
      {
       "output_type": "stream",
       "stream": "stdout",
       "text": [
        "\n",
        "1019/1599"
       ]
      },
      {
       "output_type": "stream",
       "stream": "stdout",
       "text": [
        "\n",
        "1020/1599"
       ]
      },
      {
       "output_type": "stream",
       "stream": "stdout",
       "text": [
        "\n",
        "1021/1599"
       ]
      },
      {
       "output_type": "stream",
       "stream": "stdout",
       "text": [
        "\n",
        "1022/1599"
       ]
      },
      {
       "output_type": "stream",
       "stream": "stdout",
       "text": [
        "\n",
        "1023/1599\n",
        "1024/1599"
       ]
      },
      {
       "output_type": "stream",
       "stream": "stdout",
       "text": [
        "\n",
        "1025/1599"
       ]
      },
      {
       "output_type": "stream",
       "stream": "stdout",
       "text": [
        "\n",
        "1026/1599"
       ]
      },
      {
       "output_type": "stream",
       "stream": "stdout",
       "text": [
        "\n",
        "1027/1599"
       ]
      },
      {
       "output_type": "stream",
       "stream": "stdout",
       "text": [
        "\n",
        "1028/1599"
       ]
      },
      {
       "output_type": "stream",
       "stream": "stdout",
       "text": [
        "\n",
        "1029/1599"
       ]
      },
      {
       "output_type": "stream",
       "stream": "stdout",
       "text": [
        "\n",
        "1030/1599"
       ]
      },
      {
       "output_type": "stream",
       "stream": "stdout",
       "text": [
        "\n",
        "1031/1599"
       ]
      },
      {
       "output_type": "stream",
       "stream": "stdout",
       "text": [
        "\n",
        "1032/1599"
       ]
      },
      {
       "output_type": "stream",
       "stream": "stdout",
       "text": [
        "\n",
        "1033/1599"
       ]
      },
      {
       "output_type": "stream",
       "stream": "stdout",
       "text": [
        "\n",
        "1034/1599"
       ]
      },
      {
       "output_type": "stream",
       "stream": "stdout",
       "text": [
        "\n",
        "1035/1599"
       ]
      },
      {
       "output_type": "stream",
       "stream": "stdout",
       "text": [
        "\n",
        "1036/1599"
       ]
      },
      {
       "output_type": "stream",
       "stream": "stdout",
       "text": [
        "\n",
        "1037/1599"
       ]
      },
      {
       "output_type": "stream",
       "stream": "stdout",
       "text": [
        "\n",
        "1038/1599"
       ]
      },
      {
       "output_type": "stream",
       "stream": "stdout",
       "text": [
        "\n",
        "1039/1599"
       ]
      },
      {
       "output_type": "stream",
       "stream": "stdout",
       "text": [
        "\n",
        "1040/1599"
       ]
      },
      {
       "output_type": "stream",
       "stream": "stdout",
       "text": [
        "\n",
        "1041/1599"
       ]
      },
      {
       "output_type": "stream",
       "stream": "stdout",
       "text": [
        "\n",
        "1042/1599"
       ]
      },
      {
       "output_type": "stream",
       "stream": "stdout",
       "text": [
        "\n",
        "1043/1599"
       ]
      },
      {
       "output_type": "stream",
       "stream": "stdout",
       "text": [
        "\n",
        "1044/1599"
       ]
      },
      {
       "output_type": "stream",
       "stream": "stdout",
       "text": [
        "\n",
        "1045/1599"
       ]
      },
      {
       "output_type": "stream",
       "stream": "stdout",
       "text": [
        "\n",
        "1046/1599"
       ]
      },
      {
       "output_type": "stream",
       "stream": "stdout",
       "text": [
        "\n",
        "1047/1599"
       ]
      },
      {
       "output_type": "stream",
       "stream": "stdout",
       "text": [
        "\n",
        "1048/1599"
       ]
      },
      {
       "output_type": "stream",
       "stream": "stdout",
       "text": [
        "\n",
        "1049/1599"
       ]
      },
      {
       "output_type": "stream",
       "stream": "stdout",
       "text": [
        "\n",
        "1050/1599"
       ]
      },
      {
       "output_type": "stream",
       "stream": "stdout",
       "text": [
        "\n",
        "1051/1599"
       ]
      },
      {
       "output_type": "stream",
       "stream": "stdout",
       "text": [
        "\n",
        "1052/1599"
       ]
      },
      {
       "output_type": "stream",
       "stream": "stdout",
       "text": [
        "\n",
        "1053/1599"
       ]
      },
      {
       "output_type": "stream",
       "stream": "stdout",
       "text": [
        "\n",
        "1054/1599"
       ]
      },
      {
       "output_type": "stream",
       "stream": "stdout",
       "text": [
        "\n",
        "1055/1599"
       ]
      },
      {
       "output_type": "stream",
       "stream": "stdout",
       "text": [
        "\n",
        "1056/1599"
       ]
      },
      {
       "output_type": "stream",
       "stream": "stdout",
       "text": [
        "\n",
        "1057/1599"
       ]
      },
      {
       "output_type": "stream",
       "stream": "stdout",
       "text": [
        "\n",
        "1058/1599"
       ]
      },
      {
       "output_type": "stream",
       "stream": "stdout",
       "text": [
        "\n",
        "1059/1599"
       ]
      },
      {
       "output_type": "stream",
       "stream": "stdout",
       "text": [
        "\n",
        "1060/1599"
       ]
      },
      {
       "output_type": "stream",
       "stream": "stdout",
       "text": [
        "\n",
        "1061/1599"
       ]
      },
      {
       "output_type": "stream",
       "stream": "stdout",
       "text": [
        "\n",
        "1062/1599"
       ]
      },
      {
       "output_type": "stream",
       "stream": "stdout",
       "text": [
        "\n",
        "1063/1599"
       ]
      },
      {
       "output_type": "stream",
       "stream": "stdout",
       "text": [
        "\n",
        "1064/1599"
       ]
      },
      {
       "output_type": "stream",
       "stream": "stdout",
       "text": [
        "\n",
        "1065/1599"
       ]
      },
      {
       "output_type": "stream",
       "stream": "stdout",
       "text": [
        "\n",
        "1066/1599"
       ]
      },
      {
       "output_type": "stream",
       "stream": "stdout",
       "text": [
        "\n",
        "1067/1599"
       ]
      },
      {
       "output_type": "stream",
       "stream": "stdout",
       "text": [
        "\n",
        "1068/1599"
       ]
      },
      {
       "output_type": "stream",
       "stream": "stdout",
       "text": [
        "\n",
        "1069/1599"
       ]
      },
      {
       "output_type": "stream",
       "stream": "stdout",
       "text": [
        "\n",
        "1070/1599"
       ]
      },
      {
       "output_type": "stream",
       "stream": "stdout",
       "text": [
        "\n",
        "1071/1599"
       ]
      },
      {
       "output_type": "stream",
       "stream": "stdout",
       "text": [
        "\n",
        "1072/1599"
       ]
      },
      {
       "output_type": "stream",
       "stream": "stdout",
       "text": [
        "\n",
        "1073/1599"
       ]
      },
      {
       "output_type": "stream",
       "stream": "stdout",
       "text": [
        "\n",
        "1074/1599"
       ]
      },
      {
       "output_type": "stream",
       "stream": "stdout",
       "text": [
        "\n",
        "1075/1599"
       ]
      },
      {
       "output_type": "stream",
       "stream": "stdout",
       "text": [
        "\n",
        "1076/1599"
       ]
      },
      {
       "output_type": "stream",
       "stream": "stdout",
       "text": [
        "\n",
        "1077/1599"
       ]
      },
      {
       "output_type": "stream",
       "stream": "stdout",
       "text": [
        "\n",
        "1078/1599"
       ]
      },
      {
       "output_type": "stream",
       "stream": "stdout",
       "text": [
        "\n",
        "1079/1599"
       ]
      },
      {
       "output_type": "stream",
       "stream": "stdout",
       "text": [
        "\n",
        "1080/1599"
       ]
      },
      {
       "output_type": "stream",
       "stream": "stdout",
       "text": [
        "\n",
        "1081/1599"
       ]
      },
      {
       "output_type": "stream",
       "stream": "stdout",
       "text": [
        "\n",
        "1082/1599"
       ]
      },
      {
       "output_type": "stream",
       "stream": "stdout",
       "text": [
        "\n",
        "1083/1599"
       ]
      },
      {
       "output_type": "stream",
       "stream": "stdout",
       "text": [
        "\n",
        "1084/1599"
       ]
      },
      {
       "output_type": "stream",
       "stream": "stdout",
       "text": [
        "\n",
        "1085/1599"
       ]
      },
      {
       "output_type": "stream",
       "stream": "stdout",
       "text": [
        "\n",
        "1086/1599"
       ]
      },
      {
       "output_type": "stream",
       "stream": "stdout",
       "text": [
        "\n",
        "1087/1599"
       ]
      },
      {
       "output_type": "stream",
       "stream": "stdout",
       "text": [
        "\n",
        "1088/1599"
       ]
      },
      {
       "output_type": "stream",
       "stream": "stdout",
       "text": [
        "\n",
        "1089/1599"
       ]
      },
      {
       "output_type": "stream",
       "stream": "stdout",
       "text": [
        "\n",
        "1090/1599"
       ]
      },
      {
       "output_type": "stream",
       "stream": "stdout",
       "text": [
        "\n",
        "1091/1599"
       ]
      },
      {
       "output_type": "stream",
       "stream": "stdout",
       "text": [
        "\n",
        "1092/1599"
       ]
      },
      {
       "output_type": "stream",
       "stream": "stdout",
       "text": [
        "\n",
        "1093/1599"
       ]
      },
      {
       "output_type": "stream",
       "stream": "stdout",
       "text": [
        "\n",
        "1094/1599"
       ]
      },
      {
       "output_type": "stream",
       "stream": "stdout",
       "text": [
        "\n",
        "1095/1599"
       ]
      },
      {
       "output_type": "stream",
       "stream": "stdout",
       "text": [
        "\n",
        "1096/1599"
       ]
      },
      {
       "output_type": "stream",
       "stream": "stdout",
       "text": [
        "\n",
        "1097/1599"
       ]
      },
      {
       "output_type": "stream",
       "stream": "stdout",
       "text": [
        "\n",
        "1098/1599"
       ]
      },
      {
       "output_type": "stream",
       "stream": "stdout",
       "text": [
        "\n",
        "1099/1599"
       ]
      },
      {
       "output_type": "stream",
       "stream": "stdout",
       "text": [
        "\n",
        "1100/1599"
       ]
      },
      {
       "output_type": "stream",
       "stream": "stdout",
       "text": [
        "\n",
        "1101/1599\n",
        "1102/1599"
       ]
      },
      {
       "output_type": "stream",
       "stream": "stdout",
       "text": [
        "\n",
        "1103/1599"
       ]
      },
      {
       "output_type": "stream",
       "stream": "stdout",
       "text": [
        "\n",
        "1104/1599"
       ]
      },
      {
       "output_type": "stream",
       "stream": "stdout",
       "text": [
        "\n",
        "1105/1599"
       ]
      },
      {
       "output_type": "stream",
       "stream": "stdout",
       "text": [
        "\n",
        "1106/1599"
       ]
      },
      {
       "output_type": "stream",
       "stream": "stdout",
       "text": [
        "\n",
        "1107/1599"
       ]
      },
      {
       "output_type": "stream",
       "stream": "stdout",
       "text": [
        "\n",
        "1108/1599"
       ]
      },
      {
       "output_type": "stream",
       "stream": "stdout",
       "text": [
        "\n",
        "1109/1599\n",
        "1110/1599"
       ]
      },
      {
       "output_type": "stream",
       "stream": "stdout",
       "text": [
        "\n",
        "1111/1599"
       ]
      },
      {
       "output_type": "stream",
       "stream": "stdout",
       "text": [
        "\n",
        "1112/1599"
       ]
      },
      {
       "output_type": "stream",
       "stream": "stdout",
       "text": [
        "\n",
        "1113/1599"
       ]
      },
      {
       "output_type": "stream",
       "stream": "stdout",
       "text": [
        "\n",
        "1114/1599"
       ]
      },
      {
       "output_type": "stream",
       "stream": "stdout",
       "text": [
        "\n",
        "1115/1599"
       ]
      },
      {
       "output_type": "stream",
       "stream": "stdout",
       "text": [
        "\n",
        "1116/1599"
       ]
      },
      {
       "output_type": "stream",
       "stream": "stdout",
       "text": [
        "\n",
        "1117/1599"
       ]
      },
      {
       "output_type": "stream",
       "stream": "stdout",
       "text": [
        "\n",
        "1118/1599"
       ]
      },
      {
       "output_type": "stream",
       "stream": "stdout",
       "text": [
        "\n",
        "1119/1599"
       ]
      },
      {
       "output_type": "stream",
       "stream": "stdout",
       "text": [
        "\n",
        "1120/1599"
       ]
      },
      {
       "output_type": "stream",
       "stream": "stdout",
       "text": [
        "\n",
        "1121/1599"
       ]
      },
      {
       "output_type": "stream",
       "stream": "stdout",
       "text": [
        "\n",
        "1122/1599"
       ]
      },
      {
       "output_type": "stream",
       "stream": "stdout",
       "text": [
        "\n",
        "1123/1599"
       ]
      },
      {
       "output_type": "stream",
       "stream": "stdout",
       "text": [
        "\n",
        "1124/1599"
       ]
      },
      {
       "output_type": "stream",
       "stream": "stdout",
       "text": [
        "\n",
        "1125/1599"
       ]
      },
      {
       "output_type": "stream",
       "stream": "stdout",
       "text": [
        "\n",
        "1126/1599"
       ]
      },
      {
       "output_type": "stream",
       "stream": "stdout",
       "text": [
        "\n",
        "1127/1599"
       ]
      },
      {
       "output_type": "stream",
       "stream": "stdout",
       "text": [
        "\n",
        "1128/1599"
       ]
      },
      {
       "output_type": "stream",
       "stream": "stdout",
       "text": [
        "\n",
        "1129/1599"
       ]
      },
      {
       "output_type": "stream",
       "stream": "stdout",
       "text": [
        "\n",
        "1130/1599"
       ]
      },
      {
       "output_type": "stream",
       "stream": "stdout",
       "text": [
        "\n",
        "1131/1599"
       ]
      },
      {
       "output_type": "stream",
       "stream": "stdout",
       "text": [
        "\n",
        "1132/1599"
       ]
      },
      {
       "output_type": "stream",
       "stream": "stdout",
       "text": [
        "\n",
        "1133/1599"
       ]
      },
      {
       "output_type": "stream",
       "stream": "stdout",
       "text": [
        "\n",
        "1134/1599"
       ]
      },
      {
       "output_type": "stream",
       "stream": "stdout",
       "text": [
        "\n",
        "1135/1599"
       ]
      },
      {
       "output_type": "stream",
       "stream": "stdout",
       "text": [
        "\n",
        "1136/1599"
       ]
      },
      {
       "output_type": "stream",
       "stream": "stdout",
       "text": [
        "\n",
        "1137/1599"
       ]
      },
      {
       "output_type": "stream",
       "stream": "stdout",
       "text": [
        "\n",
        "1138/1599"
       ]
      },
      {
       "output_type": "stream",
       "stream": "stdout",
       "text": [
        "\n",
        "1139/1599"
       ]
      },
      {
       "output_type": "stream",
       "stream": "stdout",
       "text": [
        "\n",
        "1140/1599"
       ]
      },
      {
       "output_type": "stream",
       "stream": "stdout",
       "text": [
        "\n",
        "1141/1599"
       ]
      },
      {
       "output_type": "stream",
       "stream": "stdout",
       "text": [
        "\n",
        "1142/1599\n",
        "1143/1599"
       ]
      },
      {
       "output_type": "stream",
       "stream": "stdout",
       "text": [
        "\n",
        "1144/1599"
       ]
      },
      {
       "output_type": "stream",
       "stream": "stdout",
       "text": [
        "\n",
        "1145/1599"
       ]
      },
      {
       "output_type": "stream",
       "stream": "stdout",
       "text": [
        "\n",
        "1146/1599"
       ]
      },
      {
       "output_type": "stream",
       "stream": "stdout",
       "text": [
        "\n",
        "1147/1599"
       ]
      },
      {
       "output_type": "stream",
       "stream": "stdout",
       "text": [
        "\n",
        "1148/1599"
       ]
      },
      {
       "output_type": "stream",
       "stream": "stdout",
       "text": [
        "\n",
        "1149/1599"
       ]
      },
      {
       "output_type": "stream",
       "stream": "stdout",
       "text": [
        "\n",
        "1150/1599"
       ]
      },
      {
       "output_type": "stream",
       "stream": "stdout",
       "text": [
        "\n",
        "1151/1599"
       ]
      },
      {
       "output_type": "stream",
       "stream": "stdout",
       "text": [
        "\n",
        "1152/1599"
       ]
      },
      {
       "output_type": "stream",
       "stream": "stdout",
       "text": [
        "\n",
        "1153/1599"
       ]
      },
      {
       "output_type": "stream",
       "stream": "stdout",
       "text": [
        "\n",
        "1154/1599"
       ]
      },
      {
       "output_type": "stream",
       "stream": "stdout",
       "text": [
        "\n",
        "1155/1599"
       ]
      },
      {
       "output_type": "stream",
       "stream": "stdout",
       "text": [
        "\n",
        "1156/1599"
       ]
      },
      {
       "output_type": "stream",
       "stream": "stdout",
       "text": [
        "\n",
        "1157/1599"
       ]
      },
      {
       "output_type": "stream",
       "stream": "stdout",
       "text": [
        "\n",
        "1158/1599\n",
        "1159/1599"
       ]
      },
      {
       "output_type": "stream",
       "stream": "stdout",
       "text": [
        "\n",
        "1160/1599"
       ]
      },
      {
       "output_type": "stream",
       "stream": "stdout",
       "text": [
        "\n",
        "1161/1599"
       ]
      },
      {
       "output_type": "stream",
       "stream": "stdout",
       "text": [
        "\n",
        "1162/1599"
       ]
      },
      {
       "output_type": "stream",
       "stream": "stdout",
       "text": [
        "\n",
        "1163/1599"
       ]
      },
      {
       "output_type": "stream",
       "stream": "stdout",
       "text": [
        "\n",
        "1164/1599"
       ]
      },
      {
       "output_type": "stream",
       "stream": "stdout",
       "text": [
        "\n",
        "1165/1599"
       ]
      },
      {
       "output_type": "stream",
       "stream": "stdout",
       "text": [
        "\n",
        "1166/1599"
       ]
      },
      {
       "output_type": "stream",
       "stream": "stdout",
       "text": [
        "\n",
        "1167/1599"
       ]
      },
      {
       "output_type": "stream",
       "stream": "stdout",
       "text": [
        "\n",
        "1168/1599"
       ]
      },
      {
       "output_type": "stream",
       "stream": "stdout",
       "text": [
        "\n",
        "1169/1599"
       ]
      },
      {
       "output_type": "stream",
       "stream": "stdout",
       "text": [
        "\n",
        "1170/1599"
       ]
      },
      {
       "output_type": "stream",
       "stream": "stdout",
       "text": [
        "\n",
        "1171/1599"
       ]
      },
      {
       "output_type": "stream",
       "stream": "stdout",
       "text": [
        "\n",
        "1172/1599"
       ]
      },
      {
       "output_type": "stream",
       "stream": "stdout",
       "text": [
        "\n",
        "1173/1599"
       ]
      },
      {
       "output_type": "stream",
       "stream": "stdout",
       "text": [
        "\n",
        "1174/1599"
       ]
      },
      {
       "output_type": "stream",
       "stream": "stdout",
       "text": [
        "\n",
        "1175/1599"
       ]
      },
      {
       "output_type": "stream",
       "stream": "stdout",
       "text": [
        "\n",
        "1176/1599\n",
        "1177/1599"
       ]
      },
      {
       "output_type": "stream",
       "stream": "stdout",
       "text": [
        "\n",
        "1178/1599"
       ]
      },
      {
       "output_type": "stream",
       "stream": "stdout",
       "text": [
        "\n",
        "1179/1599\n",
        "1180/1599"
       ]
      },
      {
       "output_type": "stream",
       "stream": "stdout",
       "text": [
        "\n",
        "1181/1599"
       ]
      },
      {
       "output_type": "stream",
       "stream": "stdout",
       "text": [
        "\n",
        "1182/1599"
       ]
      },
      {
       "output_type": "stream",
       "stream": "stdout",
       "text": [
        "\n",
        "1183/1599"
       ]
      },
      {
       "output_type": "stream",
       "stream": "stdout",
       "text": [
        "\n",
        "1184/1599"
       ]
      },
      {
       "output_type": "stream",
       "stream": "stdout",
       "text": [
        "\n",
        "1185/1599"
       ]
      },
      {
       "output_type": "stream",
       "stream": "stdout",
       "text": [
        "\n",
        "1186/1599"
       ]
      },
      {
       "output_type": "stream",
       "stream": "stdout",
       "text": [
        "\n",
        "1187/1599"
       ]
      },
      {
       "output_type": "stream",
       "stream": "stdout",
       "text": [
        "\n",
        "1188/1599"
       ]
      },
      {
       "output_type": "stream",
       "stream": "stdout",
       "text": [
        "\n",
        "1189/1599"
       ]
      },
      {
       "output_type": "stream",
       "stream": "stdout",
       "text": [
        "\n",
        "1190/1599"
       ]
      },
      {
       "output_type": "stream",
       "stream": "stdout",
       "text": [
        "\n",
        "1191/1599"
       ]
      },
      {
       "output_type": "stream",
       "stream": "stdout",
       "text": [
        "\n",
        "1192/1599"
       ]
      },
      {
       "output_type": "stream",
       "stream": "stdout",
       "text": [
        "\n",
        "1193/1599"
       ]
      },
      {
       "output_type": "stream",
       "stream": "stdout",
       "text": [
        "\n",
        "1194/1599"
       ]
      },
      {
       "output_type": "stream",
       "stream": "stdout",
       "text": [
        "\n",
        "1195/1599"
       ]
      },
      {
       "output_type": "stream",
       "stream": "stdout",
       "text": [
        "\n",
        "1196/1599"
       ]
      },
      {
       "output_type": "stream",
       "stream": "stdout",
       "text": [
        "\n",
        "1197/1599\n",
        "1198/1599"
       ]
      },
      {
       "output_type": "stream",
       "stream": "stdout",
       "text": [
        "\n",
        "1199/1599"
       ]
      },
      {
       "output_type": "stream",
       "stream": "stdout",
       "text": [
        "\n",
        "1200/1599"
       ]
      },
      {
       "output_type": "stream",
       "stream": "stdout",
       "text": [
        "\n",
        "1201/1599"
       ]
      },
      {
       "output_type": "stream",
       "stream": "stdout",
       "text": [
        "\n",
        "1202/1599"
       ]
      },
      {
       "output_type": "stream",
       "stream": "stdout",
       "text": [
        "\n",
        "1203/1599"
       ]
      },
      {
       "output_type": "stream",
       "stream": "stdout",
       "text": [
        "\n",
        "1204/1599"
       ]
      },
      {
       "output_type": "stream",
       "stream": "stdout",
       "text": [
        "\n",
        "1205/1599\n",
        "1206/1599"
       ]
      },
      {
       "output_type": "stream",
       "stream": "stdout",
       "text": [
        "\n",
        "1207/1599"
       ]
      },
      {
       "output_type": "stream",
       "stream": "stdout",
       "text": [
        "\n",
        "1208/1599"
       ]
      },
      {
       "output_type": "stream",
       "stream": "stdout",
       "text": [
        "\n",
        "1209/1599"
       ]
      },
      {
       "output_type": "stream",
       "stream": "stdout",
       "text": [
        "\n",
        "1210/1599"
       ]
      },
      {
       "output_type": "stream",
       "stream": "stdout",
       "text": [
        "\n",
        "1211/1599"
       ]
      },
      {
       "output_type": "stream",
       "stream": "stdout",
       "text": [
        "\n",
        "1212/1599"
       ]
      },
      {
       "output_type": "stream",
       "stream": "stdout",
       "text": [
        "\n",
        "1213/1599"
       ]
      },
      {
       "output_type": "stream",
       "stream": "stdout",
       "text": [
        "\n",
        "1214/1599"
       ]
      },
      {
       "output_type": "stream",
       "stream": "stdout",
       "text": [
        "\n",
        "1215/1599"
       ]
      },
      {
       "output_type": "stream",
       "stream": "stdout",
       "text": [
        "\n",
        "1216/1599\n",
        "1217/1599"
       ]
      },
      {
       "output_type": "stream",
       "stream": "stdout",
       "text": [
        "\n",
        "1218/1599\n",
        "1219/1599"
       ]
      },
      {
       "output_type": "stream",
       "stream": "stdout",
       "text": [
        "\n",
        "1220/1599"
       ]
      },
      {
       "output_type": "stream",
       "stream": "stdout",
       "text": [
        "\n",
        "1221/1599\n"
       ]
      },
      {
       "output_type": "stream",
       "stream": "stdout",
       "text": [
        "1222/1599\n",
        "1223/1599"
       ]
      },
      {
       "output_type": "stream",
       "stream": "stdout",
       "text": [
        "\n",
        "1224/1599"
       ]
      },
      {
       "output_type": "stream",
       "stream": "stdout",
       "text": [
        "\n",
        "1225/1599\n",
        "1226/1599"
       ]
      },
      {
       "output_type": "stream",
       "stream": "stdout",
       "text": [
        "\n",
        "1227/1599"
       ]
      },
      {
       "output_type": "stream",
       "stream": "stdout",
       "text": [
        "\n",
        "1228/1599"
       ]
      },
      {
       "output_type": "stream",
       "stream": "stdout",
       "text": [
        "\n",
        "1229/1599"
       ]
      },
      {
       "output_type": "stream",
       "stream": "stdout",
       "text": [
        "\n",
        "1230/1599"
       ]
      },
      {
       "output_type": "stream",
       "stream": "stdout",
       "text": [
        "\n",
        "1231/1599"
       ]
      },
      {
       "output_type": "stream",
       "stream": "stdout",
       "text": [
        "\n",
        "1232/1599"
       ]
      },
      {
       "output_type": "stream",
       "stream": "stdout",
       "text": [
        "\n",
        "1233/1599"
       ]
      },
      {
       "output_type": "stream",
       "stream": "stdout",
       "text": [
        "\n",
        "1234/1599"
       ]
      },
      {
       "output_type": "stream",
       "stream": "stdout",
       "text": [
        "\n",
        "1235/1599"
       ]
      },
      {
       "output_type": "stream",
       "stream": "stdout",
       "text": [
        "\n",
        "1236/1599"
       ]
      },
      {
       "output_type": "stream",
       "stream": "stdout",
       "text": [
        "\n",
        "1237/1599"
       ]
      },
      {
       "output_type": "stream",
       "stream": "stdout",
       "text": [
        "\n",
        "1238/1599"
       ]
      },
      {
       "output_type": "stream",
       "stream": "stdout",
       "text": [
        "\n",
        "1239/1599"
       ]
      },
      {
       "output_type": "stream",
       "stream": "stdout",
       "text": [
        "\n",
        "1240/1599"
       ]
      },
      {
       "output_type": "stream",
       "stream": "stdout",
       "text": [
        "\n",
        "1241/1599"
       ]
      },
      {
       "output_type": "stream",
       "stream": "stdout",
       "text": [
        "\n",
        "1242/1599"
       ]
      },
      {
       "output_type": "stream",
       "stream": "stdout",
       "text": [
        "\n",
        "1243/1599"
       ]
      },
      {
       "output_type": "stream",
       "stream": "stdout",
       "text": [
        "\n",
        "1244/1599"
       ]
      },
      {
       "output_type": "stream",
       "stream": "stdout",
       "text": [
        "\n",
        "1245/1599"
       ]
      },
      {
       "output_type": "stream",
       "stream": "stdout",
       "text": [
        "\n",
        "1246/1599"
       ]
      },
      {
       "output_type": "stream",
       "stream": "stdout",
       "text": [
        "\n",
        "1247/1599"
       ]
      },
      {
       "output_type": "stream",
       "stream": "stdout",
       "text": [
        "\n",
        "1248/1599"
       ]
      },
      {
       "output_type": "stream",
       "stream": "stdout",
       "text": [
        "\n",
        "1249/1599"
       ]
      },
      {
       "output_type": "stream",
       "stream": "stdout",
       "text": [
        "\n",
        "1250/1599"
       ]
      },
      {
       "output_type": "stream",
       "stream": "stdout",
       "text": [
        "\n",
        "1251/1599"
       ]
      },
      {
       "output_type": "stream",
       "stream": "stdout",
       "text": [
        "\n",
        "1252/1599"
       ]
      },
      {
       "output_type": "stream",
       "stream": "stdout",
       "text": [
        "\n",
        "1253/1599"
       ]
      },
      {
       "output_type": "stream",
       "stream": "stdout",
       "text": [
        "\n",
        "1254/1599"
       ]
      },
      {
       "output_type": "stream",
       "stream": "stdout",
       "text": [
        "\n",
        "1255/1599"
       ]
      },
      {
       "output_type": "stream",
       "stream": "stdout",
       "text": [
        "\n",
        "1256/1599"
       ]
      },
      {
       "output_type": "stream",
       "stream": "stdout",
       "text": [
        "\n",
        "1257/1599"
       ]
      },
      {
       "output_type": "stream",
       "stream": "stdout",
       "text": [
        "\n",
        "1258/1599"
       ]
      },
      {
       "output_type": "stream",
       "stream": "stdout",
       "text": [
        "\n",
        "1259/1599"
       ]
      },
      {
       "output_type": "stream",
       "stream": "stdout",
       "text": [
        "\n",
        "1260/1599"
       ]
      },
      {
       "output_type": "stream",
       "stream": "stdout",
       "text": [
        "\n",
        "1261/1599"
       ]
      },
      {
       "output_type": "stream",
       "stream": "stdout",
       "text": [
        "\n",
        "1262/1599"
       ]
      },
      {
       "output_type": "stream",
       "stream": "stdout",
       "text": [
        "\n",
        "1263/1599"
       ]
      },
      {
       "output_type": "stream",
       "stream": "stdout",
       "text": [
        "\n",
        "1264/1599"
       ]
      },
      {
       "output_type": "stream",
       "stream": "stdout",
       "text": [
        "\n",
        "1265/1599"
       ]
      },
      {
       "output_type": "stream",
       "stream": "stdout",
       "text": [
        "\n",
        "1266/1599"
       ]
      },
      {
       "output_type": "stream",
       "stream": "stdout",
       "text": [
        "\n",
        "1267/1599"
       ]
      },
      {
       "output_type": "stream",
       "stream": "stdout",
       "text": [
        "\n",
        "1268/1599"
       ]
      },
      {
       "output_type": "stream",
       "stream": "stdout",
       "text": [
        "\n",
        "1269/1599"
       ]
      },
      {
       "output_type": "stream",
       "stream": "stdout",
       "text": [
        "\n",
        "1270/1599"
       ]
      },
      {
       "output_type": "stream",
       "stream": "stdout",
       "text": [
        "\n",
        "1271/1599"
       ]
      },
      {
       "output_type": "stream",
       "stream": "stdout",
       "text": [
        "\n",
        "1272/1599"
       ]
      },
      {
       "output_type": "stream",
       "stream": "stdout",
       "text": [
        "\n",
        "1273/1599"
       ]
      },
      {
       "output_type": "stream",
       "stream": "stdout",
       "text": [
        "\n",
        "1274/1599"
       ]
      },
      {
       "output_type": "stream",
       "stream": "stdout",
       "text": [
        "\n",
        "1275/1599"
       ]
      },
      {
       "output_type": "stream",
       "stream": "stdout",
       "text": [
        "\n",
        "1276/1599"
       ]
      },
      {
       "output_type": "stream",
       "stream": "stdout",
       "text": [
        "\n",
        "1277/1599"
       ]
      },
      {
       "output_type": "stream",
       "stream": "stdout",
       "text": [
        "\n",
        "1278/1599"
       ]
      },
      {
       "output_type": "stream",
       "stream": "stdout",
       "text": [
        "\n",
        "1279/1599"
       ]
      },
      {
       "output_type": "stream",
       "stream": "stdout",
       "text": [
        "\n",
        "1280/1599"
       ]
      },
      {
       "output_type": "stream",
       "stream": "stdout",
       "text": [
        "\n",
        "1281/1599"
       ]
      },
      {
       "output_type": "stream",
       "stream": "stdout",
       "text": [
        "\n",
        "1282/1599"
       ]
      },
      {
       "output_type": "stream",
       "stream": "stdout",
       "text": [
        "\n",
        "1283/1599"
       ]
      },
      {
       "output_type": "stream",
       "stream": "stdout",
       "text": [
        "\n",
        "1284/1599"
       ]
      },
      {
       "output_type": "stream",
       "stream": "stdout",
       "text": [
        "\n",
        "1285/1599"
       ]
      },
      {
       "output_type": "stream",
       "stream": "stdout",
       "text": [
        "\n",
        "1286/1599\n",
        "1287/1599"
       ]
      },
      {
       "output_type": "stream",
       "stream": "stdout",
       "text": [
        "\n",
        "1288/1599"
       ]
      },
      {
       "output_type": "stream",
       "stream": "stdout",
       "text": [
        "\n",
        "1289/1599"
       ]
      },
      {
       "output_type": "stream",
       "stream": "stdout",
       "text": [
        "\n",
        "1290/1599"
       ]
      },
      {
       "output_type": "stream",
       "stream": "stdout",
       "text": [
        "\n",
        "1291/1599"
       ]
      },
      {
       "output_type": "stream",
       "stream": "stdout",
       "text": [
        "\n",
        "1292/1599"
       ]
      },
      {
       "output_type": "stream",
       "stream": "stdout",
       "text": [
        "\n",
        "1293/1599"
       ]
      },
      {
       "output_type": "stream",
       "stream": "stdout",
       "text": [
        "\n",
        "1294/1599"
       ]
      },
      {
       "output_type": "stream",
       "stream": "stdout",
       "text": [
        "\n",
        "1295/1599"
       ]
      },
      {
       "output_type": "stream",
       "stream": "stdout",
       "text": [
        "\n",
        "1296/1599"
       ]
      },
      {
       "output_type": "stream",
       "stream": "stdout",
       "text": [
        "\n",
        "1297/1599"
       ]
      },
      {
       "output_type": "stream",
       "stream": "stdout",
       "text": [
        "\n",
        "1298/1599"
       ]
      },
      {
       "output_type": "stream",
       "stream": "stdout",
       "text": [
        "\n",
        "1299/1599\n",
        "1300/1599"
       ]
      },
      {
       "output_type": "stream",
       "stream": "stdout",
       "text": [
        "\n",
        "1301/1599"
       ]
      },
      {
       "output_type": "stream",
       "stream": "stdout",
       "text": [
        "\n",
        "1302/1599\n",
        "1303/1599"
       ]
      },
      {
       "output_type": "stream",
       "stream": "stdout",
       "text": [
        "\n",
        "1304/1599"
       ]
      },
      {
       "output_type": "stream",
       "stream": "stdout",
       "text": [
        "\n",
        "1305/1599\n",
        "1306/1599"
       ]
      },
      {
       "output_type": "stream",
       "stream": "stdout",
       "text": [
        "\n",
        "1307/1599"
       ]
      },
      {
       "output_type": "stream",
       "stream": "stdout",
       "text": [
        "\n",
        "1308/1599"
       ]
      },
      {
       "output_type": "stream",
       "stream": "stdout",
       "text": [
        "\n",
        "1309/1599"
       ]
      },
      {
       "output_type": "stream",
       "stream": "stdout",
       "text": [
        "\n",
        "1310/1599"
       ]
      },
      {
       "output_type": "stream",
       "stream": "stdout",
       "text": [
        "\n",
        "1311/1599"
       ]
      },
      {
       "output_type": "stream",
       "stream": "stdout",
       "text": [
        "\n",
        "1312/1599"
       ]
      },
      {
       "output_type": "stream",
       "stream": "stdout",
       "text": [
        "\n",
        "1313/1599"
       ]
      },
      {
       "output_type": "stream",
       "stream": "stdout",
       "text": [
        "\n",
        "1314/1599"
       ]
      },
      {
       "output_type": "stream",
       "stream": "stdout",
       "text": [
        "\n",
        "1315/1599\n",
        "1316/1599"
       ]
      },
      {
       "output_type": "stream",
       "stream": "stdout",
       "text": [
        "\n",
        "1317/1599"
       ]
      },
      {
       "output_type": "stream",
       "stream": "stdout",
       "text": [
        "\n",
        "1318/1599"
       ]
      },
      {
       "output_type": "stream",
       "stream": "stdout",
       "text": [
        "\n",
        "1319/1599"
       ]
      },
      {
       "output_type": "stream",
       "stream": "stdout",
       "text": [
        "\n",
        "1320/1599"
       ]
      },
      {
       "output_type": "stream",
       "stream": "stdout",
       "text": [
        "\n",
        "1321/1599"
       ]
      },
      {
       "output_type": "stream",
       "stream": "stdout",
       "text": [
        "\n",
        "1322/1599"
       ]
      },
      {
       "output_type": "stream",
       "stream": "stdout",
       "text": [
        "\n",
        "1323/1599"
       ]
      },
      {
       "output_type": "stream",
       "stream": "stdout",
       "text": [
        "\n",
        "1324/1599\n",
        "1325/1599"
       ]
      },
      {
       "output_type": "stream",
       "stream": "stdout",
       "text": [
        "\n",
        "1326/1599"
       ]
      },
      {
       "output_type": "stream",
       "stream": "stdout",
       "text": [
        "\n",
        "1327/1599"
       ]
      },
      {
       "output_type": "stream",
       "stream": "stdout",
       "text": [
        "\n",
        "1328/1599"
       ]
      },
      {
       "output_type": "stream",
       "stream": "stdout",
       "text": [
        "\n",
        "1329/1599\n",
        "1330/1599"
       ]
      },
      {
       "output_type": "stream",
       "stream": "stdout",
       "text": [
        "\n",
        "1331/1599\n",
        "1332/1599"
       ]
      },
      {
       "output_type": "stream",
       "stream": "stdout",
       "text": [
        "\n",
        "1333/1599\n",
        "1334/1599"
       ]
      },
      {
       "output_type": "stream",
       "stream": "stdout",
       "text": [
        "\n",
        "1335/1599"
       ]
      },
      {
       "output_type": "stream",
       "stream": "stdout",
       "text": [
        "\n",
        "1336/1599"
       ]
      },
      {
       "output_type": "stream",
       "stream": "stdout",
       "text": [
        "\n",
        "1337/1599"
       ]
      },
      {
       "output_type": "stream",
       "stream": "stdout",
       "text": [
        "\n",
        "1338/1599"
       ]
      },
      {
       "output_type": "stream",
       "stream": "stdout",
       "text": [
        "\n",
        "1339/1599"
       ]
      },
      {
       "output_type": "stream",
       "stream": "stdout",
       "text": [
        "\n",
        "1340/1599\n",
        "1341/1599"
       ]
      },
      {
       "output_type": "stream",
       "stream": "stdout",
       "text": [
        "\n",
        "1342/1599"
       ]
      },
      {
       "output_type": "stream",
       "stream": "stdout",
       "text": [
        "\n",
        "1343/1599"
       ]
      },
      {
       "output_type": "stream",
       "stream": "stdout",
       "text": [
        "\n",
        "1344/1599"
       ]
      },
      {
       "output_type": "stream",
       "stream": "stdout",
       "text": [
        "\n",
        "1345/1599"
       ]
      },
      {
       "output_type": "stream",
       "stream": "stdout",
       "text": [
        "\n",
        "1346/1599"
       ]
      },
      {
       "output_type": "stream",
       "stream": "stdout",
       "text": [
        "\n",
        "1347/1599\n",
        "1348/1599"
       ]
      },
      {
       "output_type": "stream",
       "stream": "stdout",
       "text": [
        "\n",
        "1349/1599"
       ]
      },
      {
       "output_type": "stream",
       "stream": "stdout",
       "text": [
        "\n",
        "1350/1599"
       ]
      },
      {
       "output_type": "stream",
       "stream": "stdout",
       "text": [
        "\n",
        "1351/1599\n",
        "1352/1599"
       ]
      },
      {
       "output_type": "stream",
       "stream": "stdout",
       "text": [
        "\n",
        "1353/1599"
       ]
      },
      {
       "output_type": "stream",
       "stream": "stdout",
       "text": [
        "\n",
        "1354/1599"
       ]
      },
      {
       "output_type": "stream",
       "stream": "stdout",
       "text": [
        "\n",
        "1355/1599"
       ]
      },
      {
       "output_type": "stream",
       "stream": "stdout",
       "text": [
        "\n",
        "1356/1599\n",
        "1357/1599"
       ]
      },
      {
       "output_type": "stream",
       "stream": "stdout",
       "text": [
        "\n",
        "1358/1599\n",
        "1359/1599"
       ]
      },
      {
       "output_type": "stream",
       "stream": "stdout",
       "text": [
        "\n",
        "1360/1599"
       ]
      },
      {
       "output_type": "stream",
       "stream": "stdout",
       "text": [
        "\n",
        "1361/1599"
       ]
      },
      {
       "output_type": "stream",
       "stream": "stdout",
       "text": [
        "\n",
        "1362/1599"
       ]
      },
      {
       "output_type": "stream",
       "stream": "stdout",
       "text": [
        "\n",
        "1363/1599\n",
        "1364/1599"
       ]
      },
      {
       "output_type": "stream",
       "stream": "stdout",
       "text": [
        "\n",
        "1365/1599"
       ]
      },
      {
       "output_type": "stream",
       "stream": "stdout",
       "text": [
        "\n",
        "1366/1599"
       ]
      },
      {
       "output_type": "stream",
       "stream": "stdout",
       "text": [
        "\n",
        "1367/1599"
       ]
      },
      {
       "output_type": "stream",
       "stream": "stdout",
       "text": [
        "\n",
        "1368/1599\n",
        "1369/1599"
       ]
      },
      {
       "output_type": "stream",
       "stream": "stdout",
       "text": [
        "\n",
        "1370/1599"
       ]
      },
      {
       "output_type": "stream",
       "stream": "stdout",
       "text": [
        "\n",
        "1371/1599"
       ]
      },
      {
       "output_type": "stream",
       "stream": "stdout",
       "text": [
        "\n",
        "1372/1599\n",
        "1373/1599"
       ]
      },
      {
       "output_type": "stream",
       "stream": "stdout",
       "text": [
        "\n",
        "1374/1599"
       ]
      },
      {
       "output_type": "stream",
       "stream": "stdout",
       "text": [
        "\n",
        "1375/1599\n",
        "1376/1599"
       ]
      },
      {
       "output_type": "stream",
       "stream": "stdout",
       "text": [
        "\n",
        "1377/1599\n",
        "1378/1599"
       ]
      },
      {
       "output_type": "stream",
       "stream": "stdout",
       "text": [
        "\n",
        "1379/1599"
       ]
      },
      {
       "output_type": "stream",
       "stream": "stdout",
       "text": [
        "\n",
        "1380/1599"
       ]
      },
      {
       "output_type": "stream",
       "stream": "stdout",
       "text": [
        "\n",
        "1381/1599"
       ]
      },
      {
       "output_type": "stream",
       "stream": "stdout",
       "text": [
        "\n",
        "1382/1599"
       ]
      },
      {
       "output_type": "stream",
       "stream": "stdout",
       "text": [
        "\n",
        "1383/1599\n",
        "1384/1599"
       ]
      },
      {
       "output_type": "stream",
       "stream": "stdout",
       "text": [
        "\n",
        "1385/1599"
       ]
      },
      {
       "output_type": "stream",
       "stream": "stdout",
       "text": [
        "\n",
        "1386/1599"
       ]
      },
      {
       "output_type": "stream",
       "stream": "stdout",
       "text": [
        "\n",
        "1387/1599"
       ]
      },
      {
       "output_type": "stream",
       "stream": "stdout",
       "text": [
        "\n",
        "1388/1599"
       ]
      },
      {
       "output_type": "stream",
       "stream": "stdout",
       "text": [
        "\n",
        "1389/1599"
       ]
      },
      {
       "output_type": "stream",
       "stream": "stdout",
       "text": [
        "\n",
        "1390/1599"
       ]
      },
      {
       "output_type": "stream",
       "stream": "stdout",
       "text": [
        "\n",
        "1391/1599"
       ]
      },
      {
       "output_type": "stream",
       "stream": "stdout",
       "text": [
        "\n",
        "1392/1599"
       ]
      },
      {
       "output_type": "stream",
       "stream": "stdout",
       "text": [
        "\n",
        "1393/1599"
       ]
      },
      {
       "output_type": "stream",
       "stream": "stdout",
       "text": [
        "\n",
        "1394/1599"
       ]
      },
      {
       "output_type": "stream",
       "stream": "stdout",
       "text": [
        "\n",
        "1395/1599"
       ]
      },
      {
       "output_type": "stream",
       "stream": "stdout",
       "text": [
        "\n",
        "1396/1599"
       ]
      },
      {
       "output_type": "stream",
       "stream": "stdout",
       "text": [
        "\n",
        "1397/1599"
       ]
      },
      {
       "output_type": "stream",
       "stream": "stdout",
       "text": [
        "\n",
        "1398/1599"
       ]
      },
      {
       "output_type": "stream",
       "stream": "stdout",
       "text": [
        "\n",
        "1399/1599"
       ]
      },
      {
       "output_type": "stream",
       "stream": "stdout",
       "text": [
        "\n",
        "1400/1599\n",
        "1401/1599"
       ]
      },
      {
       "output_type": "stream",
       "stream": "stdout",
       "text": [
        "\n",
        "1402/1599"
       ]
      },
      {
       "output_type": "stream",
       "stream": "stdout",
       "text": [
        "\n",
        "1403/1599\n",
        "1404/1599"
       ]
      },
      {
       "output_type": "stream",
       "stream": "stdout",
       "text": [
        "\n",
        "1405/1599"
       ]
      },
      {
       "output_type": "stream",
       "stream": "stdout",
       "text": [
        "\n",
        "1406/1599"
       ]
      },
      {
       "output_type": "stream",
       "stream": "stdout",
       "text": [
        "\n",
        "1407/1599"
       ]
      },
      {
       "output_type": "stream",
       "stream": "stdout",
       "text": [
        "\n",
        "1408/1599"
       ]
      },
      {
       "output_type": "stream",
       "stream": "stdout",
       "text": [
        "\n",
        "1409/1599\n",
        "1410/1599"
       ]
      },
      {
       "output_type": "stream",
       "stream": "stdout",
       "text": [
        "\n",
        "1411/1599"
       ]
      },
      {
       "output_type": "stream",
       "stream": "stdout",
       "text": [
        "\n",
        "1412/1599\n",
        "1413/1599"
       ]
      },
      {
       "output_type": "stream",
       "stream": "stdout",
       "text": [
        "\n",
        "1414/1599\n",
        "1415/1599"
       ]
      },
      {
       "output_type": "stream",
       "stream": "stdout",
       "text": [
        "\n",
        "1416/1599"
       ]
      },
      {
       "output_type": "stream",
       "stream": "stdout",
       "text": [
        "\n",
        "1417/1599\n",
        "1418/1599"
       ]
      },
      {
       "output_type": "stream",
       "stream": "stdout",
       "text": [
        "\n",
        "1419/1599"
       ]
      },
      {
       "output_type": "stream",
       "stream": "stdout",
       "text": [
        "\n",
        "1420/1599"
       ]
      },
      {
       "output_type": "stream",
       "stream": "stdout",
       "text": [
        "\n",
        "1421/1599"
       ]
      },
      {
       "output_type": "stream",
       "stream": "stdout",
       "text": [
        "\n",
        "1422/1599"
       ]
      },
      {
       "output_type": "stream",
       "stream": "stdout",
       "text": [
        "\n",
        "1423/1599"
       ]
      },
      {
       "output_type": "stream",
       "stream": "stdout",
       "text": [
        "\n",
        "1424/1599"
       ]
      },
      {
       "output_type": "stream",
       "stream": "stdout",
       "text": [
        "\n",
        "1425/1599"
       ]
      },
      {
       "output_type": "stream",
       "stream": "stdout",
       "text": [
        "\n",
        "1426/1599"
       ]
      },
      {
       "output_type": "stream",
       "stream": "stdout",
       "text": [
        "\n",
        "1427/1599"
       ]
      },
      {
       "output_type": "stream",
       "stream": "stdout",
       "text": [
        "\n",
        "1428/1599"
       ]
      },
      {
       "output_type": "stream",
       "stream": "stdout",
       "text": [
        "\n",
        "1429/1599"
       ]
      },
      {
       "output_type": "stream",
       "stream": "stdout",
       "text": [
        "\n",
        "1430/1599"
       ]
      },
      {
       "output_type": "stream",
       "stream": "stdout",
       "text": [
        "\n",
        "1431/1599"
       ]
      },
      {
       "output_type": "stream",
       "stream": "stdout",
       "text": [
        "\n",
        "1432/1599"
       ]
      },
      {
       "output_type": "stream",
       "stream": "stdout",
       "text": [
        "\n",
        "1433/1599"
       ]
      },
      {
       "output_type": "stream",
       "stream": "stdout",
       "text": [
        "\n",
        "1434/1599"
       ]
      },
      {
       "output_type": "stream",
       "stream": "stdout",
       "text": [
        "\n",
        "1435/1599\n",
        "1436/1599"
       ]
      },
      {
       "output_type": "stream",
       "stream": "stdout",
       "text": [
        "\n",
        "1437/1599"
       ]
      },
      {
       "output_type": "stream",
       "stream": "stdout",
       "text": [
        "\n",
        "1438/1599"
       ]
      },
      {
       "output_type": "stream",
       "stream": "stdout",
       "text": [
        "\n",
        "1439/1599"
       ]
      },
      {
       "output_type": "stream",
       "stream": "stdout",
       "text": [
        "\n",
        "1440/1599"
       ]
      },
      {
       "output_type": "stream",
       "stream": "stdout",
       "text": [
        "\n",
        "1441/1599"
       ]
      },
      {
       "output_type": "stream",
       "stream": "stdout",
       "text": [
        "\n",
        "1442/1599"
       ]
      },
      {
       "output_type": "stream",
       "stream": "stdout",
       "text": [
        "\n",
        "1443/1599"
       ]
      },
      {
       "output_type": "stream",
       "stream": "stdout",
       "text": [
        "\n",
        "1444/1599"
       ]
      },
      {
       "output_type": "stream",
       "stream": "stdout",
       "text": [
        "\n",
        "1445/1599"
       ]
      },
      {
       "output_type": "stream",
       "stream": "stdout",
       "text": [
        "\n",
        "1446/1599"
       ]
      },
      {
       "output_type": "stream",
       "stream": "stdout",
       "text": [
        "\n",
        "1447/1599"
       ]
      },
      {
       "output_type": "stream",
       "stream": "stdout",
       "text": [
        "\n",
        "1448/1599"
       ]
      },
      {
       "output_type": "stream",
       "stream": "stdout",
       "text": [
        "\n",
        "1449/1599"
       ]
      },
      {
       "output_type": "stream",
       "stream": "stdout",
       "text": [
        "\n",
        "1450/1599"
       ]
      },
      {
       "output_type": "stream",
       "stream": "stdout",
       "text": [
        "\n",
        "1451/1599\n",
        "1452/1599"
       ]
      },
      {
       "output_type": "stream",
       "stream": "stdout",
       "text": [
        "\n",
        "1453/1599"
       ]
      },
      {
       "output_type": "stream",
       "stream": "stdout",
       "text": [
        "\n",
        "1454/1599\n",
        "1455/1599"
       ]
      },
      {
       "output_type": "stream",
       "stream": "stdout",
       "text": [
        "\n",
        "1456/1599"
       ]
      },
      {
       "output_type": "stream",
       "stream": "stdout",
       "text": [
        "\n",
        "1457/1599"
       ]
      },
      {
       "output_type": "stream",
       "stream": "stdout",
       "text": [
        "\n",
        "1458/1599"
       ]
      },
      {
       "output_type": "stream",
       "stream": "stdout",
       "text": [
        "\n",
        "1459/1599"
       ]
      },
      {
       "output_type": "stream",
       "stream": "stdout",
       "text": [
        "\n",
        "1460/1599"
       ]
      },
      {
       "output_type": "stream",
       "stream": "stdout",
       "text": [
        "\n",
        "1461/1599"
       ]
      },
      {
       "output_type": "stream",
       "stream": "stdout",
       "text": [
        "\n",
        "1462/1599"
       ]
      },
      {
       "output_type": "stream",
       "stream": "stdout",
       "text": [
        "\n",
        "1463/1599"
       ]
      },
      {
       "output_type": "stream",
       "stream": "stdout",
       "text": [
        "\n",
        "1464/1599"
       ]
      },
      {
       "output_type": "stream",
       "stream": "stdout",
       "text": [
        "\n",
        "1465/1599"
       ]
      },
      {
       "output_type": "stream",
       "stream": "stdout",
       "text": [
        "\n",
        "1466/1599"
       ]
      },
      {
       "output_type": "stream",
       "stream": "stdout",
       "text": [
        "\n",
        "1467/1599\n",
        "1468/1599"
       ]
      },
      {
       "output_type": "stream",
       "stream": "stdout",
       "text": [
        "\n",
        "1469/1599"
       ]
      },
      {
       "output_type": "stream",
       "stream": "stdout",
       "text": [
        "\n",
        "1470/1599"
       ]
      },
      {
       "output_type": "stream",
       "stream": "stdout",
       "text": [
        "\n",
        "1471/1599"
       ]
      },
      {
       "output_type": "stream",
       "stream": "stdout",
       "text": [
        "\n",
        "1472/1599\n",
        "1473/1599"
       ]
      },
      {
       "output_type": "stream",
       "stream": "stdout",
       "text": [
        "\n",
        "1474/1599"
       ]
      },
      {
       "output_type": "stream",
       "stream": "stdout",
       "text": [
        "\n",
        "1475/1599"
       ]
      },
      {
       "output_type": "stream",
       "stream": "stdout",
       "text": [
        "\n",
        "1476/1599"
       ]
      },
      {
       "output_type": "stream",
       "stream": "stdout",
       "text": [
        "\n",
        "1477/1599"
       ]
      },
      {
       "output_type": "stream",
       "stream": "stdout",
       "text": [
        "\n",
        "1478/1599\n",
        "1479/1599"
       ]
      },
      {
       "output_type": "stream",
       "stream": "stdout",
       "text": [
        "\n",
        "1480/1599"
       ]
      },
      {
       "output_type": "stream",
       "stream": "stdout",
       "text": [
        "\n",
        "1481/1599"
       ]
      },
      {
       "output_type": "stream",
       "stream": "stdout",
       "text": [
        "\n",
        "1482/1599"
       ]
      },
      {
       "output_type": "stream",
       "stream": "stdout",
       "text": [
        "\n",
        "1483/1599\n",
        "1484/1599"
       ]
      },
      {
       "output_type": "stream",
       "stream": "stdout",
       "text": [
        "\n",
        "1485/1599"
       ]
      },
      {
       "output_type": "stream",
       "stream": "stdout",
       "text": [
        "\n",
        "1486/1599"
       ]
      },
      {
       "output_type": "stream",
       "stream": "stdout",
       "text": [
        "\n",
        "1487/1599"
       ]
      },
      {
       "output_type": "stream",
       "stream": "stdout",
       "text": [
        "\n",
        "1488/1599"
       ]
      },
      {
       "output_type": "stream",
       "stream": "stdout",
       "text": [
        "\n",
        "1489/1599"
       ]
      },
      {
       "output_type": "stream",
       "stream": "stdout",
       "text": [
        "\n",
        "1490/1599"
       ]
      },
      {
       "output_type": "stream",
       "stream": "stdout",
       "text": [
        "\n",
        "1491/1599"
       ]
      },
      {
       "output_type": "stream",
       "stream": "stdout",
       "text": [
        "\n",
        "1492/1599"
       ]
      },
      {
       "output_type": "stream",
       "stream": "stdout",
       "text": [
        "\n",
        "1493/1599"
       ]
      },
      {
       "output_type": "stream",
       "stream": "stdout",
       "text": [
        "\n",
        "1494/1599"
       ]
      },
      {
       "output_type": "stream",
       "stream": "stdout",
       "text": [
        "\n",
        "1495/1599"
       ]
      },
      {
       "output_type": "stream",
       "stream": "stdout",
       "text": [
        "\n",
        "1496/1599"
       ]
      },
      {
       "output_type": "stream",
       "stream": "stdout",
       "text": [
        "\n",
        "1497/1599"
       ]
      },
      {
       "output_type": "stream",
       "stream": "stdout",
       "text": [
        "\n",
        "1498/1599"
       ]
      },
      {
       "output_type": "stream",
       "stream": "stdout",
       "text": [
        "\n",
        "1499/1599"
       ]
      },
      {
       "output_type": "stream",
       "stream": "stdout",
       "text": [
        "\n",
        "1500/1599"
       ]
      },
      {
       "output_type": "stream",
       "stream": "stdout",
       "text": [
        "\n",
        "1501/1599"
       ]
      },
      {
       "output_type": "stream",
       "stream": "stdout",
       "text": [
        "\n",
        "1502/1599"
       ]
      },
      {
       "output_type": "stream",
       "stream": "stdout",
       "text": [
        "\n",
        "1503/1599"
       ]
      },
      {
       "output_type": "stream",
       "stream": "stdout",
       "text": [
        "\n",
        "1504/1599"
       ]
      },
      {
       "output_type": "stream",
       "stream": "stdout",
       "text": [
        "\n",
        "1505/1599"
       ]
      },
      {
       "output_type": "stream",
       "stream": "stdout",
       "text": [
        "\n",
        "1506/1599"
       ]
      },
      {
       "output_type": "stream",
       "stream": "stdout",
       "text": [
        "\n",
        "1507/1599"
       ]
      },
      {
       "output_type": "stream",
       "stream": "stdout",
       "text": [
        "\n",
        "1508/1599"
       ]
      },
      {
       "output_type": "stream",
       "stream": "stdout",
       "text": [
        "\n",
        "1509/1599"
       ]
      },
      {
       "output_type": "stream",
       "stream": "stdout",
       "text": [
        "\n",
        "1510/1599"
       ]
      },
      {
       "output_type": "stream",
       "stream": "stdout",
       "text": [
        "\n",
        "1511/1599"
       ]
      },
      {
       "output_type": "stream",
       "stream": "stdout",
       "text": [
        "\n",
        "1512/1599"
       ]
      },
      {
       "output_type": "stream",
       "stream": "stdout",
       "text": [
        "\n",
        "1513/1599"
       ]
      },
      {
       "output_type": "stream",
       "stream": "stdout",
       "text": [
        "\n",
        "1514/1599"
       ]
      },
      {
       "output_type": "stream",
       "stream": "stdout",
       "text": [
        "\n",
        "1515/1599"
       ]
      },
      {
       "output_type": "stream",
       "stream": "stdout",
       "text": [
        "\n",
        "1516/1599"
       ]
      },
      {
       "output_type": "stream",
       "stream": "stdout",
       "text": [
        "\n",
        "1517/1599"
       ]
      },
      {
       "output_type": "stream",
       "stream": "stdout",
       "text": [
        "\n",
        "1518/1599"
       ]
      },
      {
       "output_type": "stream",
       "stream": "stdout",
       "text": [
        "\n",
        "1519/1599\n",
        "1520/1599"
       ]
      },
      {
       "output_type": "stream",
       "stream": "stdout",
       "text": [
        "\n",
        "1521/1599"
       ]
      },
      {
       "output_type": "stream",
       "stream": "stdout",
       "text": [
        "\n",
        "1522/1599"
       ]
      },
      {
       "output_type": "stream",
       "stream": "stdout",
       "text": [
        "\n",
        "1523/1599"
       ]
      },
      {
       "output_type": "stream",
       "stream": "stdout",
       "text": [
        "\n",
        "1524/1599"
       ]
      },
      {
       "output_type": "stream",
       "stream": "stdout",
       "text": [
        "\n",
        "1525/1599"
       ]
      },
      {
       "output_type": "stream",
       "stream": "stdout",
       "text": [
        "\n",
        "1526/1599"
       ]
      },
      {
       "output_type": "stream",
       "stream": "stdout",
       "text": [
        "\n",
        "1527/1599"
       ]
      },
      {
       "output_type": "stream",
       "stream": "stdout",
       "text": [
        "\n",
        "1528/1599"
       ]
      },
      {
       "output_type": "stream",
       "stream": "stdout",
       "text": [
        "\n",
        "1529/1599"
       ]
      },
      {
       "output_type": "stream",
       "stream": "stdout",
       "text": [
        "\n",
        "1530/1599"
       ]
      },
      {
       "output_type": "stream",
       "stream": "stdout",
       "text": [
        "\n",
        "1531/1599"
       ]
      },
      {
       "output_type": "stream",
       "stream": "stdout",
       "text": [
        "\n",
        "1532/1599"
       ]
      },
      {
       "output_type": "stream",
       "stream": "stdout",
       "text": [
        "\n",
        "1533/1599"
       ]
      },
      {
       "output_type": "stream",
       "stream": "stdout",
       "text": [
        "\n",
        "1534/1599"
       ]
      },
      {
       "output_type": "stream",
       "stream": "stdout",
       "text": [
        "\n",
        "1535/1599"
       ]
      },
      {
       "output_type": "stream",
       "stream": "stdout",
       "text": [
        "\n",
        "1536/1599"
       ]
      },
      {
       "output_type": "stream",
       "stream": "stdout",
       "text": [
        "\n",
        "1537/1599"
       ]
      },
      {
       "output_type": "stream",
       "stream": "stdout",
       "text": [
        "\n",
        "1538/1599"
       ]
      },
      {
       "output_type": "stream",
       "stream": "stdout",
       "text": [
        "\n",
        "1539/1599"
       ]
      },
      {
       "output_type": "stream",
       "stream": "stdout",
       "text": [
        "\n",
        "1540/1599"
       ]
      },
      {
       "output_type": "stream",
       "stream": "stdout",
       "text": [
        "\n",
        "1541/1599"
       ]
      },
      {
       "output_type": "stream",
       "stream": "stdout",
       "text": [
        "\n",
        "1542/1599"
       ]
      },
      {
       "output_type": "stream",
       "stream": "stdout",
       "text": [
        "\n",
        "1543/1599\n",
        "1544/1599"
       ]
      },
      {
       "output_type": "stream",
       "stream": "stdout",
       "text": [
        "\n",
        "1545/1599"
       ]
      },
      {
       "output_type": "stream",
       "stream": "stdout",
       "text": [
        "\n",
        "1546/1599"
       ]
      },
      {
       "output_type": "stream",
       "stream": "stdout",
       "text": [
        "\n",
        "1547/1599"
       ]
      },
      {
       "output_type": "stream",
       "stream": "stdout",
       "text": [
        "\n",
        "1548/1599\n",
        "1549/1599"
       ]
      },
      {
       "output_type": "stream",
       "stream": "stdout",
       "text": [
        "\n",
        "1550/1599"
       ]
      },
      {
       "output_type": "stream",
       "stream": "stdout",
       "text": [
        "\n",
        "1551/1599"
       ]
      },
      {
       "output_type": "stream",
       "stream": "stdout",
       "text": [
        "\n",
        "1552/1599"
       ]
      },
      {
       "output_type": "stream",
       "stream": "stdout",
       "text": [
        "\n",
        "1553/1599"
       ]
      },
      {
       "output_type": "stream",
       "stream": "stdout",
       "text": [
        "\n",
        "1554/1599"
       ]
      },
      {
       "output_type": "stream",
       "stream": "stdout",
       "text": [
        "\n",
        "1555/1599"
       ]
      },
      {
       "output_type": "stream",
       "stream": "stdout",
       "text": [
        "\n",
        "1556/1599"
       ]
      },
      {
       "output_type": "stream",
       "stream": "stdout",
       "text": [
        "\n",
        "1557/1599"
       ]
      },
      {
       "output_type": "stream",
       "stream": "stdout",
       "text": [
        "\n",
        "1558/1599"
       ]
      },
      {
       "output_type": "stream",
       "stream": "stdout",
       "text": [
        "\n",
        "1559/1599"
       ]
      },
      {
       "output_type": "stream",
       "stream": "stdout",
       "text": [
        "\n",
        "1560/1599"
       ]
      },
      {
       "output_type": "stream",
       "stream": "stdout",
       "text": [
        "\n",
        "1561/1599"
       ]
      },
      {
       "output_type": "stream",
       "stream": "stdout",
       "text": [
        "\n",
        "1562/1599"
       ]
      },
      {
       "output_type": "stream",
       "stream": "stdout",
       "text": [
        "\n",
        "1563/1599"
       ]
      },
      {
       "output_type": "stream",
       "stream": "stdout",
       "text": [
        "\n",
        "1564/1599\n",
        "1565/1599"
       ]
      },
      {
       "output_type": "stream",
       "stream": "stdout",
       "text": [
        "\n",
        "1566/1599"
       ]
      },
      {
       "output_type": "stream",
       "stream": "stdout",
       "text": [
        "\n",
        "1567/1599"
       ]
      },
      {
       "output_type": "stream",
       "stream": "stdout",
       "text": [
        "\n",
        "1568/1599"
       ]
      },
      {
       "output_type": "stream",
       "stream": "stdout",
       "text": [
        "\n",
        "1569/1599"
       ]
      },
      {
       "output_type": "stream",
       "stream": "stdout",
       "text": [
        "\n",
        "1570/1599"
       ]
      },
      {
       "output_type": "stream",
       "stream": "stdout",
       "text": [
        "\n",
        "1571/1599\n",
        "1572/1599"
       ]
      },
      {
       "output_type": "stream",
       "stream": "stdout",
       "text": [
        "\n",
        "1573/1599\n",
        "1574/1599"
       ]
      },
      {
       "output_type": "stream",
       "stream": "stdout",
       "text": [
        "\n",
        "1575/1599"
       ]
      },
      {
       "output_type": "stream",
       "stream": "stdout",
       "text": [
        "\n",
        "1576/1599"
       ]
      },
      {
       "output_type": "stream",
       "stream": "stdout",
       "text": [
        "\n",
        "1577/1599"
       ]
      },
      {
       "output_type": "stream",
       "stream": "stdout",
       "text": [
        "\n",
        "1578/1599"
       ]
      },
      {
       "output_type": "stream",
       "stream": "stdout",
       "text": [
        "\n",
        "1579/1599"
       ]
      },
      {
       "output_type": "stream",
       "stream": "stdout",
       "text": [
        "\n",
        "1580/1599"
       ]
      },
      {
       "output_type": "stream",
       "stream": "stdout",
       "text": [
        "\n",
        "1581/1599"
       ]
      },
      {
       "output_type": "stream",
       "stream": "stdout",
       "text": [
        "\n",
        "1582/1599\n",
        "1583/1599"
       ]
      },
      {
       "output_type": "stream",
       "stream": "stdout",
       "text": [
        "\n",
        "1584/1599"
       ]
      },
      {
       "output_type": "stream",
       "stream": "stdout",
       "text": [
        "\n",
        "1585/1599"
       ]
      },
      {
       "output_type": "stream",
       "stream": "stdout",
       "text": [
        "\n",
        "1586/1599"
       ]
      },
      {
       "output_type": "stream",
       "stream": "stdout",
       "text": [
        "\n",
        "1587/1599"
       ]
      },
      {
       "output_type": "stream",
       "stream": "stdout",
       "text": [
        "\n",
        "1588/1599"
       ]
      },
      {
       "output_type": "stream",
       "stream": "stdout",
       "text": [
        "\n",
        "1589/1599"
       ]
      },
      {
       "output_type": "stream",
       "stream": "stdout",
       "text": [
        "\n",
        "1590/1599"
       ]
      },
      {
       "output_type": "stream",
       "stream": "stdout",
       "text": [
        "\n",
        "1591/1599"
       ]
      },
      {
       "output_type": "stream",
       "stream": "stdout",
       "text": [
        "\n",
        "1592/1599"
       ]
      },
      {
       "output_type": "stream",
       "stream": "stdout",
       "text": [
        "\n",
        "1593/1599"
       ]
      },
      {
       "output_type": "stream",
       "stream": "stdout",
       "text": [
        "\n",
        "1594/1599"
       ]
      },
      {
       "output_type": "stream",
       "stream": "stdout",
       "text": [
        "\n",
        "1595/1599"
       ]
      },
      {
       "output_type": "stream",
       "stream": "stdout",
       "text": [
        "\n",
        "1596/1599"
       ]
      },
      {
       "output_type": "stream",
       "stream": "stdout",
       "text": [
        "\n",
        "1597/1599"
       ]
      },
      {
       "output_type": "stream",
       "stream": "stdout",
       "text": [
        "\n",
        "1598/1599"
       ]
      },
      {
       "output_type": "stream",
       "stream": "stdout",
       "text": [
        "\n",
        "1599/1599"
       ]
      },
      {
       "output_type": "stream",
       "stream": "stdout",
       "text": [
        "\n"
       ]
      }
     ],
     "prompt_number": 11
    },
    {
     "cell_type": "markdown",
     "metadata": {},
     "source": [
      "\u770b\u770b\u6211\u4eec\u641c\u51fa\u6765\u4ec0\u4e48:"
     ]
    },
    {
     "cell_type": "code",
     "collapsed": false,
     "input": [
      "for url in urls:\n",
      "    print url"
     ],
     "language": "python",
     "metadata": {},
     "outputs": [
      {
       "output_type": "stream",
       "stream": "stdout",
       "text": [
        "http://www.cc98.org/dispbbs.asp?boardID=509&ID=4218945&page=1\n",
        "http://www.cc98.org/dispbbs.asp?boardID=509&ID=4169417&page=3\n",
        "http://www.cc98.org/dispbbs.asp?boardID=509&ID=4105634&page=8\n",
        "http://www.cc98.org/dispbbs.asp?boardID=509&ID=4003425&page=11\n",
        "http://www.cc98.org/dispbbs.asp?boardID=509&ID=3775617&page=12\n",
        "http://www.cc98.org/dispbbs.asp?boardID=509&ID=4036416&page=12\n",
        "http://www.cc98.org/dispbbs.asp?boardID=509&ID=4019635&page=14\n",
        "http://www.cc98.org/dispbbs.asp?boardID=509&ID=3859756&page=17\n",
        "http://www.cc98.org/dispbbs.asp?boardID=509&ID=3913087&page=22\n",
        "http://www.cc98.org/dispbbs.asp?boardID=509&ID=3905841&page=24\n",
        "http://www.cc98.org/dispbbs.asp?boardID=509&ID=3864321&page=28\n",
        "http://www.cc98.org/dispbbs.asp?boardID=509&ID=3850448&page=28\n",
        "http://www.cc98.org/dispbbs.asp?boardID=509&ID=3799843&page=31\n",
        "http://www.cc98.org/dispbbs.asp?boardID=509&ID=3778380&page=34\n",
        "http://www.cc98.org/dispbbs.asp?boardID=509&ID=3778890&page=35\n",
        "http://www.cc98.org/dispbbs.asp?boardID=509&ID=3775518&page=36\n",
        "http://www.cc98.org/dispbbs.asp?boardID=509&ID=3599823&page=56\n",
        "http://www.cc98.org/dispbbs.asp?boardID=509&ID=1901452&page=58\n"
       ]
      }
     ],
     "prompt_number": 12
    },
    {
     "cell_type": "markdown",
     "metadata": {},
     "source": [
      "## \u7f13\u5b58\n",
      "\n",
      "\u6bcf\u6b21\u641c\u7d22\u90fd\u8981\u6293\u5f88\u591a\u9875\u9762, \u5b9e\u5728\u592a\u6162\u4e86. \u505a\u4e2a\u7f13\u5b58:"
     ]
    },
    {
     "cell_type": "code",
     "collapsed": false,
     "input": [
      "import urllib2\n",
      "import re\n",
      "from urlparse import urljoin\n",
      "import hashlib\n",
      "import os\n",
      "\n",
      "def fetch(url):\n",
      "    cache_folder = 'cache'\n",
      "    \n",
      "    if not os.path.exists(cache_folder):\n",
      "        os.mkdir(cache_folder)\n",
      "        \n",
      "    filename = hashlib.sha1(url).hexdigest()\n",
      "    path = os.path.join(cache_folder, filename)\n",
      "    \n",
      "    if not os.path.exists(path):\n",
      "        r = urllib2.urlopen(url)\n",
      "        content = r.read()\n",
      "        with open(path, 'w') as f:\n",
      "            f.write(content)\n",
      "            \n",
      "    with open(path, 'r') as f:\n",
      "        return f.read()\n",
      "    \n",
      "\n",
      "def post_urls(page):\n",
      "    data = fetch('http://www.cc98.org/list.asp?boardid=509&page=%d' % page)\n",
      "    urls = re.findall(r'dispbbs\\.asp\\?boardID=509&ID=\\d+&page=%d' % page, data)\n",
      "    return [urljoin('http://www.cc98.org', url) for url in urls]\n",
      "\n",
      "def page_count():\n",
      "    data = fetch('http://www.cc98.org/list.asp?boardid=509&page=1')\n",
      "    return int(re.search(r'<b>(\\d+)</b>\u9875', data).group(1))\n",
      "\n",
      "def check(url, pattern):\n",
      "    data = fetch(url)\n",
      "    return re.search(pattern, data) is not None\n",
      "\n",
      "def post_urls_all():\n",
      "    urls = []\n",
      "    for page in range(1, page_count() + 1):\n",
      "        urls.extend(post_urls(page))\n",
      "    return urls\n",
      "\n",
      "def grep98(pattern):\n",
      "    urls = []\n",
      "    posts = post_urls_all()\n",
      "    for i, post in enumerate(posts):\n",
      "        print '%d/%d' % (i + 1, len(posts))\n",
      "        if check(post, pattern):\n",
      "            urls.append(post)\n",
      "    return urls\n",
      "\n",
      "urls = grep98('[Pp]ython')"
     ],
     "language": "python",
     "metadata": {},
     "outputs": [
      {
       "output_type": "stream",
       "stream": "stdout",
       "text": [
        "1/1599\n",
        "2/1599"
       ]
      },
      {
       "output_type": "stream",
       "stream": "stdout",
       "text": [
        "\n",
        "3/1599"
       ]
      },
      {
       "output_type": "stream",
       "stream": "stdout",
       "text": [
        "\n",
        "4/1599"
       ]
      },
      {
       "output_type": "stream",
       "stream": "stdout",
       "text": [
        "\n",
        "5/1599"
       ]
      },
      {
       "output_type": "stream",
       "stream": "stdout",
       "text": [
        "\n",
        "6/1599"
       ]
      },
      {
       "output_type": "stream",
       "stream": "stdout",
       "text": [
        "\n",
        "7/1599"
       ]
      },
      {
       "output_type": "stream",
       "stream": "stdout",
       "text": [
        "\n",
        "8/1599"
       ]
      },
      {
       "output_type": "stream",
       "stream": "stdout",
       "text": [
        "\n",
        "9/1599"
       ]
      },
      {
       "output_type": "stream",
       "stream": "stdout",
       "text": [
        "\n",
        "10/1599"
       ]
      },
      {
       "output_type": "stream",
       "stream": "stdout",
       "text": [
        "\n",
        "11/1599"
       ]
      },
      {
       "output_type": "stream",
       "stream": "stdout",
       "text": [
        "\n",
        "12/1599"
       ]
      },
      {
       "output_type": "stream",
       "stream": "stdout",
       "text": [
        "\n",
        "13/1599"
       ]
      },
      {
       "output_type": "stream",
       "stream": "stdout",
       "text": [
        "\n",
        "14/1599"
       ]
      },
      {
       "output_type": "stream",
       "stream": "stdout",
       "text": [
        "\n",
        "15/1599"
       ]
      },
      {
       "output_type": "stream",
       "stream": "stdout",
       "text": [
        "\n",
        "16/1599"
       ]
      },
      {
       "output_type": "stream",
       "stream": "stdout",
       "text": [
        "\n",
        "17/1599"
       ]
      },
      {
       "output_type": "stream",
       "stream": "stdout",
       "text": [
        "\n",
        "18/1599"
       ]
      },
      {
       "output_type": "stream",
       "stream": "stdout",
       "text": [
        "\n",
        "19/1599"
       ]
      },
      {
       "output_type": "stream",
       "stream": "stdout",
       "text": [
        "\n",
        "20/1599"
       ]
      },
      {
       "output_type": "stream",
       "stream": "stdout",
       "text": [
        "\n",
        "21/1599"
       ]
      },
      {
       "output_type": "stream",
       "stream": "stdout",
       "text": [
        "\n",
        "22/1599"
       ]
      },
      {
       "output_type": "stream",
       "stream": "stdout",
       "text": [
        "\n",
        "23/1599"
       ]
      },
      {
       "output_type": "stream",
       "stream": "stdout",
       "text": [
        "\n",
        "24/1599"
       ]
      },
      {
       "output_type": "stream",
       "stream": "stdout",
       "text": [
        "\n",
        "25/1599"
       ]
      },
      {
       "output_type": "stream",
       "stream": "stdout",
       "text": [
        "\n",
        "26/1599"
       ]
      },
      {
       "output_type": "stream",
       "stream": "stdout",
       "text": [
        "\n",
        "27/1599"
       ]
      },
      {
       "output_type": "stream",
       "stream": "stdout",
       "text": [
        "\n",
        "28/1599"
       ]
      },
      {
       "output_type": "stream",
       "stream": "stdout",
       "text": [
        "\n",
        "29/1599"
       ]
      },
      {
       "output_type": "stream",
       "stream": "stdout",
       "text": [
        "\n",
        "30/1599"
       ]
      },
      {
       "output_type": "stream",
       "stream": "stdout",
       "text": [
        "\n",
        "31/1599"
       ]
      },
      {
       "output_type": "stream",
       "stream": "stdout",
       "text": [
        "\n",
        "32/1599"
       ]
      },
      {
       "output_type": "stream",
       "stream": "stdout",
       "text": [
        "\n",
        "33/1599"
       ]
      },
      {
       "output_type": "stream",
       "stream": "stdout",
       "text": [
        "\n",
        "34/1599"
       ]
      },
      {
       "output_type": "stream",
       "stream": "stdout",
       "text": [
        "\n",
        "35/1599"
       ]
      },
      {
       "output_type": "stream",
       "stream": "stdout",
       "text": [
        "\n",
        "36/1599"
       ]
      },
      {
       "output_type": "stream",
       "stream": "stdout",
       "text": [
        "\n",
        "37/1599"
       ]
      },
      {
       "output_type": "stream",
       "stream": "stdout",
       "text": [
        "\n",
        "38/1599"
       ]
      },
      {
       "output_type": "stream",
       "stream": "stdout",
       "text": [
        "\n",
        "39/1599"
       ]
      },
      {
       "output_type": "stream",
       "stream": "stdout",
       "text": [
        "\n",
        "40/1599"
       ]
      },
      {
       "output_type": "stream",
       "stream": "stdout",
       "text": [
        "\n",
        "41/1599"
       ]
      },
      {
       "output_type": "stream",
       "stream": "stdout",
       "text": [
        "\n",
        "42/1599\n",
        "43/1599"
       ]
      },
      {
       "output_type": "stream",
       "stream": "stdout",
       "text": [
        "\n",
        "44/1599"
       ]
      },
      {
       "output_type": "stream",
       "stream": "stdout",
       "text": [
        "\n",
        "45/1599"
       ]
      },
      {
       "output_type": "stream",
       "stream": "stdout",
       "text": [
        "\n",
        "46/1599"
       ]
      },
      {
       "output_type": "stream",
       "stream": "stdout",
       "text": [
        "\n",
        "47/1599"
       ]
      },
      {
       "output_type": "stream",
       "stream": "stdout",
       "text": [
        "\n",
        "48/1599"
       ]
      },
      {
       "output_type": "stream",
       "stream": "stdout",
       "text": [
        "\n",
        "49/1599"
       ]
      },
      {
       "output_type": "stream",
       "stream": "stdout",
       "text": [
        "\n",
        "50/1599\n",
        "51/1599"
       ]
      },
      {
       "output_type": "stream",
       "stream": "stdout",
       "text": [
        "\n",
        "52/1599"
       ]
      },
      {
       "output_type": "stream",
       "stream": "stdout",
       "text": [
        "\n",
        "53/1599"
       ]
      },
      {
       "output_type": "stream",
       "stream": "stdout",
       "text": [
        "\n",
        "54/1599"
       ]
      },
      {
       "output_type": "stream",
       "stream": "stdout",
       "text": [
        "\n",
        "55/1599"
       ]
      },
      {
       "output_type": "stream",
       "stream": "stdout",
       "text": [
        "\n",
        "56/1599"
       ]
      },
      {
       "output_type": "stream",
       "stream": "stdout",
       "text": [
        "\n",
        "57/1599"
       ]
      },
      {
       "output_type": "stream",
       "stream": "stdout",
       "text": [
        "\n",
        "58/1599"
       ]
      },
      {
       "output_type": "stream",
       "stream": "stdout",
       "text": [
        "\n",
        "59/1599"
       ]
      },
      {
       "output_type": "stream",
       "stream": "stdout",
       "text": [
        "\n",
        "60/1599"
       ]
      },
      {
       "output_type": "stream",
       "stream": "stdout",
       "text": [
        "\n",
        "61/1599"
       ]
      },
      {
       "output_type": "stream",
       "stream": "stdout",
       "text": [
        "\n",
        "62/1599"
       ]
      },
      {
       "output_type": "stream",
       "stream": "stdout",
       "text": [
        "\n",
        "63/1599"
       ]
      },
      {
       "output_type": "stream",
       "stream": "stdout",
       "text": [
        "\n",
        "64/1599"
       ]
      },
      {
       "output_type": "stream",
       "stream": "stdout",
       "text": [
        "\n",
        "65/1599"
       ]
      },
      {
       "output_type": "stream",
       "stream": "stdout",
       "text": [
        "\n",
        "66/1599"
       ]
      },
      {
       "output_type": "stream",
       "stream": "stdout",
       "text": [
        "\n",
        "67/1599"
       ]
      },
      {
       "output_type": "stream",
       "stream": "stdout",
       "text": [
        "\n",
        "68/1599"
       ]
      },
      {
       "output_type": "stream",
       "stream": "stdout",
       "text": [
        "\n",
        "69/1599"
       ]
      },
      {
       "output_type": "stream",
       "stream": "stdout",
       "text": [
        "\n",
        "70/1599"
       ]
      },
      {
       "output_type": "stream",
       "stream": "stdout",
       "text": [
        "\n",
        "71/1599"
       ]
      },
      {
       "output_type": "stream",
       "stream": "stdout",
       "text": [
        "\n",
        "72/1599"
       ]
      },
      {
       "output_type": "stream",
       "stream": "stdout",
       "text": [
        "\n",
        "73/1599"
       ]
      },
      {
       "output_type": "stream",
       "stream": "stdout",
       "text": [
        "\n",
        "74/1599"
       ]
      },
      {
       "output_type": "stream",
       "stream": "stdout",
       "text": [
        "\n",
        "75/1599"
       ]
      },
      {
       "output_type": "stream",
       "stream": "stdout",
       "text": [
        "\n",
        "76/1599"
       ]
      },
      {
       "output_type": "stream",
       "stream": "stdout",
       "text": [
        "\n",
        "77/1599"
       ]
      },
      {
       "output_type": "stream",
       "stream": "stdout",
       "text": [
        "\n",
        "78/1599"
       ]
      },
      {
       "output_type": "stream",
       "stream": "stdout",
       "text": [
        "\n",
        "79/1599"
       ]
      },
      {
       "output_type": "stream",
       "stream": "stdout",
       "text": [
        "\n",
        "80/1599"
       ]
      },
      {
       "output_type": "stream",
       "stream": "stdout",
       "text": [
        "\n",
        "81/1599"
       ]
      },
      {
       "output_type": "stream",
       "stream": "stdout",
       "text": [
        "\n",
        "82/1599"
       ]
      },
      {
       "output_type": "stream",
       "stream": "stdout",
       "text": [
        "\n",
        "83/1599"
       ]
      },
      {
       "output_type": "stream",
       "stream": "stdout",
       "text": [
        "\n",
        "84/1599"
       ]
      },
      {
       "output_type": "stream",
       "stream": "stdout",
       "text": [
        "\n",
        "85/1599"
       ]
      },
      {
       "output_type": "stream",
       "stream": "stdout",
       "text": [
        "\n",
        "86/1599"
       ]
      },
      {
       "output_type": "stream",
       "stream": "stdout",
       "text": [
        "\n",
        "87/1599\n",
        "88/1599"
       ]
      },
      {
       "output_type": "stream",
       "stream": "stdout",
       "text": [
        "\n",
        "89/1599"
       ]
      },
      {
       "output_type": "stream",
       "stream": "stdout",
       "text": [
        "\n",
        "90/1599"
       ]
      },
      {
       "output_type": "stream",
       "stream": "stdout",
       "text": [
        "\n",
        "91/1599"
       ]
      },
      {
       "output_type": "stream",
       "stream": "stdout",
       "text": [
        "\n",
        "92/1599"
       ]
      },
      {
       "output_type": "stream",
       "stream": "stdout",
       "text": [
        "\n",
        "93/1599"
       ]
      },
      {
       "output_type": "stream",
       "stream": "stdout",
       "text": [
        "\n",
        "94/1599"
       ]
      },
      {
       "output_type": "stream",
       "stream": "stdout",
       "text": [
        "\n",
        "95/1599"
       ]
      },
      {
       "output_type": "stream",
       "stream": "stdout",
       "text": [
        "\n",
        "96/1599"
       ]
      },
      {
       "output_type": "stream",
       "stream": "stdout",
       "text": [
        "\n",
        "97/1599"
       ]
      },
      {
       "output_type": "stream",
       "stream": "stdout",
       "text": [
        "\n",
        "98/1599"
       ]
      },
      {
       "output_type": "stream",
       "stream": "stdout",
       "text": [
        "\n",
        "99/1599"
       ]
      },
      {
       "output_type": "stream",
       "stream": "stdout",
       "text": [
        "\n",
        "100/1599"
       ]
      },
      {
       "output_type": "stream",
       "stream": "stdout",
       "text": [
        "\n",
        "101/1599"
       ]
      },
      {
       "output_type": "stream",
       "stream": "stdout",
       "text": [
        "\n",
        "102/1599"
       ]
      },
      {
       "output_type": "stream",
       "stream": "stdout",
       "text": [
        "\n",
        "103/1599"
       ]
      },
      {
       "output_type": "stream",
       "stream": "stdout",
       "text": [
        "\n",
        "104/1599\n",
        "105/1599"
       ]
      },
      {
       "output_type": "stream",
       "stream": "stdout",
       "text": [
        "\n",
        "106/1599"
       ]
      },
      {
       "output_type": "stream",
       "stream": "stdout",
       "text": [
        "\n",
        "107/1599"
       ]
      },
      {
       "output_type": "stream",
       "stream": "stdout",
       "text": [
        "\n",
        "108/1599"
       ]
      },
      {
       "output_type": "stream",
       "stream": "stdout",
       "text": [
        "\n",
        "109/1599"
       ]
      },
      {
       "output_type": "stream",
       "stream": "stdout",
       "text": [
        "\n",
        "110/1599"
       ]
      },
      {
       "output_type": "stream",
       "stream": "stdout",
       "text": [
        "\n",
        "111/1599"
       ]
      },
      {
       "output_type": "stream",
       "stream": "stdout",
       "text": [
        "\n",
        "112/1599"
       ]
      },
      {
       "output_type": "stream",
       "stream": "stdout",
       "text": [
        "\n",
        "113/1599"
       ]
      },
      {
       "output_type": "stream",
       "stream": "stdout",
       "text": [
        "\n",
        "114/1599"
       ]
      },
      {
       "output_type": "stream",
       "stream": "stdout",
       "text": [
        "\n",
        "115/1599"
       ]
      },
      {
       "output_type": "stream",
       "stream": "stdout",
       "text": [
        "\n",
        "116/1599"
       ]
      },
      {
       "output_type": "stream",
       "stream": "stdout",
       "text": [
        "\n",
        "117/1599"
       ]
      },
      {
       "output_type": "stream",
       "stream": "stdout",
       "text": [
        "\n",
        "118/1599"
       ]
      },
      {
       "output_type": "stream",
       "stream": "stdout",
       "text": [
        "\n",
        "119/1599"
       ]
      },
      {
       "output_type": "stream",
       "stream": "stdout",
       "text": [
        "\n",
        "120/1599"
       ]
      },
      {
       "output_type": "stream",
       "stream": "stdout",
       "text": [
        "\n",
        "121/1599"
       ]
      },
      {
       "output_type": "stream",
       "stream": "stdout",
       "text": [
        "\n",
        "122/1599"
       ]
      },
      {
       "output_type": "stream",
       "stream": "stdout",
       "text": [
        "\n",
        "123/1599"
       ]
      },
      {
       "output_type": "stream",
       "stream": "stdout",
       "text": [
        "\n",
        "124/1599"
       ]
      },
      {
       "output_type": "stream",
       "stream": "stdout",
       "text": [
        "\n",
        "125/1599"
       ]
      },
      {
       "output_type": "stream",
       "stream": "stdout",
       "text": [
        "\n",
        "126/1599"
       ]
      },
      {
       "output_type": "stream",
       "stream": "stdout",
       "text": [
        "\n",
        "127/1599"
       ]
      },
      {
       "output_type": "stream",
       "stream": "stdout",
       "text": [
        "\n",
        "128/1599\n",
        "129/1599"
       ]
      },
      {
       "output_type": "stream",
       "stream": "stdout",
       "text": [
        "\n",
        "130/1599"
       ]
      },
      {
       "output_type": "stream",
       "stream": "stdout",
       "text": [
        "\n",
        "131/1599"
       ]
      },
      {
       "output_type": "stream",
       "stream": "stdout",
       "text": [
        "\n",
        "132/1599"
       ]
      },
      {
       "output_type": "stream",
       "stream": "stdout",
       "text": [
        "\n",
        "133/1599"
       ]
      },
      {
       "output_type": "stream",
       "stream": "stdout",
       "text": [
        "\n",
        "134/1599"
       ]
      },
      {
       "output_type": "stream",
       "stream": "stdout",
       "text": [
        "\n",
        "135/1599"
       ]
      },
      {
       "output_type": "stream",
       "stream": "stdout",
       "text": [
        "\n",
        "136/1599\n",
        "137/1599"
       ]
      },
      {
       "output_type": "stream",
       "stream": "stdout",
       "text": [
        "\n",
        "138/1599"
       ]
      },
      {
       "output_type": "stream",
       "stream": "stdout",
       "text": [
        "\n",
        "139/1599"
       ]
      },
      {
       "output_type": "stream",
       "stream": "stdout",
       "text": [
        "\n",
        "140/1599"
       ]
      },
      {
       "output_type": "stream",
       "stream": "stdout",
       "text": [
        "\n",
        "141/1599"
       ]
      },
      {
       "output_type": "stream",
       "stream": "stdout",
       "text": [
        "\n",
        "142/1599"
       ]
      },
      {
       "output_type": "stream",
       "stream": "stdout",
       "text": [
        "\n",
        "143/1599"
       ]
      },
      {
       "output_type": "stream",
       "stream": "stdout",
       "text": [
        "\n",
        "144/1599"
       ]
      },
      {
       "output_type": "stream",
       "stream": "stdout",
       "text": [
        "\n",
        "145/1599"
       ]
      },
      {
       "output_type": "stream",
       "stream": "stdout",
       "text": [
        "\n",
        "146/1599"
       ]
      },
      {
       "output_type": "stream",
       "stream": "stdout",
       "text": [
        "\n",
        "147/1599\n",
        "148/1599"
       ]
      },
      {
       "output_type": "stream",
       "stream": "stdout",
       "text": [
        "\n",
        "149/1599"
       ]
      },
      {
       "output_type": "stream",
       "stream": "stdout",
       "text": [
        "\n",
        "150/1599"
       ]
      },
      {
       "output_type": "stream",
       "stream": "stdout",
       "text": [
        "\n",
        "151/1599"
       ]
      },
      {
       "output_type": "stream",
       "stream": "stdout",
       "text": [
        "\n",
        "152/1599"
       ]
      },
      {
       "output_type": "stream",
       "stream": "stdout",
       "text": [
        "\n",
        "153/1599"
       ]
      },
      {
       "output_type": "stream",
       "stream": "stdout",
       "text": [
        "\n",
        "154/1599"
       ]
      },
      {
       "output_type": "stream",
       "stream": "stdout",
       "text": [
        "\n",
        "155/1599"
       ]
      },
      {
       "output_type": "stream",
       "stream": "stdout",
       "text": [
        "\n",
        "156/1599"
       ]
      },
      {
       "output_type": "stream",
       "stream": "stdout",
       "text": [
        "\n",
        "157/1599"
       ]
      },
      {
       "output_type": "stream",
       "stream": "stdout",
       "text": [
        "\n",
        "158/1599"
       ]
      },
      {
       "output_type": "stream",
       "stream": "stdout",
       "text": [
        "\n",
        "159/1599"
       ]
      },
      {
       "output_type": "stream",
       "stream": "stdout",
       "text": [
        "\n",
        "160/1599"
       ]
      },
      {
       "output_type": "stream",
       "stream": "stdout",
       "text": [
        "\n",
        "161/1599"
       ]
      },
      {
       "output_type": "stream",
       "stream": "stdout",
       "text": [
        "\n",
        "162/1599\n",
        "163/1599"
       ]
      },
      {
       "output_type": "stream",
       "stream": "stdout",
       "text": [
        "\n",
        "164/1599"
       ]
      },
      {
       "output_type": "stream",
       "stream": "stdout",
       "text": [
        "\n",
        "165/1599"
       ]
      },
      {
       "output_type": "stream",
       "stream": "stdout",
       "text": [
        "\n",
        "166/1599"
       ]
      },
      {
       "output_type": "stream",
       "stream": "stdout",
       "text": [
        "\n",
        "167/1599"
       ]
      },
      {
       "output_type": "stream",
       "stream": "stdout",
       "text": [
        "\n",
        "168/1599"
       ]
      },
      {
       "output_type": "stream",
       "stream": "stdout",
       "text": [
        "\n",
        "169/1599"
       ]
      },
      {
       "output_type": "stream",
       "stream": "stdout",
       "text": [
        "\n",
        "170/1599"
       ]
      },
      {
       "output_type": "stream",
       "stream": "stdout",
       "text": [
        "\n",
        "171/1599\n",
        "172/1599"
       ]
      },
      {
       "output_type": "stream",
       "stream": "stdout",
       "text": [
        "\n",
        "173/1599"
       ]
      },
      {
       "output_type": "stream",
       "stream": "stdout",
       "text": [
        "\n",
        "174/1599"
       ]
      },
      {
       "output_type": "stream",
       "stream": "stdout",
       "text": [
        "\n",
        "175/1599"
       ]
      },
      {
       "output_type": "stream",
       "stream": "stdout",
       "text": [
        "\n",
        "176/1599"
       ]
      },
      {
       "output_type": "stream",
       "stream": "stdout",
       "text": [
        "\n",
        "177/1599"
       ]
      },
      {
       "output_type": "stream",
       "stream": "stdout",
       "text": [
        "\n",
        "178/1599"
       ]
      },
      {
       "output_type": "stream",
       "stream": "stdout",
       "text": [
        "\n",
        "179/1599"
       ]
      },
      {
       "output_type": "stream",
       "stream": "stdout",
       "text": [
        "\n",
        "180/1599"
       ]
      },
      {
       "output_type": "stream",
       "stream": "stdout",
       "text": [
        "\n",
        "181/1599"
       ]
      },
      {
       "output_type": "stream",
       "stream": "stdout",
       "text": [
        "\n",
        "182/1599"
       ]
      },
      {
       "output_type": "stream",
       "stream": "stdout",
       "text": [
        "\n",
        "183/1599"
       ]
      },
      {
       "output_type": "stream",
       "stream": "stdout",
       "text": [
        "\n",
        "184/1599"
       ]
      },
      {
       "output_type": "stream",
       "stream": "stdout",
       "text": [
        "\n",
        "185/1599"
       ]
      },
      {
       "output_type": "stream",
       "stream": "stdout",
       "text": [
        "\n",
        "186/1599"
       ]
      },
      {
       "output_type": "stream",
       "stream": "stdout",
       "text": [
        "\n",
        "187/1599"
       ]
      },
      {
       "output_type": "stream",
       "stream": "stdout",
       "text": [
        "\n",
        "188/1599"
       ]
      },
      {
       "output_type": "stream",
       "stream": "stdout",
       "text": [
        "\n",
        "189/1599"
       ]
      },
      {
       "output_type": "stream",
       "stream": "stdout",
       "text": [
        "\n",
        "190/1599"
       ]
      },
      {
       "output_type": "stream",
       "stream": "stdout",
       "text": [
        "\n",
        "191/1599"
       ]
      },
      {
       "output_type": "stream",
       "stream": "stdout",
       "text": [
        "\n",
        "192/1599"
       ]
      },
      {
       "output_type": "stream",
       "stream": "stdout",
       "text": [
        "\n",
        "193/1599"
       ]
      },
      {
       "output_type": "stream",
       "stream": "stdout",
       "text": [
        "\n",
        "194/1599"
       ]
      },
      {
       "output_type": "stream",
       "stream": "stdout",
       "text": [
        "\n",
        "195/1599"
       ]
      },
      {
       "output_type": "stream",
       "stream": "stdout",
       "text": [
        "\n",
        "196/1599"
       ]
      },
      {
       "output_type": "stream",
       "stream": "stdout",
       "text": [
        "\n",
        "197/1599"
       ]
      },
      {
       "output_type": "stream",
       "stream": "stdout",
       "text": [
        "\n",
        "198/1599"
       ]
      },
      {
       "output_type": "stream",
       "stream": "stdout",
       "text": [
        "\n",
        "199/1599"
       ]
      },
      {
       "output_type": "stream",
       "stream": "stdout",
       "text": [
        "\n",
        "200/1599"
       ]
      },
      {
       "output_type": "stream",
       "stream": "stdout",
       "text": [
        "\n",
        "201/1599"
       ]
      },
      {
       "output_type": "stream",
       "stream": "stdout",
       "text": [
        "\n",
        "202/1599"
       ]
      },
      {
       "output_type": "stream",
       "stream": "stdout",
       "text": [
        "\n",
        "203/1599"
       ]
      },
      {
       "output_type": "stream",
       "stream": "stdout",
       "text": [
        "\n",
        "204/1599"
       ]
      },
      {
       "output_type": "stream",
       "stream": "stdout",
       "text": [
        "\n",
        "205/1599"
       ]
      },
      {
       "output_type": "stream",
       "stream": "stdout",
       "text": [
        "\n",
        "206/1599"
       ]
      },
      {
       "output_type": "stream",
       "stream": "stdout",
       "text": [
        "\n",
        "207/1599"
       ]
      },
      {
       "output_type": "stream",
       "stream": "stdout",
       "text": [
        "\n",
        "208/1599"
       ]
      },
      {
       "output_type": "stream",
       "stream": "stdout",
       "text": [
        "\n",
        "209/1599\n",
        "210/1599"
       ]
      },
      {
       "output_type": "stream",
       "stream": "stdout",
       "text": [
        "\n",
        "211/1599"
       ]
      },
      {
       "output_type": "stream",
       "stream": "stdout",
       "text": [
        "\n",
        "212/1599"
       ]
      },
      {
       "output_type": "stream",
       "stream": "stdout",
       "text": [
        "\n",
        "213/1599"
       ]
      },
      {
       "output_type": "stream",
       "stream": "stdout",
       "text": [
        "\n",
        "214/1599"
       ]
      },
      {
       "output_type": "stream",
       "stream": "stdout",
       "text": [
        "\n",
        "215/1599\n",
        "216/1599"
       ]
      },
      {
       "output_type": "stream",
       "stream": "stdout",
       "text": [
        "\n",
        "217/1599\n",
        "218/1599"
       ]
      },
      {
       "output_type": "stream",
       "stream": "stdout",
       "text": [
        "\n",
        "219/1599"
       ]
      },
      {
       "output_type": "stream",
       "stream": "stdout",
       "text": [
        "\n",
        "220/1599"
       ]
      },
      {
       "output_type": "stream",
       "stream": "stdout",
       "text": [
        "\n",
        "221/1599"
       ]
      },
      {
       "output_type": "stream",
       "stream": "stdout",
       "text": [
        "\n",
        "222/1599"
       ]
      },
      {
       "output_type": "stream",
       "stream": "stdout",
       "text": [
        "\n",
        "223/1599\n",
        "224/1599"
       ]
      },
      {
       "output_type": "stream",
       "stream": "stdout",
       "text": [
        "\n",
        "225/1599"
       ]
      },
      {
       "output_type": "stream",
       "stream": "stdout",
       "text": [
        "\n",
        "226/1599"
       ]
      },
      {
       "output_type": "stream",
       "stream": "stdout",
       "text": [
        "\n",
        "227/1599"
       ]
      },
      {
       "output_type": "stream",
       "stream": "stdout",
       "text": [
        "\n",
        "228/1599"
       ]
      },
      {
       "output_type": "stream",
       "stream": "stdout",
       "text": [
        "\n",
        "229/1599"
       ]
      },
      {
       "output_type": "stream",
       "stream": "stdout",
       "text": [
        "\n",
        "230/1599"
       ]
      },
      {
       "output_type": "stream",
       "stream": "stdout",
       "text": [
        "\n",
        "231/1599"
       ]
      },
      {
       "output_type": "stream",
       "stream": "stdout",
       "text": [
        "\n",
        "232/1599"
       ]
      },
      {
       "output_type": "stream",
       "stream": "stdout",
       "text": [
        "\n",
        "233/1599"
       ]
      },
      {
       "output_type": "stream",
       "stream": "stdout",
       "text": [
        "\n",
        "234/1599"
       ]
      },
      {
       "output_type": "stream",
       "stream": "stdout",
       "text": [
        "\n",
        "235/1599"
       ]
      },
      {
       "output_type": "stream",
       "stream": "stdout",
       "text": [
        "\n",
        "236/1599"
       ]
      },
      {
       "output_type": "stream",
       "stream": "stdout",
       "text": [
        "\n",
        "237/1599\n",
        "238/1599"
       ]
      },
      {
       "output_type": "stream",
       "stream": "stdout",
       "text": [
        "\n",
        "239/1599"
       ]
      },
      {
       "output_type": "stream",
       "stream": "stdout",
       "text": [
        "\n",
        "240/1599"
       ]
      },
      {
       "output_type": "stream",
       "stream": "stdout",
       "text": [
        "\n",
        "241/1599"
       ]
      },
      {
       "output_type": "stream",
       "stream": "stdout",
       "text": [
        "\n",
        "242/1599\n",
        "243/1599"
       ]
      },
      {
       "output_type": "stream",
       "stream": "stdout",
       "text": [
        "\n",
        "244/1599"
       ]
      },
      {
       "output_type": "stream",
       "stream": "stdout",
       "text": [
        "\n",
        "245/1599"
       ]
      },
      {
       "output_type": "stream",
       "stream": "stdout",
       "text": [
        "\n",
        "246/1599"
       ]
      },
      {
       "output_type": "stream",
       "stream": "stdout",
       "text": [
        "\n",
        "247/1599"
       ]
      },
      {
       "output_type": "stream",
       "stream": "stdout",
       "text": [
        "\n",
        "248/1599"
       ]
      },
      {
       "output_type": "stream",
       "stream": "stdout",
       "text": [
        "\n",
        "249/1599"
       ]
      },
      {
       "output_type": "stream",
       "stream": "stdout",
       "text": [
        "\n",
        "250/1599"
       ]
      },
      {
       "output_type": "stream",
       "stream": "stdout",
       "text": [
        "\n",
        "251/1599"
       ]
      },
      {
       "output_type": "stream",
       "stream": "stdout",
       "text": [
        "\n",
        "252/1599"
       ]
      },
      {
       "output_type": "stream",
       "stream": "stdout",
       "text": [
        "\n",
        "253/1599"
       ]
      },
      {
       "output_type": "stream",
       "stream": "stdout",
       "text": [
        "\n",
        "254/1599"
       ]
      },
      {
       "output_type": "stream",
       "stream": "stdout",
       "text": [
        "\n",
        "255/1599"
       ]
      },
      {
       "output_type": "stream",
       "stream": "stdout",
       "text": [
        "\n",
        "256/1599"
       ]
      },
      {
       "output_type": "stream",
       "stream": "stdout",
       "text": [
        "\n",
        "257/1599"
       ]
      },
      {
       "output_type": "stream",
       "stream": "stdout",
       "text": [
        "\n",
        "258/1599"
       ]
      },
      {
       "output_type": "stream",
       "stream": "stdout",
       "text": [
        "\n",
        "259/1599"
       ]
      },
      {
       "output_type": "stream",
       "stream": "stdout",
       "text": [
        "\n",
        "260/1599"
       ]
      },
      {
       "output_type": "stream",
       "stream": "stdout",
       "text": [
        "\n",
        "261/1599"
       ]
      },
      {
       "output_type": "stream",
       "stream": "stdout",
       "text": [
        "\n",
        "262/1599"
       ]
      },
      {
       "output_type": "stream",
       "stream": "stdout",
       "text": [
        "\n",
        "263/1599"
       ]
      },
      {
       "output_type": "stream",
       "stream": "stdout",
       "text": [
        "\n",
        "264/1599"
       ]
      },
      {
       "output_type": "stream",
       "stream": "stdout",
       "text": [
        "\n",
        "265/1599"
       ]
      },
      {
       "output_type": "stream",
       "stream": "stdout",
       "text": [
        "\n",
        "266/1599"
       ]
      },
      {
       "output_type": "stream",
       "stream": "stdout",
       "text": [
        "\n",
        "267/1599"
       ]
      },
      {
       "output_type": "stream",
       "stream": "stdout",
       "text": [
        "\n",
        "268/1599"
       ]
      },
      {
       "output_type": "stream",
       "stream": "stdout",
       "text": [
        "\n",
        "269/1599"
       ]
      },
      {
       "output_type": "stream",
       "stream": "stdout",
       "text": [
        "\n",
        "270/1599"
       ]
      },
      {
       "output_type": "stream",
       "stream": "stdout",
       "text": [
        "\n",
        "271/1599"
       ]
      },
      {
       "output_type": "stream",
       "stream": "stdout",
       "text": [
        "\n",
        "272/1599"
       ]
      },
      {
       "output_type": "stream",
       "stream": "stdout",
       "text": [
        "\n",
        "273/1599"
       ]
      },
      {
       "output_type": "stream",
       "stream": "stdout",
       "text": [
        "\n",
        "274/1599"
       ]
      },
      {
       "output_type": "stream",
       "stream": "stdout",
       "text": [
        "\n",
        "275/1599"
       ]
      },
      {
       "output_type": "stream",
       "stream": "stdout",
       "text": [
        "\n",
        "276/1599"
       ]
      },
      {
       "output_type": "stream",
       "stream": "stdout",
       "text": [
        "\n",
        "277/1599"
       ]
      },
      {
       "output_type": "stream",
       "stream": "stdout",
       "text": [
        "\n",
        "278/1599"
       ]
      },
      {
       "output_type": "stream",
       "stream": "stdout",
       "text": [
        "\n",
        "279/1599"
       ]
      },
      {
       "output_type": "stream",
       "stream": "stdout",
       "text": [
        "\n",
        "280/1599\n",
        "281/1599"
       ]
      },
      {
       "output_type": "stream",
       "stream": "stdout",
       "text": [
        "\n",
        "282/1599"
       ]
      },
      {
       "output_type": "stream",
       "stream": "stdout",
       "text": [
        "\n",
        "283/1599"
       ]
      },
      {
       "output_type": "stream",
       "stream": "stdout",
       "text": [
        "\n",
        "284/1599\n",
        "285/1599"
       ]
      },
      {
       "output_type": "stream",
       "stream": "stdout",
       "text": [
        "\n",
        "286/1599"
       ]
      },
      {
       "output_type": "stream",
       "stream": "stdout",
       "text": [
        "\n",
        "287/1599"
       ]
      },
      {
       "output_type": "stream",
       "stream": "stdout",
       "text": [
        "\n",
        "288/1599"
       ]
      },
      {
       "output_type": "stream",
       "stream": "stdout",
       "text": [
        "\n",
        "289/1599"
       ]
      },
      {
       "output_type": "stream",
       "stream": "stdout",
       "text": [
        "\n",
        "290/1599"
       ]
      },
      {
       "output_type": "stream",
       "stream": "stdout",
       "text": [
        "\n",
        "291/1599"
       ]
      },
      {
       "output_type": "stream",
       "stream": "stdout",
       "text": [
        "\n",
        "292/1599"
       ]
      },
      {
       "output_type": "stream",
       "stream": "stdout",
       "text": [
        "\n",
        "293/1599"
       ]
      },
      {
       "output_type": "stream",
       "stream": "stdout",
       "text": [
        "\n",
        "294/1599"
       ]
      },
      {
       "output_type": "stream",
       "stream": "stdout",
       "text": [
        "\n",
        "295/1599"
       ]
      },
      {
       "output_type": "stream",
       "stream": "stdout",
       "text": [
        "\n",
        "296/1599"
       ]
      },
      {
       "output_type": "stream",
       "stream": "stdout",
       "text": [
        "\n",
        "297/1599"
       ]
      },
      {
       "output_type": "stream",
       "stream": "stdout",
       "text": [
        "\n",
        "298/1599"
       ]
      },
      {
       "output_type": "stream",
       "stream": "stdout",
       "text": [
        "\n",
        "299/1599"
       ]
      },
      {
       "output_type": "stream",
       "stream": "stdout",
       "text": [
        "\n",
        "300/1599"
       ]
      },
      {
       "output_type": "stream",
       "stream": "stdout",
       "text": [
        "\n",
        "301/1599"
       ]
      },
      {
       "output_type": "stream",
       "stream": "stdout",
       "text": [
        "\n",
        "302/1599"
       ]
      },
      {
       "output_type": "stream",
       "stream": "stdout",
       "text": [
        "\n",
        "303/1599"
       ]
      },
      {
       "output_type": "stream",
       "stream": "stdout",
       "text": [
        "\n",
        "304/1599\n",
        "305/1599"
       ]
      },
      {
       "output_type": "stream",
       "stream": "stdout",
       "text": [
        "\n",
        "306/1599"
       ]
      },
      {
       "output_type": "stream",
       "stream": "stdout",
       "text": [
        "\n",
        "307/1599"
       ]
      },
      {
       "output_type": "stream",
       "stream": "stdout",
       "text": [
        "\n",
        "308/1599"
       ]
      },
      {
       "output_type": "stream",
       "stream": "stdout",
       "text": [
        "\n",
        "309/1599"
       ]
      },
      {
       "output_type": "stream",
       "stream": "stdout",
       "text": [
        "\n",
        "310/1599"
       ]
      },
      {
       "output_type": "stream",
       "stream": "stdout",
       "text": [
        "\n",
        "311/1599"
       ]
      },
      {
       "output_type": "stream",
       "stream": "stdout",
       "text": [
        "\n",
        "312/1599"
       ]
      },
      {
       "output_type": "stream",
       "stream": "stdout",
       "text": [
        "\n",
        "313/1599\n",
        "314/1599"
       ]
      },
      {
       "output_type": "stream",
       "stream": "stdout",
       "text": [
        "\n",
        "315/1599"
       ]
      },
      {
       "output_type": "stream",
       "stream": "stdout",
       "text": [
        "\n",
        "316/1599"
       ]
      },
      {
       "output_type": "stream",
       "stream": "stdout",
       "text": [
        "\n",
        "317/1599\n",
        "318/1599"
       ]
      },
      {
       "output_type": "stream",
       "stream": "stdout",
       "text": [
        "\n",
        "319/1599"
       ]
      },
      {
       "output_type": "stream",
       "stream": "stdout",
       "text": [
        "\n",
        "320/1599"
       ]
      },
      {
       "output_type": "stream",
       "stream": "stdout",
       "text": [
        "\n",
        "321/1599"
       ]
      },
      {
       "output_type": "stream",
       "stream": "stdout",
       "text": [
        "\n",
        "322/1599"
       ]
      },
      {
       "output_type": "stream",
       "stream": "stdout",
       "text": [
        "\n",
        "323/1599"
       ]
      },
      {
       "output_type": "stream",
       "stream": "stdout",
       "text": [
        "\n",
        "324/1599"
       ]
      },
      {
       "output_type": "stream",
       "stream": "stdout",
       "text": [
        "\n",
        "325/1599"
       ]
      },
      {
       "output_type": "stream",
       "stream": "stdout",
       "text": [
        "\n",
        "326/1599"
       ]
      },
      {
       "output_type": "stream",
       "stream": "stdout",
       "text": [
        "\n",
        "327/1599"
       ]
      },
      {
       "output_type": "stream",
       "stream": "stdout",
       "text": [
        "\n",
        "328/1599"
       ]
      },
      {
       "output_type": "stream",
       "stream": "stdout",
       "text": [
        "\n",
        "329/1599"
       ]
      },
      {
       "output_type": "stream",
       "stream": "stdout",
       "text": [
        "\n",
        "330/1599"
       ]
      },
      {
       "output_type": "stream",
       "stream": "stdout",
       "text": [
        "\n",
        "331/1599"
       ]
      },
      {
       "output_type": "stream",
       "stream": "stdout",
       "text": [
        "\n",
        "332/1599"
       ]
      },
      {
       "output_type": "stream",
       "stream": "stdout",
       "text": [
        "\n",
        "333/1599"
       ]
      },
      {
       "output_type": "stream",
       "stream": "stdout",
       "text": [
        "\n",
        "334/1599"
       ]
      },
      {
       "output_type": "stream",
       "stream": "stdout",
       "text": [
        "\n",
        "335/1599"
       ]
      },
      {
       "output_type": "stream",
       "stream": "stdout",
       "text": [
        "\n",
        "336/1599"
       ]
      },
      {
       "output_type": "stream",
       "stream": "stdout",
       "text": [
        "\n",
        "337/1599"
       ]
      },
      {
       "output_type": "stream",
       "stream": "stdout",
       "text": [
        "\n",
        "338/1599"
       ]
      },
      {
       "output_type": "stream",
       "stream": "stdout",
       "text": [
        "\n",
        "339/1599"
       ]
      },
      {
       "output_type": "stream",
       "stream": "stdout",
       "text": [
        "\n",
        "340/1599"
       ]
      },
      {
       "output_type": "stream",
       "stream": "stdout",
       "text": [
        "\n",
        "341/1599"
       ]
      },
      {
       "output_type": "stream",
       "stream": "stdout",
       "text": [
        "\n",
        "342/1599"
       ]
      },
      {
       "output_type": "stream",
       "stream": "stdout",
       "text": [
        "\n",
        "343/1599"
       ]
      },
      {
       "output_type": "stream",
       "stream": "stdout",
       "text": [
        "\n",
        "344/1599"
       ]
      },
      {
       "output_type": "stream",
       "stream": "stdout",
       "text": [
        "\n",
        "345/1599"
       ]
      },
      {
       "output_type": "stream",
       "stream": "stdout",
       "text": [
        "\n",
        "346/1599"
       ]
      },
      {
       "output_type": "stream",
       "stream": "stdout",
       "text": [
        "\n",
        "347/1599"
       ]
      },
      {
       "output_type": "stream",
       "stream": "stdout",
       "text": [
        "\n",
        "348/1599"
       ]
      },
      {
       "output_type": "stream",
       "stream": "stdout",
       "text": [
        "\n",
        "349/1599"
       ]
      },
      {
       "output_type": "stream",
       "stream": "stdout",
       "text": [
        "\n",
        "350/1599"
       ]
      },
      {
       "output_type": "stream",
       "stream": "stdout",
       "text": [
        "\n",
        "351/1599"
       ]
      },
      {
       "output_type": "stream",
       "stream": "stdout",
       "text": [
        "\n",
        "352/1599"
       ]
      },
      {
       "output_type": "stream",
       "stream": "stdout",
       "text": [
        "\n",
        "353/1599"
       ]
      },
      {
       "output_type": "stream",
       "stream": "stdout",
       "text": [
        "\n",
        "354/1599"
       ]
      },
      {
       "output_type": "stream",
       "stream": "stdout",
       "text": [
        "\n",
        "355/1599"
       ]
      },
      {
       "output_type": "stream",
       "stream": "stdout",
       "text": [
        "\n",
        "356/1599"
       ]
      },
      {
       "output_type": "stream",
       "stream": "stdout",
       "text": [
        "\n",
        "357/1599"
       ]
      },
      {
       "output_type": "stream",
       "stream": "stdout",
       "text": [
        "\n",
        "358/1599"
       ]
      },
      {
       "output_type": "stream",
       "stream": "stdout",
       "text": [
        "\n",
        "359/1599"
       ]
      },
      {
       "output_type": "stream",
       "stream": "stdout",
       "text": [
        "\n",
        "360/1599"
       ]
      },
      {
       "output_type": "stream",
       "stream": "stdout",
       "text": [
        "\n",
        "361/1599"
       ]
      },
      {
       "output_type": "stream",
       "stream": "stdout",
       "text": [
        "\n",
        "362/1599"
       ]
      },
      {
       "output_type": "stream",
       "stream": "stdout",
       "text": [
        "\n",
        "363/1599"
       ]
      },
      {
       "output_type": "stream",
       "stream": "stdout",
       "text": [
        "\n",
        "364/1599"
       ]
      },
      {
       "output_type": "stream",
       "stream": "stdout",
       "text": [
        "\n",
        "365/1599"
       ]
      },
      {
       "output_type": "stream",
       "stream": "stdout",
       "text": [
        "\n",
        "366/1599"
       ]
      },
      {
       "output_type": "stream",
       "stream": "stdout",
       "text": [
        "\n",
        "367/1599"
       ]
      },
      {
       "output_type": "stream",
       "stream": "stdout",
       "text": [
        "\n",
        "368/1599"
       ]
      },
      {
       "output_type": "stream",
       "stream": "stdout",
       "text": [
        "\n",
        "369/1599"
       ]
      },
      {
       "output_type": "stream",
       "stream": "stdout",
       "text": [
        "\n",
        "370/1599"
       ]
      },
      {
       "output_type": "stream",
       "stream": "stdout",
       "text": [
        "\n",
        "371/1599"
       ]
      },
      {
       "output_type": "stream",
       "stream": "stdout",
       "text": [
        "\n",
        "372/1599"
       ]
      },
      {
       "output_type": "stream",
       "stream": "stdout",
       "text": [
        "\n",
        "373/1599"
       ]
      },
      {
       "output_type": "stream",
       "stream": "stdout",
       "text": [
        "\n",
        "374/1599"
       ]
      },
      {
       "output_type": "stream",
       "stream": "stdout",
       "text": [
        "\n",
        "375/1599"
       ]
      },
      {
       "output_type": "stream",
       "stream": "stdout",
       "text": [
        "\n",
        "376/1599"
       ]
      },
      {
       "output_type": "stream",
       "stream": "stdout",
       "text": [
        "\n",
        "377/1599"
       ]
      },
      {
       "output_type": "stream",
       "stream": "stdout",
       "text": [
        "\n",
        "378/1599"
       ]
      },
      {
       "output_type": "stream",
       "stream": "stdout",
       "text": [
        "\n",
        "379/1599"
       ]
      },
      {
       "output_type": "stream",
       "stream": "stdout",
       "text": [
        "\n",
        "380/1599"
       ]
      },
      {
       "output_type": "stream",
       "stream": "stdout",
       "text": [
        "\n",
        "381/1599"
       ]
      },
      {
       "output_type": "stream",
       "stream": "stdout",
       "text": [
        "\n",
        "382/1599"
       ]
      },
      {
       "output_type": "stream",
       "stream": "stdout",
       "text": [
        "\n",
        "383/1599"
       ]
      },
      {
       "output_type": "stream",
       "stream": "stdout",
       "text": [
        "\n",
        "384/1599"
       ]
      },
      {
       "output_type": "stream",
       "stream": "stdout",
       "text": [
        "\n",
        "385/1599"
       ]
      },
      {
       "output_type": "stream",
       "stream": "stdout",
       "text": [
        "\n",
        "386/1599"
       ]
      },
      {
       "output_type": "stream",
       "stream": "stdout",
       "text": [
        "\n",
        "387/1599"
       ]
      },
      {
       "output_type": "stream",
       "stream": "stdout",
       "text": [
        "\n",
        "388/1599"
       ]
      },
      {
       "output_type": "stream",
       "stream": "stdout",
       "text": [
        "\n",
        "389/1599"
       ]
      },
      {
       "output_type": "stream",
       "stream": "stdout",
       "text": [
        "\n",
        "390/1599"
       ]
      },
      {
       "output_type": "stream",
       "stream": "stdout",
       "text": [
        "\n",
        "391/1599\n",
        "392/1599"
       ]
      },
      {
       "output_type": "stream",
       "stream": "stdout",
       "text": [
        "\n",
        "393/1599\n",
        "394/1599"
       ]
      },
      {
       "output_type": "stream",
       "stream": "stdout",
       "text": [
        "\n",
        "395/1599"
       ]
      },
      {
       "output_type": "stream",
       "stream": "stdout",
       "text": [
        "\n",
        "396/1599"
       ]
      },
      {
       "output_type": "stream",
       "stream": "stdout",
       "text": [
        "\n",
        "397/1599"
       ]
      },
      {
       "output_type": "stream",
       "stream": "stdout",
       "text": [
        "\n",
        "398/1599"
       ]
      },
      {
       "output_type": "stream",
       "stream": "stdout",
       "text": [
        "\n",
        "399/1599"
       ]
      },
      {
       "output_type": "stream",
       "stream": "stdout",
       "text": [
        "\n",
        "400/1599\n",
        "401/1599"
       ]
      },
      {
       "output_type": "stream",
       "stream": "stdout",
       "text": [
        "\n",
        "402/1599"
       ]
      },
      {
       "output_type": "stream",
       "stream": "stdout",
       "text": [
        "\n",
        "403/1599"
       ]
      },
      {
       "output_type": "stream",
       "stream": "stdout",
       "text": [
        "\n",
        "404/1599"
       ]
      },
      {
       "output_type": "stream",
       "stream": "stdout",
       "text": [
        "\n",
        "405/1599"
       ]
      },
      {
       "output_type": "stream",
       "stream": "stdout",
       "text": [
        "\n",
        "406/1599"
       ]
      },
      {
       "output_type": "stream",
       "stream": "stdout",
       "text": [
        "\n",
        "407/1599"
       ]
      },
      {
       "output_type": "stream",
       "stream": "stdout",
       "text": [
        "\n",
        "408/1599"
       ]
      },
      {
       "output_type": "stream",
       "stream": "stdout",
       "text": [
        "\n",
        "409/1599"
       ]
      },
      {
       "output_type": "stream",
       "stream": "stdout",
       "text": [
        "\n",
        "410/1599"
       ]
      },
      {
       "output_type": "stream",
       "stream": "stdout",
       "text": [
        "\n",
        "411/1599"
       ]
      },
      {
       "output_type": "stream",
       "stream": "stdout",
       "text": [
        "\n",
        "412/1599"
       ]
      },
      {
       "output_type": "stream",
       "stream": "stdout",
       "text": [
        "\n",
        "413/1599"
       ]
      },
      {
       "output_type": "stream",
       "stream": "stdout",
       "text": [
        "\n",
        "414/1599"
       ]
      },
      {
       "output_type": "stream",
       "stream": "stdout",
       "text": [
        "\n",
        "415/1599\n",
        "416/1599"
       ]
      },
      {
       "output_type": "stream",
       "stream": "stdout",
       "text": [
        "\n",
        "417/1599"
       ]
      },
      {
       "output_type": "stream",
       "stream": "stdout",
       "text": [
        "\n",
        "418/1599\n",
        "419/1599"
       ]
      },
      {
       "output_type": "stream",
       "stream": "stdout",
       "text": [
        "\n",
        "420/1599"
       ]
      },
      {
       "output_type": "stream",
       "stream": "stdout",
       "text": [
        "\n",
        "421/1599"
       ]
      },
      {
       "output_type": "stream",
       "stream": "stdout",
       "text": [
        "\n",
        "422/1599"
       ]
      },
      {
       "output_type": "stream",
       "stream": "stdout",
       "text": [
        "\n",
        "423/1599"
       ]
      },
      {
       "output_type": "stream",
       "stream": "stdout",
       "text": [
        "\n",
        "424/1599"
       ]
      },
      {
       "output_type": "stream",
       "stream": "stdout",
       "text": [
        "\n",
        "425/1599"
       ]
      },
      {
       "output_type": "stream",
       "stream": "stdout",
       "text": [
        "\n",
        "426/1599"
       ]
      },
      {
       "output_type": "stream",
       "stream": "stdout",
       "text": [
        "\n",
        "427/1599"
       ]
      },
      {
       "output_type": "stream",
       "stream": "stdout",
       "text": [
        "\n",
        "428/1599"
       ]
      },
      {
       "output_type": "stream",
       "stream": "stdout",
       "text": [
        "\n",
        "429/1599"
       ]
      },
      {
       "output_type": "stream",
       "stream": "stdout",
       "text": [
        "\n",
        "430/1599"
       ]
      },
      {
       "output_type": "stream",
       "stream": "stdout",
       "text": [
        "\n",
        "431/1599"
       ]
      },
      {
       "output_type": "stream",
       "stream": "stdout",
       "text": [
        "\n",
        "432/1599"
       ]
      },
      {
       "output_type": "stream",
       "stream": "stdout",
       "text": [
        "\n",
        "433/1599"
       ]
      },
      {
       "output_type": "stream",
       "stream": "stdout",
       "text": [
        "\n",
        "434/1599"
       ]
      },
      {
       "output_type": "stream",
       "stream": "stdout",
       "text": [
        "\n",
        "435/1599"
       ]
      },
      {
       "output_type": "stream",
       "stream": "stdout",
       "text": [
        "\n",
        "436/1599"
       ]
      },
      {
       "output_type": "stream",
       "stream": "stdout",
       "text": [
        "\n",
        "437/1599"
       ]
      },
      {
       "output_type": "stream",
       "stream": "stdout",
       "text": [
        "\n",
        "438/1599"
       ]
      },
      {
       "output_type": "stream",
       "stream": "stdout",
       "text": [
        "\n",
        "439/1599"
       ]
      },
      {
       "output_type": "stream",
       "stream": "stdout",
       "text": [
        "\n",
        "440/1599"
       ]
      },
      {
       "output_type": "stream",
       "stream": "stdout",
       "text": [
        "\n",
        "441/1599"
       ]
      },
      {
       "output_type": "stream",
       "stream": "stdout",
       "text": [
        "\n",
        "442/1599"
       ]
      },
      {
       "output_type": "stream",
       "stream": "stdout",
       "text": [
        "\n",
        "443/1599"
       ]
      },
      {
       "output_type": "stream",
       "stream": "stdout",
       "text": [
        "\n",
        "444/1599"
       ]
      },
      {
       "output_type": "stream",
       "stream": "stdout",
       "text": [
        "\n",
        "445/1599\n",
        "446/1599"
       ]
      },
      {
       "output_type": "stream",
       "stream": "stdout",
       "text": [
        "\n",
        "447/1599"
       ]
      },
      {
       "output_type": "stream",
       "stream": "stdout",
       "text": [
        "\n",
        "448/1599"
       ]
      },
      {
       "output_type": "stream",
       "stream": "stdout",
       "text": [
        "\n",
        "449/1599"
       ]
      },
      {
       "output_type": "stream",
       "stream": "stdout",
       "text": [
        "\n",
        "450/1599"
       ]
      },
      {
       "output_type": "stream",
       "stream": "stdout",
       "text": [
        "\n",
        "451/1599"
       ]
      },
      {
       "output_type": "stream",
       "stream": "stdout",
       "text": [
        "\n",
        "452/1599"
       ]
      },
      {
       "output_type": "stream",
       "stream": "stdout",
       "text": [
        "\n",
        "453/1599\n",
        "454/1599"
       ]
      },
      {
       "output_type": "stream",
       "stream": "stdout",
       "text": [
        "\n",
        "455/1599"
       ]
      },
      {
       "output_type": "stream",
       "stream": "stdout",
       "text": [
        "\n",
        "456/1599"
       ]
      },
      {
       "output_type": "stream",
       "stream": "stdout",
       "text": [
        "\n",
        "457/1599"
       ]
      },
      {
       "output_type": "stream",
       "stream": "stdout",
       "text": [
        "\n",
        "458/1599"
       ]
      },
      {
       "output_type": "stream",
       "stream": "stdout",
       "text": [
        "\n",
        "459/1599"
       ]
      },
      {
       "output_type": "stream",
       "stream": "stdout",
       "text": [
        "\n",
        "460/1599"
       ]
      },
      {
       "output_type": "stream",
       "stream": "stdout",
       "text": [
        "\n",
        "461/1599"
       ]
      },
      {
       "output_type": "stream",
       "stream": "stdout",
       "text": [
        "\n",
        "462/1599"
       ]
      },
      {
       "output_type": "stream",
       "stream": "stdout",
       "text": [
        "\n",
        "463/1599"
       ]
      },
      {
       "output_type": "stream",
       "stream": "stdout",
       "text": [
        "\n",
        "464/1599"
       ]
      },
      {
       "output_type": "stream",
       "stream": "stdout",
       "text": [
        "\n",
        "465/1599"
       ]
      },
      {
       "output_type": "stream",
       "stream": "stdout",
       "text": [
        "\n",
        "466/1599"
       ]
      },
      {
       "output_type": "stream",
       "stream": "stdout",
       "text": [
        "\n",
        "467/1599"
       ]
      },
      {
       "output_type": "stream",
       "stream": "stdout",
       "text": [
        "\n",
        "468/1599"
       ]
      },
      {
       "output_type": "stream",
       "stream": "stdout",
       "text": [
        "\n",
        "469/1599"
       ]
      },
      {
       "output_type": "stream",
       "stream": "stdout",
       "text": [
        "\n",
        "470/1599\n",
        "471/1599"
       ]
      },
      {
       "output_type": "stream",
       "stream": "stdout",
       "text": [
        "\n",
        "472/1599"
       ]
      },
      {
       "output_type": "stream",
       "stream": "stdout",
       "text": [
        "\n",
        "473/1599"
       ]
      },
      {
       "output_type": "stream",
       "stream": "stdout",
       "text": [
        "\n",
        "474/1599"
       ]
      },
      {
       "output_type": "stream",
       "stream": "stdout",
       "text": [
        "\n",
        "475/1599"
       ]
      },
      {
       "output_type": "stream",
       "stream": "stdout",
       "text": [
        "\n",
        "476/1599"
       ]
      },
      {
       "output_type": "stream",
       "stream": "stdout",
       "text": [
        "\n",
        "477/1599"
       ]
      },
      {
       "output_type": "stream",
       "stream": "stdout",
       "text": [
        "\n",
        "478/1599"
       ]
      },
      {
       "output_type": "stream",
       "stream": "stdout",
       "text": [
        "\n",
        "479/1599"
       ]
      },
      {
       "output_type": "stream",
       "stream": "stdout",
       "text": [
        "\n",
        "480/1599"
       ]
      },
      {
       "output_type": "stream",
       "stream": "stdout",
       "text": [
        "\n",
        "481/1599"
       ]
      },
      {
       "output_type": "stream",
       "stream": "stdout",
       "text": [
        "\n",
        "482/1599\n",
        "483/1599"
       ]
      },
      {
       "output_type": "stream",
       "stream": "stdout",
       "text": [
        "\n",
        "484/1599"
       ]
      },
      {
       "output_type": "stream",
       "stream": "stdout",
       "text": [
        "\n",
        "485/1599"
       ]
      },
      {
       "output_type": "stream",
       "stream": "stdout",
       "text": [
        "\n",
        "486/1599\n",
        "487/1599"
       ]
      },
      {
       "output_type": "stream",
       "stream": "stdout",
       "text": [
        "\n",
        "488/1599"
       ]
      },
      {
       "output_type": "stream",
       "stream": "stdout",
       "text": [
        "\n",
        "489/1599\n",
        "490/1599"
       ]
      },
      {
       "output_type": "stream",
       "stream": "stdout",
       "text": [
        "\n",
        "491/1599"
       ]
      },
      {
       "output_type": "stream",
       "stream": "stdout",
       "text": [
        "\n",
        "492/1599"
       ]
      },
      {
       "output_type": "stream",
       "stream": "stdout",
       "text": [
        "\n",
        "493/1599"
       ]
      },
      {
       "output_type": "stream",
       "stream": "stdout",
       "text": [
        "\n",
        "494/1599"
       ]
      },
      {
       "output_type": "stream",
       "stream": "stdout",
       "text": [
        "\n",
        "495/1599"
       ]
      },
      {
       "output_type": "stream",
       "stream": "stdout",
       "text": [
        "\n",
        "496/1599"
       ]
      },
      {
       "output_type": "stream",
       "stream": "stdout",
       "text": [
        "\n",
        "497/1599"
       ]
      },
      {
       "output_type": "stream",
       "stream": "stdout",
       "text": [
        "\n",
        "498/1599"
       ]
      },
      {
       "output_type": "stream",
       "stream": "stdout",
       "text": [
        "\n",
        "499/1599"
       ]
      },
      {
       "output_type": "stream",
       "stream": "stdout",
       "text": [
        "\n",
        "500/1599"
       ]
      },
      {
       "output_type": "stream",
       "stream": "stdout",
       "text": [
        "\n",
        "501/1599"
       ]
      },
      {
       "output_type": "stream",
       "stream": "stdout",
       "text": [
        "\n",
        "502/1599"
       ]
      },
      {
       "output_type": "stream",
       "stream": "stdout",
       "text": [
        "\n",
        "503/1599\n",
        "504/1599"
       ]
      },
      {
       "output_type": "stream",
       "stream": "stdout",
       "text": [
        "\n",
        "505/1599"
       ]
      },
      {
       "output_type": "stream",
       "stream": "stdout",
       "text": [
        "\n",
        "506/1599"
       ]
      },
      {
       "output_type": "stream",
       "stream": "stdout",
       "text": [
        "\n",
        "507/1599"
       ]
      },
      {
       "output_type": "stream",
       "stream": "stdout",
       "text": [
        "\n",
        "508/1599"
       ]
      },
      {
       "output_type": "stream",
       "stream": "stdout",
       "text": [
        "\n",
        "509/1599"
       ]
      },
      {
       "output_type": "stream",
       "stream": "stdout",
       "text": [
        "\n",
        "510/1599"
       ]
      },
      {
       "output_type": "stream",
       "stream": "stdout",
       "text": [
        "\n",
        "511/1599"
       ]
      },
      {
       "output_type": "stream",
       "stream": "stdout",
       "text": [
        "\n",
        "512/1599"
       ]
      },
      {
       "output_type": "stream",
       "stream": "stdout",
       "text": [
        "\n",
        "513/1599"
       ]
      },
      {
       "output_type": "stream",
       "stream": "stdout",
       "text": [
        "\n",
        "514/1599"
       ]
      },
      {
       "output_type": "stream",
       "stream": "stdout",
       "text": [
        "\n",
        "515/1599"
       ]
      },
      {
       "output_type": "stream",
       "stream": "stdout",
       "text": [
        "\n",
        "516/1599"
       ]
      },
      {
       "output_type": "stream",
       "stream": "stdout",
       "text": [
        "\n",
        "517/1599"
       ]
      },
      {
       "output_type": "stream",
       "stream": "stdout",
       "text": [
        "\n",
        "518/1599"
       ]
      },
      {
       "output_type": "stream",
       "stream": "stdout",
       "text": [
        "\n",
        "519/1599"
       ]
      },
      {
       "output_type": "stream",
       "stream": "stdout",
       "text": [
        "\n",
        "520/1599"
       ]
      },
      {
       "output_type": "stream",
       "stream": "stdout",
       "text": [
        "\n",
        "521/1599"
       ]
      },
      {
       "output_type": "stream",
       "stream": "stdout",
       "text": [
        "\n",
        "522/1599"
       ]
      },
      {
       "output_type": "stream",
       "stream": "stdout",
       "text": [
        "\n",
        "523/1599"
       ]
      },
      {
       "output_type": "stream",
       "stream": "stdout",
       "text": [
        "\n",
        "524/1599"
       ]
      },
      {
       "output_type": "stream",
       "stream": "stdout",
       "text": [
        "\n",
        "525/1599"
       ]
      },
      {
       "output_type": "stream",
       "stream": "stdout",
       "text": [
        "\n",
        "526/1599"
       ]
      },
      {
       "output_type": "stream",
       "stream": "stdout",
       "text": [
        "\n",
        "527/1599"
       ]
      },
      {
       "output_type": "stream",
       "stream": "stdout",
       "text": [
        "\n",
        "528/1599"
       ]
      },
      {
       "output_type": "stream",
       "stream": "stdout",
       "text": [
        "\n",
        "529/1599"
       ]
      },
      {
       "output_type": "stream",
       "stream": "stdout",
       "text": [
        "\n",
        "530/1599"
       ]
      },
      {
       "output_type": "stream",
       "stream": "stdout",
       "text": [
        "\n",
        "531/1599"
       ]
      },
      {
       "output_type": "stream",
       "stream": "stdout",
       "text": [
        "\n",
        "532/1599"
       ]
      },
      {
       "output_type": "stream",
       "stream": "stdout",
       "text": [
        "\n",
        "533/1599"
       ]
      },
      {
       "output_type": "stream",
       "stream": "stdout",
       "text": [
        "\n",
        "534/1599"
       ]
      },
      {
       "output_type": "stream",
       "stream": "stdout",
       "text": [
        "\n",
        "535/1599"
       ]
      },
      {
       "output_type": "stream",
       "stream": "stdout",
       "text": [
        "\n",
        "536/1599"
       ]
      },
      {
       "output_type": "stream",
       "stream": "stdout",
       "text": [
        "\n",
        "537/1599"
       ]
      },
      {
       "output_type": "stream",
       "stream": "stdout",
       "text": [
        "\n",
        "538/1599"
       ]
      },
      {
       "output_type": "stream",
       "stream": "stdout",
       "text": [
        "\n",
        "539/1599"
       ]
      },
      {
       "output_type": "stream",
       "stream": "stdout",
       "text": [
        "\n",
        "540/1599"
       ]
      },
      {
       "output_type": "stream",
       "stream": "stdout",
       "text": [
        "\n",
        "541/1599"
       ]
      },
      {
       "output_type": "stream",
       "stream": "stdout",
       "text": [
        "\n",
        "542/1599"
       ]
      },
      {
       "output_type": "stream",
       "stream": "stdout",
       "text": [
        "\n",
        "543/1599"
       ]
      },
      {
       "output_type": "stream",
       "stream": "stdout",
       "text": [
        "\n",
        "544/1599"
       ]
      },
      {
       "output_type": "stream",
       "stream": "stdout",
       "text": [
        "\n",
        "545/1599"
       ]
      },
      {
       "output_type": "stream",
       "stream": "stdout",
       "text": [
        "\n",
        "546/1599"
       ]
      },
      {
       "output_type": "stream",
       "stream": "stdout",
       "text": [
        "\n",
        "547/1599"
       ]
      },
      {
       "output_type": "stream",
       "stream": "stdout",
       "text": [
        "\n",
        "548/1599"
       ]
      },
      {
       "output_type": "stream",
       "stream": "stdout",
       "text": [
        "\n",
        "549/1599"
       ]
      },
      {
       "output_type": "stream",
       "stream": "stdout",
       "text": [
        "\n",
        "550/1599"
       ]
      },
      {
       "output_type": "stream",
       "stream": "stdout",
       "text": [
        "\n",
        "551/1599"
       ]
      },
      {
       "output_type": "stream",
       "stream": "stdout",
       "text": [
        "\n",
        "552/1599"
       ]
      },
      {
       "output_type": "stream",
       "stream": "stdout",
       "text": [
        "\n",
        "553/1599"
       ]
      },
      {
       "output_type": "stream",
       "stream": "stdout",
       "text": [
        "\n",
        "554/1599"
       ]
      },
      {
       "output_type": "stream",
       "stream": "stdout",
       "text": [
        "\n",
        "555/1599"
       ]
      },
      {
       "output_type": "stream",
       "stream": "stdout",
       "text": [
        "\n",
        "556/1599"
       ]
      },
      {
       "output_type": "stream",
       "stream": "stdout",
       "text": [
        "\n",
        "557/1599"
       ]
      },
      {
       "output_type": "stream",
       "stream": "stdout",
       "text": [
        "\n",
        "558/1599"
       ]
      },
      {
       "output_type": "stream",
       "stream": "stdout",
       "text": [
        "\n",
        "559/1599"
       ]
      },
      {
       "output_type": "stream",
       "stream": "stdout",
       "text": [
        "\n",
        "560/1599"
       ]
      },
      {
       "output_type": "stream",
       "stream": "stdout",
       "text": [
        "\n",
        "561/1599"
       ]
      },
      {
       "output_type": "stream",
       "stream": "stdout",
       "text": [
        "\n",
        "562/1599"
       ]
      },
      {
       "output_type": "stream",
       "stream": "stdout",
       "text": [
        "\n",
        "563/1599"
       ]
      },
      {
       "output_type": "stream",
       "stream": "stdout",
       "text": [
        "\n",
        "564/1599"
       ]
      },
      {
       "output_type": "stream",
       "stream": "stdout",
       "text": [
        "\n",
        "565/1599"
       ]
      },
      {
       "output_type": "stream",
       "stream": "stdout",
       "text": [
        "\n",
        "566/1599\n",
        "567/1599"
       ]
      },
      {
       "output_type": "stream",
       "stream": "stdout",
       "text": [
        "\n",
        "568/1599"
       ]
      },
      {
       "output_type": "stream",
       "stream": "stdout",
       "text": [
        "\n",
        "569/1599"
       ]
      },
      {
       "output_type": "stream",
       "stream": "stdout",
       "text": [
        "\n",
        "570/1599"
       ]
      },
      {
       "output_type": "stream",
       "stream": "stdout",
       "text": [
        "\n",
        "571/1599"
       ]
      },
      {
       "output_type": "stream",
       "stream": "stdout",
       "text": [
        "\n",
        "572/1599"
       ]
      },
      {
       "output_type": "stream",
       "stream": "stdout",
       "text": [
        "\n",
        "573/1599"
       ]
      },
      {
       "output_type": "stream",
       "stream": "stdout",
       "text": [
        "\n",
        "574/1599"
       ]
      },
      {
       "output_type": "stream",
       "stream": "stdout",
       "text": [
        "\n",
        "575/1599"
       ]
      },
      {
       "output_type": "stream",
       "stream": "stdout",
       "text": [
        "\n",
        "576/1599"
       ]
      },
      {
       "output_type": "stream",
       "stream": "stdout",
       "text": [
        "\n",
        "577/1599"
       ]
      },
      {
       "output_type": "stream",
       "stream": "stdout",
       "text": [
        "\n",
        "578/1599"
       ]
      },
      {
       "output_type": "stream",
       "stream": "stdout",
       "text": [
        "\n",
        "579/1599"
       ]
      },
      {
       "output_type": "stream",
       "stream": "stdout",
       "text": [
        "\n",
        "580/1599"
       ]
      },
      {
       "output_type": "stream",
       "stream": "stdout",
       "text": [
        "\n",
        "581/1599"
       ]
      },
      {
       "output_type": "stream",
       "stream": "stdout",
       "text": [
        "\n",
        "582/1599"
       ]
      },
      {
       "output_type": "stream",
       "stream": "stdout",
       "text": [
        "\n",
        "583/1599"
       ]
      },
      {
       "output_type": "stream",
       "stream": "stdout",
       "text": [
        "\n",
        "584/1599"
       ]
      },
      {
       "output_type": "stream",
       "stream": "stdout",
       "text": [
        "\n",
        "585/1599"
       ]
      },
      {
       "output_type": "stream",
       "stream": "stdout",
       "text": [
        "\n",
        "586/1599"
       ]
      },
      {
       "output_type": "stream",
       "stream": "stdout",
       "text": [
        "\n",
        "587/1599"
       ]
      },
      {
       "output_type": "stream",
       "stream": "stdout",
       "text": [
        "\n",
        "588/1599"
       ]
      },
      {
       "output_type": "stream",
       "stream": "stdout",
       "text": [
        "\n",
        "589/1599"
       ]
      },
      {
       "output_type": "stream",
       "stream": "stdout",
       "text": [
        "\n",
        "590/1599"
       ]
      },
      {
       "output_type": "stream",
       "stream": "stdout",
       "text": [
        "\n",
        "591/1599"
       ]
      },
      {
       "output_type": "stream",
       "stream": "stdout",
       "text": [
        "\n",
        "592/1599"
       ]
      },
      {
       "output_type": "stream",
       "stream": "stdout",
       "text": [
        "\n",
        "593/1599"
       ]
      },
      {
       "output_type": "stream",
       "stream": "stdout",
       "text": [
        "\n",
        "594/1599"
       ]
      },
      {
       "output_type": "stream",
       "stream": "stdout",
       "text": [
        "\n",
        "595/1599"
       ]
      },
      {
       "output_type": "stream",
       "stream": "stdout",
       "text": [
        "\n",
        "596/1599"
       ]
      },
      {
       "output_type": "stream",
       "stream": "stdout",
       "text": [
        "\n",
        "597/1599"
       ]
      },
      {
       "output_type": "stream",
       "stream": "stdout",
       "text": [
        "\n",
        "598/1599"
       ]
      },
      {
       "output_type": "stream",
       "stream": "stdout",
       "text": [
        "\n",
        "599/1599"
       ]
      },
      {
       "output_type": "stream",
       "stream": "stdout",
       "text": [
        "\n",
        "600/1599"
       ]
      },
      {
       "output_type": "stream",
       "stream": "stdout",
       "text": [
        "\n",
        "601/1599"
       ]
      },
      {
       "output_type": "stream",
       "stream": "stdout",
       "text": [
        "\n",
        "602/1599"
       ]
      },
      {
       "output_type": "stream",
       "stream": "stdout",
       "text": [
        "\n",
        "603/1599"
       ]
      },
      {
       "output_type": "stream",
       "stream": "stdout",
       "text": [
        "\n",
        "604/1599"
       ]
      },
      {
       "output_type": "stream",
       "stream": "stdout",
       "text": [
        "\n",
        "605/1599"
       ]
      },
      {
       "output_type": "stream",
       "stream": "stdout",
       "text": [
        "\n",
        "606/1599"
       ]
      },
      {
       "output_type": "stream",
       "stream": "stdout",
       "text": [
        "\n",
        "607/1599"
       ]
      },
      {
       "output_type": "stream",
       "stream": "stdout",
       "text": [
        "\n",
        "608/1599"
       ]
      },
      {
       "output_type": "stream",
       "stream": "stdout",
       "text": [
        "\n",
        "609/1599"
       ]
      },
      {
       "output_type": "stream",
       "stream": "stdout",
       "text": [
        "\n",
        "610/1599"
       ]
      },
      {
       "output_type": "stream",
       "stream": "stdout",
       "text": [
        "\n",
        "611/1599"
       ]
      },
      {
       "output_type": "stream",
       "stream": "stdout",
       "text": [
        "\n",
        "612/1599"
       ]
      },
      {
       "output_type": "stream",
       "stream": "stdout",
       "text": [
        "\n",
        "613/1599"
       ]
      },
      {
       "output_type": "stream",
       "stream": "stdout",
       "text": [
        "\n",
        "614/1599"
       ]
      },
      {
       "output_type": "stream",
       "stream": "stdout",
       "text": [
        "\n",
        "615/1599"
       ]
      },
      {
       "output_type": "stream",
       "stream": "stdout",
       "text": [
        "\n",
        "616/1599"
       ]
      },
      {
       "output_type": "stream",
       "stream": "stdout",
       "text": [
        "\n",
        "617/1599\n",
        "618/1599"
       ]
      },
      {
       "output_type": "stream",
       "stream": "stdout",
       "text": [
        "\n",
        "619/1599"
       ]
      },
      {
       "output_type": "stream",
       "stream": "stdout",
       "text": [
        "\n",
        "620/1599"
       ]
      },
      {
       "output_type": "stream",
       "stream": "stdout",
       "text": [
        "\n",
        "621/1599"
       ]
      },
      {
       "output_type": "stream",
       "stream": "stdout",
       "text": [
        "\n",
        "622/1599"
       ]
      },
      {
       "output_type": "stream",
       "stream": "stdout",
       "text": [
        "\n",
        "623/1599"
       ]
      },
      {
       "output_type": "stream",
       "stream": "stdout",
       "text": [
        "\n",
        "624/1599"
       ]
      },
      {
       "output_type": "stream",
       "stream": "stdout",
       "text": [
        "\n",
        "625/1599"
       ]
      },
      {
       "output_type": "stream",
       "stream": "stdout",
       "text": [
        "\n",
        "626/1599"
       ]
      },
      {
       "output_type": "stream",
       "stream": "stdout",
       "text": [
        "\n",
        "627/1599"
       ]
      },
      {
       "output_type": "stream",
       "stream": "stdout",
       "text": [
        "\n",
        "628/1599"
       ]
      },
      {
       "output_type": "stream",
       "stream": "stdout",
       "text": [
        "\n",
        "629/1599"
       ]
      },
      {
       "output_type": "stream",
       "stream": "stdout",
       "text": [
        "\n",
        "630/1599"
       ]
      },
      {
       "output_type": "stream",
       "stream": "stdout",
       "text": [
        "\n",
        "631/1599"
       ]
      },
      {
       "output_type": "stream",
       "stream": "stdout",
       "text": [
        "\n",
        "632/1599"
       ]
      },
      {
       "output_type": "stream",
       "stream": "stdout",
       "text": [
        "\n",
        "633/1599"
       ]
      },
      {
       "output_type": "stream",
       "stream": "stdout",
       "text": [
        "\n",
        "634/1599"
       ]
      },
      {
       "output_type": "stream",
       "stream": "stdout",
       "text": [
        "\n",
        "635/1599"
       ]
      },
      {
       "output_type": "stream",
       "stream": "stdout",
       "text": [
        "\n",
        "636/1599"
       ]
      },
      {
       "output_type": "stream",
       "stream": "stdout",
       "text": [
        "\n",
        "637/1599"
       ]
      },
      {
       "output_type": "stream",
       "stream": "stdout",
       "text": [
        "\n",
        "638/1599"
       ]
      },
      {
       "output_type": "stream",
       "stream": "stdout",
       "text": [
        "\n",
        "639/1599"
       ]
      },
      {
       "output_type": "stream",
       "stream": "stdout",
       "text": [
        "\n",
        "640/1599"
       ]
      },
      {
       "output_type": "stream",
       "stream": "stdout",
       "text": [
        "\n",
        "641/1599"
       ]
      },
      {
       "output_type": "stream",
       "stream": "stdout",
       "text": [
        "\n",
        "642/1599"
       ]
      },
      {
       "output_type": "stream",
       "stream": "stdout",
       "text": [
        "\n",
        "643/1599"
       ]
      },
      {
       "output_type": "stream",
       "stream": "stdout",
       "text": [
        "\n",
        "644/1599"
       ]
      },
      {
       "output_type": "stream",
       "stream": "stdout",
       "text": [
        "\n",
        "645/1599"
       ]
      },
      {
       "output_type": "stream",
       "stream": "stdout",
       "text": [
        "\n",
        "646/1599"
       ]
      },
      {
       "output_type": "stream",
       "stream": "stdout",
       "text": [
        "\n",
        "647/1599"
       ]
      },
      {
       "output_type": "stream",
       "stream": "stdout",
       "text": [
        "\n",
        "648/1599\n",
        "649/1599"
       ]
      },
      {
       "output_type": "stream",
       "stream": "stdout",
       "text": [
        "\n",
        "650/1599"
       ]
      },
      {
       "output_type": "stream",
       "stream": "stdout",
       "text": [
        "\n",
        "651/1599"
       ]
      },
      {
       "output_type": "stream",
       "stream": "stdout",
       "text": [
        "\n",
        "652/1599"
       ]
      },
      {
       "output_type": "stream",
       "stream": "stdout",
       "text": [
        "\n",
        "653/1599\n",
        "654/1599"
       ]
      },
      {
       "output_type": "stream",
       "stream": "stdout",
       "text": [
        "\n",
        "655/1599"
       ]
      },
      {
       "output_type": "stream",
       "stream": "stdout",
       "text": [
        "\n",
        "656/1599"
       ]
      },
      {
       "output_type": "stream",
       "stream": "stdout",
       "text": [
        "\n",
        "657/1599"
       ]
      },
      {
       "output_type": "stream",
       "stream": "stdout",
       "text": [
        "\n",
        "658/1599"
       ]
      },
      {
       "output_type": "stream",
       "stream": "stdout",
       "text": [
        "\n",
        "659/1599"
       ]
      },
      {
       "output_type": "stream",
       "stream": "stdout",
       "text": [
        "\n",
        "660/1599"
       ]
      },
      {
       "output_type": "stream",
       "stream": "stdout",
       "text": [
        "\n",
        "661/1599"
       ]
      },
      {
       "output_type": "stream",
       "stream": "stdout",
       "text": [
        "\n",
        "662/1599"
       ]
      },
      {
       "output_type": "stream",
       "stream": "stdout",
       "text": [
        "\n",
        "663/1599"
       ]
      },
      {
       "output_type": "stream",
       "stream": "stdout",
       "text": [
        "\n",
        "664/1599"
       ]
      },
      {
       "output_type": "stream",
       "stream": "stdout",
       "text": [
        "\n",
        "665/1599"
       ]
      },
      {
       "output_type": "stream",
       "stream": "stdout",
       "text": [
        "\n",
        "666/1599"
       ]
      },
      {
       "output_type": "stream",
       "stream": "stdout",
       "text": [
        "\n",
        "667/1599"
       ]
      },
      {
       "output_type": "stream",
       "stream": "stdout",
       "text": [
        "\n",
        "668/1599"
       ]
      },
      {
       "output_type": "stream",
       "stream": "stdout",
       "text": [
        "\n",
        "669/1599"
       ]
      },
      {
       "output_type": "stream",
       "stream": "stdout",
       "text": [
        "\n",
        "670/1599"
       ]
      },
      {
       "output_type": "stream",
       "stream": "stdout",
       "text": [
        "\n",
        "671/1599"
       ]
      },
      {
       "output_type": "stream",
       "stream": "stdout",
       "text": [
        "\n",
        "672/1599"
       ]
      },
      {
       "output_type": "stream",
       "stream": "stdout",
       "text": [
        "\n",
        "673/1599"
       ]
      },
      {
       "output_type": "stream",
       "stream": "stdout",
       "text": [
        "\n",
        "674/1599"
       ]
      },
      {
       "output_type": "stream",
       "stream": "stdout",
       "text": [
        "\n",
        "675/1599"
       ]
      },
      {
       "output_type": "stream",
       "stream": "stdout",
       "text": [
        "\n",
        "676/1599"
       ]
      },
      {
       "output_type": "stream",
       "stream": "stdout",
       "text": [
        "\n",
        "677/1599"
       ]
      },
      {
       "output_type": "stream",
       "stream": "stdout",
       "text": [
        "\n",
        "678/1599"
       ]
      },
      {
       "output_type": "stream",
       "stream": "stdout",
       "text": [
        "\n",
        "679/1599"
       ]
      },
      {
       "output_type": "stream",
       "stream": "stdout",
       "text": [
        "\n",
        "680/1599"
       ]
      },
      {
       "output_type": "stream",
       "stream": "stdout",
       "text": [
        "\n",
        "681/1599"
       ]
      },
      {
       "output_type": "stream",
       "stream": "stdout",
       "text": [
        "\n",
        "682/1599"
       ]
      },
      {
       "output_type": "stream",
       "stream": "stdout",
       "text": [
        "\n",
        "683/1599"
       ]
      },
      {
       "output_type": "stream",
       "stream": "stdout",
       "text": [
        "\n",
        "684/1599"
       ]
      },
      {
       "output_type": "stream",
       "stream": "stdout",
       "text": [
        "\n",
        "685/1599"
       ]
      },
      {
       "output_type": "stream",
       "stream": "stdout",
       "text": [
        "\n",
        "686/1599"
       ]
      },
      {
       "output_type": "stream",
       "stream": "stdout",
       "text": [
        "\n",
        "687/1599"
       ]
      },
      {
       "output_type": "stream",
       "stream": "stdout",
       "text": [
        "\n",
        "688/1599"
       ]
      },
      {
       "output_type": "stream",
       "stream": "stdout",
       "text": [
        "\n",
        "689/1599"
       ]
      },
      {
       "output_type": "stream",
       "stream": "stdout",
       "text": [
        "\n",
        "690/1599"
       ]
      },
      {
       "output_type": "stream",
       "stream": "stdout",
       "text": [
        "\n",
        "691/1599"
       ]
      },
      {
       "output_type": "stream",
       "stream": "stdout",
       "text": [
        "\n",
        "692/1599"
       ]
      },
      {
       "output_type": "stream",
       "stream": "stdout",
       "text": [
        "\n",
        "693/1599\n",
        "694/1599"
       ]
      },
      {
       "output_type": "stream",
       "stream": "stdout",
       "text": [
        "\n",
        "695/1599"
       ]
      },
      {
       "output_type": "stream",
       "stream": "stdout",
       "text": [
        "\n",
        "696/1599"
       ]
      },
      {
       "output_type": "stream",
       "stream": "stdout",
       "text": [
        "\n",
        "697/1599"
       ]
      },
      {
       "output_type": "stream",
       "stream": "stdout",
       "text": [
        "\n",
        "698/1599"
       ]
      },
      {
       "output_type": "stream",
       "stream": "stdout",
       "text": [
        "\n",
        "699/1599"
       ]
      },
      {
       "output_type": "stream",
       "stream": "stdout",
       "text": [
        "\n",
        "700/1599"
       ]
      },
      {
       "output_type": "stream",
       "stream": "stdout",
       "text": [
        "\n",
        "701/1599"
       ]
      },
      {
       "output_type": "stream",
       "stream": "stdout",
       "text": [
        "\n",
        "702/1599"
       ]
      },
      {
       "output_type": "stream",
       "stream": "stdout",
       "text": [
        "\n",
        "703/1599"
       ]
      },
      {
       "output_type": "stream",
       "stream": "stdout",
       "text": [
        "\n",
        "704/1599"
       ]
      },
      {
       "output_type": "stream",
       "stream": "stdout",
       "text": [
        "\n",
        "705/1599"
       ]
      },
      {
       "output_type": "stream",
       "stream": "stdout",
       "text": [
        "\n",
        "706/1599"
       ]
      },
      {
       "output_type": "stream",
       "stream": "stdout",
       "text": [
        "\n",
        "707/1599"
       ]
      },
      {
       "output_type": "stream",
       "stream": "stdout",
       "text": [
        "\n",
        "708/1599"
       ]
      },
      {
       "output_type": "stream",
       "stream": "stdout",
       "text": [
        "\n",
        "709/1599"
       ]
      },
      {
       "output_type": "stream",
       "stream": "stdout",
       "text": [
        "\n",
        "710/1599"
       ]
      },
      {
       "output_type": "stream",
       "stream": "stdout",
       "text": [
        "\n",
        "711/1599"
       ]
      },
      {
       "output_type": "stream",
       "stream": "stdout",
       "text": [
        "\n",
        "712/1599"
       ]
      },
      {
       "output_type": "stream",
       "stream": "stdout",
       "text": [
        "\n",
        "713/1599"
       ]
      },
      {
       "output_type": "stream",
       "stream": "stdout",
       "text": [
        "\n",
        "714/1599"
       ]
      },
      {
       "output_type": "stream",
       "stream": "stdout",
       "text": [
        "\n",
        "715/1599"
       ]
      },
      {
       "output_type": "stream",
       "stream": "stdout",
       "text": [
        "\n",
        "716/1599"
       ]
      },
      {
       "output_type": "stream",
       "stream": "stdout",
       "text": [
        "\n",
        "717/1599"
       ]
      },
      {
       "output_type": "stream",
       "stream": "stdout",
       "text": [
        "\n",
        "718/1599"
       ]
      },
      {
       "output_type": "stream",
       "stream": "stdout",
       "text": [
        "\n",
        "719/1599"
       ]
      },
      {
       "output_type": "stream",
       "stream": "stdout",
       "text": [
        "\n",
        "720/1599"
       ]
      },
      {
       "output_type": "stream",
       "stream": "stdout",
       "text": [
        "\n",
        "721/1599"
       ]
      },
      {
       "output_type": "stream",
       "stream": "stdout",
       "text": [
        "\n",
        "722/1599"
       ]
      },
      {
       "output_type": "stream",
       "stream": "stdout",
       "text": [
        "\n",
        "723/1599"
       ]
      },
      {
       "output_type": "stream",
       "stream": "stdout",
       "text": [
        "\n",
        "724/1599"
       ]
      },
      {
       "output_type": "stream",
       "stream": "stdout",
       "text": [
        "\n",
        "725/1599"
       ]
      },
      {
       "output_type": "stream",
       "stream": "stdout",
       "text": [
        "\n",
        "726/1599"
       ]
      },
      {
       "output_type": "stream",
       "stream": "stdout",
       "text": [
        "\n",
        "727/1599"
       ]
      },
      {
       "output_type": "stream",
       "stream": "stdout",
       "text": [
        "\n",
        "728/1599"
       ]
      },
      {
       "output_type": "stream",
       "stream": "stdout",
       "text": [
        "\n",
        "729/1599"
       ]
      },
      {
       "output_type": "stream",
       "stream": "stdout",
       "text": [
        "\n",
        "730/1599"
       ]
      },
      {
       "output_type": "stream",
       "stream": "stdout",
       "text": [
        "\n",
        "731/1599"
       ]
      },
      {
       "output_type": "stream",
       "stream": "stdout",
       "text": [
        "\n",
        "732/1599"
       ]
      },
      {
       "output_type": "stream",
       "stream": "stdout",
       "text": [
        "\n",
        "733/1599"
       ]
      },
      {
       "output_type": "stream",
       "stream": "stdout",
       "text": [
        "\n",
        "734/1599"
       ]
      },
      {
       "output_type": "stream",
       "stream": "stdout",
       "text": [
        "\n",
        "735/1599"
       ]
      },
      {
       "output_type": "stream",
       "stream": "stdout",
       "text": [
        "\n",
        "736/1599\n",
        "737/1599"
       ]
      },
      {
       "output_type": "stream",
       "stream": "stdout",
       "text": [
        "\n",
        "738/1599"
       ]
      },
      {
       "output_type": "stream",
       "stream": "stdout",
       "text": [
        "\n",
        "739/1599"
       ]
      },
      {
       "output_type": "stream",
       "stream": "stdout",
       "text": [
        "\n",
        "740/1599"
       ]
      },
      {
       "output_type": "stream",
       "stream": "stdout",
       "text": [
        "\n",
        "741/1599"
       ]
      },
      {
       "output_type": "stream",
       "stream": "stdout",
       "text": [
        "\n",
        "742/1599"
       ]
      },
      {
       "output_type": "stream",
       "stream": "stdout",
       "text": [
        "\n",
        "743/1599"
       ]
      },
      {
       "output_type": "stream",
       "stream": "stdout",
       "text": [
        "\n",
        "744/1599"
       ]
      },
      {
       "output_type": "stream",
       "stream": "stdout",
       "text": [
        "\n",
        "745/1599"
       ]
      },
      {
       "output_type": "stream",
       "stream": "stdout",
       "text": [
        "\n",
        "746/1599\n",
        "747/1599"
       ]
      },
      {
       "output_type": "stream",
       "stream": "stdout",
       "text": [
        "\n",
        "748/1599"
       ]
      },
      {
       "output_type": "stream",
       "stream": "stdout",
       "text": [
        "\n",
        "749/1599"
       ]
      },
      {
       "output_type": "stream",
       "stream": "stdout",
       "text": [
        "\n",
        "750/1599"
       ]
      },
      {
       "output_type": "stream",
       "stream": "stdout",
       "text": [
        "\n",
        "751/1599"
       ]
      },
      {
       "output_type": "stream",
       "stream": "stdout",
       "text": [
        "\n",
        "752/1599"
       ]
      },
      {
       "output_type": "stream",
       "stream": "stdout",
       "text": [
        "\n",
        "753/1599"
       ]
      },
      {
       "output_type": "stream",
       "stream": "stdout",
       "text": [
        "\n",
        "754/1599"
       ]
      },
      {
       "output_type": "stream",
       "stream": "stdout",
       "text": [
        "\n",
        "755/1599"
       ]
      },
      {
       "output_type": "stream",
       "stream": "stdout",
       "text": [
        "\n",
        "756/1599"
       ]
      },
      {
       "output_type": "stream",
       "stream": "stdout",
       "text": [
        "\n",
        "757/1599\n",
        "758/1599"
       ]
      },
      {
       "output_type": "stream",
       "stream": "stdout",
       "text": [
        "\n",
        "759/1599"
       ]
      },
      {
       "output_type": "stream",
       "stream": "stdout",
       "text": [
        "\n",
        "760/1599"
       ]
      },
      {
       "output_type": "stream",
       "stream": "stdout",
       "text": [
        "\n",
        "761/1599"
       ]
      },
      {
       "output_type": "stream",
       "stream": "stdout",
       "text": [
        "\n",
        "762/1599"
       ]
      },
      {
       "output_type": "stream",
       "stream": "stdout",
       "text": [
        "\n",
        "763/1599"
       ]
      },
      {
       "output_type": "stream",
       "stream": "stdout",
       "text": [
        "\n",
        "764/1599"
       ]
      },
      {
       "output_type": "stream",
       "stream": "stdout",
       "text": [
        "\n",
        "765/1599"
       ]
      },
      {
       "output_type": "stream",
       "stream": "stdout",
       "text": [
        "\n",
        "766/1599"
       ]
      },
      {
       "output_type": "stream",
       "stream": "stdout",
       "text": [
        "\n",
        "767/1599"
       ]
      },
      {
       "output_type": "stream",
       "stream": "stdout",
       "text": [
        "\n",
        "768/1599"
       ]
      },
      {
       "output_type": "stream",
       "stream": "stdout",
       "text": [
        "\n",
        "769/1599"
       ]
      },
      {
       "output_type": "stream",
       "stream": "stdout",
       "text": [
        "\n",
        "770/1599"
       ]
      },
      {
       "output_type": "stream",
       "stream": "stdout",
       "text": [
        "\n",
        "771/1599"
       ]
      },
      {
       "output_type": "stream",
       "stream": "stdout",
       "text": [
        "\n",
        "772/1599"
       ]
      },
      {
       "output_type": "stream",
       "stream": "stdout",
       "text": [
        "\n",
        "773/1599"
       ]
      },
      {
       "output_type": "stream",
       "stream": "stdout",
       "text": [
        "\n",
        "774/1599"
       ]
      },
      {
       "output_type": "stream",
       "stream": "stdout",
       "text": [
        "\n",
        "775/1599"
       ]
      },
      {
       "output_type": "stream",
       "stream": "stdout",
       "text": [
        "\n",
        "776/1599"
       ]
      },
      {
       "output_type": "stream",
       "stream": "stdout",
       "text": [
        "\n",
        "777/1599"
       ]
      },
      {
       "output_type": "stream",
       "stream": "stdout",
       "text": [
        "\n",
        "778/1599"
       ]
      },
      {
       "output_type": "stream",
       "stream": "stdout",
       "text": [
        "\n",
        "779/1599"
       ]
      },
      {
       "output_type": "stream",
       "stream": "stdout",
       "text": [
        "\n",
        "780/1599"
       ]
      },
      {
       "output_type": "stream",
       "stream": "stdout",
       "text": [
        "\n",
        "781/1599"
       ]
      },
      {
       "output_type": "stream",
       "stream": "stdout",
       "text": [
        "\n",
        "782/1599"
       ]
      },
      {
       "output_type": "stream",
       "stream": "stdout",
       "text": [
        "\n",
        "783/1599"
       ]
      },
      {
       "output_type": "stream",
       "stream": "stdout",
       "text": [
        "\n",
        "784/1599"
       ]
      },
      {
       "output_type": "stream",
       "stream": "stdout",
       "text": [
        "\n",
        "785/1599"
       ]
      },
      {
       "output_type": "stream",
       "stream": "stdout",
       "text": [
        "\n",
        "786/1599"
       ]
      },
      {
       "output_type": "stream",
       "stream": "stdout",
       "text": [
        "\n",
        "787/1599"
       ]
      },
      {
       "output_type": "stream",
       "stream": "stdout",
       "text": [
        "\n",
        "788/1599"
       ]
      },
      {
       "output_type": "stream",
       "stream": "stdout",
       "text": [
        "\n",
        "789/1599"
       ]
      },
      {
       "output_type": "stream",
       "stream": "stdout",
       "text": [
        "\n",
        "790/1599"
       ]
      },
      {
       "output_type": "stream",
       "stream": "stdout",
       "text": [
        "\n",
        "791/1599"
       ]
      },
      {
       "output_type": "stream",
       "stream": "stdout",
       "text": [
        "\n",
        "792/1599"
       ]
      },
      {
       "output_type": "stream",
       "stream": "stdout",
       "text": [
        "\n",
        "793/1599"
       ]
      },
      {
       "output_type": "stream",
       "stream": "stdout",
       "text": [
        "\n",
        "794/1599"
       ]
      },
      {
       "output_type": "stream",
       "stream": "stdout",
       "text": [
        "\n",
        "795/1599"
       ]
      },
      {
       "output_type": "stream",
       "stream": "stdout",
       "text": [
        "\n",
        "796/1599"
       ]
      },
      {
       "output_type": "stream",
       "stream": "stdout",
       "text": [
        "\n",
        "797/1599"
       ]
      },
      {
       "output_type": "stream",
       "stream": "stdout",
       "text": [
        "\n",
        "798/1599"
       ]
      },
      {
       "output_type": "stream",
       "stream": "stdout",
       "text": [
        "\n",
        "799/1599"
       ]
      },
      {
       "output_type": "stream",
       "stream": "stdout",
       "text": [
        "\n",
        "800/1599"
       ]
      },
      {
       "output_type": "stream",
       "stream": "stdout",
       "text": [
        "\n",
        "801/1599"
       ]
      },
      {
       "output_type": "stream",
       "stream": "stdout",
       "text": [
        "\n",
        "802/1599"
       ]
      },
      {
       "output_type": "stream",
       "stream": "stdout",
       "text": [
        "\n",
        "803/1599"
       ]
      },
      {
       "output_type": "stream",
       "stream": "stdout",
       "text": [
        "\n",
        "804/1599"
       ]
      },
      {
       "output_type": "stream",
       "stream": "stdout",
       "text": [
        "\n",
        "805/1599"
       ]
      },
      {
       "output_type": "stream",
       "stream": "stdout",
       "text": [
        "\n",
        "806/1599"
       ]
      },
      {
       "output_type": "stream",
       "stream": "stdout",
       "text": [
        "\n",
        "807/1599"
       ]
      },
      {
       "output_type": "stream",
       "stream": "stdout",
       "text": [
        "\n",
        "808/1599"
       ]
      },
      {
       "output_type": "stream",
       "stream": "stdout",
       "text": [
        "\n",
        "809/1599"
       ]
      },
      {
       "output_type": "stream",
       "stream": "stdout",
       "text": [
        "\n",
        "810/1599"
       ]
      },
      {
       "output_type": "stream",
       "stream": "stdout",
       "text": [
        "\n",
        "811/1599"
       ]
      },
      {
       "output_type": "stream",
       "stream": "stdout",
       "text": [
        "\n",
        "812/1599"
       ]
      },
      {
       "output_type": "stream",
       "stream": "stdout",
       "text": [
        "\n",
        "813/1599"
       ]
      },
      {
       "output_type": "stream",
       "stream": "stdout",
       "text": [
        "\n",
        "814/1599"
       ]
      },
      {
       "output_type": "stream",
       "stream": "stdout",
       "text": [
        "\n",
        "815/1599"
       ]
      },
      {
       "output_type": "stream",
       "stream": "stdout",
       "text": [
        "\n",
        "816/1599"
       ]
      },
      {
       "output_type": "stream",
       "stream": "stdout",
       "text": [
        "\n",
        "817/1599"
       ]
      },
      {
       "output_type": "stream",
       "stream": "stdout",
       "text": [
        "\n",
        "818/1599"
       ]
      },
      {
       "output_type": "stream",
       "stream": "stdout",
       "text": [
        "\n",
        "819/1599"
       ]
      },
      {
       "output_type": "stream",
       "stream": "stdout",
       "text": [
        "\n",
        "820/1599"
       ]
      },
      {
       "output_type": "stream",
       "stream": "stdout",
       "text": [
        "\n",
        "821/1599"
       ]
      },
      {
       "output_type": "stream",
       "stream": "stdout",
       "text": [
        "\n",
        "822/1599"
       ]
      },
      {
       "output_type": "stream",
       "stream": "stdout",
       "text": [
        "\n",
        "823/1599"
       ]
      },
      {
       "output_type": "stream",
       "stream": "stdout",
       "text": [
        "\n",
        "824/1599"
       ]
      },
      {
       "output_type": "stream",
       "stream": "stdout",
       "text": [
        "\n",
        "825/1599"
       ]
      },
      {
       "output_type": "stream",
       "stream": "stdout",
       "text": [
        "\n",
        "826/1599"
       ]
      },
      {
       "output_type": "stream",
       "stream": "stdout",
       "text": [
        "\n",
        "827/1599"
       ]
      },
      {
       "output_type": "stream",
       "stream": "stdout",
       "text": [
        "\n",
        "828/1599"
       ]
      },
      {
       "output_type": "stream",
       "stream": "stdout",
       "text": [
        "\n",
        "829/1599"
       ]
      },
      {
       "output_type": "stream",
       "stream": "stdout",
       "text": [
        "\n",
        "830/1599"
       ]
      },
      {
       "output_type": "stream",
       "stream": "stdout",
       "text": [
        "\n",
        "831/1599"
       ]
      },
      {
       "output_type": "stream",
       "stream": "stdout",
       "text": [
        "\n",
        "832/1599"
       ]
      },
      {
       "output_type": "stream",
       "stream": "stdout",
       "text": [
        "\n",
        "833/1599"
       ]
      },
      {
       "output_type": "stream",
       "stream": "stdout",
       "text": [
        "\n",
        "834/1599"
       ]
      },
      {
       "output_type": "stream",
       "stream": "stdout",
       "text": [
        "\n",
        "835/1599"
       ]
      },
      {
       "output_type": "stream",
       "stream": "stdout",
       "text": [
        "\n",
        "836/1599"
       ]
      },
      {
       "output_type": "stream",
       "stream": "stdout",
       "text": [
        "\n",
        "837/1599"
       ]
      },
      {
       "output_type": "stream",
       "stream": "stdout",
       "text": [
        "\n",
        "838/1599"
       ]
      },
      {
       "output_type": "stream",
       "stream": "stdout",
       "text": [
        "\n",
        "839/1599"
       ]
      },
      {
       "output_type": "stream",
       "stream": "stdout",
       "text": [
        "\n",
        "840/1599"
       ]
      },
      {
       "output_type": "stream",
       "stream": "stdout",
       "text": [
        "\n",
        "841/1599"
       ]
      },
      {
       "output_type": "stream",
       "stream": "stdout",
       "text": [
        "\n",
        "842/1599"
       ]
      },
      {
       "output_type": "stream",
       "stream": "stdout",
       "text": [
        "\n",
        "843/1599"
       ]
      },
      {
       "output_type": "stream",
       "stream": "stdout",
       "text": [
        "\n",
        "844/1599"
       ]
      },
      {
       "output_type": "stream",
       "stream": "stdout",
       "text": [
        "\n",
        "845/1599"
       ]
      },
      {
       "output_type": "stream",
       "stream": "stdout",
       "text": [
        "\n",
        "846/1599"
       ]
      },
      {
       "output_type": "stream",
       "stream": "stdout",
       "text": [
        "\n",
        "847/1599"
       ]
      },
      {
       "output_type": "stream",
       "stream": "stdout",
       "text": [
        "\n",
        "848/1599"
       ]
      },
      {
       "output_type": "stream",
       "stream": "stdout",
       "text": [
        "\n",
        "849/1599"
       ]
      },
      {
       "output_type": "stream",
       "stream": "stdout",
       "text": [
        "\n",
        "850/1599"
       ]
      },
      {
       "output_type": "stream",
       "stream": "stdout",
       "text": [
        "\n",
        "851/1599"
       ]
      },
      {
       "output_type": "stream",
       "stream": "stdout",
       "text": [
        "\n",
        "852/1599"
       ]
      },
      {
       "output_type": "stream",
       "stream": "stdout",
       "text": [
        "\n",
        "853/1599"
       ]
      },
      {
       "output_type": "stream",
       "stream": "stdout",
       "text": [
        "\n",
        "854/1599"
       ]
      },
      {
       "output_type": "stream",
       "stream": "stdout",
       "text": [
        "\n",
        "855/1599"
       ]
      },
      {
       "output_type": "stream",
       "stream": "stdout",
       "text": [
        "\n",
        "856/1599"
       ]
      },
      {
       "output_type": "stream",
       "stream": "stdout",
       "text": [
        "\n",
        "857/1599"
       ]
      },
      {
       "output_type": "stream",
       "stream": "stdout",
       "text": [
        "\n",
        "858/1599"
       ]
      },
      {
       "output_type": "stream",
       "stream": "stdout",
       "text": [
        "\n",
        "859/1599"
       ]
      },
      {
       "output_type": "stream",
       "stream": "stdout",
       "text": [
        "\n",
        "860/1599"
       ]
      },
      {
       "output_type": "stream",
       "stream": "stdout",
       "text": [
        "\n",
        "861/1599"
       ]
      },
      {
       "output_type": "stream",
       "stream": "stdout",
       "text": [
        "\n",
        "862/1599"
       ]
      },
      {
       "output_type": "stream",
       "stream": "stdout",
       "text": [
        "\n",
        "863/1599"
       ]
      },
      {
       "output_type": "stream",
       "stream": "stdout",
       "text": [
        "\n",
        "864/1599"
       ]
      },
      {
       "output_type": "stream",
       "stream": "stdout",
       "text": [
        "\n",
        "865/1599"
       ]
      },
      {
       "output_type": "stream",
       "stream": "stdout",
       "text": [
        "\n",
        "866/1599"
       ]
      },
      {
       "output_type": "stream",
       "stream": "stdout",
       "text": [
        "\n",
        "867/1599"
       ]
      },
      {
       "output_type": "stream",
       "stream": "stdout",
       "text": [
        "\n",
        "868/1599"
       ]
      },
      {
       "output_type": "stream",
       "stream": "stdout",
       "text": [
        "\n",
        "869/1599"
       ]
      },
      {
       "output_type": "stream",
       "stream": "stdout",
       "text": [
        "\n",
        "870/1599"
       ]
      },
      {
       "output_type": "stream",
       "stream": "stdout",
       "text": [
        "\n",
        "871/1599"
       ]
      },
      {
       "output_type": "stream",
       "stream": "stdout",
       "text": [
        "\n",
        "872/1599"
       ]
      },
      {
       "output_type": "stream",
       "stream": "stdout",
       "text": [
        "\n",
        "873/1599"
       ]
      },
      {
       "output_type": "stream",
       "stream": "stdout",
       "text": [
        "\n",
        "874/1599"
       ]
      },
      {
       "output_type": "stream",
       "stream": "stdout",
       "text": [
        "\n",
        "875/1599"
       ]
      },
      {
       "output_type": "stream",
       "stream": "stdout",
       "text": [
        "\n",
        "876/1599"
       ]
      },
      {
       "output_type": "stream",
       "stream": "stdout",
       "text": [
        "\n",
        "877/1599"
       ]
      },
      {
       "output_type": "stream",
       "stream": "stdout",
       "text": [
        "\n",
        "878/1599"
       ]
      },
      {
       "output_type": "stream",
       "stream": "stdout",
       "text": [
        "\n",
        "879/1599"
       ]
      },
      {
       "output_type": "stream",
       "stream": "stdout",
       "text": [
        "\n",
        "880/1599"
       ]
      },
      {
       "output_type": "stream",
       "stream": "stdout",
       "text": [
        "\n",
        "881/1599"
       ]
      },
      {
       "output_type": "stream",
       "stream": "stdout",
       "text": [
        "\n",
        "882/1599"
       ]
      },
      {
       "output_type": "stream",
       "stream": "stdout",
       "text": [
        "\n",
        "883/1599"
       ]
      },
      {
       "output_type": "stream",
       "stream": "stdout",
       "text": [
        "\n",
        "884/1599"
       ]
      },
      {
       "output_type": "stream",
       "stream": "stdout",
       "text": [
        "\n",
        "885/1599"
       ]
      },
      {
       "output_type": "stream",
       "stream": "stdout",
       "text": [
        "\n",
        "886/1599\n",
        "887/1599"
       ]
      },
      {
       "output_type": "stream",
       "stream": "stdout",
       "text": [
        "\n",
        "888/1599"
       ]
      },
      {
       "output_type": "stream",
       "stream": "stdout",
       "text": [
        "\n",
        "889/1599"
       ]
      },
      {
       "output_type": "stream",
       "stream": "stdout",
       "text": [
        "\n",
        "890/1599"
       ]
      },
      {
       "output_type": "stream",
       "stream": "stdout",
       "text": [
        "\n",
        "891/1599"
       ]
      },
      {
       "output_type": "stream",
       "stream": "stdout",
       "text": [
        "\n",
        "892/1599"
       ]
      },
      {
       "output_type": "stream",
       "stream": "stdout",
       "text": [
        "\n",
        "893/1599"
       ]
      },
      {
       "output_type": "stream",
       "stream": "stdout",
       "text": [
        "\n",
        "894/1599"
       ]
      },
      {
       "output_type": "stream",
       "stream": "stdout",
       "text": [
        "\n",
        "895/1599"
       ]
      },
      {
       "output_type": "stream",
       "stream": "stdout",
       "text": [
        "\n",
        "896/1599"
       ]
      },
      {
       "output_type": "stream",
       "stream": "stdout",
       "text": [
        "\n",
        "897/1599"
       ]
      },
      {
       "output_type": "stream",
       "stream": "stdout",
       "text": [
        "\n",
        "898/1599"
       ]
      },
      {
       "output_type": "stream",
       "stream": "stdout",
       "text": [
        "\n",
        "899/1599"
       ]
      },
      {
       "output_type": "stream",
       "stream": "stdout",
       "text": [
        "\n",
        "900/1599"
       ]
      },
      {
       "output_type": "stream",
       "stream": "stdout",
       "text": [
        "\n",
        "901/1599"
       ]
      },
      {
       "output_type": "stream",
       "stream": "stdout",
       "text": [
        "\n",
        "902/1599"
       ]
      },
      {
       "output_type": "stream",
       "stream": "stdout",
       "text": [
        "\n",
        "903/1599"
       ]
      },
      {
       "output_type": "stream",
       "stream": "stdout",
       "text": [
        "\n",
        "904/1599\n",
        "905/1599"
       ]
      },
      {
       "output_type": "stream",
       "stream": "stdout",
       "text": [
        "\n",
        "906/1599"
       ]
      },
      {
       "output_type": "stream",
       "stream": "stdout",
       "text": [
        "\n",
        "907/1599"
       ]
      },
      {
       "output_type": "stream",
       "stream": "stdout",
       "text": [
        "\n",
        "908/1599"
       ]
      },
      {
       "output_type": "stream",
       "stream": "stdout",
       "text": [
        "\n",
        "909/1599"
       ]
      },
      {
       "output_type": "stream",
       "stream": "stdout",
       "text": [
        "\n",
        "910/1599"
       ]
      },
      {
       "output_type": "stream",
       "stream": "stdout",
       "text": [
        "\n",
        "911/1599"
       ]
      },
      {
       "output_type": "stream",
       "stream": "stdout",
       "text": [
        "\n",
        "912/1599"
       ]
      },
      {
       "output_type": "stream",
       "stream": "stdout",
       "text": [
        "\n",
        "913/1599"
       ]
      },
      {
       "output_type": "stream",
       "stream": "stdout",
       "text": [
        "\n",
        "914/1599"
       ]
      },
      {
       "output_type": "stream",
       "stream": "stdout",
       "text": [
        "\n",
        "915/1599"
       ]
      },
      {
       "output_type": "stream",
       "stream": "stdout",
       "text": [
        "\n",
        "916/1599"
       ]
      },
      {
       "output_type": "stream",
       "stream": "stdout",
       "text": [
        "\n",
        "917/1599"
       ]
      },
      {
       "output_type": "stream",
       "stream": "stdout",
       "text": [
        "\n",
        "918/1599\n",
        "919/1599"
       ]
      },
      {
       "output_type": "stream",
       "stream": "stdout",
       "text": [
        "\n",
        "920/1599"
       ]
      },
      {
       "output_type": "stream",
       "stream": "stdout",
       "text": [
        "\n",
        "921/1599"
       ]
      },
      {
       "output_type": "stream",
       "stream": "stdout",
       "text": [
        "\n",
        "922/1599"
       ]
      },
      {
       "output_type": "stream",
       "stream": "stdout",
       "text": [
        "\n",
        "923/1599"
       ]
      },
      {
       "output_type": "stream",
       "stream": "stdout",
       "text": [
        "\n",
        "924/1599"
       ]
      },
      {
       "output_type": "stream",
       "stream": "stdout",
       "text": [
        "\n",
        "925/1599"
       ]
      },
      {
       "output_type": "stream",
       "stream": "stdout",
       "text": [
        "\n",
        "926/1599"
       ]
      },
      {
       "output_type": "stream",
       "stream": "stdout",
       "text": [
        "\n",
        "927/1599"
       ]
      },
      {
       "output_type": "stream",
       "stream": "stdout",
       "text": [
        "\n",
        "928/1599"
       ]
      },
      {
       "output_type": "stream",
       "stream": "stdout",
       "text": [
        "\n",
        "929/1599"
       ]
      },
      {
       "output_type": "stream",
       "stream": "stdout",
       "text": [
        "\n",
        "930/1599"
       ]
      },
      {
       "output_type": "stream",
       "stream": "stdout",
       "text": [
        "\n",
        "931/1599"
       ]
      },
      {
       "output_type": "stream",
       "stream": "stdout",
       "text": [
        "\n",
        "932/1599"
       ]
      },
      {
       "output_type": "stream",
       "stream": "stdout",
       "text": [
        "\n",
        "933/1599"
       ]
      },
      {
       "output_type": "stream",
       "stream": "stdout",
       "text": [
        "\n",
        "934/1599"
       ]
      },
      {
       "output_type": "stream",
       "stream": "stdout",
       "text": [
        "\n",
        "935/1599"
       ]
      },
      {
       "output_type": "stream",
       "stream": "stdout",
       "text": [
        "\n",
        "936/1599"
       ]
      },
      {
       "output_type": "stream",
       "stream": "stdout",
       "text": [
        "\n",
        "937/1599"
       ]
      },
      {
       "output_type": "stream",
       "stream": "stdout",
       "text": [
        "\n",
        "938/1599"
       ]
      },
      {
       "output_type": "stream",
       "stream": "stdout",
       "text": [
        "\n",
        "939/1599"
       ]
      },
      {
       "output_type": "stream",
       "stream": "stdout",
       "text": [
        "\n",
        "940/1599"
       ]
      },
      {
       "output_type": "stream",
       "stream": "stdout",
       "text": [
        "\n",
        "941/1599"
       ]
      },
      {
       "output_type": "stream",
       "stream": "stdout",
       "text": [
        "\n",
        "942/1599"
       ]
      },
      {
       "output_type": "stream",
       "stream": "stdout",
       "text": [
        "\n",
        "943/1599"
       ]
      },
      {
       "output_type": "stream",
       "stream": "stdout",
       "text": [
        "\n",
        "944/1599"
       ]
      },
      {
       "output_type": "stream",
       "stream": "stdout",
       "text": [
        "\n",
        "945/1599"
       ]
      },
      {
       "output_type": "stream",
       "stream": "stdout",
       "text": [
        "\n",
        "946/1599"
       ]
      },
      {
       "output_type": "stream",
       "stream": "stdout",
       "text": [
        "\n",
        "947/1599"
       ]
      },
      {
       "output_type": "stream",
       "stream": "stdout",
       "text": [
        "\n",
        "948/1599"
       ]
      },
      {
       "output_type": "stream",
       "stream": "stdout",
       "text": [
        "\n",
        "949/1599"
       ]
      },
      {
       "output_type": "stream",
       "stream": "stdout",
       "text": [
        "\n",
        "950/1599"
       ]
      },
      {
       "output_type": "stream",
       "stream": "stdout",
       "text": [
        "\n",
        "951/1599"
       ]
      },
      {
       "output_type": "stream",
       "stream": "stdout",
       "text": [
        "\n",
        "952/1599"
       ]
      },
      {
       "output_type": "stream",
       "stream": "stdout",
       "text": [
        "\n",
        "953/1599"
       ]
      },
      {
       "output_type": "stream",
       "stream": "stdout",
       "text": [
        "\n",
        "954/1599"
       ]
      },
      {
       "output_type": "stream",
       "stream": "stdout",
       "text": [
        "\n",
        "955/1599"
       ]
      },
      {
       "output_type": "stream",
       "stream": "stdout",
       "text": [
        "\n",
        "956/1599"
       ]
      },
      {
       "output_type": "stream",
       "stream": "stdout",
       "text": [
        "\n",
        "957/1599"
       ]
      },
      {
       "output_type": "stream",
       "stream": "stdout",
       "text": [
        "\n",
        "958/1599"
       ]
      },
      {
       "output_type": "stream",
       "stream": "stdout",
       "text": [
        "\n",
        "959/1599"
       ]
      },
      {
       "output_type": "stream",
       "stream": "stdout",
       "text": [
        "\n",
        "960/1599"
       ]
      },
      {
       "output_type": "stream",
       "stream": "stdout",
       "text": [
        "\n",
        "961/1599"
       ]
      },
      {
       "output_type": "stream",
       "stream": "stdout",
       "text": [
        "\n",
        "962/1599"
       ]
      },
      {
       "output_type": "stream",
       "stream": "stdout",
       "text": [
        "\n",
        "963/1599"
       ]
      },
      {
       "output_type": "stream",
       "stream": "stdout",
       "text": [
        "\n",
        "964/1599"
       ]
      },
      {
       "output_type": "stream",
       "stream": "stdout",
       "text": [
        "\n",
        "965/1599"
       ]
      },
      {
       "output_type": "stream",
       "stream": "stdout",
       "text": [
        "\n",
        "966/1599"
       ]
      },
      {
       "output_type": "stream",
       "stream": "stdout",
       "text": [
        "\n",
        "967/1599"
       ]
      },
      {
       "output_type": "stream",
       "stream": "stdout",
       "text": [
        "\n",
        "968/1599"
       ]
      },
      {
       "output_type": "stream",
       "stream": "stdout",
       "text": [
        "\n",
        "969/1599"
       ]
      },
      {
       "output_type": "stream",
       "stream": "stdout",
       "text": [
        "\n",
        "970/1599"
       ]
      },
      {
       "output_type": "stream",
       "stream": "stdout",
       "text": [
        "\n",
        "971/1599"
       ]
      },
      {
       "output_type": "stream",
       "stream": "stdout",
       "text": [
        "\n",
        "972/1599"
       ]
      },
      {
       "output_type": "stream",
       "stream": "stdout",
       "text": [
        "\n",
        "973/1599"
       ]
      },
      {
       "output_type": "stream",
       "stream": "stdout",
       "text": [
        "\n",
        "974/1599"
       ]
      },
      {
       "output_type": "stream",
       "stream": "stdout",
       "text": [
        "\n",
        "975/1599"
       ]
      },
      {
       "output_type": "stream",
       "stream": "stdout",
       "text": [
        "\n",
        "976/1599"
       ]
      },
      {
       "output_type": "stream",
       "stream": "stdout",
       "text": [
        "\n",
        "977/1599"
       ]
      },
      {
       "output_type": "stream",
       "stream": "stdout",
       "text": [
        "\n",
        "978/1599"
       ]
      },
      {
       "output_type": "stream",
       "stream": "stdout",
       "text": [
        "\n",
        "979/1599"
       ]
      },
      {
       "output_type": "stream",
       "stream": "stdout",
       "text": [
        "\n",
        "980/1599\n",
        "981/1599"
       ]
      },
      {
       "output_type": "stream",
       "stream": "stdout",
       "text": [
        "\n",
        "982/1599"
       ]
      },
      {
       "output_type": "stream",
       "stream": "stdout",
       "text": [
        "\n",
        "983/1599"
       ]
      },
      {
       "output_type": "stream",
       "stream": "stdout",
       "text": [
        "\n",
        "984/1599"
       ]
      },
      {
       "output_type": "stream",
       "stream": "stdout",
       "text": [
        "\n",
        "985/1599"
       ]
      },
      {
       "output_type": "stream",
       "stream": "stdout",
       "text": [
        "\n",
        "986/1599"
       ]
      },
      {
       "output_type": "stream",
       "stream": "stdout",
       "text": [
        "\n",
        "987/1599"
       ]
      },
      {
       "output_type": "stream",
       "stream": "stdout",
       "text": [
        "\n",
        "988/1599"
       ]
      },
      {
       "output_type": "stream",
       "stream": "stdout",
       "text": [
        "\n",
        "989/1599"
       ]
      },
      {
       "output_type": "stream",
       "stream": "stdout",
       "text": [
        "\n",
        "990/1599"
       ]
      },
      {
       "output_type": "stream",
       "stream": "stdout",
       "text": [
        "\n",
        "991/1599"
       ]
      },
      {
       "output_type": "stream",
       "stream": "stdout",
       "text": [
        "\n",
        "992/1599"
       ]
      },
      {
       "output_type": "stream",
       "stream": "stdout",
       "text": [
        "\n",
        "993/1599"
       ]
      },
      {
       "output_type": "stream",
       "stream": "stdout",
       "text": [
        "\n",
        "994/1599"
       ]
      },
      {
       "output_type": "stream",
       "stream": "stdout",
       "text": [
        "\n",
        "995/1599"
       ]
      },
      {
       "output_type": "stream",
       "stream": "stdout",
       "text": [
        "\n",
        "996/1599"
       ]
      },
      {
       "output_type": "stream",
       "stream": "stdout",
       "text": [
        "\n",
        "997/1599"
       ]
      },
      {
       "output_type": "stream",
       "stream": "stdout",
       "text": [
        "\n",
        "998/1599"
       ]
      },
      {
       "output_type": "stream",
       "stream": "stdout",
       "text": [
        "\n",
        "999/1599"
       ]
      },
      {
       "output_type": "stream",
       "stream": "stdout",
       "text": [
        "\n",
        "1000/1599"
       ]
      },
      {
       "output_type": "stream",
       "stream": "stdout",
       "text": [
        "\n",
        "1001/1599"
       ]
      },
      {
       "output_type": "stream",
       "stream": "stdout",
       "text": [
        "\n",
        "1002/1599"
       ]
      },
      {
       "output_type": "stream",
       "stream": "stdout",
       "text": [
        "\n",
        "1003/1599"
       ]
      },
      {
       "output_type": "stream",
       "stream": "stdout",
       "text": [
        "\n",
        "1004/1599"
       ]
      },
      {
       "output_type": "stream",
       "stream": "stdout",
       "text": [
        "\n",
        "1005/1599"
       ]
      },
      {
       "output_type": "stream",
       "stream": "stdout",
       "text": [
        "\n",
        "1006/1599"
       ]
      },
      {
       "output_type": "stream",
       "stream": "stdout",
       "text": [
        "\n",
        "1007/1599"
       ]
      },
      {
       "output_type": "stream",
       "stream": "stdout",
       "text": [
        "\n",
        "1008/1599"
       ]
      },
      {
       "output_type": "stream",
       "stream": "stdout",
       "text": [
        "\n",
        "1009/1599"
       ]
      },
      {
       "output_type": "stream",
       "stream": "stdout",
       "text": [
        "\n",
        "1010/1599"
       ]
      },
      {
       "output_type": "stream",
       "stream": "stdout",
       "text": [
        "\n",
        "1011/1599"
       ]
      },
      {
       "output_type": "stream",
       "stream": "stdout",
       "text": [
        "\n",
        "1012/1599"
       ]
      },
      {
       "output_type": "stream",
       "stream": "stdout",
       "text": [
        "\n",
        "1013/1599"
       ]
      },
      {
       "output_type": "stream",
       "stream": "stdout",
       "text": [
        "\n",
        "1014/1599"
       ]
      },
      {
       "output_type": "stream",
       "stream": "stdout",
       "text": [
        "\n",
        "1015/1599"
       ]
      },
      {
       "output_type": "stream",
       "stream": "stdout",
       "text": [
        "\n",
        "1016/1599\n",
        "1017/1599"
       ]
      },
      {
       "output_type": "stream",
       "stream": "stdout",
       "text": [
        "\n",
        "1018/1599"
       ]
      },
      {
       "output_type": "stream",
       "stream": "stdout",
       "text": [
        "\n",
        "1019/1599"
       ]
      },
      {
       "output_type": "stream",
       "stream": "stdout",
       "text": [
        "\n",
        "1020/1599"
       ]
      },
      {
       "output_type": "stream",
       "stream": "stdout",
       "text": [
        "\n",
        "1021/1599"
       ]
      },
      {
       "output_type": "stream",
       "stream": "stdout",
       "text": [
        "\n",
        "1022/1599"
       ]
      },
      {
       "output_type": "stream",
       "stream": "stdout",
       "text": [
        "\n",
        "1023/1599"
       ]
      },
      {
       "output_type": "stream",
       "stream": "stdout",
       "text": [
        "\n",
        "1024/1599"
       ]
      },
      {
       "output_type": "stream",
       "stream": "stdout",
       "text": [
        "\n",
        "1025/1599"
       ]
      },
      {
       "output_type": "stream",
       "stream": "stdout",
       "text": [
        "\n",
        "1026/1599"
       ]
      },
      {
       "output_type": "stream",
       "stream": "stdout",
       "text": [
        "\n",
        "1027/1599"
       ]
      },
      {
       "output_type": "stream",
       "stream": "stdout",
       "text": [
        "\n",
        "1028/1599"
       ]
      },
      {
       "output_type": "stream",
       "stream": "stdout",
       "text": [
        "\n",
        "1029/1599"
       ]
      },
      {
       "output_type": "stream",
       "stream": "stdout",
       "text": [
        "\n",
        "1030/1599"
       ]
      },
      {
       "output_type": "stream",
       "stream": "stdout",
       "text": [
        "\n",
        "1031/1599"
       ]
      },
      {
       "output_type": "stream",
       "stream": "stdout",
       "text": [
        "\n",
        "1032/1599"
       ]
      },
      {
       "output_type": "stream",
       "stream": "stdout",
       "text": [
        "\n",
        "1033/1599"
       ]
      },
      {
       "output_type": "stream",
       "stream": "stdout",
       "text": [
        "\n",
        "1034/1599"
       ]
      },
      {
       "output_type": "stream",
       "stream": "stdout",
       "text": [
        "\n",
        "1035/1599"
       ]
      },
      {
       "output_type": "stream",
       "stream": "stdout",
       "text": [
        "\n",
        "1036/1599"
       ]
      },
      {
       "output_type": "stream",
       "stream": "stdout",
       "text": [
        "\n",
        "1037/1599"
       ]
      },
      {
       "output_type": "stream",
       "stream": "stdout",
       "text": [
        "\n",
        "1038/1599"
       ]
      },
      {
       "output_type": "stream",
       "stream": "stdout",
       "text": [
        "\n",
        "1039/1599"
       ]
      },
      {
       "output_type": "stream",
       "stream": "stdout",
       "text": [
        "\n",
        "1040/1599"
       ]
      },
      {
       "output_type": "stream",
       "stream": "stdout",
       "text": [
        "\n",
        "1041/1599"
       ]
      },
      {
       "output_type": "stream",
       "stream": "stdout",
       "text": [
        "\n",
        "1042/1599"
       ]
      },
      {
       "output_type": "stream",
       "stream": "stdout",
       "text": [
        "\n",
        "1043/1599"
       ]
      },
      {
       "output_type": "stream",
       "stream": "stdout",
       "text": [
        "\n",
        "1044/1599"
       ]
      },
      {
       "output_type": "stream",
       "stream": "stdout",
       "text": [
        "\n",
        "1045/1599"
       ]
      },
      {
       "output_type": "stream",
       "stream": "stdout",
       "text": [
        "\n",
        "1046/1599"
       ]
      },
      {
       "output_type": "stream",
       "stream": "stdout",
       "text": [
        "\n",
        "1047/1599"
       ]
      },
      {
       "output_type": "stream",
       "stream": "stdout",
       "text": [
        "\n",
        "1048/1599"
       ]
      },
      {
       "output_type": "stream",
       "stream": "stdout",
       "text": [
        "\n",
        "1049/1599"
       ]
      },
      {
       "output_type": "stream",
       "stream": "stdout",
       "text": [
        "\n",
        "1050/1599"
       ]
      },
      {
       "output_type": "stream",
       "stream": "stdout",
       "text": [
        "\n",
        "1051/1599"
       ]
      },
      {
       "output_type": "stream",
       "stream": "stdout",
       "text": [
        "\n",
        "1052/1599"
       ]
      },
      {
       "output_type": "stream",
       "stream": "stdout",
       "text": [
        "\n",
        "1053/1599"
       ]
      },
      {
       "output_type": "stream",
       "stream": "stdout",
       "text": [
        "\n",
        "1054/1599\n",
        "1055/1599"
       ]
      },
      {
       "output_type": "stream",
       "stream": "stdout",
       "text": [
        "\n",
        "1056/1599"
       ]
      },
      {
       "output_type": "stream",
       "stream": "stdout",
       "text": [
        "\n",
        "1057/1599"
       ]
      },
      {
       "output_type": "stream",
       "stream": "stdout",
       "text": [
        "\n",
        "1058/1599\n",
        "1059/1599"
       ]
      },
      {
       "output_type": "stream",
       "stream": "stdout",
       "text": [
        "\n",
        "1060/1599\n",
        "1061/1599"
       ]
      },
      {
       "output_type": "stream",
       "stream": "stdout",
       "text": [
        "\n",
        "1062/1599"
       ]
      },
      {
       "output_type": "stream",
       "stream": "stdout",
       "text": [
        "\n",
        "1063/1599"
       ]
      },
      {
       "output_type": "stream",
       "stream": "stdout",
       "text": [
        "\n",
        "1064/1599"
       ]
      },
      {
       "output_type": "stream",
       "stream": "stdout",
       "text": [
        "\n",
        "1065/1599"
       ]
      },
      {
       "output_type": "stream",
       "stream": "stdout",
       "text": [
        "\n",
        "1066/1599"
       ]
      },
      {
       "output_type": "stream",
       "stream": "stdout",
       "text": [
        "\n",
        "1067/1599"
       ]
      },
      {
       "output_type": "stream",
       "stream": "stdout",
       "text": [
        "\n",
        "1068/1599"
       ]
      },
      {
       "output_type": "stream",
       "stream": "stdout",
       "text": [
        "\n",
        "1069/1599"
       ]
      },
      {
       "output_type": "stream",
       "stream": "stdout",
       "text": [
        "\n",
        "1070/1599"
       ]
      },
      {
       "output_type": "stream",
       "stream": "stdout",
       "text": [
        "\n",
        "1071/1599"
       ]
      },
      {
       "output_type": "stream",
       "stream": "stdout",
       "text": [
        "\n",
        "1072/1599"
       ]
      },
      {
       "output_type": "stream",
       "stream": "stdout",
       "text": [
        "\n",
        "1073/1599"
       ]
      },
      {
       "output_type": "stream",
       "stream": "stdout",
       "text": [
        "\n",
        "1074/1599"
       ]
      },
      {
       "output_type": "stream",
       "stream": "stdout",
       "text": [
        "\n",
        "1075/1599"
       ]
      },
      {
       "output_type": "stream",
       "stream": "stdout",
       "text": [
        "\n",
        "1076/1599"
       ]
      },
      {
       "output_type": "stream",
       "stream": "stdout",
       "text": [
        "\n",
        "1077/1599"
       ]
      },
      {
       "output_type": "stream",
       "stream": "stdout",
       "text": [
        "\n",
        "1078/1599"
       ]
      },
      {
       "output_type": "stream",
       "stream": "stdout",
       "text": [
        "\n",
        "1079/1599\n",
        "1080/1599"
       ]
      },
      {
       "output_type": "stream",
       "stream": "stdout",
       "text": [
        "\n",
        "1081/1599"
       ]
      },
      {
       "output_type": "stream",
       "stream": "stdout",
       "text": [
        "\n",
        "1082/1599"
       ]
      },
      {
       "output_type": "stream",
       "stream": "stdout",
       "text": [
        "\n",
        "1083/1599"
       ]
      },
      {
       "output_type": "stream",
       "stream": "stdout",
       "text": [
        "\n",
        "1084/1599"
       ]
      },
      {
       "output_type": "stream",
       "stream": "stdout",
       "text": [
        "\n",
        "1085/1599"
       ]
      },
      {
       "output_type": "stream",
       "stream": "stdout",
       "text": [
        "\n",
        "1086/1599"
       ]
      },
      {
       "output_type": "stream",
       "stream": "stdout",
       "text": [
        "\n",
        "1087/1599"
       ]
      },
      {
       "output_type": "stream",
       "stream": "stdout",
       "text": [
        "\n",
        "1088/1599"
       ]
      },
      {
       "output_type": "stream",
       "stream": "stdout",
       "text": [
        "\n",
        "1089/1599"
       ]
      },
      {
       "output_type": "stream",
       "stream": "stdout",
       "text": [
        "\n",
        "1090/1599"
       ]
      },
      {
       "output_type": "stream",
       "stream": "stdout",
       "text": [
        "\n",
        "1091/1599"
       ]
      },
      {
       "output_type": "stream",
       "stream": "stdout",
       "text": [
        "\n",
        "1092/1599"
       ]
      },
      {
       "output_type": "stream",
       "stream": "stdout",
       "text": [
        "\n",
        "1093/1599"
       ]
      },
      {
       "output_type": "stream",
       "stream": "stdout",
       "text": [
        "\n",
        "1094/1599"
       ]
      },
      {
       "output_type": "stream",
       "stream": "stdout",
       "text": [
        "\n",
        "1095/1599"
       ]
      },
      {
       "output_type": "stream",
       "stream": "stdout",
       "text": [
        "\n",
        "1096/1599"
       ]
      },
      {
       "output_type": "stream",
       "stream": "stdout",
       "text": [
        "\n",
        "1097/1599"
       ]
      },
      {
       "output_type": "stream",
       "stream": "stdout",
       "text": [
        "\n",
        "1098/1599"
       ]
      },
      {
       "output_type": "stream",
       "stream": "stdout",
       "text": [
        "\n",
        "1099/1599"
       ]
      },
      {
       "output_type": "stream",
       "stream": "stdout",
       "text": [
        "\n",
        "1100/1599"
       ]
      },
      {
       "output_type": "stream",
       "stream": "stdout",
       "text": [
        "\n",
        "1101/1599"
       ]
      },
      {
       "output_type": "stream",
       "stream": "stdout",
       "text": [
        "\n",
        "1102/1599"
       ]
      },
      {
       "output_type": "stream",
       "stream": "stdout",
       "text": [
        "\n",
        "1103/1599"
       ]
      },
      {
       "output_type": "stream",
       "stream": "stdout",
       "text": [
        "\n",
        "1104/1599"
       ]
      },
      {
       "output_type": "stream",
       "stream": "stdout",
       "text": [
        "\n",
        "1105/1599"
       ]
      },
      {
       "output_type": "stream",
       "stream": "stdout",
       "text": [
        "\n",
        "1106/1599"
       ]
      },
      {
       "output_type": "stream",
       "stream": "stdout",
       "text": [
        "\n",
        "1107/1599"
       ]
      },
      {
       "output_type": "stream",
       "stream": "stdout",
       "text": [
        "\n",
        "1108/1599"
       ]
      },
      {
       "output_type": "stream",
       "stream": "stdout",
       "text": [
        "\n",
        "1109/1599\n",
        "1110/1599"
       ]
      },
      {
       "output_type": "stream",
       "stream": "stdout",
       "text": [
        "\n",
        "1111/1599"
       ]
      },
      {
       "output_type": "stream",
       "stream": "stdout",
       "text": [
        "\n",
        "1112/1599"
       ]
      },
      {
       "output_type": "stream",
       "stream": "stdout",
       "text": [
        "\n",
        "1113/1599"
       ]
      },
      {
       "output_type": "stream",
       "stream": "stdout",
       "text": [
        "\n",
        "1114/1599"
       ]
      },
      {
       "output_type": "stream",
       "stream": "stdout",
       "text": [
        "\n",
        "1115/1599"
       ]
      },
      {
       "output_type": "stream",
       "stream": "stdout",
       "text": [
        "\n",
        "1116/1599"
       ]
      },
      {
       "output_type": "stream",
       "stream": "stdout",
       "text": [
        "\n",
        "1117/1599"
       ]
      },
      {
       "output_type": "stream",
       "stream": "stdout",
       "text": [
        "\n",
        "1118/1599"
       ]
      },
      {
       "output_type": "stream",
       "stream": "stdout",
       "text": [
        "\n",
        "1119/1599"
       ]
      },
      {
       "output_type": "stream",
       "stream": "stdout",
       "text": [
        "\n",
        "1120/1599"
       ]
      },
      {
       "output_type": "stream",
       "stream": "stdout",
       "text": [
        "\n",
        "1121/1599"
       ]
      },
      {
       "output_type": "stream",
       "stream": "stdout",
       "text": [
        "\n",
        "1122/1599"
       ]
      },
      {
       "output_type": "stream",
       "stream": "stdout",
       "text": [
        "\n",
        "1123/1599"
       ]
      },
      {
       "output_type": "stream",
       "stream": "stdout",
       "text": [
        "\n",
        "1124/1599"
       ]
      },
      {
       "output_type": "stream",
       "stream": "stdout",
       "text": [
        "\n",
        "1125/1599"
       ]
      },
      {
       "output_type": "stream",
       "stream": "stdout",
       "text": [
        "\n",
        "1126/1599"
       ]
      },
      {
       "output_type": "stream",
       "stream": "stdout",
       "text": [
        "\n",
        "1127/1599"
       ]
      },
      {
       "output_type": "stream",
       "stream": "stdout",
       "text": [
        "\n",
        "1128/1599"
       ]
      },
      {
       "output_type": "stream",
       "stream": "stdout",
       "text": [
        "\n",
        "1129/1599"
       ]
      },
      {
       "output_type": "stream",
       "stream": "stdout",
       "text": [
        "\n",
        "1130/1599"
       ]
      },
      {
       "output_type": "stream",
       "stream": "stdout",
       "text": [
        "\n",
        "1131/1599"
       ]
      },
      {
       "output_type": "stream",
       "stream": "stdout",
       "text": [
        "\n",
        "1132/1599"
       ]
      },
      {
       "output_type": "stream",
       "stream": "stdout",
       "text": [
        "\n",
        "1133/1599"
       ]
      },
      {
       "output_type": "stream",
       "stream": "stdout",
       "text": [
        "\n",
        "1134/1599"
       ]
      },
      {
       "output_type": "stream",
       "stream": "stdout",
       "text": [
        "\n",
        "1135/1599"
       ]
      },
      {
       "output_type": "stream",
       "stream": "stdout",
       "text": [
        "\n",
        "1136/1599"
       ]
      },
      {
       "output_type": "stream",
       "stream": "stdout",
       "text": [
        "\n",
        "1137/1599"
       ]
      },
      {
       "output_type": "stream",
       "stream": "stdout",
       "text": [
        "\n",
        "1138/1599"
       ]
      },
      {
       "output_type": "stream",
       "stream": "stdout",
       "text": [
        "\n",
        "1139/1599"
       ]
      },
      {
       "output_type": "stream",
       "stream": "stdout",
       "text": [
        "\n",
        "1140/1599"
       ]
      },
      {
       "output_type": "stream",
       "stream": "stdout",
       "text": [
        "\n",
        "1141/1599"
       ]
      },
      {
       "output_type": "stream",
       "stream": "stdout",
       "text": [
        "\n",
        "1142/1599"
       ]
      },
      {
       "output_type": "stream",
       "stream": "stdout",
       "text": [
        "\n",
        "1143/1599"
       ]
      },
      {
       "output_type": "stream",
       "stream": "stdout",
       "text": [
        "\n",
        "1144/1599"
       ]
      },
      {
       "output_type": "stream",
       "stream": "stdout",
       "text": [
        "\n",
        "1145/1599"
       ]
      },
      {
       "output_type": "stream",
       "stream": "stdout",
       "text": [
        "\n",
        "1146/1599"
       ]
      },
      {
       "output_type": "stream",
       "stream": "stdout",
       "text": [
        "\n",
        "1147/1599"
       ]
      },
      {
       "output_type": "stream",
       "stream": "stdout",
       "text": [
        "\n",
        "1148/1599"
       ]
      },
      {
       "output_type": "stream",
       "stream": "stdout",
       "text": [
        "\n",
        "1149/1599"
       ]
      },
      {
       "output_type": "stream",
       "stream": "stdout",
       "text": [
        "\n",
        "1150/1599"
       ]
      },
      {
       "output_type": "stream",
       "stream": "stdout",
       "text": [
        "\n",
        "1151/1599"
       ]
      },
      {
       "output_type": "stream",
       "stream": "stdout",
       "text": [
        "\n",
        "1152/1599"
       ]
      },
      {
       "output_type": "stream",
       "stream": "stdout",
       "text": [
        "\n",
        "1153/1599"
       ]
      },
      {
       "output_type": "stream",
       "stream": "stdout",
       "text": [
        "\n",
        "1154/1599"
       ]
      },
      {
       "output_type": "stream",
       "stream": "stdout",
       "text": [
        "\n",
        "1155/1599"
       ]
      },
      {
       "output_type": "stream",
       "stream": "stdout",
       "text": [
        "\n",
        "1156/1599"
       ]
      },
      {
       "output_type": "stream",
       "stream": "stdout",
       "text": [
        "\n",
        "1157/1599"
       ]
      },
      {
       "output_type": "stream",
       "stream": "stdout",
       "text": [
        "\n",
        "1158/1599"
       ]
      },
      {
       "output_type": "stream",
       "stream": "stdout",
       "text": [
        "\n",
        "1159/1599"
       ]
      },
      {
       "output_type": "stream",
       "stream": "stdout",
       "text": [
        "\n",
        "1160/1599"
       ]
      },
      {
       "output_type": "stream",
       "stream": "stdout",
       "text": [
        "\n",
        "1161/1599"
       ]
      },
      {
       "output_type": "stream",
       "stream": "stdout",
       "text": [
        "\n",
        "1162/1599"
       ]
      },
      {
       "output_type": "stream",
       "stream": "stdout",
       "text": [
        "\n",
        "1163/1599"
       ]
      },
      {
       "output_type": "stream",
       "stream": "stdout",
       "text": [
        "\n",
        "1164/1599"
       ]
      },
      {
       "output_type": "stream",
       "stream": "stdout",
       "text": [
        "\n",
        "1165/1599"
       ]
      },
      {
       "output_type": "stream",
       "stream": "stdout",
       "text": [
        "\n",
        "1166/1599"
       ]
      },
      {
       "output_type": "stream",
       "stream": "stdout",
       "text": [
        "\n",
        "1167/1599"
       ]
      },
      {
       "output_type": "stream",
       "stream": "stdout",
       "text": [
        "\n",
        "1168/1599"
       ]
      },
      {
       "output_type": "stream",
       "stream": "stdout",
       "text": [
        "\n",
        "1169/1599"
       ]
      },
      {
       "output_type": "stream",
       "stream": "stdout",
       "text": [
        "\n",
        "1170/1599"
       ]
      },
      {
       "output_type": "stream",
       "stream": "stdout",
       "text": [
        "\n",
        "1171/1599"
       ]
      },
      {
       "output_type": "stream",
       "stream": "stdout",
       "text": [
        "\n",
        "1172/1599"
       ]
      },
      {
       "output_type": "stream",
       "stream": "stdout",
       "text": [
        "\n",
        "1173/1599"
       ]
      },
      {
       "output_type": "stream",
       "stream": "stdout",
       "text": [
        "\n",
        "1174/1599"
       ]
      },
      {
       "output_type": "stream",
       "stream": "stdout",
       "text": [
        "\n",
        "1175/1599"
       ]
      },
      {
       "output_type": "stream",
       "stream": "stdout",
       "text": [
        "\n",
        "1176/1599"
       ]
      },
      {
       "output_type": "stream",
       "stream": "stdout",
       "text": [
        "\n",
        "1177/1599"
       ]
      },
      {
       "output_type": "stream",
       "stream": "stdout",
       "text": [
        "\n",
        "1178/1599"
       ]
      },
      {
       "output_type": "stream",
       "stream": "stdout",
       "text": [
        "\n",
        "1179/1599"
       ]
      },
      {
       "output_type": "stream",
       "stream": "stdout",
       "text": [
        "\n",
        "1180/1599"
       ]
      },
      {
       "output_type": "stream",
       "stream": "stdout",
       "text": [
        "\n",
        "1181/1599"
       ]
      },
      {
       "output_type": "stream",
       "stream": "stdout",
       "text": [
        "\n",
        "1182/1599"
       ]
      },
      {
       "output_type": "stream",
       "stream": "stdout",
       "text": [
        "\n",
        "1183/1599"
       ]
      },
      {
       "output_type": "stream",
       "stream": "stdout",
       "text": [
        "\n",
        "1184/1599"
       ]
      },
      {
       "output_type": "stream",
       "stream": "stdout",
       "text": [
        "\n",
        "1185/1599"
       ]
      },
      {
       "output_type": "stream",
       "stream": "stdout",
       "text": [
        "\n",
        "1186/1599\n",
        "1187/1599"
       ]
      },
      {
       "output_type": "stream",
       "stream": "stdout",
       "text": [
        "\n",
        "1188/1599"
       ]
      },
      {
       "output_type": "stream",
       "stream": "stdout",
       "text": [
        "\n",
        "1189/1599"
       ]
      },
      {
       "output_type": "stream",
       "stream": "stdout",
       "text": [
        "\n",
        "1190/1599"
       ]
      },
      {
       "output_type": "stream",
       "stream": "stdout",
       "text": [
        "\n",
        "1191/1599"
       ]
      },
      {
       "output_type": "stream",
       "stream": "stdout",
       "text": [
        "\n",
        "1192/1599"
       ]
      },
      {
       "output_type": "stream",
       "stream": "stdout",
       "text": [
        "\n",
        "1193/1599"
       ]
      },
      {
       "output_type": "stream",
       "stream": "stdout",
       "text": [
        "\n",
        "1194/1599"
       ]
      },
      {
       "output_type": "stream",
       "stream": "stdout",
       "text": [
        "\n",
        "1195/1599"
       ]
      },
      {
       "output_type": "stream",
       "stream": "stdout",
       "text": [
        "\n",
        "1196/1599"
       ]
      },
      {
       "output_type": "stream",
       "stream": "stdout",
       "text": [
        "\n",
        "1197/1599"
       ]
      },
      {
       "output_type": "stream",
       "stream": "stdout",
       "text": [
        "\n",
        "1198/1599"
       ]
      },
      {
       "output_type": "stream",
       "stream": "stdout",
       "text": [
        "\n",
        "1199/1599"
       ]
      },
      {
       "output_type": "stream",
       "stream": "stdout",
       "text": [
        "\n",
        "1200/1599"
       ]
      },
      {
       "output_type": "stream",
       "stream": "stdout",
       "text": [
        "\n",
        "1201/1599"
       ]
      },
      {
       "output_type": "stream",
       "stream": "stdout",
       "text": [
        "\n",
        "1202/1599"
       ]
      },
      {
       "output_type": "stream",
       "stream": "stdout",
       "text": [
        "\n",
        "1203/1599"
       ]
      },
      {
       "output_type": "stream",
       "stream": "stdout",
       "text": [
        "\n",
        "1204/1599"
       ]
      },
      {
       "output_type": "stream",
       "stream": "stdout",
       "text": [
        "\n",
        "1205/1599"
       ]
      },
      {
       "output_type": "stream",
       "stream": "stdout",
       "text": [
        "\n",
        "1206/1599"
       ]
      },
      {
       "output_type": "stream",
       "stream": "stdout",
       "text": [
        "\n",
        "1207/1599"
       ]
      },
      {
       "output_type": "stream",
       "stream": "stdout",
       "text": [
        "\n",
        "1208/1599"
       ]
      },
      {
       "output_type": "stream",
       "stream": "stdout",
       "text": [
        "\n",
        "1209/1599"
       ]
      },
      {
       "output_type": "stream",
       "stream": "stdout",
       "text": [
        "\n",
        "1210/1599"
       ]
      },
      {
       "output_type": "stream",
       "stream": "stdout",
       "text": [
        "\n",
        "1211/1599"
       ]
      },
      {
       "output_type": "stream",
       "stream": "stdout",
       "text": [
        "\n",
        "1212/1599"
       ]
      },
      {
       "output_type": "stream",
       "stream": "stdout",
       "text": [
        "\n",
        "1213/1599"
       ]
      },
      {
       "output_type": "stream",
       "stream": "stdout",
       "text": [
        "\n",
        "1214/1599"
       ]
      },
      {
       "output_type": "stream",
       "stream": "stdout",
       "text": [
        "\n",
        "1215/1599"
       ]
      },
      {
       "output_type": "stream",
       "stream": "stdout",
       "text": [
        "\n",
        "1216/1599"
       ]
      },
      {
       "output_type": "stream",
       "stream": "stdout",
       "text": [
        "\n",
        "1217/1599"
       ]
      },
      {
       "output_type": "stream",
       "stream": "stdout",
       "text": [
        "\n",
        "1218/1599"
       ]
      },
      {
       "output_type": "stream",
       "stream": "stdout",
       "text": [
        "\n",
        "1219/1599"
       ]
      },
      {
       "output_type": "stream",
       "stream": "stdout",
       "text": [
        "\n",
        "1220/1599"
       ]
      },
      {
       "output_type": "stream",
       "stream": "stdout",
       "text": [
        "\n",
        "1221/1599"
       ]
      },
      {
       "output_type": "stream",
       "stream": "stdout",
       "text": [
        "\n",
        "1222/1599"
       ]
      },
      {
       "output_type": "stream",
       "stream": "stdout",
       "text": [
        "\n",
        "1223/1599"
       ]
      },
      {
       "output_type": "stream",
       "stream": "stdout",
       "text": [
        "\n",
        "1224/1599"
       ]
      },
      {
       "output_type": "stream",
       "stream": "stdout",
       "text": [
        "\n",
        "1225/1599"
       ]
      },
      {
       "output_type": "stream",
       "stream": "stdout",
       "text": [
        "\n",
        "1226/1599\n",
        "1227/1599"
       ]
      },
      {
       "output_type": "stream",
       "stream": "stdout",
       "text": [
        "\n",
        "1228/1599"
       ]
      },
      {
       "output_type": "stream",
       "stream": "stdout",
       "text": [
        "\n",
        "1229/1599"
       ]
      },
      {
       "output_type": "stream",
       "stream": "stdout",
       "text": [
        "\n",
        "1230/1599"
       ]
      },
      {
       "output_type": "stream",
       "stream": "stdout",
       "text": [
        "\n",
        "1231/1599"
       ]
      },
      {
       "output_type": "stream",
       "stream": "stdout",
       "text": [
        "\n",
        "1232/1599"
       ]
      },
      {
       "output_type": "stream",
       "stream": "stdout",
       "text": [
        "\n",
        "1233/1599"
       ]
      },
      {
       "output_type": "stream",
       "stream": "stdout",
       "text": [
        "\n",
        "1234/1599"
       ]
      },
      {
       "output_type": "stream",
       "stream": "stdout",
       "text": [
        "\n",
        "1235/1599"
       ]
      },
      {
       "output_type": "stream",
       "stream": "stdout",
       "text": [
        "\n",
        "1236/1599"
       ]
      },
      {
       "output_type": "stream",
       "stream": "stdout",
       "text": [
        "\n",
        "1237/1599"
       ]
      },
      {
       "output_type": "stream",
       "stream": "stdout",
       "text": [
        "\n",
        "1238/1599"
       ]
      },
      {
       "output_type": "stream",
       "stream": "stdout",
       "text": [
        "\n",
        "1239/1599"
       ]
      },
      {
       "output_type": "stream",
       "stream": "stdout",
       "text": [
        "\n",
        "1240/1599"
       ]
      },
      {
       "output_type": "stream",
       "stream": "stdout",
       "text": [
        "\n",
        "1241/1599"
       ]
      },
      {
       "output_type": "stream",
       "stream": "stdout",
       "text": [
        "\n",
        "1242/1599"
       ]
      },
      {
       "output_type": "stream",
       "stream": "stdout",
       "text": [
        "\n",
        "1243/1599"
       ]
      },
      {
       "output_type": "stream",
       "stream": "stdout",
       "text": [
        "\n",
        "1244/1599"
       ]
      },
      {
       "output_type": "stream",
       "stream": "stdout",
       "text": [
        "\n",
        "1245/1599"
       ]
      },
      {
       "output_type": "stream",
       "stream": "stdout",
       "text": [
        "\n",
        "1246/1599"
       ]
      },
      {
       "output_type": "stream",
       "stream": "stdout",
       "text": [
        "\n",
        "1247/1599"
       ]
      },
      {
       "output_type": "stream",
       "stream": "stdout",
       "text": [
        "\n",
        "1248/1599"
       ]
      },
      {
       "output_type": "stream",
       "stream": "stdout",
       "text": [
        "\n",
        "1249/1599"
       ]
      },
      {
       "output_type": "stream",
       "stream": "stdout",
       "text": [
        "\n",
        "1250/1599"
       ]
      },
      {
       "output_type": "stream",
       "stream": "stdout",
       "text": [
        "\n",
        "1251/1599"
       ]
      },
      {
       "output_type": "stream",
       "stream": "stdout",
       "text": [
        "\n",
        "1252/1599"
       ]
      },
      {
       "output_type": "stream",
       "stream": "stdout",
       "text": [
        "\n",
        "1253/1599"
       ]
      },
      {
       "output_type": "stream",
       "stream": "stdout",
       "text": [
        "\n",
        "1254/1599"
       ]
      },
      {
       "output_type": "stream",
       "stream": "stdout",
       "text": [
        "\n",
        "1255/1599"
       ]
      },
      {
       "output_type": "stream",
       "stream": "stdout",
       "text": [
        "\n",
        "1256/1599"
       ]
      },
      {
       "output_type": "stream",
       "stream": "stdout",
       "text": [
        "\n",
        "1257/1599"
       ]
      },
      {
       "output_type": "stream",
       "stream": "stdout",
       "text": [
        "\n",
        "1258/1599"
       ]
      },
      {
       "output_type": "stream",
       "stream": "stdout",
       "text": [
        "\n",
        "1259/1599"
       ]
      },
      {
       "output_type": "stream",
       "stream": "stdout",
       "text": [
        "\n",
        "1260/1599"
       ]
      },
      {
       "output_type": "stream",
       "stream": "stdout",
       "text": [
        "\n",
        "1261/1599"
       ]
      },
      {
       "output_type": "stream",
       "stream": "stdout",
       "text": [
        "\n",
        "1262/1599"
       ]
      },
      {
       "output_type": "stream",
       "stream": "stdout",
       "text": [
        "\n",
        "1263/1599"
       ]
      },
      {
       "output_type": "stream",
       "stream": "stdout",
       "text": [
        "\n",
        "1264/1599"
       ]
      },
      {
       "output_type": "stream",
       "stream": "stdout",
       "text": [
        "\n",
        "1265/1599"
       ]
      },
      {
       "output_type": "stream",
       "stream": "stdout",
       "text": [
        "\n",
        "1266/1599"
       ]
      },
      {
       "output_type": "stream",
       "stream": "stdout",
       "text": [
        "\n",
        "1267/1599"
       ]
      },
      {
       "output_type": "stream",
       "stream": "stdout",
       "text": [
        "\n",
        "1268/1599"
       ]
      },
      {
       "output_type": "stream",
       "stream": "stdout",
       "text": [
        "\n",
        "1269/1599"
       ]
      },
      {
       "output_type": "stream",
       "stream": "stdout",
       "text": [
        "\n",
        "1270/1599"
       ]
      },
      {
       "output_type": "stream",
       "stream": "stdout",
       "text": [
        "\n",
        "1271/1599"
       ]
      },
      {
       "output_type": "stream",
       "stream": "stdout",
       "text": [
        "\n",
        "1272/1599"
       ]
      },
      {
       "output_type": "stream",
       "stream": "stdout",
       "text": [
        "\n",
        "1273/1599"
       ]
      },
      {
       "output_type": "stream",
       "stream": "stdout",
       "text": [
        "\n",
        "1274/1599"
       ]
      },
      {
       "output_type": "stream",
       "stream": "stdout",
       "text": [
        "\n",
        "1275/1599"
       ]
      },
      {
       "output_type": "stream",
       "stream": "stdout",
       "text": [
        "\n",
        "1276/1599"
       ]
      },
      {
       "output_type": "stream",
       "stream": "stdout",
       "text": [
        "\n",
        "1277/1599"
       ]
      },
      {
       "output_type": "stream",
       "stream": "stdout",
       "text": [
        "\n",
        "1278/1599"
       ]
      },
      {
       "output_type": "stream",
       "stream": "stdout",
       "text": [
        "\n",
        "1279/1599"
       ]
      },
      {
       "output_type": "stream",
       "stream": "stdout",
       "text": [
        "\n",
        "1280/1599"
       ]
      },
      {
       "output_type": "stream",
       "stream": "stdout",
       "text": [
        "\n",
        "1281/1599"
       ]
      },
      {
       "output_type": "stream",
       "stream": "stdout",
       "text": [
        "\n",
        "1282/1599"
       ]
      },
      {
       "output_type": "stream",
       "stream": "stdout",
       "text": [
        "\n",
        "1283/1599"
       ]
      },
      {
       "output_type": "stream",
       "stream": "stdout",
       "text": [
        "\n",
        "1284/1599"
       ]
      },
      {
       "output_type": "stream",
       "stream": "stdout",
       "text": [
        "\n",
        "1285/1599"
       ]
      },
      {
       "output_type": "stream",
       "stream": "stdout",
       "text": [
        "\n",
        "1286/1599"
       ]
      },
      {
       "output_type": "stream",
       "stream": "stdout",
       "text": [
        "\n",
        "1287/1599"
       ]
      },
      {
       "output_type": "stream",
       "stream": "stdout",
       "text": [
        "\n",
        "1288/1599"
       ]
      },
      {
       "output_type": "stream",
       "stream": "stdout",
       "text": [
        "\n",
        "1289/1599"
       ]
      },
      {
       "output_type": "stream",
       "stream": "stdout",
       "text": [
        "\n",
        "1290/1599"
       ]
      },
      {
       "output_type": "stream",
       "stream": "stdout",
       "text": [
        "\n",
        "1291/1599"
       ]
      },
      {
       "output_type": "stream",
       "stream": "stdout",
       "text": [
        "\n",
        "1292/1599"
       ]
      },
      {
       "output_type": "stream",
       "stream": "stdout",
       "text": [
        "\n",
        "1293/1599"
       ]
      },
      {
       "output_type": "stream",
       "stream": "stdout",
       "text": [
        "\n",
        "1294/1599"
       ]
      },
      {
       "output_type": "stream",
       "stream": "stdout",
       "text": [
        "\n",
        "1295/1599"
       ]
      },
      {
       "output_type": "stream",
       "stream": "stdout",
       "text": [
        "\n",
        "1296/1599"
       ]
      },
      {
       "output_type": "stream",
       "stream": "stdout",
       "text": [
        "\n",
        "1297/1599"
       ]
      },
      {
       "output_type": "stream",
       "stream": "stdout",
       "text": [
        "\n",
        "1298/1599"
       ]
      },
      {
       "output_type": "stream",
       "stream": "stdout",
       "text": [
        "\n",
        "1299/1599"
       ]
      },
      {
       "output_type": "stream",
       "stream": "stdout",
       "text": [
        "\n",
        "1300/1599"
       ]
      },
      {
       "output_type": "stream",
       "stream": "stdout",
       "text": [
        "\n",
        "1301/1599"
       ]
      },
      {
       "output_type": "stream",
       "stream": "stdout",
       "text": [
        "\n",
        "1302/1599"
       ]
      },
      {
       "output_type": "stream",
       "stream": "stdout",
       "text": [
        "\n",
        "1303/1599"
       ]
      },
      {
       "output_type": "stream",
       "stream": "stdout",
       "text": [
        "\n",
        "1304/1599"
       ]
      },
      {
       "output_type": "stream",
       "stream": "stdout",
       "text": [
        "\n",
        "1305/1599"
       ]
      },
      {
       "output_type": "stream",
       "stream": "stdout",
       "text": [
        "\n",
        "1306/1599"
       ]
      },
      {
       "output_type": "stream",
       "stream": "stdout",
       "text": [
        "\n",
        "1307/1599"
       ]
      },
      {
       "output_type": "stream",
       "stream": "stdout",
       "text": [
        "\n",
        "1308/1599"
       ]
      },
      {
       "output_type": "stream",
       "stream": "stdout",
       "text": [
        "\n",
        "1309/1599"
       ]
      },
      {
       "output_type": "stream",
       "stream": "stdout",
       "text": [
        "\n",
        "1310/1599"
       ]
      },
      {
       "output_type": "stream",
       "stream": "stdout",
       "text": [
        "\n",
        "1311/1599"
       ]
      },
      {
       "output_type": "stream",
       "stream": "stdout",
       "text": [
        "\n",
        "1312/1599"
       ]
      },
      {
       "output_type": "stream",
       "stream": "stdout",
       "text": [
        "\n",
        "1313/1599"
       ]
      },
      {
       "output_type": "stream",
       "stream": "stdout",
       "text": [
        "\n",
        "1314/1599"
       ]
      },
      {
       "output_type": "stream",
       "stream": "stdout",
       "text": [
        "\n",
        "1315/1599"
       ]
      },
      {
       "output_type": "stream",
       "stream": "stdout",
       "text": [
        "\n",
        "1316/1599"
       ]
      },
      {
       "output_type": "stream",
       "stream": "stdout",
       "text": [
        "\n",
        "1317/1599"
       ]
      },
      {
       "output_type": "stream",
       "stream": "stdout",
       "text": [
        "\n",
        "1318/1599"
       ]
      },
      {
       "output_type": "stream",
       "stream": "stdout",
       "text": [
        "\n",
        "1319/1599"
       ]
      },
      {
       "output_type": "stream",
       "stream": "stdout",
       "text": [
        "\n",
        "1320/1599"
       ]
      },
      {
       "output_type": "stream",
       "stream": "stdout",
       "text": [
        "\n",
        "1321/1599"
       ]
      },
      {
       "output_type": "stream",
       "stream": "stdout",
       "text": [
        "\n",
        "1322/1599"
       ]
      },
      {
       "output_type": "stream",
       "stream": "stdout",
       "text": [
        "\n",
        "1323/1599"
       ]
      },
      {
       "output_type": "stream",
       "stream": "stdout",
       "text": [
        "\n",
        "1324/1599\n",
        "1325/1599"
       ]
      },
      {
       "output_type": "stream",
       "stream": "stdout",
       "text": [
        "\n",
        "1326/1599"
       ]
      },
      {
       "output_type": "stream",
       "stream": "stdout",
       "text": [
        "\n",
        "1327/1599"
       ]
      },
      {
       "output_type": "stream",
       "stream": "stdout",
       "text": [
        "\n",
        "1328/1599"
       ]
      },
      {
       "output_type": "stream",
       "stream": "stdout",
       "text": [
        "\n",
        "1329/1599"
       ]
      },
      {
       "output_type": "stream",
       "stream": "stdout",
       "text": [
        "\n",
        "1330/1599"
       ]
      },
      {
       "output_type": "stream",
       "stream": "stdout",
       "text": [
        "\n",
        "1331/1599"
       ]
      },
      {
       "output_type": "stream",
       "stream": "stdout",
       "text": [
        "\n",
        "1332/1599"
       ]
      },
      {
       "output_type": "stream",
       "stream": "stdout",
       "text": [
        "\n",
        "1333/1599"
       ]
      },
      {
       "output_type": "stream",
       "stream": "stdout",
       "text": [
        "\n",
        "1334/1599"
       ]
      },
      {
       "output_type": "stream",
       "stream": "stdout",
       "text": [
        "\n",
        "1335/1599"
       ]
      },
      {
       "output_type": "stream",
       "stream": "stdout",
       "text": [
        "\n",
        "1336/1599"
       ]
      },
      {
       "output_type": "stream",
       "stream": "stdout",
       "text": [
        "\n",
        "1337/1599"
       ]
      },
      {
       "output_type": "stream",
       "stream": "stdout",
       "text": [
        "\n",
        "1338/1599"
       ]
      },
      {
       "output_type": "stream",
       "stream": "stdout",
       "text": [
        "\n",
        "1339/1599"
       ]
      },
      {
       "output_type": "stream",
       "stream": "stdout",
       "text": [
        "\n",
        "1340/1599\n",
        "1341/1599"
       ]
      },
      {
       "output_type": "stream",
       "stream": "stdout",
       "text": [
        "\n",
        "1342/1599"
       ]
      },
      {
       "output_type": "stream",
       "stream": "stdout",
       "text": [
        "\n",
        "1343/1599"
       ]
      },
      {
       "output_type": "stream",
       "stream": "stdout",
       "text": [
        "\n",
        "1344/1599"
       ]
      },
      {
       "output_type": "stream",
       "stream": "stdout",
       "text": [
        "\n",
        "1345/1599"
       ]
      },
      {
       "output_type": "stream",
       "stream": "stdout",
       "text": [
        "\n",
        "1346/1599"
       ]
      },
      {
       "output_type": "stream",
       "stream": "stdout",
       "text": [
        "\n",
        "1347/1599\n",
        "1348/1599"
       ]
      },
      {
       "output_type": "stream",
       "stream": "stdout",
       "text": [
        "\n",
        "1349/1599"
       ]
      },
      {
       "output_type": "stream",
       "stream": "stdout",
       "text": [
        "\n",
        "1350/1599"
       ]
      },
      {
       "output_type": "stream",
       "stream": "stdout",
       "text": [
        "\n",
        "1351/1599"
       ]
      },
      {
       "output_type": "stream",
       "stream": "stdout",
       "text": [
        "\n",
        "1352/1599"
       ]
      },
      {
       "output_type": "stream",
       "stream": "stdout",
       "text": [
        "\n",
        "1353/1599"
       ]
      },
      {
       "output_type": "stream",
       "stream": "stdout",
       "text": [
        "\n",
        "1354/1599"
       ]
      },
      {
       "output_type": "stream",
       "stream": "stdout",
       "text": [
        "\n",
        "1355/1599"
       ]
      },
      {
       "output_type": "stream",
       "stream": "stdout",
       "text": [
        "\n",
        "1356/1599"
       ]
      },
      {
       "output_type": "stream",
       "stream": "stdout",
       "text": [
        "\n",
        "1357/1599"
       ]
      },
      {
       "output_type": "stream",
       "stream": "stdout",
       "text": [
        "\n",
        "1358/1599"
       ]
      },
      {
       "output_type": "stream",
       "stream": "stdout",
       "text": [
        "\n",
        "1359/1599"
       ]
      },
      {
       "output_type": "stream",
       "stream": "stdout",
       "text": [
        "\n",
        "1360/1599"
       ]
      },
      {
       "output_type": "stream",
       "stream": "stdout",
       "text": [
        "\n",
        "1361/1599"
       ]
      },
      {
       "output_type": "stream",
       "stream": "stdout",
       "text": [
        "\n",
        "1362/1599"
       ]
      },
      {
       "output_type": "stream",
       "stream": "stdout",
       "text": [
        "\n",
        "1363/1599"
       ]
      },
      {
       "output_type": "stream",
       "stream": "stdout",
       "text": [
        "\n",
        "1364/1599"
       ]
      },
      {
       "output_type": "stream",
       "stream": "stdout",
       "text": [
        "\n",
        "1365/1599"
       ]
      },
      {
       "output_type": "stream",
       "stream": "stdout",
       "text": [
        "\n",
        "1366/1599"
       ]
      },
      {
       "output_type": "stream",
       "stream": "stdout",
       "text": [
        "\n",
        "1367/1599"
       ]
      },
      {
       "output_type": "stream",
       "stream": "stdout",
       "text": [
        "\n",
        "1368/1599"
       ]
      },
      {
       "output_type": "stream",
       "stream": "stdout",
       "text": [
        "\n",
        "1369/1599"
       ]
      },
      {
       "output_type": "stream",
       "stream": "stdout",
       "text": [
        "\n",
        "1370/1599"
       ]
      },
      {
       "output_type": "stream",
       "stream": "stdout",
       "text": [
        "\n",
        "1371/1599"
       ]
      },
      {
       "output_type": "stream",
       "stream": "stdout",
       "text": [
        "\n",
        "1372/1599"
       ]
      },
      {
       "output_type": "stream",
       "stream": "stdout",
       "text": [
        "\n",
        "1373/1599"
       ]
      },
      {
       "output_type": "stream",
       "stream": "stdout",
       "text": [
        "\n",
        "1374/1599"
       ]
      },
      {
       "output_type": "stream",
       "stream": "stdout",
       "text": [
        "\n",
        "1375/1599\n",
        "1376/1599"
       ]
      },
      {
       "output_type": "stream",
       "stream": "stdout",
       "text": [
        "\n",
        "1377/1599"
       ]
      },
      {
       "output_type": "stream",
       "stream": "stdout",
       "text": [
        "\n",
        "1378/1599"
       ]
      },
      {
       "output_type": "stream",
       "stream": "stdout",
       "text": [
        "\n",
        "1379/1599"
       ]
      },
      {
       "output_type": "stream",
       "stream": "stdout",
       "text": [
        "\n",
        "1380/1599"
       ]
      },
      {
       "output_type": "stream",
       "stream": "stdout",
       "text": [
        "\n",
        "1381/1599"
       ]
      },
      {
       "output_type": "stream",
       "stream": "stdout",
       "text": [
        "\n",
        "1382/1599"
       ]
      },
      {
       "output_type": "stream",
       "stream": "stdout",
       "text": [
        "\n",
        "1383/1599"
       ]
      },
      {
       "output_type": "stream",
       "stream": "stdout",
       "text": [
        "\n",
        "1384/1599"
       ]
      },
      {
       "output_type": "stream",
       "stream": "stdout",
       "text": [
        "\n",
        "1385/1599"
       ]
      },
      {
       "output_type": "stream",
       "stream": "stdout",
       "text": [
        "\n",
        "1386/1599"
       ]
      },
      {
       "output_type": "stream",
       "stream": "stdout",
       "text": [
        "\n",
        "1387/1599"
       ]
      },
      {
       "output_type": "stream",
       "stream": "stdout",
       "text": [
        "\n",
        "1388/1599"
       ]
      },
      {
       "output_type": "stream",
       "stream": "stdout",
       "text": [
        "\n",
        "1389/1599"
       ]
      },
      {
       "output_type": "stream",
       "stream": "stdout",
       "text": [
        "\n",
        "1390/1599"
       ]
      },
      {
       "output_type": "stream",
       "stream": "stdout",
       "text": [
        "\n",
        "1391/1599"
       ]
      },
      {
       "output_type": "stream",
       "stream": "stdout",
       "text": [
        "\n",
        "1392/1599"
       ]
      },
      {
       "output_type": "stream",
       "stream": "stdout",
       "text": [
        "\n",
        "1393/1599"
       ]
      },
      {
       "output_type": "stream",
       "stream": "stdout",
       "text": [
        "\n",
        "1394/1599"
       ]
      },
      {
       "output_type": "stream",
       "stream": "stdout",
       "text": [
        "\n",
        "1395/1599"
       ]
      },
      {
       "output_type": "stream",
       "stream": "stdout",
       "text": [
        "\n",
        "1396/1599"
       ]
      },
      {
       "output_type": "stream",
       "stream": "stdout",
       "text": [
        "\n",
        "1397/1599"
       ]
      },
      {
       "output_type": "stream",
       "stream": "stdout",
       "text": [
        "\n",
        "1398/1599"
       ]
      },
      {
       "output_type": "stream",
       "stream": "stdout",
       "text": [
        "\n",
        "1399/1599"
       ]
      },
      {
       "output_type": "stream",
       "stream": "stdout",
       "text": [
        "\n",
        "1400/1599"
       ]
      },
      {
       "output_type": "stream",
       "stream": "stdout",
       "text": [
        "\n",
        "1401/1599\n",
        "1402/1599"
       ]
      },
      {
       "output_type": "stream",
       "stream": "stdout",
       "text": [
        "\n",
        "1403/1599\n",
        "1404/1599"
       ]
      },
      {
       "output_type": "stream",
       "stream": "stdout",
       "text": [
        "\n",
        "1405/1599"
       ]
      },
      {
       "output_type": "stream",
       "stream": "stdout",
       "text": [
        "\n",
        "1406/1599"
       ]
      },
      {
       "output_type": "stream",
       "stream": "stdout",
       "text": [
        "\n",
        "1407/1599"
       ]
      },
      {
       "output_type": "stream",
       "stream": "stdout",
       "text": [
        "\n",
        "1408/1599"
       ]
      },
      {
       "output_type": "stream",
       "stream": "stdout",
       "text": [
        "\n",
        "1409/1599"
       ]
      },
      {
       "output_type": "stream",
       "stream": "stdout",
       "text": [
        "\n",
        "1410/1599"
       ]
      },
      {
       "output_type": "stream",
       "stream": "stdout",
       "text": [
        "\n",
        "1411/1599"
       ]
      },
      {
       "output_type": "stream",
       "stream": "stdout",
       "text": [
        "\n",
        "1412/1599"
       ]
      },
      {
       "output_type": "stream",
       "stream": "stdout",
       "text": [
        "\n",
        "1413/1599"
       ]
      },
      {
       "output_type": "stream",
       "stream": "stdout",
       "text": [
        "\n",
        "1414/1599"
       ]
      },
      {
       "output_type": "stream",
       "stream": "stdout",
       "text": [
        "\n",
        "1415/1599"
       ]
      },
      {
       "output_type": "stream",
       "stream": "stdout",
       "text": [
        "\n",
        "1416/1599"
       ]
      },
      {
       "output_type": "stream",
       "stream": "stdout",
       "text": [
        "\n",
        "1417/1599"
       ]
      },
      {
       "output_type": "stream",
       "stream": "stdout",
       "text": [
        "\n",
        "1418/1599"
       ]
      },
      {
       "output_type": "stream",
       "stream": "stdout",
       "text": [
        "\n",
        "1419/1599"
       ]
      },
      {
       "output_type": "stream",
       "stream": "stdout",
       "text": [
        "\n",
        "1420/1599"
       ]
      },
      {
       "output_type": "stream",
       "stream": "stdout",
       "text": [
        "\n",
        "1421/1599"
       ]
      },
      {
       "output_type": "stream",
       "stream": "stdout",
       "text": [
        "\n",
        "1422/1599"
       ]
      },
      {
       "output_type": "stream",
       "stream": "stdout",
       "text": [
        "\n",
        "1423/1599"
       ]
      },
      {
       "output_type": "stream",
       "stream": "stdout",
       "text": [
        "\n",
        "1424/1599"
       ]
      },
      {
       "output_type": "stream",
       "stream": "stdout",
       "text": [
        "\n",
        "1425/1599"
       ]
      },
      {
       "output_type": "stream",
       "stream": "stdout",
       "text": [
        "\n",
        "1426/1599"
       ]
      },
      {
       "output_type": "stream",
       "stream": "stdout",
       "text": [
        "\n",
        "1427/1599"
       ]
      },
      {
       "output_type": "stream",
       "stream": "stdout",
       "text": [
        "\n",
        "1428/1599"
       ]
      },
      {
       "output_type": "stream",
       "stream": "stdout",
       "text": [
        "\n",
        "1429/1599"
       ]
      },
      {
       "output_type": "stream",
       "stream": "stdout",
       "text": [
        "\n",
        "1430/1599"
       ]
      },
      {
       "output_type": "stream",
       "stream": "stdout",
       "text": [
        "\n",
        "1431/1599"
       ]
      },
      {
       "output_type": "stream",
       "stream": "stdout",
       "text": [
        "\n",
        "1432/1599"
       ]
      },
      {
       "output_type": "stream",
       "stream": "stdout",
       "text": [
        "\n",
        "1433/1599"
       ]
      },
      {
       "output_type": "stream",
       "stream": "stdout",
       "text": [
        "\n",
        "1434/1599"
       ]
      },
      {
       "output_type": "stream",
       "stream": "stdout",
       "text": [
        "\n",
        "1435/1599"
       ]
      },
      {
       "output_type": "stream",
       "stream": "stdout",
       "text": [
        "\n",
        "1436/1599"
       ]
      },
      {
       "output_type": "stream",
       "stream": "stdout",
       "text": [
        "\n",
        "1437/1599"
       ]
      },
      {
       "output_type": "stream",
       "stream": "stdout",
       "text": [
        "\n",
        "1438/1599"
       ]
      },
      {
       "output_type": "stream",
       "stream": "stdout",
       "text": [
        "\n",
        "1439/1599"
       ]
      },
      {
       "output_type": "stream",
       "stream": "stdout",
       "text": [
        "\n",
        "1440/1599"
       ]
      },
      {
       "output_type": "stream",
       "stream": "stdout",
       "text": [
        "\n",
        "1441/1599"
       ]
      },
      {
       "output_type": "stream",
       "stream": "stdout",
       "text": [
        "\n",
        "1442/1599"
       ]
      },
      {
       "output_type": "stream",
       "stream": "stdout",
       "text": [
        "\n",
        "1443/1599"
       ]
      },
      {
       "output_type": "stream",
       "stream": "stdout",
       "text": [
        "\n",
        "1444/1599"
       ]
      },
      {
       "output_type": "stream",
       "stream": "stdout",
       "text": [
        "\n",
        "1445/1599"
       ]
      },
      {
       "output_type": "stream",
       "stream": "stdout",
       "text": [
        "\n",
        "1446/1599"
       ]
      },
      {
       "output_type": "stream",
       "stream": "stdout",
       "text": [
        "\n",
        "1447/1599"
       ]
      },
      {
       "output_type": "stream",
       "stream": "stdout",
       "text": [
        "\n",
        "1448/1599"
       ]
      },
      {
       "output_type": "stream",
       "stream": "stdout",
       "text": [
        "\n",
        "1449/1599"
       ]
      },
      {
       "output_type": "stream",
       "stream": "stdout",
       "text": [
        "\n",
        "1450/1599"
       ]
      },
      {
       "output_type": "stream",
       "stream": "stdout",
       "text": [
        "\n",
        "1451/1599\n",
        "1452/1599"
       ]
      },
      {
       "output_type": "stream",
       "stream": "stdout",
       "text": [
        "\n",
        "1453/1599"
       ]
      },
      {
       "output_type": "stream",
       "stream": "stdout",
       "text": [
        "\n",
        "1454/1599"
       ]
      },
      {
       "output_type": "stream",
       "stream": "stdout",
       "text": [
        "\n",
        "1455/1599"
       ]
      },
      {
       "output_type": "stream",
       "stream": "stdout",
       "text": [
        "\n",
        "1456/1599"
       ]
      },
      {
       "output_type": "stream",
       "stream": "stdout",
       "text": [
        "\n",
        "1457/1599"
       ]
      },
      {
       "output_type": "stream",
       "stream": "stdout",
       "text": [
        "\n",
        "1458/1599"
       ]
      },
      {
       "output_type": "stream",
       "stream": "stdout",
       "text": [
        "\n",
        "1459/1599"
       ]
      },
      {
       "output_type": "stream",
       "stream": "stdout",
       "text": [
        "\n",
        "1460/1599"
       ]
      },
      {
       "output_type": "stream",
       "stream": "stdout",
       "text": [
        "\n",
        "1461/1599"
       ]
      },
      {
       "output_type": "stream",
       "stream": "stdout",
       "text": [
        "\n",
        "1462/1599"
       ]
      },
      {
       "output_type": "stream",
       "stream": "stdout",
       "text": [
        "\n",
        "1463/1599"
       ]
      },
      {
       "output_type": "stream",
       "stream": "stdout",
       "text": [
        "\n",
        "1464/1599"
       ]
      },
      {
       "output_type": "stream",
       "stream": "stdout",
       "text": [
        "\n",
        "1465/1599"
       ]
      },
      {
       "output_type": "stream",
       "stream": "stdout",
       "text": [
        "\n",
        "1466/1599"
       ]
      },
      {
       "output_type": "stream",
       "stream": "stdout",
       "text": [
        "\n",
        "1467/1599"
       ]
      },
      {
       "output_type": "stream",
       "stream": "stdout",
       "text": [
        "\n",
        "1468/1599"
       ]
      },
      {
       "output_type": "stream",
       "stream": "stdout",
       "text": [
        "\n",
        "1469/1599"
       ]
      },
      {
       "output_type": "stream",
       "stream": "stdout",
       "text": [
        "\n",
        "1470/1599"
       ]
      },
      {
       "output_type": "stream",
       "stream": "stdout",
       "text": [
        "\n",
        "1471/1599"
       ]
      },
      {
       "output_type": "stream",
       "stream": "stdout",
       "text": [
        "\n",
        "1472/1599"
       ]
      },
      {
       "output_type": "stream",
       "stream": "stdout",
       "text": [
        "\n",
        "1473/1599"
       ]
      },
      {
       "output_type": "stream",
       "stream": "stdout",
       "text": [
        "\n",
        "1474/1599"
       ]
      },
      {
       "output_type": "stream",
       "stream": "stdout",
       "text": [
        "\n",
        "1475/1599"
       ]
      },
      {
       "output_type": "stream",
       "stream": "stdout",
       "text": [
        "\n",
        "1476/1599"
       ]
      },
      {
       "output_type": "stream",
       "stream": "stdout",
       "text": [
        "\n",
        "1477/1599"
       ]
      },
      {
       "output_type": "stream",
       "stream": "stdout",
       "text": [
        "\n",
        "1478/1599"
       ]
      },
      {
       "output_type": "stream",
       "stream": "stdout",
       "text": [
        "\n",
        "1479/1599"
       ]
      },
      {
       "output_type": "stream",
       "stream": "stdout",
       "text": [
        "\n",
        "1480/1599"
       ]
      },
      {
       "output_type": "stream",
       "stream": "stdout",
       "text": [
        "\n",
        "1481/1599"
       ]
      },
      {
       "output_type": "stream",
       "stream": "stdout",
       "text": [
        "\n",
        "1482/1599"
       ]
      },
      {
       "output_type": "stream",
       "stream": "stdout",
       "text": [
        "\n",
        "1483/1599"
       ]
      },
      {
       "output_type": "stream",
       "stream": "stdout",
       "text": [
        "\n",
        "1484/1599"
       ]
      },
      {
       "output_type": "stream",
       "stream": "stdout",
       "text": [
        "\n",
        "1485/1599"
       ]
      },
      {
       "output_type": "stream",
       "stream": "stdout",
       "text": [
        "\n",
        "1486/1599"
       ]
      },
      {
       "output_type": "stream",
       "stream": "stdout",
       "text": [
        "\n",
        "1487/1599"
       ]
      },
      {
       "output_type": "stream",
       "stream": "stdout",
       "text": [
        "\n",
        "1488/1599"
       ]
      },
      {
       "output_type": "stream",
       "stream": "stdout",
       "text": [
        "\n",
        "1489/1599"
       ]
      },
      {
       "output_type": "stream",
       "stream": "stdout",
       "text": [
        "\n",
        "1490/1599"
       ]
      },
      {
       "output_type": "stream",
       "stream": "stdout",
       "text": [
        "\n",
        "1491/1599"
       ]
      },
      {
       "output_type": "stream",
       "stream": "stdout",
       "text": [
        "\n",
        "1492/1599"
       ]
      },
      {
       "output_type": "stream",
       "stream": "stdout",
       "text": [
        "\n",
        "1493/1599"
       ]
      },
      {
       "output_type": "stream",
       "stream": "stdout",
       "text": [
        "\n",
        "1494/1599"
       ]
      },
      {
       "output_type": "stream",
       "stream": "stdout",
       "text": [
        "\n",
        "1495/1599"
       ]
      },
      {
       "output_type": "stream",
       "stream": "stdout",
       "text": [
        "\n",
        "1496/1599"
       ]
      },
      {
       "output_type": "stream",
       "stream": "stdout",
       "text": [
        "\n",
        "1497/1599"
       ]
      },
      {
       "output_type": "stream",
       "stream": "stdout",
       "text": [
        "\n",
        "1498/1599"
       ]
      },
      {
       "output_type": "stream",
       "stream": "stdout",
       "text": [
        "\n",
        "1499/1599"
       ]
      },
      {
       "output_type": "stream",
       "stream": "stdout",
       "text": [
        "\n",
        "1500/1599"
       ]
      },
      {
       "output_type": "stream",
       "stream": "stdout",
       "text": [
        "\n",
        "1501/1599"
       ]
      },
      {
       "output_type": "stream",
       "stream": "stdout",
       "text": [
        "\n",
        "1502/1599"
       ]
      },
      {
       "output_type": "stream",
       "stream": "stdout",
       "text": [
        "\n",
        "1503/1599"
       ]
      },
      {
       "output_type": "stream",
       "stream": "stdout",
       "text": [
        "\n",
        "1504/1599"
       ]
      },
      {
       "output_type": "stream",
       "stream": "stdout",
       "text": [
        "\n",
        "1505/1599"
       ]
      },
      {
       "output_type": "stream",
       "stream": "stdout",
       "text": [
        "\n",
        "1506/1599"
       ]
      },
      {
       "output_type": "stream",
       "stream": "stdout",
       "text": [
        "\n",
        "1507/1599"
       ]
      },
      {
       "output_type": "stream",
       "stream": "stdout",
       "text": [
        "\n",
        "1508/1599"
       ]
      },
      {
       "output_type": "stream",
       "stream": "stdout",
       "text": [
        "\n",
        "1509/1599"
       ]
      },
      {
       "output_type": "stream",
       "stream": "stdout",
       "text": [
        "\n",
        "1510/1599"
       ]
      },
      {
       "output_type": "stream",
       "stream": "stdout",
       "text": [
        "\n",
        "1511/1599"
       ]
      },
      {
       "output_type": "stream",
       "stream": "stdout",
       "text": [
        "\n",
        "1512/1599"
       ]
      },
      {
       "output_type": "stream",
       "stream": "stdout",
       "text": [
        "\n",
        "1513/1599"
       ]
      },
      {
       "output_type": "stream",
       "stream": "stdout",
       "text": [
        "\n",
        "1514/1599"
       ]
      },
      {
       "output_type": "stream",
       "stream": "stdout",
       "text": [
        "\n",
        "1515/1599"
       ]
      },
      {
       "output_type": "stream",
       "stream": "stdout",
       "text": [
        "\n",
        "1516/1599"
       ]
      },
      {
       "output_type": "stream",
       "stream": "stdout",
       "text": [
        "\n",
        "1517/1599"
       ]
      },
      {
       "output_type": "stream",
       "stream": "stdout",
       "text": [
        "\n",
        "1518/1599"
       ]
      },
      {
       "output_type": "stream",
       "stream": "stdout",
       "text": [
        "\n",
        "1519/1599"
       ]
      },
      {
       "output_type": "stream",
       "stream": "stdout",
       "text": [
        "\n",
        "1520/1599"
       ]
      },
      {
       "output_type": "stream",
       "stream": "stdout",
       "text": [
        "\n",
        "1521/1599"
       ]
      },
      {
       "output_type": "stream",
       "stream": "stdout",
       "text": [
        "\n",
        "1522/1599"
       ]
      },
      {
       "output_type": "stream",
       "stream": "stdout",
       "text": [
        "\n",
        "1523/1599"
       ]
      },
      {
       "output_type": "stream",
       "stream": "stdout",
       "text": [
        "\n",
        "1524/1599"
       ]
      },
      {
       "output_type": "stream",
       "stream": "stdout",
       "text": [
        "\n",
        "1525/1599"
       ]
      },
      {
       "output_type": "stream",
       "stream": "stdout",
       "text": [
        "\n",
        "1526/1599"
       ]
      },
      {
       "output_type": "stream",
       "stream": "stdout",
       "text": [
        "\n",
        "1527/1599"
       ]
      },
      {
       "output_type": "stream",
       "stream": "stdout",
       "text": [
        "\n",
        "1528/1599"
       ]
      },
      {
       "output_type": "stream",
       "stream": "stdout",
       "text": [
        "\n",
        "1529/1599"
       ]
      },
      {
       "output_type": "stream",
       "stream": "stdout",
       "text": [
        "\n",
        "1530/1599"
       ]
      },
      {
       "output_type": "stream",
       "stream": "stdout",
       "text": [
        "\n",
        "1531/1599"
       ]
      },
      {
       "output_type": "stream",
       "stream": "stdout",
       "text": [
        "\n",
        "1532/1599"
       ]
      },
      {
       "output_type": "stream",
       "stream": "stdout",
       "text": [
        "\n",
        "1533/1599"
       ]
      },
      {
       "output_type": "stream",
       "stream": "stdout",
       "text": [
        "\n",
        "1534/1599"
       ]
      },
      {
       "output_type": "stream",
       "stream": "stdout",
       "text": [
        "\n",
        "1535/1599"
       ]
      },
      {
       "output_type": "stream",
       "stream": "stdout",
       "text": [
        "\n",
        "1536/1599"
       ]
      },
      {
       "output_type": "stream",
       "stream": "stdout",
       "text": [
        "\n",
        "1537/1599"
       ]
      },
      {
       "output_type": "stream",
       "stream": "stdout",
       "text": [
        "\n",
        "1538/1599"
       ]
      },
      {
       "output_type": "stream",
       "stream": "stdout",
       "text": [
        "\n",
        "1539/1599"
       ]
      },
      {
       "output_type": "stream",
       "stream": "stdout",
       "text": [
        "\n",
        "1540/1599"
       ]
      },
      {
       "output_type": "stream",
       "stream": "stdout",
       "text": [
        "\n",
        "1541/1599"
       ]
      },
      {
       "output_type": "stream",
       "stream": "stdout",
       "text": [
        "\n",
        "1542/1599"
       ]
      },
      {
       "output_type": "stream",
       "stream": "stdout",
       "text": [
        "\n",
        "1543/1599"
       ]
      },
      {
       "output_type": "stream",
       "stream": "stdout",
       "text": [
        "\n",
        "1544/1599"
       ]
      },
      {
       "output_type": "stream",
       "stream": "stdout",
       "text": [
        "\n",
        "1545/1599"
       ]
      },
      {
       "output_type": "stream",
       "stream": "stdout",
       "text": [
        "\n",
        "1546/1599"
       ]
      },
      {
       "output_type": "stream",
       "stream": "stdout",
       "text": [
        "\n",
        "1547/1599"
       ]
      },
      {
       "output_type": "stream",
       "stream": "stdout",
       "text": [
        "\n",
        "1548/1599"
       ]
      },
      {
       "output_type": "stream",
       "stream": "stdout",
       "text": [
        "\n",
        "1549/1599"
       ]
      },
      {
       "output_type": "stream",
       "stream": "stdout",
       "text": [
        "\n",
        "1550/1599"
       ]
      },
      {
       "output_type": "stream",
       "stream": "stdout",
       "text": [
        "\n",
        "1551/1599"
       ]
      },
      {
       "output_type": "stream",
       "stream": "stdout",
       "text": [
        "\n",
        "1552/1599"
       ]
      },
      {
       "output_type": "stream",
       "stream": "stdout",
       "text": [
        "\n",
        "1553/1599"
       ]
      },
      {
       "output_type": "stream",
       "stream": "stdout",
       "text": [
        "\n",
        "1554/1599"
       ]
      },
      {
       "output_type": "stream",
       "stream": "stdout",
       "text": [
        "\n",
        "1555/1599"
       ]
      },
      {
       "output_type": "stream",
       "stream": "stdout",
       "text": [
        "\n",
        "1556/1599"
       ]
      },
      {
       "output_type": "stream",
       "stream": "stdout",
       "text": [
        "\n",
        "1557/1599"
       ]
      },
      {
       "output_type": "stream",
       "stream": "stdout",
       "text": [
        "\n",
        "1558/1599"
       ]
      },
      {
       "output_type": "stream",
       "stream": "stdout",
       "text": [
        "\n",
        "1559/1599"
       ]
      },
      {
       "output_type": "stream",
       "stream": "stdout",
       "text": [
        "\n",
        "1560/1599"
       ]
      },
      {
       "output_type": "stream",
       "stream": "stdout",
       "text": [
        "\n",
        "1561/1599"
       ]
      },
      {
       "output_type": "stream",
       "stream": "stdout",
       "text": [
        "\n",
        "1562/1599"
       ]
      },
      {
       "output_type": "stream",
       "stream": "stdout",
       "text": [
        "\n",
        "1563/1599"
       ]
      },
      {
       "output_type": "stream",
       "stream": "stdout",
       "text": [
        "\n",
        "1564/1599"
       ]
      },
      {
       "output_type": "stream",
       "stream": "stdout",
       "text": [
        "\n",
        "1565/1599"
       ]
      },
      {
       "output_type": "stream",
       "stream": "stdout",
       "text": [
        "\n",
        "1566/1599"
       ]
      },
      {
       "output_type": "stream",
       "stream": "stdout",
       "text": [
        "\n",
        "1567/1599"
       ]
      },
      {
       "output_type": "stream",
       "stream": "stdout",
       "text": [
        "\n",
        "1568/1599"
       ]
      },
      {
       "output_type": "stream",
       "stream": "stdout",
       "text": [
        "\n",
        "1569/1599"
       ]
      },
      {
       "output_type": "stream",
       "stream": "stdout",
       "text": [
        "\n",
        "1570/1599"
       ]
      },
      {
       "output_type": "stream",
       "stream": "stdout",
       "text": [
        "\n",
        "1571/1599"
       ]
      },
      {
       "output_type": "stream",
       "stream": "stdout",
       "text": [
        "\n",
        "1572/1599"
       ]
      },
      {
       "output_type": "stream",
       "stream": "stdout",
       "text": [
        "\n",
        "1573/1599\n",
        "1574/1599"
       ]
      },
      {
       "output_type": "stream",
       "stream": "stdout",
       "text": [
        "\n",
        "1575/1599"
       ]
      },
      {
       "output_type": "stream",
       "stream": "stdout",
       "text": [
        "\n",
        "1576/1599"
       ]
      },
      {
       "output_type": "stream",
       "stream": "stdout",
       "text": [
        "\n",
        "1577/1599"
       ]
      },
      {
       "output_type": "stream",
       "stream": "stdout",
       "text": [
        "\n",
        "1578/1599"
       ]
      },
      {
       "output_type": "stream",
       "stream": "stdout",
       "text": [
        "\n",
        "1579/1599"
       ]
      },
      {
       "output_type": "stream",
       "stream": "stdout",
       "text": [
        "\n",
        "1580/1599"
       ]
      },
      {
       "output_type": "stream",
       "stream": "stdout",
       "text": [
        "\n",
        "1581/1599"
       ]
      },
      {
       "output_type": "stream",
       "stream": "stdout",
       "text": [
        "\n",
        "1582/1599"
       ]
      },
      {
       "output_type": "stream",
       "stream": "stdout",
       "text": [
        "\n",
        "1583/1599"
       ]
      },
      {
       "output_type": "stream",
       "stream": "stdout",
       "text": [
        "\n",
        "1584/1599"
       ]
      },
      {
       "output_type": "stream",
       "stream": "stdout",
       "text": [
        "\n",
        "1585/1599"
       ]
      },
      {
       "output_type": "stream",
       "stream": "stdout",
       "text": [
        "\n",
        "1586/1599"
       ]
      },
      {
       "output_type": "stream",
       "stream": "stdout",
       "text": [
        "\n",
        "1587/1599"
       ]
      },
      {
       "output_type": "stream",
       "stream": "stdout",
       "text": [
        "\n",
        "1588/1599"
       ]
      },
      {
       "output_type": "stream",
       "stream": "stdout",
       "text": [
        "\n",
        "1589/1599"
       ]
      },
      {
       "output_type": "stream",
       "stream": "stdout",
       "text": [
        "\n",
        "1590/1599"
       ]
      },
      {
       "output_type": "stream",
       "stream": "stdout",
       "text": [
        "\n",
        "1591/1599"
       ]
      },
      {
       "output_type": "stream",
       "stream": "stdout",
       "text": [
        "\n",
        "1592/1599"
       ]
      },
      {
       "output_type": "stream",
       "stream": "stdout",
       "text": [
        "\n",
        "1593/1599"
       ]
      },
      {
       "output_type": "stream",
       "stream": "stdout",
       "text": [
        "\n",
        "1594/1599"
       ]
      },
      {
       "output_type": "stream",
       "stream": "stdout",
       "text": [
        "\n",
        "1595/1599"
       ]
      },
      {
       "output_type": "stream",
       "stream": "stdout",
       "text": [
        "\n",
        "1596/1599"
       ]
      },
      {
       "output_type": "stream",
       "stream": "stdout",
       "text": [
        "\n",
        "1597/1599"
       ]
      },
      {
       "output_type": "stream",
       "stream": "stdout",
       "text": [
        "\n",
        "1598/1599"
       ]
      },
      {
       "output_type": "stream",
       "stream": "stdout",
       "text": [
        "\n",
        "1599/1599"
       ]
      },
      {
       "output_type": "stream",
       "stream": "stdout",
       "text": [
        "\n"
       ]
      }
     ],
     "prompt_number": 13
    },
    {
     "cell_type": "markdown",
     "metadata": {},
     "source": [
      "\u6362\u4e2a\u5173\u952e\u8bcd, \u518d\u6765\u641c\u641c\u770b:"
     ]
    },
    {
     "cell_type": "code",
     "collapsed": false,
     "input": [
      "import urllib2\n",
      "import re\n",
      "from urlparse import urljoin\n",
      "import hashlib\n",
      "import os\n",
      "\n",
      "def fetch(url):\n",
      "    cache_folder = 'cache'\n",
      "    \n",
      "    if not os.path.exists(cache_folder):\n",
      "        os.mkdir(cache_folder)\n",
      "        \n",
      "    filename = hashlib.sha1(url).hexdigest()\n",
      "    path = os.path.join(cache_folder, filename)\n",
      "    \n",
      "    if not os.path.exists(path):\n",
      "        r = urllib2.urlopen(url)\n",
      "        content = r.read()\n",
      "        with open(path, 'w') as f:\n",
      "            f.write(content)\n",
      "            \n",
      "    with open(path, 'r') as f:\n",
      "        return f.read()\n",
      "    \n",
      "\n",
      "def post_urls(page):\n",
      "    data = fetch('http://www.cc98.org/list.asp?boardid=509&page=%d' % page)\n",
      "    urls = re.findall(r'dispbbs\\.asp\\?boardID=509&ID=\\d+&page=%d' % page, data)\n",
      "    return [urljoin('http://www.cc98.org', url) for url in urls]\n",
      "\n",
      "def page_count():\n",
      "    data = fetch('http://www.cc98.org/list.asp?boardid=509&page=1')\n",
      "    return int(re.search(r'<b>(\\d+)</b>\u9875', data).group(1))\n",
      "\n",
      "def check(url, pattern):\n",
      "    data = fetch(url)\n",
      "    return re.search(pattern, data) is not None\n",
      "\n",
      "def post_urls_all():\n",
      "    urls = []\n",
      "    for page in range(1, page_count() + 1):\n",
      "        urls.extend(post_urls(page))\n",
      "    return urls\n",
      "\n",
      "def grep98(pattern):\n",
      "    urls = []\n",
      "    posts = post_urls_all()\n",
      "    for i, post in enumerate(posts):\n",
      "        # print '%d/%d' % (i + 1, len(posts))\n",
      "        if check(post, pattern):\n",
      "            urls.append(post)\n",
      "    return urls\n",
      "\n",
      "for url in grep98(r'[Cc]\\+\\+'):\n",
      "    print url"
     ],
     "language": "python",
     "metadata": {},
     "outputs": [
      {
       "output_type": "stream",
       "stream": "stdout",
       "text": [
        "http://www.cc98.org/dispbbs.asp?boardID=509&ID=4203262&page=1\n",
        "http://www.cc98.org/dispbbs.asp?boardID=509&ID=4127687&page=1\n",
        "http://www.cc98.org/dispbbs.asp?boardID=509&ID=4204380&page=1\n",
        "http://www.cc98.org/dispbbs.asp?boardID=509&ID=4191389&page=2\n",
        "http://www.cc98.org/dispbbs.asp?boardID=509&ID=4173740&page=3\n",
        "http://www.cc98.org/dispbbs.asp?boardID=509&ID=4169417&page=3\n",
        "http://www.cc98.org/dispbbs.asp?boardID=509&ID=4168192&page=4\n",
        "http://www.cc98.org/dispbbs.asp?boardID=509&ID=4124118&page=6\n",
        "http://www.cc98.org/dispbbs.asp?boardID=509&ID=4133390&page=6\n",
        "http://www.cc98.org/dispbbs.asp?boardID=509&ID=4121481&page=7\n",
        "http://www.cc98.org/dispbbs.asp?boardID=509&ID=4102264&page=8\n",
        "http://www.cc98.org/dispbbs.asp?boardID=509&ID=4105634&page=8\n",
        "http://www.cc98.org/dispbbs.asp?boardID=509&ID=4101223&page=8\n",
        "http://www.cc98.org/dispbbs.asp?boardID=509&ID=4100911&page=8\n",
        "http://www.cc98.org/dispbbs.asp?boardID=509&ID=4096183&page=9\n",
        "http://www.cc98.org/dispbbs.asp?boardID=509&ID=4062674&page=9\n",
        "http://www.cc98.org/dispbbs.asp?boardID=509&ID=4087286&page=9\n",
        "http://www.cc98.org/dispbbs.asp?boardID=509&ID=4083457&page=9\n",
        "http://www.cc98.org/dispbbs.asp?boardID=509&ID=4059759&page=10\n",
        "http://www.cc98.org/dispbbs.asp?boardID=509&ID=4063032&page=10\n",
        "http://www.cc98.org/dispbbs.asp?boardID=509&ID=4003425&page=11\n",
        "http://www.cc98.org/dispbbs.asp?boardID=509&ID=4054511&page=11\n",
        "http://www.cc98.org/dispbbs.asp?boardID=509&ID=4075248&page=11\n",
        "http://www.cc98.org/dispbbs.asp?boardID=509&ID=4007916&page=11\n",
        "http://www.cc98.org/dispbbs.asp?boardID=509&ID=4036416&page=12\n",
        "http://www.cc98.org/dispbbs.asp?boardID=509&ID=4001461&page=15\n",
        "http://www.cc98.org/dispbbs.asp?boardID=509&ID=3995377&page=16\n",
        "http://www.cc98.org/dispbbs.asp?boardID=509&ID=3967359&page=17\n",
        "http://www.cc98.org/dispbbs.asp?boardID=509&ID=3971321&page=17\n",
        "http://www.cc98.org/dispbbs.asp?boardID=509&ID=3970101&page=17\n",
        "http://www.cc98.org/dispbbs.asp?boardID=509&ID=3966875&page=17\n",
        "http://www.cc98.org/dispbbs.asp?boardID=509&ID=3954424&page=18\n",
        "http://www.cc98.org/dispbbs.asp?boardID=509&ID=3959285&page=18\n",
        "http://www.cc98.org/dispbbs.asp?boardID=509&ID=3949142&page=19\n",
        "http://www.cc98.org/dispbbs.asp?boardID=509&ID=3943214&page=19\n",
        "http://www.cc98.org/dispbbs.asp?boardID=509&ID=3936944&page=20\n",
        "http://www.cc98.org/dispbbs.asp?boardID=509&ID=3936326&page=20\n",
        "http://www.cc98.org/dispbbs.asp?boardID=509&ID=3929096&page=21\n",
        "http://www.cc98.org/dispbbs.asp?boardID=509&ID=3917328&page=21\n",
        "http://www.cc98.org/dispbbs.asp?boardID=509&ID=3924824&page=21\n",
        "http://www.cc98.org/dispbbs.asp?boardID=509&ID=3928450&page=21\n",
        "http://www.cc98.org/dispbbs.asp?boardID=509&ID=3925125&page=22\n",
        "http://www.cc98.org/dispbbs.asp?boardID=509&ID=3923189&page=22\n",
        "http://www.cc98.org/dispbbs.asp?boardID=509&ID=3921608&page=22\n",
        "http://www.cc98.org/dispbbs.asp?boardID=509&ID=3919843&page=22\n",
        "http://www.cc98.org/dispbbs.asp?boardID=509&ID=3920507&page=22\n",
        "http://www.cc98.org/dispbbs.asp?boardID=509&ID=3919534&page=22\n",
        "http://www.cc98.org/dispbbs.asp?boardID=509&ID=3915192&page=22\n",
        "http://www.cc98.org/dispbbs.asp?boardID=509&ID=3915531&page=22\n",
        "http://www.cc98.org/dispbbs.asp?boardID=509&ID=3913087&page=22\n",
        "http://www.cc98.org/dispbbs.asp?boardID=509&ID=3912864&page=23\n",
        "http://www.cc98.org/dispbbs.asp?boardID=509&ID=3908416&page=23\n",
        "http://www.cc98.org/dispbbs.asp?boardID=509&ID=3906067&page=24\n",
        "http://www.cc98.org/dispbbs.asp?boardID=509&ID=3900650&page=24\n",
        "http://www.cc98.org/dispbbs.asp?boardID=509&ID=3900404&page=24\n",
        "http://www.cc98.org/dispbbs.asp?boardID=509&ID=3898956&page=25\n",
        "http://www.cc98.org/dispbbs.asp?boardID=509&ID=3892342&page=25\n",
        "http://www.cc98.org/dispbbs.asp?boardID=509&ID=3883957&page=26\n",
        "http://www.cc98.org/dispbbs.asp?boardID=509&ID=3880236&page=26\n",
        "http://www.cc98.org/dispbbs.asp?boardID=509&ID=3877916&page=26\n",
        "http://www.cc98.org/dispbbs.asp?boardID=509&ID=3864321&page=28\n",
        "http://www.cc98.org/dispbbs.asp?boardID=509&ID=3853048&page=28\n",
        "http://www.cc98.org/dispbbs.asp?boardID=509&ID=3850448&page=28\n",
        "http://www.cc98.org/dispbbs.asp?boardID=509&ID=3850567&page=29\n",
        "http://www.cc98.org/dispbbs.asp?boardID=509&ID=3834575&page=30\n",
        "http://www.cc98.org/dispbbs.asp?boardID=509&ID=3820358&page=30\n",
        "http://www.cc98.org/dispbbs.asp?boardID=509&ID=3822175&page=31\n",
        "http://www.cc98.org/dispbbs.asp?boardID=509&ID=3816097&page=31\n",
        "http://www.cc98.org/dispbbs.asp?boardID=509&ID=3811596&page=32\n",
        "http://www.cc98.org/dispbbs.asp?boardID=509&ID=3807802&page=32\n",
        "http://www.cc98.org/dispbbs.asp?boardID=509&ID=3784396&page=34\n",
        "http://www.cc98.org/dispbbs.asp?boardID=509&ID=3778380&page=34\n",
        "http://www.cc98.org/dispbbs.asp?boardID=509&ID=3778890&page=35\n",
        "http://www.cc98.org/dispbbs.asp?boardID=509&ID=3775518&page=36\n",
        "http://www.cc98.org/dispbbs.asp?boardID=509&ID=3761684&page=37\n",
        "http://www.cc98.org/dispbbs.asp?boardID=509&ID=3754017&page=37\n",
        "http://www.cc98.org/dispbbs.asp?boardID=509&ID=3725001&page=39\n",
        "http://www.cc98.org/dispbbs.asp?boardID=509&ID=3752327&page=39\n",
        "http://www.cc98.org/dispbbs.asp?boardID=509&ID=3741905&page=41\n",
        "http://www.cc98.org/dispbbs.asp?boardID=509&ID=3729761&page=41\n",
        "http://www.cc98.org/dispbbs.asp?boardID=509&ID=3705801&page=42\n",
        "http://www.cc98.org/dispbbs.asp?boardID=509&ID=3689155&page=42\n",
        "http://www.cc98.org/dispbbs.asp?boardID=509&ID=3705049&page=43\n",
        "http://www.cc98.org/dispbbs.asp?boardID=509&ID=3697248&page=44\n",
        "http://www.cc98.org/dispbbs.asp?boardID=509&ID=3671267&page=47\n",
        "http://www.cc98.org/dispbbs.asp?boardID=509&ID=3657291&page=47\n",
        "http://www.cc98.org/dispbbs.asp?boardID=509&ID=3642648&page=49\n",
        "http://www.cc98.org/dispbbs.asp?boardID=509&ID=3646784&page=50\n",
        "http://www.cc98.org/dispbbs.asp?boardID=509&ID=3631591&page=51\n",
        "http://www.cc98.org/dispbbs.asp?boardID=509&ID=3629921&page=51\n",
        "http://www.cc98.org/dispbbs.asp?boardID=509&ID=3621785&page=52\n",
        "http://www.cc98.org/dispbbs.asp?boardID=509&ID=3599823&page=56\n",
        "http://www.cc98.org/dispbbs.asp?boardID=509&ID=3599801&page=56\n",
        "http://www.cc98.org/dispbbs.asp?boardID=509&ID=3599604&page=56\n",
        "http://www.cc98.org/dispbbs.asp?boardID=509&ID=3599592&page=56\n",
        "http://www.cc98.org/dispbbs.asp?boardID=509&ID=3596260&page=57\n",
        "http://www.cc98.org/dispbbs.asp?boardID=509&ID=1901452&page=58\n",
        "http://www.cc98.org/dispbbs.asp?boardID=509&ID=2426734&page=58\n",
        "http://www.cc98.org/dispbbs.asp?boardID=509&ID=3576235&page=59\n",
        "http://www.cc98.org/dispbbs.asp?boardID=509&ID=3575103&page=60\n",
        "http://www.cc98.org/dispbbs.asp?boardID=509&ID=3564281&page=61\n",
        "http://www.cc98.org/dispbbs.asp?boardID=509&ID=3547501&page=63\n",
        "http://www.cc98.org/dispbbs.asp?boardID=509&ID=3499444&page=69\n",
        "http://www.cc98.org/dispbbs.asp?boardID=509&ID=3487768&page=70\n",
        "http://www.cc98.org/dispbbs.asp?boardID=509&ID=3482132&page=70\n",
        "http://www.cc98.org/dispbbs.asp?boardID=509&ID=3474057&page=71\n",
        "http://www.cc98.org/dispbbs.asp?boardID=509&ID=3471297&page=71\n",
        "http://www.cc98.org/dispbbs.asp?boardID=509&ID=3462184&page=73\n",
        "http://www.cc98.org/dispbbs.asp?boardID=509&ID=3459578&page=73\n",
        "http://www.cc98.org/dispbbs.asp?boardID=509&ID=2756027&page=77\n",
        "http://www.cc98.org/dispbbs.asp?boardID=509&ID=2008940&page=80\n"
       ]
      }
     ],
     "prompt_number": 14
    }
   ],
   "metadata": {}
  }
 ]
}