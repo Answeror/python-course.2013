{
 "metadata": {
  "name": "function"
 },
 "nbformat": 3,
 "nbformat_minor": 0,
 "worksheets": [
  {
   "cells": [
    {
     "cell_type": "markdown",
     "metadata": {},
     "source": [
      "# \u51fd\u6570\n",
      "\n",
      "Python\u4e2d\u7684\u51fd\u6570\u4e0eC/C++\u7c7b\u4f3c. \u5176\u51fd\u6570\u4f53\u7528**\u7f29\u8fdb**\u8868\u793a.\n",
      "\n",
      "## \u65e0\u53c2\u51fd\u6570"
     ]
    },
    {
     "cell_type": "code",
     "collapsed": false,
     "input": [
      "def print_something():\n",
      "    print 'something'\n",
      "    \n",
      "print_something()"
     ],
     "language": "python",
     "metadata": {},
     "outputs": [
      {
       "output_type": "stream",
       "stream": "stdout",
       "text": [
        "something\n"
       ]
      }
     ],
     "prompt_number": 1
    },
    {
     "cell_type": "markdown",
     "metadata": {},
     "source": [
      "## \u5e26\u6709\u53c2\u6570\u7684\u51fd\u6570"
     ]
    },
    {
     "cell_type": "code",
     "collapsed": false,
     "input": [
      "def div(lhs, rhs):\n",
      "    return lhs / rhs\n",
      "\n",
      "print div(5, 2)"
     ],
     "language": "python",
     "metadata": {},
     "outputs": [
      {
       "output_type": "stream",
       "stream": "stdout",
       "text": [
        "2\n"
       ]
      }
     ],
     "prompt_number": 2
    },
    {
     "cell_type": "markdown",
     "metadata": {},
     "source": [
      "## \u51fd\u6570\u7684\u9ed8\u8ba4\u8fd4\u56de\u503c"
     ]
    },
    {
     "cell_type": "code",
     "collapsed": false,
     "input": [
      "print print_something()"
     ],
     "language": "python",
     "metadata": {},
     "outputs": [
      {
       "output_type": "stream",
       "stream": "stdout",
       "text": [
        "something\n",
        "None\n"
       ]
      }
     ],
     "prompt_number": 3
    },
    {
     "cell_type": "markdown",
     "metadata": {},
     "source": [
      "## \u5177\u540d\u53c2\u6570"
     ]
    },
    {
     "cell_type": "code",
     "collapsed": false,
     "input": [
      "print div(rhs=2, lhs=3.0)"
     ],
     "language": "python",
     "metadata": {},
     "outputs": [
      {
       "output_type": "stream",
       "stream": "stdout",
       "text": [
        "1.5\n"
       ]
      }
     ],
     "prompt_number": 4
    },
    {
     "cell_type": "markdown",
     "metadata": {},
     "source": [
      "## \u5177\u6709\u9ed8\u8ba4\u503c\u7684\u53c2\u6570\n",
      "\n",
      "\u5177\u6709\u9ed8\u8ba4\u503c\u7684\u53c2\u6570\u5fc5\u9700\u5199\u5728\u53c2\u6570\u5217\u8868\u7684\u6700\u540e"
     ]
    },
    {
     "cell_type": "code",
     "collapsed": false,
     "input": [
      "def increase(x, step=1):\n",
      "    return x + step\n",
      "\n",
      "print increase(3)\n",
      "print increase(3, 2)"
     ],
     "language": "python",
     "metadata": {},
     "outputs": [
      {
       "output_type": "stream",
       "stream": "stdout",
       "text": [
        "4\n",
        "5\n"
       ]
      }
     ],
     "prompt_number": 5
    },
    {
     "cell_type": "markdown",
     "metadata": {},
     "source": [
      "## \u7f29\u8fdb"
     ]
    },
    {
     "cell_type": "code",
     "collapsed": false,
     "input": [
      "def print_twice(x):\n",
      "    print x\n",
      "   print x\n",
      "    \n",
      "print(42)"
     ],
     "language": "python",
     "metadata": {},
     "outputs": [
      {
       "ename": "IndentationError",
       "evalue": "unindent does not match any outer indentation level (<ipython-input-6-854b0cb8133b>, line 3)",
       "output_type": "pyerr",
       "traceback": [
        "\u001b[1;36m  File \u001b[1;32m\"<ipython-input-6-854b0cb8133b>\"\u001b[1;36m, line \u001b[1;32m3\u001b[0m\n\u001b[1;33m    print x\u001b[0m\n\u001b[1;37m           ^\u001b[0m\n\u001b[1;31mIndentationError\u001b[0m\u001b[1;31m:\u001b[0m unindent does not match any outer indentation level\n"
       ]
      }
     ],
     "prompt_number": 6
    },
    {
     "cell_type": "code",
     "collapsed": false,
     "input": [
      "def print_twice(x):\n",
      "    print x\n",
      "     print x\n",
      "        \n",
      "print(42)"
     ],
     "language": "python",
     "metadata": {},
     "outputs": [
      {
       "ename": "IndentationError",
       "evalue": "unexpected indent (<ipython-input-7-784fcb9d908a>, line 3)",
       "output_type": "pyerr",
       "traceback": [
        "\u001b[1;36m  File \u001b[1;32m\"<ipython-input-7-784fcb9d908a>\"\u001b[1;36m, line \u001b[1;32m3\u001b[0m\n\u001b[1;33m    print x\u001b[0m\n\u001b[1;37m    ^\u001b[0m\n\u001b[1;31mIndentationError\u001b[0m\u001b[1;31m:\u001b[0m unexpected indent\n"
       ]
      }
     ],
     "prompt_number": 7
    },
    {
     "cell_type": "markdown",
     "metadata": {},
     "source": [
      "\u51fd\u6570\u4f53\u5185\u7684\u540c\u4e00\u7ea7\u4ee3\u7801\u5fc5\u9700\u4e0e\u51fd\u6570\u4f53\u5185\u7b2c\u4e00\u884c\u4ee3\u7801\u7684\u7f29\u8fdb\u4fdd\u6301\u4e00\u81f4:"
     ]
    },
    {
     "cell_type": "code",
     "collapsed": false,
     "input": [
      "def print_twice(x):\n",
      "    print x\n",
      "    print x\n",
      "    \n",
      "print(42)"
     ],
     "language": "python",
     "metadata": {},
     "outputs": [
      {
       "output_type": "stream",
       "stream": "stdout",
       "text": [
        "42\n"
       ]
      }
     ],
     "prompt_number": 8
    }
   ],
   "metadata": {}
  }
 ]
}