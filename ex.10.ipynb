{
 "metadata": {
  "name": "ex.10"
 },
 "nbformat": 3,
 "nbformat_minor": 0,
 "worksheets": [
  {
   "cells": [
    {
     "cell_type": "markdown",
     "metadata": {},
     "source": [
      "# [\u4e60\u989810: \u90a3\u662f\u4ec0\u4e48\uff1f](https://learn-python-the-hard-way-zh_cn-translation.readthedocs.org/en/1.0/ex10.html)"
     ]
    },
    {
     "cell_type": "code",
     "collapsed": false,
     "input": [
      "tabby_cat = \"\\tI'm tabbed in.\"\n",
      "persian_cat = \"I'm split\\non a line.\"\n",
      "backslash_cat = \"I'm \\\\ a \\\\ cat.\"\n",
      "\n",
      "fat_cat = \"\"\"\n",
      "I'll do a list:\n",
      "\\t* Cat food\n",
      "\\t* Fishies\n",
      "\\t* Catnip\\n\\t* Grass\n",
      "\"\"\"\n",
      "\n",
      "print tabby_cat\n",
      "print persian_cat\n",
      "print backslash_cat\n",
      "print fat_cat"
     ],
     "language": "python",
     "metadata": {},
     "outputs": [
      {
       "output_type": "stream",
       "stream": "stdout",
       "text": [
        "\tI'm tabbed in.\n",
        "I'm split\n",
        "on a line.\n",
        "I'm \\ a \\ cat.\n",
        "\n",
        "I'll do a list:\n",
        "\t* Cat food\n",
        "\t* Fishies\n",
        "\t* Catnip\n",
        "\t* Grass\n",
        "\n"
       ]
      }
     ],
     "prompt_number": 1
    },
    {
     "cell_type": "markdown",
     "metadata": {},
     "source": [
      "\u6559\u6750\u4e0a\u7684\u7f29\u8fdb\u6709\u95ee\u9898. \u6b63\u786e\u7ed3\u679c\u8bf7\u53c2\u8003[\u4e2d\u6587\u7248](https://learn-python-the-hard-way-zh_cn-translation.readthedocs.org/en/1.0/ex10.html)\u7684\u7f29\u8fdb.\n",
      "\n",
      "## \u5b57\u7b26\u4e32\u4e2d\u7684\u5f15\u53f7\u8f6c\u4e49"
     ]
    },
    {
     "cell_type": "code",
     "collapsed": false,
     "input": [
      "print \"You can't use both ' and \" in string.\""
     ],
     "language": "python",
     "metadata": {},
     "outputs": [
      {
       "ename": "SyntaxError",
       "evalue": "EOL while scanning string literal (<ipython-input-2-25192d178d42>, line 1)",
       "output_type": "pyerr",
       "traceback": [
        "\u001b[1;36m  File \u001b[1;32m\"<ipython-input-2-25192d178d42>\"\u001b[1;36m, line \u001b[1;32m1\u001b[0m\n\u001b[1;33m    print \"You can't use both ' and \" in string.\"\u001b[0m\n\u001b[1;37m                                                ^\u001b[0m\n\u001b[1;31mSyntaxError\u001b[0m\u001b[1;31m:\u001b[0m EOL while scanning string literal\n"
       ]
      }
     ],
     "prompt_number": 2
    },
    {
     "cell_type": "code",
     "collapsed": false,
     "input": [
      "print \"You can't use both ' and \\\" in string.\"\n",
      "print 'You can\\'t use both \\' and \" in string.'\n",
      "print \"You can't use both \\' and \\\" in string.\""
     ],
     "language": "python",
     "metadata": {},
     "outputs": [
      {
       "output_type": "stream",
       "stream": "stdout",
       "text": [
        "You can't use both ' and \" in string.\n",
        "You can't use both ' and \" in string.\n",
        "You can't use both ' and \" in string.\n"
       ]
      }
     ],
     "prompt_number": 3
    },
    {
     "cell_type": "markdown",
     "metadata": {},
     "source": [
      "\u66f4\u591a\u8f6c\u4e49\u7b26\u53f7\u53c2\u89c1[\u8fd9\u91cc](http://learnpythonthehardway.org/book/ex10.html)."
     ]
    }
   ],
   "metadata": {}
  }
 ]
}