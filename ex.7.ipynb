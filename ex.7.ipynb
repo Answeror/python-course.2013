{
 "metadata": {
  "name": "ex.7"
 },
 "nbformat": 3,
 "nbformat_minor": 0,
 "worksheets": [
  {
   "cells": [
    {
     "cell_type": "markdown",
     "metadata": {},
     "source": [
      "# \u4e60\u98987: \u66f4\u591a\u6253\u5370"
     ]
    },
    {
     "cell_type": "code",
     "collapsed": false,
     "input": [
      "print \"Mary had a little lamb.\"\n",
      "print \"Its fleece was white as %s.\" % 'snow'\n",
      "print \"And everywhere that Mary went.\"\n",
      "print \".\" * 10 # what'd that do?\n",
      "\n",
      "end1 = \"C\"\n",
      "end2 = \"h\"\n",
      "end3 = \"e\"\n",
      "end4 = \"e\"\n",
      "end5 = \"s\"\n",
      "end6 = \"e\"\n",
      "end7 = \"B\"\n",
      "end8 = \"u\"\n",
      "end9 = \"r\"\n",
      "end10 = \"g\"\n",
      "end11 = \"e\"\n",
      "end12 = \"r\"\n",
      "\n",
      "# watch that comma at the end.  try removing it to see what happens\n",
      "print end1 + end2 + end3 + end4 + end5 + end6,\n",
      "print end7 + end8 + end9 + end10 + end11 + end12"
     ],
     "language": "python",
     "metadata": {},
     "outputs": [
      {
       "output_type": "stream",
       "stream": "stdout",
       "text": [
        "Mary had a little lamb.\n",
        "Its fleece was white as snow.\n",
        "And everywhere that Mary went.\n",
        "..........\n",
        "Cheese Burger\n"
       ]
      }
     ],
     "prompt_number": 1
    }
   ],
   "metadata": {}
  }
 ]
}