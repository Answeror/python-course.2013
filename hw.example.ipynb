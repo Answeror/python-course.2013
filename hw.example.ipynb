{
 "metadata": {
  "name": "hw.example"
 },
 "nbformat": 3,
 "nbformat_minor": 0,
 "worksheets": [
  {
   "cells": [
    {
     "cell_type": "markdown",
     "metadata": {},
     "source": [
      "0x3822c63d5L\n",
      "\n",
      "\u8bf7\u5728\u4e0b\u9762\u7684cell\u91cc\u8f93\u51fa\u4e0a\u8ff0\u6570\u5b57\u7684\u5341\u8fdb\u5236\u8868\u793a."
     ]
    },
    {
     "cell_type": "code",
     "collapsed": false,
     "input": [],
     "language": "python",
     "metadata": {},
     "outputs": []
    }
   ],
   "metadata": {}
  }
 ]
}