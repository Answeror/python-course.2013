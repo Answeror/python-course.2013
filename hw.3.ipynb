{
 "metadata": {
  "name": "hw.3"
 },
 "nbformat": 3,
 "nbformat_minor": 0,
 "worksheets": [
  {
   "cells": [
    {
     "cell_type": "markdown",
     "metadata": {},
     "source": [
      "# \u4f7f\u7528\u5806\u5b9e\u73b0Dijkstra\u7b97\u6cd5\n",
      "\n",
      "\u56fe\u7247\u4e0b\u8f7d: [darkmaze.jpg](https://raw.github.com/Answeror/python-course.2013/master/maze.jpg)\n",
      "\n",
      "## \u63d0\u793a\n",
      "\n",
      "* [\u9ed1\u6697\u8ff7\u5bab](http://nbviewer.ipython.org/urls/raw.github.com/Answeror/python-course.2013/master/darkmaze.ipynb).\n",
      "* [heapq\u6a21\u5757](http://docs.python.org/2/library/heapq.html)"
     ]
    },
    {
     "cell_type": "code",
     "collapsed": false,
     "input": [],
     "language": "python",
     "metadata": {},
     "outputs": []
    }
   ],
   "metadata": {}
  }
 ]
}